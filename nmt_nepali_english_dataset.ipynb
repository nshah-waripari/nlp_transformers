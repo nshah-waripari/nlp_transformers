{
  "nbformat": 4,
  "nbformat_minor": 0,
  "metadata": {
    "colab": {
      "name": "nmt_nepali_english_dataset.ipynb",
      "provenance": [],
      "collapsed_sections": [],
      "authorship_tag": "ABX9TyNMpsa50PdRi68hpkyFjwSq",
      "include_colab_link": true
    },
    "kernelspec": {
      "name": "python3",
      "display_name": "Python 3"
    },
    "language_info": {
      "name": "python"
    },
    "accelerator": "GPU",
    "gpuClass": "standard",
    "widgets": {
      "application/vnd.jupyter.widget-state+json": {
        "3e5e54b20b5c4a66b2dcb6937f959139": {
          "model_module": "@jupyter-widgets/controls",
          "model_name": "HBoxModel",
          "model_module_version": "1.5.0",
          "state": {
            "_dom_classes": [],
            "_model_module": "@jupyter-widgets/controls",
            "_model_module_version": "1.5.0",
            "_model_name": "HBoxModel",
            "_view_count": null,
            "_view_module": "@jupyter-widgets/controls",
            "_view_module_version": "1.5.0",
            "_view_name": "HBoxView",
            "box_style": "",
            "children": [
              "IPY_MODEL_bb08d85df3b345daaa66ec4e52e5f626",
              "IPY_MODEL_eb4e7dc0e8044fe5955f1e5366e58cff",
              "IPY_MODEL_6911ec5d0b0b444796d486bb97500cf1"
            ],
            "layout": "IPY_MODEL_829867ae85ec42bab331cf7c96924bd0"
          }
        },
        "bb08d85df3b345daaa66ec4e52e5f626": {
          "model_module": "@jupyter-widgets/controls",
          "model_name": "HTMLModel",
          "model_module_version": "1.5.0",
          "state": {
            "_dom_classes": [],
            "_model_module": "@jupyter-widgets/controls",
            "_model_module_version": "1.5.0",
            "_model_name": "HTMLModel",
            "_view_count": null,
            "_view_module": "@jupyter-widgets/controls",
            "_view_module_version": "1.5.0",
            "_view_name": "HTMLView",
            "description": "",
            "description_tooltip": null,
            "layout": "IPY_MODEL_2ea03cb2d44044459d3cf3925282fd5f",
            "placeholder": "​",
            "style": "IPY_MODEL_286fd7a592cb4c36ba4cc80924da616e",
            "value": "100%"
          }
        },
        "eb4e7dc0e8044fe5955f1e5366e58cff": {
          "model_module": "@jupyter-widgets/controls",
          "model_name": "FloatProgressModel",
          "model_module_version": "1.5.0",
          "state": {
            "_dom_classes": [],
            "_model_module": "@jupyter-widgets/controls",
            "_model_module_version": "1.5.0",
            "_model_name": "FloatProgressModel",
            "_view_count": null,
            "_view_module": "@jupyter-widgets/controls",
            "_view_module_version": "1.5.0",
            "_view_name": "ProgressView",
            "bar_style": "success",
            "description": "",
            "description_tooltip": null,
            "layout": "IPY_MODEL_07eb646d69924157bc408b79ebe5376f",
            "max": 1,
            "min": 0,
            "orientation": "horizontal",
            "style": "IPY_MODEL_240e66c7f26849f1a382240cc961ea3f",
            "value": 1
          }
        },
        "6911ec5d0b0b444796d486bb97500cf1": {
          "model_module": "@jupyter-widgets/controls",
          "model_name": "HTMLModel",
          "model_module_version": "1.5.0",
          "state": {
            "_dom_classes": [],
            "_model_module": "@jupyter-widgets/controls",
            "_model_module_version": "1.5.0",
            "_model_name": "HTMLModel",
            "_view_count": null,
            "_view_module": "@jupyter-widgets/controls",
            "_view_module_version": "1.5.0",
            "_view_name": "HTMLView",
            "description": "",
            "description_tooltip": null,
            "layout": "IPY_MODEL_f2aea927ddb9449e9412852b4eb02928",
            "placeholder": "​",
            "style": "IPY_MODEL_1617c82cb7a44621826268c58b313f29",
            "value": " 1/1 [00:00&lt;00:00, 27.89it/s]"
          }
        },
        "829867ae85ec42bab331cf7c96924bd0": {
          "model_module": "@jupyter-widgets/base",
          "model_name": "LayoutModel",
          "model_module_version": "1.2.0",
          "state": {
            "_model_module": "@jupyter-widgets/base",
            "_model_module_version": "1.2.0",
            "_model_name": "LayoutModel",
            "_view_count": null,
            "_view_module": "@jupyter-widgets/base",
            "_view_module_version": "1.2.0",
            "_view_name": "LayoutView",
            "align_content": null,
            "align_items": null,
            "align_self": null,
            "border": null,
            "bottom": null,
            "display": null,
            "flex": null,
            "flex_flow": null,
            "grid_area": null,
            "grid_auto_columns": null,
            "grid_auto_flow": null,
            "grid_auto_rows": null,
            "grid_column": null,
            "grid_gap": null,
            "grid_row": null,
            "grid_template_areas": null,
            "grid_template_columns": null,
            "grid_template_rows": null,
            "height": null,
            "justify_content": null,
            "justify_items": null,
            "left": null,
            "margin": null,
            "max_height": null,
            "max_width": null,
            "min_height": null,
            "min_width": null,
            "object_fit": null,
            "object_position": null,
            "order": null,
            "overflow": null,
            "overflow_x": null,
            "overflow_y": null,
            "padding": null,
            "right": null,
            "top": null,
            "visibility": null,
            "width": null
          }
        },
        "2ea03cb2d44044459d3cf3925282fd5f": {
          "model_module": "@jupyter-widgets/base",
          "model_name": "LayoutModel",
          "model_module_version": "1.2.0",
          "state": {
            "_model_module": "@jupyter-widgets/base",
            "_model_module_version": "1.2.0",
            "_model_name": "LayoutModel",
            "_view_count": null,
            "_view_module": "@jupyter-widgets/base",
            "_view_module_version": "1.2.0",
            "_view_name": "LayoutView",
            "align_content": null,
            "align_items": null,
            "align_self": null,
            "border": null,
            "bottom": null,
            "display": null,
            "flex": null,
            "flex_flow": null,
            "grid_area": null,
            "grid_auto_columns": null,
            "grid_auto_flow": null,
            "grid_auto_rows": null,
            "grid_column": null,
            "grid_gap": null,
            "grid_row": null,
            "grid_template_areas": null,
            "grid_template_columns": null,
            "grid_template_rows": null,
            "height": null,
            "justify_content": null,
            "justify_items": null,
            "left": null,
            "margin": null,
            "max_height": null,
            "max_width": null,
            "min_height": null,
            "min_width": null,
            "object_fit": null,
            "object_position": null,
            "order": null,
            "overflow": null,
            "overflow_x": null,
            "overflow_y": null,
            "padding": null,
            "right": null,
            "top": null,
            "visibility": null,
            "width": null
          }
        },
        "286fd7a592cb4c36ba4cc80924da616e": {
          "model_module": "@jupyter-widgets/controls",
          "model_name": "DescriptionStyleModel",
          "model_module_version": "1.5.0",
          "state": {
            "_model_module": "@jupyter-widgets/controls",
            "_model_module_version": "1.5.0",
            "_model_name": "DescriptionStyleModel",
            "_view_count": null,
            "_view_module": "@jupyter-widgets/base",
            "_view_module_version": "1.2.0",
            "_view_name": "StyleView",
            "description_width": ""
          }
        },
        "07eb646d69924157bc408b79ebe5376f": {
          "model_module": "@jupyter-widgets/base",
          "model_name": "LayoutModel",
          "model_module_version": "1.2.0",
          "state": {
            "_model_module": "@jupyter-widgets/base",
            "_model_module_version": "1.2.0",
            "_model_name": "LayoutModel",
            "_view_count": null,
            "_view_module": "@jupyter-widgets/base",
            "_view_module_version": "1.2.0",
            "_view_name": "LayoutView",
            "align_content": null,
            "align_items": null,
            "align_self": null,
            "border": null,
            "bottom": null,
            "display": null,
            "flex": null,
            "flex_flow": null,
            "grid_area": null,
            "grid_auto_columns": null,
            "grid_auto_flow": null,
            "grid_auto_rows": null,
            "grid_column": null,
            "grid_gap": null,
            "grid_row": null,
            "grid_template_areas": null,
            "grid_template_columns": null,
            "grid_template_rows": null,
            "height": null,
            "justify_content": null,
            "justify_items": null,
            "left": null,
            "margin": null,
            "max_height": null,
            "max_width": null,
            "min_height": null,
            "min_width": null,
            "object_fit": null,
            "object_position": null,
            "order": null,
            "overflow": null,
            "overflow_x": null,
            "overflow_y": null,
            "padding": null,
            "right": null,
            "top": null,
            "visibility": null,
            "width": null
          }
        },
        "240e66c7f26849f1a382240cc961ea3f": {
          "model_module": "@jupyter-widgets/controls",
          "model_name": "ProgressStyleModel",
          "model_module_version": "1.5.0",
          "state": {
            "_model_module": "@jupyter-widgets/controls",
            "_model_module_version": "1.5.0",
            "_model_name": "ProgressStyleModel",
            "_view_count": null,
            "_view_module": "@jupyter-widgets/base",
            "_view_module_version": "1.2.0",
            "_view_name": "StyleView",
            "bar_color": null,
            "description_width": ""
          }
        },
        "f2aea927ddb9449e9412852b4eb02928": {
          "model_module": "@jupyter-widgets/base",
          "model_name": "LayoutModel",
          "model_module_version": "1.2.0",
          "state": {
            "_model_module": "@jupyter-widgets/base",
            "_model_module_version": "1.2.0",
            "_model_name": "LayoutModel",
            "_view_count": null,
            "_view_module": "@jupyter-widgets/base",
            "_view_module_version": "1.2.0",
            "_view_name": "LayoutView",
            "align_content": null,
            "align_items": null,
            "align_self": null,
            "border": null,
            "bottom": null,
            "display": null,
            "flex": null,
            "flex_flow": null,
            "grid_area": null,
            "grid_auto_columns": null,
            "grid_auto_flow": null,
            "grid_auto_rows": null,
            "grid_column": null,
            "grid_gap": null,
            "grid_row": null,
            "grid_template_areas": null,
            "grid_template_columns": null,
            "grid_template_rows": null,
            "height": null,
            "justify_content": null,
            "justify_items": null,
            "left": null,
            "margin": null,
            "max_height": null,
            "max_width": null,
            "min_height": null,
            "min_width": null,
            "object_fit": null,
            "object_position": null,
            "order": null,
            "overflow": null,
            "overflow_x": null,
            "overflow_y": null,
            "padding": null,
            "right": null,
            "top": null,
            "visibility": null,
            "width": null
          }
        },
        "1617c82cb7a44621826268c58b313f29": {
          "model_module": "@jupyter-widgets/controls",
          "model_name": "DescriptionStyleModel",
          "model_module_version": "1.5.0",
          "state": {
            "_model_module": "@jupyter-widgets/controls",
            "_model_module_version": "1.5.0",
            "_model_name": "DescriptionStyleModel",
            "_view_count": null,
            "_view_module": "@jupyter-widgets/base",
            "_view_module_version": "1.2.0",
            "_view_name": "StyleView",
            "description_width": ""
          }
        },
        "3cd3ea38ef6f416da401c5cce2fb3dba": {
          "model_module": "@jupyter-widgets/controls",
          "model_name": "HBoxModel",
          "model_module_version": "1.5.0",
          "state": {
            "_dom_classes": [],
            "_model_module": "@jupyter-widgets/controls",
            "_model_module_version": "1.5.0",
            "_model_name": "HBoxModel",
            "_view_count": null,
            "_view_module": "@jupyter-widgets/controls",
            "_view_module_version": "1.5.0",
            "_view_name": "HBoxView",
            "box_style": "",
            "children": [
              "IPY_MODEL_e662091827e34ede904ebf35b711001d",
              "IPY_MODEL_83a9976572914b23a87261df41d629d1",
              "IPY_MODEL_25648f8f5722424e984045e6230eeb0d"
            ],
            "layout": "IPY_MODEL_2a0c0463a925461e955fd74d6d896763"
          }
        },
        "e662091827e34ede904ebf35b711001d": {
          "model_module": "@jupyter-widgets/controls",
          "model_name": "HTMLModel",
          "model_module_version": "1.5.0",
          "state": {
            "_dom_classes": [],
            "_model_module": "@jupyter-widgets/controls",
            "_model_module_version": "1.5.0",
            "_model_name": "HTMLModel",
            "_view_count": null,
            "_view_module": "@jupyter-widgets/controls",
            "_view_module_version": "1.5.0",
            "_view_name": "HTMLView",
            "description": "",
            "description_tooltip": null,
            "layout": "IPY_MODEL_b5141b82f1ba4503a246e3013e4776ee",
            "placeholder": "​",
            "style": "IPY_MODEL_a412c14915a347e08a243f52f35e4e47",
            "value": "100%"
          }
        },
        "83a9976572914b23a87261df41d629d1": {
          "model_module": "@jupyter-widgets/controls",
          "model_name": "FloatProgressModel",
          "model_module_version": "1.5.0",
          "state": {
            "_dom_classes": [],
            "_model_module": "@jupyter-widgets/controls",
            "_model_module_version": "1.5.0",
            "_model_name": "FloatProgressModel",
            "_view_count": null,
            "_view_module": "@jupyter-widgets/controls",
            "_view_module_version": "1.5.0",
            "_view_name": "ProgressView",
            "bar_style": "success",
            "description": "",
            "description_tooltip": null,
            "layout": "IPY_MODEL_ae8034a7800b442481bf8b15eb3b941c",
            "max": 1,
            "min": 0,
            "orientation": "horizontal",
            "style": "IPY_MODEL_e07dac2c5c954b01972f0c0426de7454",
            "value": 1
          }
        },
        "25648f8f5722424e984045e6230eeb0d": {
          "model_module": "@jupyter-widgets/controls",
          "model_name": "HTMLModel",
          "model_module_version": "1.5.0",
          "state": {
            "_dom_classes": [],
            "_model_module": "@jupyter-widgets/controls",
            "_model_module_version": "1.5.0",
            "_model_name": "HTMLModel",
            "_view_count": null,
            "_view_module": "@jupyter-widgets/controls",
            "_view_module_version": "1.5.0",
            "_view_name": "HTMLView",
            "description": "",
            "description_tooltip": null,
            "layout": "IPY_MODEL_0acf466213524914b7c754f36786a950",
            "placeholder": "​",
            "style": "IPY_MODEL_97dc5ebc5cc84da58e4068b28a66b6eb",
            "value": " 1/1 [00:00&lt;00:00, 30.21it/s]"
          }
        },
        "2a0c0463a925461e955fd74d6d896763": {
          "model_module": "@jupyter-widgets/base",
          "model_name": "LayoutModel",
          "model_module_version": "1.2.0",
          "state": {
            "_model_module": "@jupyter-widgets/base",
            "_model_module_version": "1.2.0",
            "_model_name": "LayoutModel",
            "_view_count": null,
            "_view_module": "@jupyter-widgets/base",
            "_view_module_version": "1.2.0",
            "_view_name": "LayoutView",
            "align_content": null,
            "align_items": null,
            "align_self": null,
            "border": null,
            "bottom": null,
            "display": null,
            "flex": null,
            "flex_flow": null,
            "grid_area": null,
            "grid_auto_columns": null,
            "grid_auto_flow": null,
            "grid_auto_rows": null,
            "grid_column": null,
            "grid_gap": null,
            "grid_row": null,
            "grid_template_areas": null,
            "grid_template_columns": null,
            "grid_template_rows": null,
            "height": null,
            "justify_content": null,
            "justify_items": null,
            "left": null,
            "margin": null,
            "max_height": null,
            "max_width": null,
            "min_height": null,
            "min_width": null,
            "object_fit": null,
            "object_position": null,
            "order": null,
            "overflow": null,
            "overflow_x": null,
            "overflow_y": null,
            "padding": null,
            "right": null,
            "top": null,
            "visibility": null,
            "width": null
          }
        },
        "b5141b82f1ba4503a246e3013e4776ee": {
          "model_module": "@jupyter-widgets/base",
          "model_name": "LayoutModel",
          "model_module_version": "1.2.0",
          "state": {
            "_model_module": "@jupyter-widgets/base",
            "_model_module_version": "1.2.0",
            "_model_name": "LayoutModel",
            "_view_count": null,
            "_view_module": "@jupyter-widgets/base",
            "_view_module_version": "1.2.0",
            "_view_name": "LayoutView",
            "align_content": null,
            "align_items": null,
            "align_self": null,
            "border": null,
            "bottom": null,
            "display": null,
            "flex": null,
            "flex_flow": null,
            "grid_area": null,
            "grid_auto_columns": null,
            "grid_auto_flow": null,
            "grid_auto_rows": null,
            "grid_column": null,
            "grid_gap": null,
            "grid_row": null,
            "grid_template_areas": null,
            "grid_template_columns": null,
            "grid_template_rows": null,
            "height": null,
            "justify_content": null,
            "justify_items": null,
            "left": null,
            "margin": null,
            "max_height": null,
            "max_width": null,
            "min_height": null,
            "min_width": null,
            "object_fit": null,
            "object_position": null,
            "order": null,
            "overflow": null,
            "overflow_x": null,
            "overflow_y": null,
            "padding": null,
            "right": null,
            "top": null,
            "visibility": null,
            "width": null
          }
        },
        "a412c14915a347e08a243f52f35e4e47": {
          "model_module": "@jupyter-widgets/controls",
          "model_name": "DescriptionStyleModel",
          "model_module_version": "1.5.0",
          "state": {
            "_model_module": "@jupyter-widgets/controls",
            "_model_module_version": "1.5.0",
            "_model_name": "DescriptionStyleModel",
            "_view_count": null,
            "_view_module": "@jupyter-widgets/base",
            "_view_module_version": "1.2.0",
            "_view_name": "StyleView",
            "description_width": ""
          }
        },
        "ae8034a7800b442481bf8b15eb3b941c": {
          "model_module": "@jupyter-widgets/base",
          "model_name": "LayoutModel",
          "model_module_version": "1.2.0",
          "state": {
            "_model_module": "@jupyter-widgets/base",
            "_model_module_version": "1.2.0",
            "_model_name": "LayoutModel",
            "_view_count": null,
            "_view_module": "@jupyter-widgets/base",
            "_view_module_version": "1.2.0",
            "_view_name": "LayoutView",
            "align_content": null,
            "align_items": null,
            "align_self": null,
            "border": null,
            "bottom": null,
            "display": null,
            "flex": null,
            "flex_flow": null,
            "grid_area": null,
            "grid_auto_columns": null,
            "grid_auto_flow": null,
            "grid_auto_rows": null,
            "grid_column": null,
            "grid_gap": null,
            "grid_row": null,
            "grid_template_areas": null,
            "grid_template_columns": null,
            "grid_template_rows": null,
            "height": null,
            "justify_content": null,
            "justify_items": null,
            "left": null,
            "margin": null,
            "max_height": null,
            "max_width": null,
            "min_height": null,
            "min_width": null,
            "object_fit": null,
            "object_position": null,
            "order": null,
            "overflow": null,
            "overflow_x": null,
            "overflow_y": null,
            "padding": null,
            "right": null,
            "top": null,
            "visibility": null,
            "width": null
          }
        },
        "e07dac2c5c954b01972f0c0426de7454": {
          "model_module": "@jupyter-widgets/controls",
          "model_name": "ProgressStyleModel",
          "model_module_version": "1.5.0",
          "state": {
            "_model_module": "@jupyter-widgets/controls",
            "_model_module_version": "1.5.0",
            "_model_name": "ProgressStyleModel",
            "_view_count": null,
            "_view_module": "@jupyter-widgets/base",
            "_view_module_version": "1.2.0",
            "_view_name": "StyleView",
            "bar_color": null,
            "description_width": ""
          }
        },
        "0acf466213524914b7c754f36786a950": {
          "model_module": "@jupyter-widgets/base",
          "model_name": "LayoutModel",
          "model_module_version": "1.2.0",
          "state": {
            "_model_module": "@jupyter-widgets/base",
            "_model_module_version": "1.2.0",
            "_model_name": "LayoutModel",
            "_view_count": null,
            "_view_module": "@jupyter-widgets/base",
            "_view_module_version": "1.2.0",
            "_view_name": "LayoutView",
            "align_content": null,
            "align_items": null,
            "align_self": null,
            "border": null,
            "bottom": null,
            "display": null,
            "flex": null,
            "flex_flow": null,
            "grid_area": null,
            "grid_auto_columns": null,
            "grid_auto_flow": null,
            "grid_auto_rows": null,
            "grid_column": null,
            "grid_gap": null,
            "grid_row": null,
            "grid_template_areas": null,
            "grid_template_columns": null,
            "grid_template_rows": null,
            "height": null,
            "justify_content": null,
            "justify_items": null,
            "left": null,
            "margin": null,
            "max_height": null,
            "max_width": null,
            "min_height": null,
            "min_width": null,
            "object_fit": null,
            "object_position": null,
            "order": null,
            "overflow": null,
            "overflow_x": null,
            "overflow_y": null,
            "padding": null,
            "right": null,
            "top": null,
            "visibility": null,
            "width": null
          }
        },
        "97dc5ebc5cc84da58e4068b28a66b6eb": {
          "model_module": "@jupyter-widgets/controls",
          "model_name": "DescriptionStyleModel",
          "model_module_version": "1.5.0",
          "state": {
            "_model_module": "@jupyter-widgets/controls",
            "_model_module_version": "1.5.0",
            "_model_name": "DescriptionStyleModel",
            "_view_count": null,
            "_view_module": "@jupyter-widgets/base",
            "_view_module_version": "1.2.0",
            "_view_name": "StyleView",
            "description_width": ""
          }
        },
        "5fc06570cb694636a73c6467bee9b5c7": {
          "model_module": "@jupyter-widgets/controls",
          "model_name": "HBoxModel",
          "model_module_version": "1.5.0",
          "state": {
            "_dom_classes": [],
            "_model_module": "@jupyter-widgets/controls",
            "_model_module_version": "1.5.0",
            "_model_name": "HBoxModel",
            "_view_count": null,
            "_view_module": "@jupyter-widgets/controls",
            "_view_module_version": "1.5.0",
            "_view_name": "HBoxView",
            "box_style": "",
            "children": [
              "IPY_MODEL_d293cefd23da40c2b6a6b071bba0a911",
              "IPY_MODEL_bee776d1cc7649438caa9fdac98fb007",
              "IPY_MODEL_4ac882a8e2d64eca8d77a529f3aaf2e5"
            ],
            "layout": "IPY_MODEL_4046355cd10540b7a99939e37d68e63c"
          }
        },
        "d293cefd23da40c2b6a6b071bba0a911": {
          "model_module": "@jupyter-widgets/controls",
          "model_name": "HTMLModel",
          "model_module_version": "1.5.0",
          "state": {
            "_dom_classes": [],
            "_model_module": "@jupyter-widgets/controls",
            "_model_module_version": "1.5.0",
            "_model_name": "HTMLModel",
            "_view_count": null,
            "_view_module": "@jupyter-widgets/controls",
            "_view_module_version": "1.5.0",
            "_view_name": "HTMLView",
            "description": "",
            "description_tooltip": null,
            "layout": "IPY_MODEL_788b0ed043874abcbd5f92bdd7aed021",
            "placeholder": "​",
            "style": "IPY_MODEL_8b3723a068794114b6fe30bf52f5f96a",
            "value": "100%"
          }
        },
        "bee776d1cc7649438caa9fdac98fb007": {
          "model_module": "@jupyter-widgets/controls",
          "model_name": "FloatProgressModel",
          "model_module_version": "1.5.0",
          "state": {
            "_dom_classes": [],
            "_model_module": "@jupyter-widgets/controls",
            "_model_module_version": "1.5.0",
            "_model_name": "FloatProgressModel",
            "_view_count": null,
            "_view_module": "@jupyter-widgets/controls",
            "_view_module_version": "1.5.0",
            "_view_name": "ProgressView",
            "bar_style": "success",
            "description": "",
            "description_tooltip": null,
            "layout": "IPY_MODEL_57fcdea5a4274d91bcc2b577d6d5c505",
            "max": 1,
            "min": 0,
            "orientation": "horizontal",
            "style": "IPY_MODEL_2dc43708401f4f15a159f1560b2e97ac",
            "value": 1
          }
        },
        "4ac882a8e2d64eca8d77a529f3aaf2e5": {
          "model_module": "@jupyter-widgets/controls",
          "model_name": "HTMLModel",
          "model_module_version": "1.5.0",
          "state": {
            "_dom_classes": [],
            "_model_module": "@jupyter-widgets/controls",
            "_model_module_version": "1.5.0",
            "_model_name": "HTMLModel",
            "_view_count": null,
            "_view_module": "@jupyter-widgets/controls",
            "_view_module_version": "1.5.0",
            "_view_name": "HTMLView",
            "description": "",
            "description_tooltip": null,
            "layout": "IPY_MODEL_5ebf47562607487bb57399efeeb8cde4",
            "placeholder": "​",
            "style": "IPY_MODEL_e049007afbce44699e2e4adadffb0f1f",
            "value": " 1/1 [00:00&lt;00:00, 16.62it/s]"
          }
        },
        "4046355cd10540b7a99939e37d68e63c": {
          "model_module": "@jupyter-widgets/base",
          "model_name": "LayoutModel",
          "model_module_version": "1.2.0",
          "state": {
            "_model_module": "@jupyter-widgets/base",
            "_model_module_version": "1.2.0",
            "_model_name": "LayoutModel",
            "_view_count": null,
            "_view_module": "@jupyter-widgets/base",
            "_view_module_version": "1.2.0",
            "_view_name": "LayoutView",
            "align_content": null,
            "align_items": null,
            "align_self": null,
            "border": null,
            "bottom": null,
            "display": null,
            "flex": null,
            "flex_flow": null,
            "grid_area": null,
            "grid_auto_columns": null,
            "grid_auto_flow": null,
            "grid_auto_rows": null,
            "grid_column": null,
            "grid_gap": null,
            "grid_row": null,
            "grid_template_areas": null,
            "grid_template_columns": null,
            "grid_template_rows": null,
            "height": null,
            "justify_content": null,
            "justify_items": null,
            "left": null,
            "margin": null,
            "max_height": null,
            "max_width": null,
            "min_height": null,
            "min_width": null,
            "object_fit": null,
            "object_position": null,
            "order": null,
            "overflow": null,
            "overflow_x": null,
            "overflow_y": null,
            "padding": null,
            "right": null,
            "top": null,
            "visibility": null,
            "width": null
          }
        },
        "788b0ed043874abcbd5f92bdd7aed021": {
          "model_module": "@jupyter-widgets/base",
          "model_name": "LayoutModel",
          "model_module_version": "1.2.0",
          "state": {
            "_model_module": "@jupyter-widgets/base",
            "_model_module_version": "1.2.0",
            "_model_name": "LayoutModel",
            "_view_count": null,
            "_view_module": "@jupyter-widgets/base",
            "_view_module_version": "1.2.0",
            "_view_name": "LayoutView",
            "align_content": null,
            "align_items": null,
            "align_self": null,
            "border": null,
            "bottom": null,
            "display": null,
            "flex": null,
            "flex_flow": null,
            "grid_area": null,
            "grid_auto_columns": null,
            "grid_auto_flow": null,
            "grid_auto_rows": null,
            "grid_column": null,
            "grid_gap": null,
            "grid_row": null,
            "grid_template_areas": null,
            "grid_template_columns": null,
            "grid_template_rows": null,
            "height": null,
            "justify_content": null,
            "justify_items": null,
            "left": null,
            "margin": null,
            "max_height": null,
            "max_width": null,
            "min_height": null,
            "min_width": null,
            "object_fit": null,
            "object_position": null,
            "order": null,
            "overflow": null,
            "overflow_x": null,
            "overflow_y": null,
            "padding": null,
            "right": null,
            "top": null,
            "visibility": null,
            "width": null
          }
        },
        "8b3723a068794114b6fe30bf52f5f96a": {
          "model_module": "@jupyter-widgets/controls",
          "model_name": "DescriptionStyleModel",
          "model_module_version": "1.5.0",
          "state": {
            "_model_module": "@jupyter-widgets/controls",
            "_model_module_version": "1.5.0",
            "_model_name": "DescriptionStyleModel",
            "_view_count": null,
            "_view_module": "@jupyter-widgets/base",
            "_view_module_version": "1.2.0",
            "_view_name": "StyleView",
            "description_width": ""
          }
        },
        "57fcdea5a4274d91bcc2b577d6d5c505": {
          "model_module": "@jupyter-widgets/base",
          "model_name": "LayoutModel",
          "model_module_version": "1.2.0",
          "state": {
            "_model_module": "@jupyter-widgets/base",
            "_model_module_version": "1.2.0",
            "_model_name": "LayoutModel",
            "_view_count": null,
            "_view_module": "@jupyter-widgets/base",
            "_view_module_version": "1.2.0",
            "_view_name": "LayoutView",
            "align_content": null,
            "align_items": null,
            "align_self": null,
            "border": null,
            "bottom": null,
            "display": null,
            "flex": null,
            "flex_flow": null,
            "grid_area": null,
            "grid_auto_columns": null,
            "grid_auto_flow": null,
            "grid_auto_rows": null,
            "grid_column": null,
            "grid_gap": null,
            "grid_row": null,
            "grid_template_areas": null,
            "grid_template_columns": null,
            "grid_template_rows": null,
            "height": null,
            "justify_content": null,
            "justify_items": null,
            "left": null,
            "margin": null,
            "max_height": null,
            "max_width": null,
            "min_height": null,
            "min_width": null,
            "object_fit": null,
            "object_position": null,
            "order": null,
            "overflow": null,
            "overflow_x": null,
            "overflow_y": null,
            "padding": null,
            "right": null,
            "top": null,
            "visibility": null,
            "width": null
          }
        },
        "2dc43708401f4f15a159f1560b2e97ac": {
          "model_module": "@jupyter-widgets/controls",
          "model_name": "ProgressStyleModel",
          "model_module_version": "1.5.0",
          "state": {
            "_model_module": "@jupyter-widgets/controls",
            "_model_module_version": "1.5.0",
            "_model_name": "ProgressStyleModel",
            "_view_count": null,
            "_view_module": "@jupyter-widgets/base",
            "_view_module_version": "1.2.0",
            "_view_name": "StyleView",
            "bar_color": null,
            "description_width": ""
          }
        },
        "5ebf47562607487bb57399efeeb8cde4": {
          "model_module": "@jupyter-widgets/base",
          "model_name": "LayoutModel",
          "model_module_version": "1.2.0",
          "state": {
            "_model_module": "@jupyter-widgets/base",
            "_model_module_version": "1.2.0",
            "_model_name": "LayoutModel",
            "_view_count": null,
            "_view_module": "@jupyter-widgets/base",
            "_view_module_version": "1.2.0",
            "_view_name": "LayoutView",
            "align_content": null,
            "align_items": null,
            "align_self": null,
            "border": null,
            "bottom": null,
            "display": null,
            "flex": null,
            "flex_flow": null,
            "grid_area": null,
            "grid_auto_columns": null,
            "grid_auto_flow": null,
            "grid_auto_rows": null,
            "grid_column": null,
            "grid_gap": null,
            "grid_row": null,
            "grid_template_areas": null,
            "grid_template_columns": null,
            "grid_template_rows": null,
            "height": null,
            "justify_content": null,
            "justify_items": null,
            "left": null,
            "margin": null,
            "max_height": null,
            "max_width": null,
            "min_height": null,
            "min_width": null,
            "object_fit": null,
            "object_position": null,
            "order": null,
            "overflow": null,
            "overflow_x": null,
            "overflow_y": null,
            "padding": null,
            "right": null,
            "top": null,
            "visibility": null,
            "width": null
          }
        },
        "e049007afbce44699e2e4adadffb0f1f": {
          "model_module": "@jupyter-widgets/controls",
          "model_name": "DescriptionStyleModel",
          "model_module_version": "1.5.0",
          "state": {
            "_model_module": "@jupyter-widgets/controls",
            "_model_module_version": "1.5.0",
            "_model_name": "DescriptionStyleModel",
            "_view_count": null,
            "_view_module": "@jupyter-widgets/base",
            "_view_module_version": "1.2.0",
            "_view_name": "StyleView",
            "description_width": ""
          }
        },
        "51a45284008d45429bbcd3447b0b6226": {
          "model_module": "@jupyter-widgets/controls",
          "model_name": "HBoxModel",
          "model_module_version": "1.5.0",
          "state": {
            "_dom_classes": [],
            "_model_module": "@jupyter-widgets/controls",
            "_model_module_version": "1.5.0",
            "_model_name": "HBoxModel",
            "_view_count": null,
            "_view_module": "@jupyter-widgets/controls",
            "_view_module_version": "1.5.0",
            "_view_name": "HBoxView",
            "box_style": "",
            "children": [
              "IPY_MODEL_801c7f2c9bdf4de7bb5b14038ed11da7",
              "IPY_MODEL_6379beeed24f4dbe82beee7e39212c07",
              "IPY_MODEL_e8178fe25d6d496b9cbbcaa6d714ccd4"
            ],
            "layout": "IPY_MODEL_58d54966e10f49bc8002833ebcc2ecdb"
          }
        },
        "801c7f2c9bdf4de7bb5b14038ed11da7": {
          "model_module": "@jupyter-widgets/controls",
          "model_name": "HTMLModel",
          "model_module_version": "1.5.0",
          "state": {
            "_dom_classes": [],
            "_model_module": "@jupyter-widgets/controls",
            "_model_module_version": "1.5.0",
            "_model_name": "HTMLModel",
            "_view_count": null,
            "_view_module": "@jupyter-widgets/controls",
            "_view_module_version": "1.5.0",
            "_view_name": "HTMLView",
            "description": "",
            "description_tooltip": null,
            "layout": "IPY_MODEL_58d0ad6b226644fa9f18201ae2b69364",
            "placeholder": "​",
            "style": "IPY_MODEL_f2ef9044f4c640738acc25d8769fc855",
            "value": "  5%"
          }
        },
        "6379beeed24f4dbe82beee7e39212c07": {
          "model_module": "@jupyter-widgets/controls",
          "model_name": "FloatProgressModel",
          "model_module_version": "1.5.0",
          "state": {
            "_dom_classes": [],
            "_model_module": "@jupyter-widgets/controls",
            "_model_module_version": "1.5.0",
            "_model_name": "FloatProgressModel",
            "_view_count": null,
            "_view_module": "@jupyter-widgets/controls",
            "_view_module_version": "1.5.0",
            "_view_name": "ProgressView",
            "bar_style": "",
            "description": "",
            "description_tooltip": null,
            "layout": "IPY_MODEL_2e47e94d986048cbbac9ade46be59834",
            "max": 839100,
            "min": 0,
            "orientation": "horizontal",
            "style": "IPY_MODEL_faa8b90f333f45f1b0fdc362f35d6c12",
            "value": 40757
          }
        },
        "e8178fe25d6d496b9cbbcaa6d714ccd4": {
          "model_module": "@jupyter-widgets/controls",
          "model_name": "HTMLModel",
          "model_module_version": "1.5.0",
          "state": {
            "_dom_classes": [],
            "_model_module": "@jupyter-widgets/controls",
            "_model_module_version": "1.5.0",
            "_model_name": "HTMLModel",
            "_view_count": null,
            "_view_module": "@jupyter-widgets/controls",
            "_view_module_version": "1.5.0",
            "_view_name": "HTMLView",
            "description": "",
            "description_tooltip": null,
            "layout": "IPY_MODEL_539155601996416690e88a29f093f958",
            "placeholder": "​",
            "style": "IPY_MODEL_73652098d93349f588d2ba5f6b776d2b",
            "value": " 40757/839100 [3:28:59&lt;68:09:57,  3.25it/s]"
          }
        },
        "58d54966e10f49bc8002833ebcc2ecdb": {
          "model_module": "@jupyter-widgets/base",
          "model_name": "LayoutModel",
          "model_module_version": "1.2.0",
          "state": {
            "_model_module": "@jupyter-widgets/base",
            "_model_module_version": "1.2.0",
            "_model_name": "LayoutModel",
            "_view_count": null,
            "_view_module": "@jupyter-widgets/base",
            "_view_module_version": "1.2.0",
            "_view_name": "LayoutView",
            "align_content": null,
            "align_items": null,
            "align_self": null,
            "border": null,
            "bottom": null,
            "display": null,
            "flex": null,
            "flex_flow": null,
            "grid_area": null,
            "grid_auto_columns": null,
            "grid_auto_flow": null,
            "grid_auto_rows": null,
            "grid_column": null,
            "grid_gap": null,
            "grid_row": null,
            "grid_template_areas": null,
            "grid_template_columns": null,
            "grid_template_rows": null,
            "height": null,
            "justify_content": null,
            "justify_items": null,
            "left": null,
            "margin": null,
            "max_height": null,
            "max_width": null,
            "min_height": null,
            "min_width": null,
            "object_fit": null,
            "object_position": null,
            "order": null,
            "overflow": null,
            "overflow_x": null,
            "overflow_y": null,
            "padding": null,
            "right": null,
            "top": null,
            "visibility": null,
            "width": null
          }
        },
        "58d0ad6b226644fa9f18201ae2b69364": {
          "model_module": "@jupyter-widgets/base",
          "model_name": "LayoutModel",
          "model_module_version": "1.2.0",
          "state": {
            "_model_module": "@jupyter-widgets/base",
            "_model_module_version": "1.2.0",
            "_model_name": "LayoutModel",
            "_view_count": null,
            "_view_module": "@jupyter-widgets/base",
            "_view_module_version": "1.2.0",
            "_view_name": "LayoutView",
            "align_content": null,
            "align_items": null,
            "align_self": null,
            "border": null,
            "bottom": null,
            "display": null,
            "flex": null,
            "flex_flow": null,
            "grid_area": null,
            "grid_auto_columns": null,
            "grid_auto_flow": null,
            "grid_auto_rows": null,
            "grid_column": null,
            "grid_gap": null,
            "grid_row": null,
            "grid_template_areas": null,
            "grid_template_columns": null,
            "grid_template_rows": null,
            "height": null,
            "justify_content": null,
            "justify_items": null,
            "left": null,
            "margin": null,
            "max_height": null,
            "max_width": null,
            "min_height": null,
            "min_width": null,
            "object_fit": null,
            "object_position": null,
            "order": null,
            "overflow": null,
            "overflow_x": null,
            "overflow_y": null,
            "padding": null,
            "right": null,
            "top": null,
            "visibility": null,
            "width": null
          }
        },
        "f2ef9044f4c640738acc25d8769fc855": {
          "model_module": "@jupyter-widgets/controls",
          "model_name": "DescriptionStyleModel",
          "model_module_version": "1.5.0",
          "state": {
            "_model_module": "@jupyter-widgets/controls",
            "_model_module_version": "1.5.0",
            "_model_name": "DescriptionStyleModel",
            "_view_count": null,
            "_view_module": "@jupyter-widgets/base",
            "_view_module_version": "1.2.0",
            "_view_name": "StyleView",
            "description_width": ""
          }
        },
        "2e47e94d986048cbbac9ade46be59834": {
          "model_module": "@jupyter-widgets/base",
          "model_name": "LayoutModel",
          "model_module_version": "1.2.0",
          "state": {
            "_model_module": "@jupyter-widgets/base",
            "_model_module_version": "1.2.0",
            "_model_name": "LayoutModel",
            "_view_count": null,
            "_view_module": "@jupyter-widgets/base",
            "_view_module_version": "1.2.0",
            "_view_name": "LayoutView",
            "align_content": null,
            "align_items": null,
            "align_self": null,
            "border": null,
            "bottom": null,
            "display": null,
            "flex": null,
            "flex_flow": null,
            "grid_area": null,
            "grid_auto_columns": null,
            "grid_auto_flow": null,
            "grid_auto_rows": null,
            "grid_column": null,
            "grid_gap": null,
            "grid_row": null,
            "grid_template_areas": null,
            "grid_template_columns": null,
            "grid_template_rows": null,
            "height": null,
            "justify_content": null,
            "justify_items": null,
            "left": null,
            "margin": null,
            "max_height": null,
            "max_width": null,
            "min_height": null,
            "min_width": null,
            "object_fit": null,
            "object_position": null,
            "order": null,
            "overflow": null,
            "overflow_x": null,
            "overflow_y": null,
            "padding": null,
            "right": null,
            "top": null,
            "visibility": null,
            "width": null
          }
        },
        "faa8b90f333f45f1b0fdc362f35d6c12": {
          "model_module": "@jupyter-widgets/controls",
          "model_name": "ProgressStyleModel",
          "model_module_version": "1.5.0",
          "state": {
            "_model_module": "@jupyter-widgets/controls",
            "_model_module_version": "1.5.0",
            "_model_name": "ProgressStyleModel",
            "_view_count": null,
            "_view_module": "@jupyter-widgets/base",
            "_view_module_version": "1.2.0",
            "_view_name": "StyleView",
            "bar_color": null,
            "description_width": ""
          }
        },
        "539155601996416690e88a29f093f958": {
          "model_module": "@jupyter-widgets/base",
          "model_name": "LayoutModel",
          "model_module_version": "1.2.0",
          "state": {
            "_model_module": "@jupyter-widgets/base",
            "_model_module_version": "1.2.0",
            "_model_name": "LayoutModel",
            "_view_count": null,
            "_view_module": "@jupyter-widgets/base",
            "_view_module_version": "1.2.0",
            "_view_name": "LayoutView",
            "align_content": null,
            "align_items": null,
            "align_self": null,
            "border": null,
            "bottom": null,
            "display": null,
            "flex": null,
            "flex_flow": null,
            "grid_area": null,
            "grid_auto_columns": null,
            "grid_auto_flow": null,
            "grid_auto_rows": null,
            "grid_column": null,
            "grid_gap": null,
            "grid_row": null,
            "grid_template_areas": null,
            "grid_template_columns": null,
            "grid_template_rows": null,
            "height": null,
            "justify_content": null,
            "justify_items": null,
            "left": null,
            "margin": null,
            "max_height": null,
            "max_width": null,
            "min_height": null,
            "min_width": null,
            "object_fit": null,
            "object_position": null,
            "order": null,
            "overflow": null,
            "overflow_x": null,
            "overflow_y": null,
            "padding": null,
            "right": null,
            "top": null,
            "visibility": null,
            "width": null
          }
        },
        "73652098d93349f588d2ba5f6b776d2b": {
          "model_module": "@jupyter-widgets/controls",
          "model_name": "DescriptionStyleModel",
          "model_module_version": "1.5.0",
          "state": {
            "_model_module": "@jupyter-widgets/controls",
            "_model_module_version": "1.5.0",
            "_model_name": "DescriptionStyleModel",
            "_view_count": null,
            "_view_module": "@jupyter-widgets/base",
            "_view_module_version": "1.2.0",
            "_view_name": "StyleView",
            "description_width": ""
          }
        }
      }
    }
  },
  "cells": [
    {
      "cell_type": "markdown",
      "metadata": {
        "id": "view-in-github",
        "colab_type": "text"
      },
      "source": [
        "<a href=\"https://colab.research.google.com/github/nshah-waripari/nlp_transformers/blob/main/nmt_nepali_english_dataset.ipynb\" target=\"_parent\"><img src=\"https://colab.research.google.com/assets/colab-badge.svg\" alt=\"Open In Colab\"/></a>"
      ]
    },
    {
      "cell_type": "markdown",
      "source": [
        "## English to Nepali Translation with T5 Transformer Model"
      ],
      "metadata": {
        "id": "Jed31Jukn0h-"
      }
    },
    {
      "cell_type": "code",
      "execution_count": 1,
      "metadata": {
        "colab": {
          "base_uri": "https://localhost:8080/"
        },
        "id": "zVMHqTcfh9Mz",
        "outputId": "74923e01-9021-4b36-849b-9bcc3a5a931e"
      },
      "outputs": [
        {
          "output_type": "stream",
          "name": "stdout",
          "text": [
            "Cloning into 'notebooks'...\n",
            "remote: Enumerating objects: 422, done.\u001b[K\n",
            "remote: Counting objects: 100% (422/422), done.\u001b[K\n",
            "remote: Compressing objects: 100% (225/225), done.\u001b[K\n",
            "remote: Total 422 (delta 197), reused 411 (delta 191), pack-reused 0\u001b[K\n",
            "Receiving objects: 100% (422/422), 24.99 MiB | 27.54 MiB/s, done.\n",
            "Resolving deltas: 100% (197/197), done.\n",
            "/content/notebooks\n",
            "⏳ Installing base requirements ...\n",
            "✅ Base requirements installed!\n",
            "⏳ Installing Git LFS ...\n",
            "✅ Git LFS installed!\n"
          ]
        }
      ],
      "source": [
        "# Install the required libraries\n",
        "!git clone https://github.com/nlp-with-transformers/notebooks.git\n",
        "%cd notebooks\n",
        "from install import *\n",
        "install_requirements(is_chapter2=True)"
      ]
    },
    {
      "cell_type": "markdown",
      "source": [
        "### Load the dataset\n",
        "1. We will be using data [Nepali - English Language Pair] obtained from The Tatoeba Translation Challenge [https://github.com/Helsinki-NLP/Tatoeba-Challenge].\n",
        "2. Train SentencePiece model [https://github.com/google/sentencepiece] to tokenize the raw data and use Tokenizer[from HuggingFace] to tokenize the text that will be language agnostic.\n"
      ],
      "metadata": {
        "id": "GUuEsMOsl1kg"
      }
    },
    {
      "cell_type": "code",
      "source": [
        "# first mount the drive\n",
        "from google.colab import drive\n",
        "drive.mount('content')\n",
        "\n",
        "# load the training & test dataset, pre-trained spm model along with vocab file hosted at dropbox\n",
        "training_dataset_url = \"https://www.dropbox.com/s/oey08zbsdsqjhqb/train.tsv.zip?dl=0\" # train.tsv.zip this is a zip file, need to unzip before using it\n",
        "eval_dataset_url = \"https://www.dropbox.com/s/wbxha2sm4hitn6a/eval.tsv?dl=0\" # eval.tsv file\n",
        "spm_model = \"https://www.dropbox.com/s/divi5qh1atzpu5p/spm.model?dl=0\" # spm.model\n",
        "vocab = \"https://www.dropbox.com/s/k129w9ylkosrxnv/spm.vocab?dl=0\" #spm.vocab\n",
        "# download training.tsv.zip file\n",
        "!wget -P data/ {training_dataset_url}\n",
        "# download eval.tsv file\n",
        "!wget -P data/ {eval_dataset_url}\n",
        "# download spm.model file\n",
        "!wget -P data/ {spm_model}\n",
        "# download vocab file\n",
        "!wget -P data/ {vocab}"
      ],
      "metadata": {
        "colab": {
          "base_uri": "https://localhost:8080/"
        },
        "id": "qePUHLAOln0Q",
        "outputId": "bdb87fd5-8f41-40a9-9a61-4f8344c80a7d"
      },
      "execution_count": 2,
      "outputs": [
        {
          "output_type": "stream",
          "name": "stdout",
          "text": [
            "Mounted at content\n",
            "--2022-08-13 02:12:02--  https://www.dropbox.com/s/oey08zbsdsqjhqb/train.tsv.zip?dl=0\n",
            "Resolving www.dropbox.com (www.dropbox.com)... 162.125.1.18, 2620:100:6016:18::a27d:112\n",
            "Connecting to www.dropbox.com (www.dropbox.com)|162.125.1.18|:443... connected.\n",
            "HTTP request sent, awaiting response... 301 Moved Permanently\n",
            "Location: /s/raw/oey08zbsdsqjhqb/train.tsv.zip [following]\n",
            "--2022-08-13 02:12:02--  https://www.dropbox.com/s/raw/oey08zbsdsqjhqb/train.tsv.zip\n",
            "Reusing existing connection to www.dropbox.com:443.\n",
            "HTTP request sent, awaiting response... 302 Found\n",
            "Location: https://uc588a19dd37ac4b7c9af8c9b61b.dl.dropboxusercontent.com/cd/0/inline/Bq5g3QRp62ryVxQksTyE68E0EdGg6PAQSOhmfmorPsYDwW5HqnXhUW0W2QZoOXhOfJE7Bb4OHx6OoAuaXZkmMlJJv82HcFvaN_pzBxv_f2BLnvnYEfhhRSQ_viWtRmpoFkhf55JOn2Rx7OXx4CgT5MRyOw-CFD5Bsj0iKM1p1Aoawg/file# [following]\n",
            "--2022-08-13 02:12:02--  https://uc588a19dd37ac4b7c9af8c9b61b.dl.dropboxusercontent.com/cd/0/inline/Bq5g3QRp62ryVxQksTyE68E0EdGg6PAQSOhmfmorPsYDwW5HqnXhUW0W2QZoOXhOfJE7Bb4OHx6OoAuaXZkmMlJJv82HcFvaN_pzBxv_f2BLnvnYEfhhRSQ_viWtRmpoFkhf55JOn2Rx7OXx4CgT5MRyOw-CFD5Bsj0iKM1p1Aoawg/file\n",
            "Resolving uc588a19dd37ac4b7c9af8c9b61b.dl.dropboxusercontent.com (uc588a19dd37ac4b7c9af8c9b61b.dl.dropboxusercontent.com)... 162.125.1.15, 2620:100:6021:15::a27d:410f\n",
            "Connecting to uc588a19dd37ac4b7c9af8c9b61b.dl.dropboxusercontent.com (uc588a19dd37ac4b7c9af8c9b61b.dl.dropboxusercontent.com)|162.125.1.15|:443... connected.\n",
            "HTTP request sent, awaiting response... 302 Found\n",
            "Location: /cd/0/inline2/Bq4-lmsNW14af0bzMzqnCxwkYgLs2WxrjVWfgn7JtOjRM4j5Pd5wPNAhdUsBmA2EKYeRlviNB-MRPlGQEz6rlSFz7evyNPYtr1JNxGn6tDgdofnEL8aOqCDZI1hsQyYY-7JztSokYwUjbbRkumaIN4MC9tLVwvMh6sKYRvfckUtvzEpXy-vk8tGhag3_VZ9hqCTjaMEQso3Nt8pdc4DhrDqCu4nYMaU6W-t2nfsN_PMyJhToJYIcnNvBzZho1rWnvd3wbACs5u4y3m1I1bJ4D0DjOSfm81QM7GqfPNdBb6T55ptdaB4yNyQWOTeu_DY93C9urUghQery2BzHDp8_C5iwLYf_JQf_TRozAk2YS7NvIVjp-IIeoDyMIzVCwZtDv5WZI6wVt49mncDgBzs-PBm-8-NbawFHq9DEnehARVx-JA/file [following]\n",
            "--2022-08-13 02:12:02--  https://uc588a19dd37ac4b7c9af8c9b61b.dl.dropboxusercontent.com/cd/0/inline2/Bq4-lmsNW14af0bzMzqnCxwkYgLs2WxrjVWfgn7JtOjRM4j5Pd5wPNAhdUsBmA2EKYeRlviNB-MRPlGQEz6rlSFz7evyNPYtr1JNxGn6tDgdofnEL8aOqCDZI1hsQyYY-7JztSokYwUjbbRkumaIN4MC9tLVwvMh6sKYRvfckUtvzEpXy-vk8tGhag3_VZ9hqCTjaMEQso3Nt8pdc4DhrDqCu4nYMaU6W-t2nfsN_PMyJhToJYIcnNvBzZho1rWnvd3wbACs5u4y3m1I1bJ4D0DjOSfm81QM7GqfPNdBb6T55ptdaB4yNyQWOTeu_DY93C9urUghQery2BzHDp8_C5iwLYf_JQf_TRozAk2YS7NvIVjp-IIeoDyMIzVCwZtDv5WZI6wVt49mncDgBzs-PBm-8-NbawFHq9DEnehARVx-JA/file\n",
            "Reusing existing connection to uc588a19dd37ac4b7c9af8c9b61b.dl.dropboxusercontent.com:443.\n",
            "HTTP request sent, awaiting response... 200 OK\n",
            "Length: 287812055 (274M) [application/zip]\n",
            "Saving to: ‘data/train.tsv.zip?dl=0’\n",
            "\n",
            "train.tsv.zip?dl=0  100%[===================>] 274.48M   135MB/s    in 2.0s    \n",
            "\n",
            "2022-08-13 02:12:05 (135 MB/s) - ‘data/train.tsv.zip?dl=0’ saved [287812055/287812055]\n",
            "\n",
            "--2022-08-13 02:12:05--  https://www.dropbox.com/s/wbxha2sm4hitn6a/eval.tsv?dl=0\n",
            "Resolving www.dropbox.com (www.dropbox.com)... 162.125.1.18, 2620:100:6016:18::a27d:112\n",
            "Connecting to www.dropbox.com (www.dropbox.com)|162.125.1.18|:443... connected.\n",
            "HTTP request sent, awaiting response... 301 Moved Permanently\n",
            "Location: /s/raw/wbxha2sm4hitn6a/eval.tsv [following]\n",
            "--2022-08-13 02:12:05--  https://www.dropbox.com/s/raw/wbxha2sm4hitn6a/eval.tsv\n",
            "Reusing existing connection to www.dropbox.com:443.\n",
            "HTTP request sent, awaiting response... 302 Found\n",
            "Location: https://ucb966ad82df61d020832d588bc7.dl.dropboxusercontent.com/cd/0/inline/Bq7lxP6a1qGE4LATbODOQjd3twBLWHKWIrZEYOusQgIeTM44oSRdJNdBUfa2ddqPS6NXlkOyHZTFZibT1F9yJiua3iyrZfLc5vton2lFLFjulBvnvntLLD1OPLj1XTlcgxozU529heoz_CxMf3PNS1IHNf1LN74SCidh7UWBxCTzPA/file# [following]\n",
            "--2022-08-13 02:12:06--  https://ucb966ad82df61d020832d588bc7.dl.dropboxusercontent.com/cd/0/inline/Bq7lxP6a1qGE4LATbODOQjd3twBLWHKWIrZEYOusQgIeTM44oSRdJNdBUfa2ddqPS6NXlkOyHZTFZibT1F9yJiua3iyrZfLc5vton2lFLFjulBvnvntLLD1OPLj1XTlcgxozU529heoz_CxMf3PNS1IHNf1LN74SCidh7UWBxCTzPA/file\n",
            "Resolving ucb966ad82df61d020832d588bc7.dl.dropboxusercontent.com (ucb966ad82df61d020832d588bc7.dl.dropboxusercontent.com)... 162.125.1.15, 2620:100:6016:15::a27d:10f\n",
            "Connecting to ucb966ad82df61d020832d588bc7.dl.dropboxusercontent.com (ucb966ad82df61d020832d588bc7.dl.dropboxusercontent.com)|162.125.1.15|:443... connected.\n",
            "HTTP request sent, awaiting response... 200 OK\n",
            "Length: 21973 (21K) [text/plain]\n",
            "Saving to: ‘data/eval.tsv?dl=0’\n",
            "\n",
            "eval.tsv?dl=0       100%[===================>]  21.46K  --.-KB/s    in 0.005s  \n",
            "\n",
            "2022-08-13 02:12:06 (3.90 MB/s) - ‘data/eval.tsv?dl=0’ saved [21973/21973]\n",
            "\n",
            "--2022-08-13 02:12:06--  https://www.dropbox.com/s/divi5qh1atzpu5p/spm.model?dl=0\n",
            "Resolving www.dropbox.com (www.dropbox.com)... 162.125.1.18, 2620:100:6016:18::a27d:112\n",
            "Connecting to www.dropbox.com (www.dropbox.com)|162.125.1.18|:443... connected.\n",
            "HTTP request sent, awaiting response... 301 Moved Permanently\n",
            "Location: /s/raw/divi5qh1atzpu5p/spm.model [following]\n",
            "--2022-08-13 02:12:06--  https://www.dropbox.com/s/raw/divi5qh1atzpu5p/spm.model\n",
            "Reusing existing connection to www.dropbox.com:443.\n",
            "HTTP request sent, awaiting response... 302 Found\n",
            "Location: https://uc9c8aa7378f539620357b5e761b.dl.dropboxusercontent.com/cd/0/inline/Bq7EUKQiIZFW6v3awSQTWbUG4vWkKzctku4lk2Uj_Poqto1XY9yvbunLn1cGg1DN2irVABuaUtFyGWK8aA8DqNAnhZvRWfatU-s33Oy7w8xBBpSxYrxUMSWwo6dvYpZi1GfKBKeKBazskyfdjLd0QPSA3Ht_8mJEKrw3dOcQ6B-Thw/file# [following]\n",
            "--2022-08-13 02:12:06--  https://uc9c8aa7378f539620357b5e761b.dl.dropboxusercontent.com/cd/0/inline/Bq7EUKQiIZFW6v3awSQTWbUG4vWkKzctku4lk2Uj_Poqto1XY9yvbunLn1cGg1DN2irVABuaUtFyGWK8aA8DqNAnhZvRWfatU-s33Oy7w8xBBpSxYrxUMSWwo6dvYpZi1GfKBKeKBazskyfdjLd0QPSA3Ht_8mJEKrw3dOcQ6B-Thw/file\n",
            "Resolving uc9c8aa7378f539620357b5e761b.dl.dropboxusercontent.com (uc9c8aa7378f539620357b5e761b.dl.dropboxusercontent.com)... 162.125.1.15, 2620:100:6016:15::a27d:10f\n",
            "Connecting to uc9c8aa7378f539620357b5e761b.dl.dropboxusercontent.com (uc9c8aa7378f539620357b5e761b.dl.dropboxusercontent.com)|162.125.1.15|:443... connected.\n",
            "HTTP request sent, awaiting response... 302 Found\n",
            "Location: /cd/0/inline2/Bq6qURN74C_L3L2SoAMmkjY_rPhWoeRhd7KllWT9twblcaSge2Y-jvptxQhwIF3Rvxwxj6L-cJZ6O5s1ewC-MYxkEzvriniVZUk__T3sVzHlXQf8eRZPtCx0Y_JQvlG4d8897VWTz5FOQhNYg5_iRMhwj4Ulg62h7MMvpjztCa8lBT2bnXdr5MJPH8Svu5WFxvghb0Xkxmz7QtZRSTgIP6W8goWzaNxN3i00zl9U3m5DcNQ1Y3WIZ53aZ_BJM8MfVrPXHhcNQGwOG7MjhWIGh0m4TK8QSi54myO_QfPSQv6GppxGieQTatyzeZ29EZWIiL_l4dm8B8aO5gT7MHCpLqF2N4_-gyebZsSfy-UeqLkec4rC0ZWCKKCnrifH1LrxlrD4uRiK8NQf0z32yToCnBwIDjdTchZWty1UgXt1PeFJzQ/file [following]\n",
            "--2022-08-13 02:12:07--  https://uc9c8aa7378f539620357b5e761b.dl.dropboxusercontent.com/cd/0/inline2/Bq6qURN74C_L3L2SoAMmkjY_rPhWoeRhd7KllWT9twblcaSge2Y-jvptxQhwIF3Rvxwxj6L-cJZ6O5s1ewC-MYxkEzvriniVZUk__T3sVzHlXQf8eRZPtCx0Y_JQvlG4d8897VWTz5FOQhNYg5_iRMhwj4Ulg62h7MMvpjztCa8lBT2bnXdr5MJPH8Svu5WFxvghb0Xkxmz7QtZRSTgIP6W8goWzaNxN3i00zl9U3m5DcNQ1Y3WIZ53aZ_BJM8MfVrPXHhcNQGwOG7MjhWIGh0m4TK8QSi54myO_QfPSQv6GppxGieQTatyzeZ29EZWIiL_l4dm8B8aO5gT7MHCpLqF2N4_-gyebZsSfy-UeqLkec4rC0ZWCKKCnrifH1LrxlrD4uRiK8NQf0z32yToCnBwIDjdTchZWty1UgXt1PeFJzQ/file\n",
            "Reusing existing connection to uc9c8aa7378f539620357b5e761b.dl.dropboxusercontent.com:443.\n",
            "HTTP request sent, awaiting response... 200 OK\n",
            "Length: 929451 (908K) [application/octet-stream]\n",
            "Saving to: ‘data/spm.model?dl=0’\n",
            "\n",
            "spm.model?dl=0      100%[===================>] 907.67K  --.-KB/s    in 0.04s   \n",
            "\n",
            "2022-08-13 02:12:07 (21.0 MB/s) - ‘data/spm.model?dl=0’ saved [929451/929451]\n",
            "\n",
            "--2022-08-13 02:12:07--  https://www.dropbox.com/s/k129w9ylkosrxnv/spm.vocab?dl=0\n",
            "Resolving www.dropbox.com (www.dropbox.com)... 162.125.1.18, 2620:100:6016:18::a27d:112\n",
            "Connecting to www.dropbox.com (www.dropbox.com)|162.125.1.18|:443... connected.\n",
            "HTTP request sent, awaiting response... 301 Moved Permanently\n",
            "Location: /s/raw/k129w9ylkosrxnv/spm.vocab [following]\n",
            "--2022-08-13 02:12:07--  https://www.dropbox.com/s/raw/k129w9ylkosrxnv/spm.vocab\n",
            "Reusing existing connection to www.dropbox.com:443.\n",
            "HTTP request sent, awaiting response... 302 Found\n",
            "Location: https://ucf8bb54c1b01ff90f7434c71428.dl.dropboxusercontent.com/cd/0/inline/Bq5DbIggQeyJCR2tf1hHPr7eyuwfMOOtN5tgMXrgbUTXdw7OPJivccgKd4h4hwnOlmjKiLYQmQp6w5K1SIht-BwBuZ7aH_4pkaEm3zONgLbPm7RADjcDqJaYtqslr-_idB3SWZGtYRRSx-aBJCbrmU_BPav1x1rgse_xiPRAt1Dtyg/file# [following]\n",
            "--2022-08-13 02:12:08--  https://ucf8bb54c1b01ff90f7434c71428.dl.dropboxusercontent.com/cd/0/inline/Bq5DbIggQeyJCR2tf1hHPr7eyuwfMOOtN5tgMXrgbUTXdw7OPJivccgKd4h4hwnOlmjKiLYQmQp6w5K1SIht-BwBuZ7aH_4pkaEm3zONgLbPm7RADjcDqJaYtqslr-_idB3SWZGtYRRSx-aBJCbrmU_BPav1x1rgse_xiPRAt1Dtyg/file\n",
            "Resolving ucf8bb54c1b01ff90f7434c71428.dl.dropboxusercontent.com (ucf8bb54c1b01ff90f7434c71428.dl.dropboxusercontent.com)... 162.125.1.15, 2620:100:6016:15::a27d:10f\n",
            "Connecting to ucf8bb54c1b01ff90f7434c71428.dl.dropboxusercontent.com (ucf8bb54c1b01ff90f7434c71428.dl.dropboxusercontent.com)|162.125.1.15|:443... connected.\n",
            "HTTP request sent, awaiting response... 200 OK\n",
            "Length: 720215 (703K) [text/plain]\n",
            "Saving to: ‘data/spm.vocab?dl=0’\n",
            "\n",
            "spm.vocab?dl=0      100%[===================>] 703.33K  --.-KB/s    in 0.03s   \n",
            "\n",
            "2022-08-13 02:12:08 (20.1 MB/s) - ‘data/spm.vocab?dl=0’ saved [720215/720215]\n",
            "\n"
          ]
        }
      ]
    },
    {
      "cell_type": "markdown",
      "source": [
        "### Prepare Dataset"
      ],
      "metadata": {
        "id": "I3WjjSdXppCf"
      }
    },
    {
      "cell_type": "code",
      "source": [
        "!unzip data/train.tsv.zip?dl=0 -d \"data\"\n",
        "!head -n 5 data/train.tsv\n",
        "!ls data\n",
        "\n"
      ],
      "metadata": {
        "colab": {
          "base_uri": "https://localhost:8080/"
        },
        "id": "JT1qPlBviQ4E",
        "outputId": "d7e7e4ee-d46a-46ea-fe70-143884cf39ac"
      },
      "execution_count": 3,
      "outputs": [
        {
          "output_type": "stream",
          "name": "stdout",
          "text": [
            "Archive:  data/train.tsv.zip?dl=0\n",
            "  inflating: data/train.tsv          \n",
            "\tprefix\tinput_text\ttarget_text\n",
            "0\ttranslate nepali to english\t'सिहर्स-अभिकर्ता' कार्यक्रम असफलतापूर्ण अन्त्य भयो ।\tThe 'seahorse-agent' program exited unsuccessfully.\n",
            "1\ttranslate english to nepali\tThe 'seahorse-agent' program exited unsuccessfully.\t'सिहर्स-अभिकर्ता' कार्यक्रम असफलतापूर्ण अन्त्य भयो ।\n",
            "2\ttranslate nepali to english\tअन्य कोठा\tOther Rooms\n",
            "3\ttranslate english to nepali\tOther Rooms\tअन्य कोठा\n",
            "'eval.tsv?dl=0'\t\t\t   'spm.model?dl=0'   train.tsv\n",
            " github-issues-transformers.jsonl  'spm.vocab?dl=0'  'train.tsv.zip?dl=0'\n"
          ]
        }
      ]
    },
    {
      "cell_type": "code",
      "source": [
        "from datasets import load_dataset\n",
        "nep_eng_ds = load_dataset(\"csv\", data_files=\"data/train.tsv\", sep=\"\\t\", names=[\"prefix\", \"input_text\", \"target_text\"])\n"
      ],
      "metadata": {
        "id": "GBwYnsRgi-fG",
        "colab": {
          "base_uri": "https://localhost:8080/",
          "height": 188,
          "referenced_widgets": [
            "3e5e54b20b5c4a66b2dcb6937f959139",
            "bb08d85df3b345daaa66ec4e52e5f626",
            "eb4e7dc0e8044fe5955f1e5366e58cff",
            "6911ec5d0b0b444796d486bb97500cf1",
            "829867ae85ec42bab331cf7c96924bd0",
            "2ea03cb2d44044459d3cf3925282fd5f",
            "286fd7a592cb4c36ba4cc80924da616e",
            "07eb646d69924157bc408b79ebe5376f",
            "240e66c7f26849f1a382240cc961ea3f",
            "f2aea927ddb9449e9412852b4eb02928",
            "1617c82cb7a44621826268c58b313f29",
            "3cd3ea38ef6f416da401c5cce2fb3dba",
            "e662091827e34ede904ebf35b711001d",
            "83a9976572914b23a87261df41d629d1",
            "25648f8f5722424e984045e6230eeb0d",
            "2a0c0463a925461e955fd74d6d896763",
            "b5141b82f1ba4503a246e3013e4776ee",
            "a412c14915a347e08a243f52f35e4e47",
            "ae8034a7800b442481bf8b15eb3b941c",
            "e07dac2c5c954b01972f0c0426de7454",
            "0acf466213524914b7c754f36786a950",
            "97dc5ebc5cc84da58e4068b28a66b6eb",
            "5fc06570cb694636a73c6467bee9b5c7",
            "d293cefd23da40c2b6a6b071bba0a911",
            "bee776d1cc7649438caa9fdac98fb007",
            "4ac882a8e2d64eca8d77a529f3aaf2e5",
            "4046355cd10540b7a99939e37d68e63c",
            "788b0ed043874abcbd5f92bdd7aed021",
            "8b3723a068794114b6fe30bf52f5f96a",
            "57fcdea5a4274d91bcc2b577d6d5c505",
            "2dc43708401f4f15a159f1560b2e97ac",
            "5ebf47562607487bb57399efeeb8cde4",
            "e049007afbce44699e2e4adadffb0f1f"
          ]
        },
        "outputId": "54f6f872-7208-487a-b7f8-d5ee27b596ac"
      },
      "execution_count": 4,
      "outputs": [
        {
          "output_type": "stream",
          "name": "stderr",
          "text": [
            "WARNING:datasets.builder:Using custom data configuration default-9597c4c534fbc676\n"
          ]
        },
        {
          "output_type": "stream",
          "name": "stdout",
          "text": [
            "Downloading and preparing dataset csv/default to /root/.cache/huggingface/datasets/csv/default-9597c4c534fbc676/0.0.0/bf68a4c4aefa545d0712b2fcbb1b327f905bbe2f6425fbc5e8c25234acb9e14a...\n"
          ]
        },
        {
          "output_type": "display_data",
          "data": {
            "text/plain": [
              "  0%|          | 0/1 [00:00<?, ?it/s]"
            ],
            "application/vnd.jupyter.widget-view+json": {
              "version_major": 2,
              "version_minor": 0,
              "model_id": "3e5e54b20b5c4a66b2dcb6937f959139"
            }
          },
          "metadata": {}
        },
        {
          "output_type": "display_data",
          "data": {
            "text/plain": [
              "  0%|          | 0/1 [00:00<?, ?it/s]"
            ],
            "application/vnd.jupyter.widget-view+json": {
              "version_major": 2,
              "version_minor": 0,
              "model_id": "3cd3ea38ef6f416da401c5cce2fb3dba"
            }
          },
          "metadata": {}
        },
        {
          "output_type": "stream",
          "name": "stdout",
          "text": [
            "Dataset csv downloaded and prepared to /root/.cache/huggingface/datasets/csv/default-9597c4c534fbc676/0.0.0/bf68a4c4aefa545d0712b2fcbb1b327f905bbe2f6425fbc5e8c25234acb9e14a. Subsequent calls will reuse this data.\n"
          ]
        },
        {
          "output_type": "display_data",
          "data": {
            "text/plain": [
              "  0%|          | 0/1 [00:00<?, ?it/s]"
            ],
            "application/vnd.jupyter.widget-view+json": {
              "version_major": 2,
              "version_minor": 0,
              "model_id": "5fc06570cb694636a73c6467bee9b5c7"
            }
          },
          "metadata": {}
        }
      ]
    },
    {
      "cell_type": "code",
      "source": [
        "nep_eng_ds[\"train\"][1]"
      ],
      "metadata": {
        "colab": {
          "base_uri": "https://localhost:8080/"
        },
        "id": "lCzoFAv7mKFj",
        "outputId": "c84ee95d-7c51-4e47-fa68-fdb67a688be9"
      },
      "execution_count": 5,
      "outputs": [
        {
          "output_type": "execute_result",
          "data": {
            "text/plain": [
              "{'__index_level_0__': 0.0,\n",
              " 'input_text': \"'सिहर्स-अभिकर्ता' कार्यक्रम असफलतापूर्ण अन्त्य भयो ।\",\n",
              " 'prefix': 'translate nepali to english',\n",
              " 'target_text': \"The 'seahorse-agent' program exited unsuccessfully.\"}"
            ]
          },
          "metadata": {},
          "execution_count": 5
        }
      ]
    },
    {
      "cell_type": "code",
      "source": [
        "print(nep_eng_ds.column_names)"
      ],
      "metadata": {
        "colab": {
          "base_uri": "https://localhost:8080/"
        },
        "id": "O7Ya7pBPmMWK",
        "outputId": "a1ee9614-e1b1-4e78-d8a7-f284d423f87f"
      },
      "execution_count": 6,
      "outputs": [
        {
          "output_type": "stream",
          "name": "stdout",
          "text": [
            "{'train': ['prefix', 'input_text', 'target_text', '__index_level_0__']}\n"
          ]
        }
      ]
    },
    {
      "cell_type": "markdown",
      "source": [
        "Convert dataset into Dataframe"
      ],
      "metadata": {
        "id": "YZZaathNKxPG"
      }
    },
    {
      "cell_type": "code",
      "source": [
        "import pandas as pd\n",
        "nep_eng_ds.set_format(type=\"pandas\")\n",
        "df = nep_eng_ds[\"train\"][1:]\n",
        "df.tail()"
      ],
      "metadata": {
        "colab": {
          "base_uri": "https://localhost:8080/",
          "height": 206
        },
        "id": "4KylAtaSKqrs",
        "outputId": "5e0f6b47-f399-4ac4-9660-c9b3afaec39c"
      },
      "execution_count": 5,
      "outputs": [
        {
          "output_type": "execute_result",
          "data": {
            "text/plain": [
              "                              prefix  \\\n",
              "6713985  translate english to nepali   \n",
              "6713986  translate nepali to english   \n",
              "6713987  translate english to nepali   \n",
              "6713988  translate nepali to english   \n",
              "6713989  translate english to nepali   \n",
              "\n",
              "                                                input_text  \\\n",
              "6713985  All three of these are laboured way past the p...   \n",
              "6713986  प्रभु येशू ख्रीष्टलाई हामीले प्रेम गर्नुका कार...   \n",
              "6713987  8 Our brothers around the globe persevere in o...   \n",
              "6713988  गुप्तिकरण गर्न असफल भयो: कुनै वैध प्रापक निर्द...   \n",
              "6713989  Can not encrypt this message: no recipients sp...   \n",
              "\n",
              "                                               target_text  __index_level_0__  \n",
              "6713985  उनका अनुसार दैनिक तीन(चारजनाको सफल शल्यक्रियास...          6713985.0  \n",
              "6713986  8 Our brothers around the globe persevere in o...          6713986.0  \n",
              "6713987  प्रभु येशू ख्रीष्टलाई हामीले प्रेम गर्नुका कार...          6713987.0  \n",
              "6713988  Can not encrypt this message: no recipients sp...          6713988.0  \n",
              "6713989  गुप्तिकरण गर्न असफल भयो: कुनै वैध प्रापक निर्द...          6713989.0  "
            ],
            "text/html": [
              "\n",
              "  <div id=\"df-f6555ad6-17e7-4001-99c3-047448231b99\">\n",
              "    <div class=\"colab-df-container\">\n",
              "      <div>\n",
              "<style scoped>\n",
              "    .dataframe tbody tr th:only-of-type {\n",
              "        vertical-align: middle;\n",
              "    }\n",
              "\n",
              "    .dataframe tbody tr th {\n",
              "        vertical-align: top;\n",
              "    }\n",
              "\n",
              "    .dataframe thead th {\n",
              "        text-align: right;\n",
              "    }\n",
              "</style>\n",
              "<table border=\"1\" class=\"dataframe\">\n",
              "  <thead>\n",
              "    <tr style=\"text-align: right;\">\n",
              "      <th></th>\n",
              "      <th>prefix</th>\n",
              "      <th>input_text</th>\n",
              "      <th>target_text</th>\n",
              "      <th>__index_level_0__</th>\n",
              "    </tr>\n",
              "  </thead>\n",
              "  <tbody>\n",
              "    <tr>\n",
              "      <th>6713985</th>\n",
              "      <td>translate english to nepali</td>\n",
              "      <td>All three of these are laboured way past the p...</td>\n",
              "      <td>उनका अनुसार दैनिक तीन(चारजनाको सफल शल्यक्रियास...</td>\n",
              "      <td>6713985.0</td>\n",
              "    </tr>\n",
              "    <tr>\n",
              "      <th>6713986</th>\n",
              "      <td>translate nepali to english</td>\n",
              "      <td>प्रभु येशू ख्रीष्टलाई हामीले प्रेम गर्नुका कार...</td>\n",
              "      <td>8 Our brothers around the globe persevere in o...</td>\n",
              "      <td>6713986.0</td>\n",
              "    </tr>\n",
              "    <tr>\n",
              "      <th>6713987</th>\n",
              "      <td>translate english to nepali</td>\n",
              "      <td>8 Our brothers around the globe persevere in o...</td>\n",
              "      <td>प्रभु येशू ख्रीष्टलाई हामीले प्रेम गर्नुका कार...</td>\n",
              "      <td>6713987.0</td>\n",
              "    </tr>\n",
              "    <tr>\n",
              "      <th>6713988</th>\n",
              "      <td>translate nepali to english</td>\n",
              "      <td>गुप्तिकरण गर्न असफल भयो: कुनै वैध प्रापक निर्द...</td>\n",
              "      <td>Can not encrypt this message: no recipients sp...</td>\n",
              "      <td>6713988.0</td>\n",
              "    </tr>\n",
              "    <tr>\n",
              "      <th>6713989</th>\n",
              "      <td>translate english to nepali</td>\n",
              "      <td>Can not encrypt this message: no recipients sp...</td>\n",
              "      <td>गुप्तिकरण गर्न असफल भयो: कुनै वैध प्रापक निर्द...</td>\n",
              "      <td>6713989.0</td>\n",
              "    </tr>\n",
              "  </tbody>\n",
              "</table>\n",
              "</div>\n",
              "      <button class=\"colab-df-convert\" onclick=\"convertToInteractive('df-f6555ad6-17e7-4001-99c3-047448231b99')\"\n",
              "              title=\"Convert this dataframe to an interactive table.\"\n",
              "              style=\"display:none;\">\n",
              "        \n",
              "  <svg xmlns=\"http://www.w3.org/2000/svg\" height=\"24px\"viewBox=\"0 0 24 24\"\n",
              "       width=\"24px\">\n",
              "    <path d=\"M0 0h24v24H0V0z\" fill=\"none\"/>\n",
              "    <path d=\"M18.56 5.44l.94 2.06.94-2.06 2.06-.94-2.06-.94-.94-2.06-.94 2.06-2.06.94zm-11 1L8.5 8.5l.94-2.06 2.06-.94-2.06-.94L8.5 2.5l-.94 2.06-2.06.94zm10 10l.94 2.06.94-2.06 2.06-.94-2.06-.94-.94-2.06-.94 2.06-2.06.94z\"/><path d=\"M17.41 7.96l-1.37-1.37c-.4-.4-.92-.59-1.43-.59-.52 0-1.04.2-1.43.59L10.3 9.45l-7.72 7.72c-.78.78-.78 2.05 0 2.83L4 21.41c.39.39.9.59 1.41.59.51 0 1.02-.2 1.41-.59l7.78-7.78 2.81-2.81c.8-.78.8-2.07 0-2.86zM5.41 20L4 18.59l7.72-7.72 1.47 1.35L5.41 20z\"/>\n",
              "  </svg>\n",
              "      </button>\n",
              "      \n",
              "  <style>\n",
              "    .colab-df-container {\n",
              "      display:flex;\n",
              "      flex-wrap:wrap;\n",
              "      gap: 12px;\n",
              "    }\n",
              "\n",
              "    .colab-df-convert {\n",
              "      background-color: #E8F0FE;\n",
              "      border: none;\n",
              "      border-radius: 50%;\n",
              "      cursor: pointer;\n",
              "      display: none;\n",
              "      fill: #1967D2;\n",
              "      height: 32px;\n",
              "      padding: 0 0 0 0;\n",
              "      width: 32px;\n",
              "    }\n",
              "\n",
              "    .colab-df-convert:hover {\n",
              "      background-color: #E2EBFA;\n",
              "      box-shadow: 0px 1px 2px rgba(60, 64, 67, 0.3), 0px 1px 3px 1px rgba(60, 64, 67, 0.15);\n",
              "      fill: #174EA6;\n",
              "    }\n",
              "\n",
              "    [theme=dark] .colab-df-convert {\n",
              "      background-color: #3B4455;\n",
              "      fill: #D2E3FC;\n",
              "    }\n",
              "\n",
              "    [theme=dark] .colab-df-convert:hover {\n",
              "      background-color: #434B5C;\n",
              "      box-shadow: 0px 1px 3px 1px rgba(0, 0, 0, 0.15);\n",
              "      filter: drop-shadow(0px 1px 2px rgba(0, 0, 0, 0.3));\n",
              "      fill: #FFFFFF;\n",
              "    }\n",
              "  </style>\n",
              "\n",
              "      <script>\n",
              "        const buttonEl =\n",
              "          document.querySelector('#df-f6555ad6-17e7-4001-99c3-047448231b99 button.colab-df-convert');\n",
              "        buttonEl.style.display =\n",
              "          google.colab.kernel.accessAllowed ? 'block' : 'none';\n",
              "\n",
              "        async function convertToInteractive(key) {\n",
              "          const element = document.querySelector('#df-f6555ad6-17e7-4001-99c3-047448231b99');\n",
              "          const dataTable =\n",
              "            await google.colab.kernel.invokeFunction('convertToInteractive',\n",
              "                                                     [key], {});\n",
              "          if (!dataTable) return;\n",
              "\n",
              "          const docLinkHtml = 'Like what you see? Visit the ' +\n",
              "            '<a target=\"_blank\" href=https://colab.research.google.com/notebooks/data_table.ipynb>data table notebook</a>'\n",
              "            + ' to learn more about interactive tables.';\n",
              "          element.innerHTML = '';\n",
              "          dataTable['output_type'] = 'display_data';\n",
              "          await google.colab.output.renderOutput(dataTable, element);\n",
              "          const docLink = document.createElement('div');\n",
              "          docLink.innerHTML = docLinkHtml;\n",
              "          element.appendChild(docLink);\n",
              "        }\n",
              "      </script>\n",
              "    </div>\n",
              "  </div>\n",
              "  "
            ]
          },
          "metadata": {},
          "execution_count": 5
        }
      ]
    },
    {
      "cell_type": "code",
      "source": [
        "df.shape"
      ],
      "metadata": {
        "colab": {
          "base_uri": "https://localhost:8080/"
        },
        "id": "9PnCqwrR_8uD",
        "outputId": "d32ee6e0-1336-467a-ff5d-01d99433275b"
      },
      "execution_count": 6,
      "outputs": [
        {
          "output_type": "execute_result",
          "data": {
            "text/plain": [
              "(6713990, 4)"
            ]
          },
          "metadata": {},
          "execution_count": 6
        }
      ]
    },
    {
      "cell_type": "markdown",
      "source": [
        "**Data Clean-up**"
      ],
      "metadata": {
        "id": "Xe6hUoSn_u7u"
      }
    },
    {
      "cell_type": "code",
      "source": [
        "# check for NaN and empty values in dataframe\n",
        "missing_cols, missing_rows = (\n",
        "    (df.isnull().sum(x) | df.eq('').sum(x))\n",
        "    .loc[lambda x: x.gt(0)].index\n",
        "    for x in (0, 1)\n",
        ")\n",
        "df.loc[missing_rows, missing_cols]"
      ],
      "metadata": {
        "colab": {
          "base_uri": "https://localhost:8080/",
          "height": 424
        },
        "id": "NEcJL0eV-U3x",
        "outputId": "b19d945a-d128-4d64-aefd-4c3ef2cd2c87"
      },
      "execution_count": 7,
      "outputs": [
        {
          "output_type": "execute_result",
          "data": {
            "text/plain": [
              "                                                input_text  \\\n",
              "3092                                                  None   \n",
              "3093     CLD2: problems with line The Prophet (sallalla...   \n",
              "32916                                                 None   \n",
              "32917    CLD2: problems with line  Excellent through v...   \n",
              "38222                                                 None   \n",
              "...                                                    ...   \n",
              "6683955  CLD2: problems with line  And turning, he reb...   \n",
              "6704310                                               None   \n",
              "6704311  CLD2: problems with line He said: It was just...   \n",
              "6708616                                               None   \n",
              "6708617  CLD2: problems with line Theirs will be the cu...   \n",
              "\n",
              "                                               target_text  \n",
              "3092     CLD2: problems with line The Prophet (sallalla...  \n",
              "3093                                                  None  \n",
              "32916    CLD2: problems with line  Excellent through v...  \n",
              "32917                                                 None  \n",
              "38222    CLD2: problems with line 3 And the sons of the...  \n",
              "...                                                    ...  \n",
              "6683955                                               None  \n",
              "6704310  CLD2: problems with line He said: It was just...  \n",
              "6704311                                               None  \n",
              "6708616  CLD2: problems with line Theirs will be the cu...  \n",
              "6708617                                               None  \n",
              "\n",
              "[1220 rows x 2 columns]"
            ],
            "text/html": [
              "\n",
              "  <div id=\"df-eb230bbe-1ec2-44a8-bd18-516641b423b6\">\n",
              "    <div class=\"colab-df-container\">\n",
              "      <div>\n",
              "<style scoped>\n",
              "    .dataframe tbody tr th:only-of-type {\n",
              "        vertical-align: middle;\n",
              "    }\n",
              "\n",
              "    .dataframe tbody tr th {\n",
              "        vertical-align: top;\n",
              "    }\n",
              "\n",
              "    .dataframe thead th {\n",
              "        text-align: right;\n",
              "    }\n",
              "</style>\n",
              "<table border=\"1\" class=\"dataframe\">\n",
              "  <thead>\n",
              "    <tr style=\"text-align: right;\">\n",
              "      <th></th>\n",
              "      <th>input_text</th>\n",
              "      <th>target_text</th>\n",
              "    </tr>\n",
              "  </thead>\n",
              "  <tbody>\n",
              "    <tr>\n",
              "      <th>3092</th>\n",
              "      <td>None</td>\n",
              "      <td>CLD2: problems with line The Prophet (sallalla...</td>\n",
              "    </tr>\n",
              "    <tr>\n",
              "      <th>3093</th>\n",
              "      <td>CLD2: problems with line The Prophet (sallalla...</td>\n",
              "      <td>None</td>\n",
              "    </tr>\n",
              "    <tr>\n",
              "      <th>32916</th>\n",
              "      <td>None</td>\n",
              "      <td>CLD2: problems with line  Excellent through v...</td>\n",
              "    </tr>\n",
              "    <tr>\n",
              "      <th>32917</th>\n",
              "      <td>CLD2: problems with line  Excellent through v...</td>\n",
              "      <td>None</td>\n",
              "    </tr>\n",
              "    <tr>\n",
              "      <th>38222</th>\n",
              "      <td>None</td>\n",
              "      <td>CLD2: problems with line 3 And the sons of the...</td>\n",
              "    </tr>\n",
              "    <tr>\n",
              "      <th>...</th>\n",
              "      <td>...</td>\n",
              "      <td>...</td>\n",
              "    </tr>\n",
              "    <tr>\n",
              "      <th>6683955</th>\n",
              "      <td>CLD2: problems with line  And turning, he reb...</td>\n",
              "      <td>None</td>\n",
              "    </tr>\n",
              "    <tr>\n",
              "      <th>6704310</th>\n",
              "      <td>None</td>\n",
              "      <td>CLD2: problems with line He said: It was just...</td>\n",
              "    </tr>\n",
              "    <tr>\n",
              "      <th>6704311</th>\n",
              "      <td>CLD2: problems with line He said: It was just...</td>\n",
              "      <td>None</td>\n",
              "    </tr>\n",
              "    <tr>\n",
              "      <th>6708616</th>\n",
              "      <td>None</td>\n",
              "      <td>CLD2: problems with line Theirs will be the cu...</td>\n",
              "    </tr>\n",
              "    <tr>\n",
              "      <th>6708617</th>\n",
              "      <td>CLD2: problems with line Theirs will be the cu...</td>\n",
              "      <td>None</td>\n",
              "    </tr>\n",
              "  </tbody>\n",
              "</table>\n",
              "<p>1220 rows × 2 columns</p>\n",
              "</div>\n",
              "      <button class=\"colab-df-convert\" onclick=\"convertToInteractive('df-eb230bbe-1ec2-44a8-bd18-516641b423b6')\"\n",
              "              title=\"Convert this dataframe to an interactive table.\"\n",
              "              style=\"display:none;\">\n",
              "        \n",
              "  <svg xmlns=\"http://www.w3.org/2000/svg\" height=\"24px\"viewBox=\"0 0 24 24\"\n",
              "       width=\"24px\">\n",
              "    <path d=\"M0 0h24v24H0V0z\" fill=\"none\"/>\n",
              "    <path d=\"M18.56 5.44l.94 2.06.94-2.06 2.06-.94-2.06-.94-.94-2.06-.94 2.06-2.06.94zm-11 1L8.5 8.5l.94-2.06 2.06-.94-2.06-.94L8.5 2.5l-.94 2.06-2.06.94zm10 10l.94 2.06.94-2.06 2.06-.94-2.06-.94-.94-2.06-.94 2.06-2.06.94z\"/><path d=\"M17.41 7.96l-1.37-1.37c-.4-.4-.92-.59-1.43-.59-.52 0-1.04.2-1.43.59L10.3 9.45l-7.72 7.72c-.78.78-.78 2.05 0 2.83L4 21.41c.39.39.9.59 1.41.59.51 0 1.02-.2 1.41-.59l7.78-7.78 2.81-2.81c.8-.78.8-2.07 0-2.86zM5.41 20L4 18.59l7.72-7.72 1.47 1.35L5.41 20z\"/>\n",
              "  </svg>\n",
              "      </button>\n",
              "      \n",
              "  <style>\n",
              "    .colab-df-container {\n",
              "      display:flex;\n",
              "      flex-wrap:wrap;\n",
              "      gap: 12px;\n",
              "    }\n",
              "\n",
              "    .colab-df-convert {\n",
              "      background-color: #E8F0FE;\n",
              "      border: none;\n",
              "      border-radius: 50%;\n",
              "      cursor: pointer;\n",
              "      display: none;\n",
              "      fill: #1967D2;\n",
              "      height: 32px;\n",
              "      padding: 0 0 0 0;\n",
              "      width: 32px;\n",
              "    }\n",
              "\n",
              "    .colab-df-convert:hover {\n",
              "      background-color: #E2EBFA;\n",
              "      box-shadow: 0px 1px 2px rgba(60, 64, 67, 0.3), 0px 1px 3px 1px rgba(60, 64, 67, 0.15);\n",
              "      fill: #174EA6;\n",
              "    }\n",
              "\n",
              "    [theme=dark] .colab-df-convert {\n",
              "      background-color: #3B4455;\n",
              "      fill: #D2E3FC;\n",
              "    }\n",
              "\n",
              "    [theme=dark] .colab-df-convert:hover {\n",
              "      background-color: #434B5C;\n",
              "      box-shadow: 0px 1px 3px 1px rgba(0, 0, 0, 0.15);\n",
              "      filter: drop-shadow(0px 1px 2px rgba(0, 0, 0, 0.3));\n",
              "      fill: #FFFFFF;\n",
              "    }\n",
              "  </style>\n",
              "\n",
              "      <script>\n",
              "        const buttonEl =\n",
              "          document.querySelector('#df-eb230bbe-1ec2-44a8-bd18-516641b423b6 button.colab-df-convert');\n",
              "        buttonEl.style.display =\n",
              "          google.colab.kernel.accessAllowed ? 'block' : 'none';\n",
              "\n",
              "        async function convertToInteractive(key) {\n",
              "          const element = document.querySelector('#df-eb230bbe-1ec2-44a8-bd18-516641b423b6');\n",
              "          const dataTable =\n",
              "            await google.colab.kernel.invokeFunction('convertToInteractive',\n",
              "                                                     [key], {});\n",
              "          if (!dataTable) return;\n",
              "\n",
              "          const docLinkHtml = 'Like what you see? Visit the ' +\n",
              "            '<a target=\"_blank\" href=https://colab.research.google.com/notebooks/data_table.ipynb>data table notebook</a>'\n",
              "            + ' to learn more about interactive tables.';\n",
              "          element.innerHTML = '';\n",
              "          dataTable['output_type'] = 'display_data';\n",
              "          await google.colab.output.renderOutput(dataTable, element);\n",
              "          const docLink = document.createElement('div');\n",
              "          docLink.innerHTML = docLinkHtml;\n",
              "          element.appendChild(docLink);\n",
              "        }\n",
              "      </script>\n",
              "    </div>\n",
              "  </div>\n",
              "  "
            ]
          },
          "metadata": {},
          "execution_count": 7
        }
      ]
    },
    {
      "cell_type": "code",
      "source": [
        "# remove the data with null or empty values\n",
        "df = df.dropna()\n",
        "print(df.shape)"
      ],
      "metadata": {
        "colab": {
          "base_uri": "https://localhost:8080/"
        },
        "id": "pmTBuRIKABZw",
        "outputId": "052a712f-d160-468a-843a-9b1af7a30a03"
      },
      "execution_count": 8,
      "outputs": [
        {
          "output_type": "stream",
          "name": "stdout",
          "text": [
            "(6712770, 4)\n"
          ]
        }
      ]
    },
    {
      "cell_type": "markdown",
      "source": [
        "Load T5 Tokenizer"
      ],
      "metadata": {
        "id": "1gWpZ2BeCwTY"
      }
    },
    {
      "cell_type": "code",
      "source": [
        "from transformers import T5Tokenizer\n",
        "spm_model_name=\"data/spm.model?dl=0\"\n",
        "tokenizer = T5Tokenizer(spm_model_name,\n",
        "                               do_lower_case=True, do_basic_tokenize=True, \n",
        "                               padding=True, bos_token=\"<s>\", \n",
        "                               eos_token=\"</s>\",unk_token=\"<unk>\", \n",
        "                               pad_token=\"<pad>\")\n",
        "\n",
        "# let's examine how the tokenizer works\n",
        "# text = \"Tokenizing text is a core task of NLP.\"\n",
        "text = \"काठमाडौं उपत्यकामा प्राकृतिक सुन्दरता\"\n",
        "encoded_text = tokenizer(text)\n",
        "print(encoded_text)\n",
        "\n"
      ],
      "metadata": {
        "colab": {
          "base_uri": "https://localhost:8080/"
        },
        "id": "gA0vPQRSDER_",
        "outputId": "9a97bd37-aea1-4d05-b301-992700bdb82b"
      },
      "execution_count": 10,
      "outputs": [
        {
          "output_type": "stream",
          "name": "stdout",
          "text": [
            "{'input_ids': [2821, 23448, 3169, 14296, 1], 'attention_mask': [1, 1, 1, 1, 1]}\n"
          ]
        }
      ]
    },
    {
      "cell_type": "code",
      "source": [
        "# # Tokenizer from pre-trained T5 model does not recognize nepali tokens at all\n",
        "# tokenizer = T5Tokenizer.from_pretrained(\"t5-base\")\n",
        "# text = \"काठमाडौं उपत्यकामा प्राकृतिक सुन्दरता\"\n",
        "# encoded_text = tokenizer(text)\n",
        "# print(encoded_text)"
      ],
      "metadata": {
        "id": "blY45uXxa_5r"
      },
      "execution_count": 16,
      "outputs": []
    },
    {
      "cell_type": "code",
      "source": [
        "# convert the token id back to token\n",
        "tokens = tokenizer.convert_ids_to_tokens(encoded_text.input_ids)\n",
        "print(tokens)\n",
        "print(tokenizer.convert_tokens_to_string(tokens))\n",
        "# Tokenizer class has some important attributes like\n",
        "# vocab size\n",
        "print(tokenizer.vocab_size)\n",
        "# max length based on model's context\n",
        "print(tokenizer.model_max_length)\n",
        "# tokenizer's field names\n",
        "print(tokenizer.model_input_names)\n",
        "# print special token ids\n",
        "print(f\"{tokenizer.eos_token}:{tokenizer.eos_token_id}\")\n",
        "print(f\"{tokenizer.bos_token}:{tokenizer.bos_token_id}\")\n",
        "print(f\"{tokenizer.unk_token}:{tokenizer.unk_token_id}\")\n",
        "print(f\"{tokenizer.pad_token}:{tokenizer.pad_token_id}\")"
      ],
      "metadata": {
        "colab": {
          "base_uri": "https://localhost:8080/"
        },
        "id": "UlhdA7IHGXGq",
        "outputId": "617b2ba0-896a-4c8f-ad05-214b6dec6db7"
      },
      "execution_count": 11,
      "outputs": [
        {
          "output_type": "stream",
          "name": "stdout",
          "text": [
            "['▁काठमाडौं', '▁उपत्यकामा', '▁प्राकृतिक', '▁सुन्दरता', '</s>']\n",
            "काठमाडौं उपत्यकामा प्राकृतिक सुन्दरता</s>\n",
            "32100\n",
            "1000000000000000019884624838656\n",
            "['input_ids', 'attention_mask']\n",
            "</s>:1\n",
            "<s>:2\n",
            "<unk>:2\n",
            "<pad>:0\n"
          ]
        }
      ]
    },
    {
      "cell_type": "markdown",
      "source": [
        "Prepare input dataset for the model"
      ],
      "metadata": {
        "id": "1vmKJHkhqnoE"
      }
    },
    {
      "cell_type": "code",
      "source": [
        "import torch\n",
        "from torch.utils.data import DataLoader, Dataset\n",
        "\n",
        "class LanguageDataset(Dataset):\n",
        "  def __init__(self,\n",
        "      data: pd.DataFrame = df,\n",
        "      tokenizer: T5Tokenizer = tokenizer,\n",
        "      input_max_len: int = 100,\n",
        "      target_max_len: int = 100\n",
        "  ):\n",
        "    self.data = data\n",
        "    self.tokenizer = tokenizer\n",
        "    self.input_max_len = input_max_len\n",
        "    self.target_max_len = target_max_len\n",
        "\n",
        "  def __len__(self):\n",
        "    return len(self.data)\n",
        "\n",
        "  def __getitem__(self, idx: int):\n",
        "    data_row = self.data.iloc[idx]\n",
        "    prefix_text = data_row[\"prefix\"]\n",
        "    input_text = data_row[\"input_text\"]\n",
        "    target_text = data_row[\"target_text\"]\n",
        "    # encode the input text\n",
        "    input_text_encoded = self.tokenizer(\n",
        "        prefix_text + \": \" + input_text,\n",
        "        max_length = self.input_max_len,\n",
        "        padding = 'max_length',\n",
        "        truncation = True,\n",
        "        return_attention_mask = True,\n",
        "        add_special_tokens = True,\n",
        "        return_tensors = 'pt'\n",
        "    )\n",
        "    # input_ids, attention_mask = input_text_encoded.input_ids, input_text_encoded.attention_mask\n",
        "\n",
        "    # encode the target text\n",
        "    target_text_encoded = self.tokenizer(\n",
        "        target_text,\n",
        "        max_length = self.target_max_len,\n",
        "        padding = 'max_length',\n",
        "        truncation = True,\n",
        "        add_special_tokens = True,\n",
        "        return_attention_mask = True,\n",
        "        return_tensors = 'pt'\n",
        "    )\n",
        "    # target_input_ids, target_attention_mask = target_text_encoded.input_ids, target_text_encoded.attention_mask\n",
        "\n",
        "    # set the padding token of target text to -100 \n",
        "    # such that it is ignored by the model during training\n",
        "    target_input_ids = target_text_encoded['input_ids']\n",
        "    target_input_ids[target_input_ids == self.tokenizer.pad_token_id] = -100\n",
        "\n",
        "    return dict(\n",
        "        input_ids = input_text_encoded['input_ids'].flatten(),\n",
        "        attention_mask = input_text_encoded['attention_mask'].flatten(),\n",
        "        labels = target_input_ids.flatten(),\n",
        "        decoder_attention_mask = target_text_encoded['attention_mask'].flatten()\n",
        "\n",
        "    )\n",
        "\n",
        "\n",
        "\n"
      ],
      "metadata": {
        "id": "bfNupXEyZ-by"
      },
      "execution_count": 12,
      "outputs": []
    },
    {
      "cell_type": "code",
      "source": [
        "# train test split\n",
        "from sklearn.model_selection import train_test_split\n",
        "df_train, df_eval = train_test_split(df, test_size=0.2)\n",
        "print(df_train.shape)\n",
        "print(df_eval.shape)\n",
        "dataset = LanguageDataset(df_train, tokenizer)\n",
        "dataloader = DataLoader(dataset, shuffle=True, batch_size=32)"
      ],
      "metadata": {
        "colab": {
          "base_uri": "https://localhost:8080/"
        },
        "id": "jWI9OJPfUjkq",
        "outputId": "89b644b8-5504-49d3-bb7b-6845700fa1cd"
      },
      "execution_count": 13,
      "outputs": [
        {
          "output_type": "stream",
          "name": "stdout",
          "text": [
            "(5370216, 4)\n",
            "(1342554, 4)\n"
          ]
        }
      ]
    },
    {
      "cell_type": "code",
      "source": [
        "print(dataset[0]['input_ids'])\n",
        "print(dataset[0]['attention_mask'])\n",
        "print(dataset[0]['labels'])\n",
        "print(dataset[0]['decoder_attention_mask'])\n"
      ],
      "metadata": {
        "colab": {
          "base_uri": "https://localhost:8080/"
        },
        "id": "5SgvDMs2VQai",
        "outputId": "f5511bc1-0924-42d6-c9e7-3987041bffe9"
      },
      "execution_count": 14,
      "outputs": [
        {
          "output_type": "stream",
          "name": "stdout",
          "text": [
            "tensor([15540,     7, 22593,     9,     7,  5990, 16745,    10,  1033,     1,\n",
            "            0,     0,     0,     0,     0,     0,     0,     0,     0,     0,\n",
            "            0,     0,     0,     0,     0,     0,     0,     0,     0,     0,\n",
            "            0,     0,     0,     0,     0,     0,     0,     0,     0,     0,\n",
            "            0,     0,     0,     0,     0,     0,     0,     0,     0,     0,\n",
            "            0,     0,     0,     0,     0,     0,     0,     0,     0,     0,\n",
            "            0,     0,     0,     0,     0,     0,     0,     0,     0,     0,\n",
            "            0,     0,     0,     0,     0,     0,     0,     0,     0,     0,\n",
            "            0,     0,     0,     0,     0,     0,     0,     0,     0,     0,\n",
            "            0,     0,     0,     0,     0,     0,     0,     0,     0,     0])\n",
            "tensor([1, 1, 1, 1, 1, 1, 1, 1, 1, 1, 0, 0, 0, 0, 0, 0, 0, 0, 0, 0, 0, 0, 0, 0,\n",
            "        0, 0, 0, 0, 0, 0, 0, 0, 0, 0, 0, 0, 0, 0, 0, 0, 0, 0, 0, 0, 0, 0, 0, 0,\n",
            "        0, 0, 0, 0, 0, 0, 0, 0, 0, 0, 0, 0, 0, 0, 0, 0, 0, 0, 0, 0, 0, 0, 0, 0,\n",
            "        0, 0, 0, 0, 0, 0, 0, 0, 0, 0, 0, 0, 0, 0, 0, 0, 0, 0, 0, 0, 0, 0, 0, 0,\n",
            "        0, 0, 0, 0])\n",
            "tensor([  35, 8816,    1, -100, -100, -100, -100, -100, -100, -100, -100, -100,\n",
            "        -100, -100, -100, -100, -100, -100, -100, -100, -100, -100, -100, -100,\n",
            "        -100, -100, -100, -100, -100, -100, -100, -100, -100, -100, -100, -100,\n",
            "        -100, -100, -100, -100, -100, -100, -100, -100, -100, -100, -100, -100,\n",
            "        -100, -100, -100, -100, -100, -100, -100, -100, -100, -100, -100, -100,\n",
            "        -100, -100, -100, -100, -100, -100, -100, -100, -100, -100, -100, -100,\n",
            "        -100, -100, -100, -100, -100, -100, -100, -100, -100, -100, -100, -100,\n",
            "        -100, -100, -100, -100, -100, -100, -100, -100, -100, -100, -100, -100,\n",
            "        -100, -100, -100, -100])\n",
            "tensor([1, 1, 1, 0, 0, 0, 0, 0, 0, 0, 0, 0, 0, 0, 0, 0, 0, 0, 0, 0, 0, 0, 0, 0,\n",
            "        0, 0, 0, 0, 0, 0, 0, 0, 0, 0, 0, 0, 0, 0, 0, 0, 0, 0, 0, 0, 0, 0, 0, 0,\n",
            "        0, 0, 0, 0, 0, 0, 0, 0, 0, 0, 0, 0, 0, 0, 0, 0, 0, 0, 0, 0, 0, 0, 0, 0,\n",
            "        0, 0, 0, 0, 0, 0, 0, 0, 0, 0, 0, 0, 0, 0, 0, 0, 0, 0, 0, 0, 0, 0, 0, 0,\n",
            "        0, 0, 0, 0])\n"
          ]
        }
      ]
    },
    {
      "cell_type": "code",
      "source": [
        "len(dataset)"
      ],
      "metadata": {
        "colab": {
          "base_uri": "https://localhost:8080/"
        },
        "id": "UH0xi4ulXJL3",
        "outputId": "96287050-36e5-420a-b84d-70315514a354"
      },
      "execution_count": 15,
      "outputs": [
        {
          "output_type": "execute_result",
          "data": {
            "text/plain": [
              "5370216"
            ]
          },
          "metadata": {},
          "execution_count": 15
        }
      ]
    },
    {
      "cell_type": "markdown",
      "source": [
        "### Training T5 Model from Scratch"
      ],
      "metadata": {
        "id": "QLpa_B1mf4ex"
      }
    },
    {
      "cell_type": "code",
      "source": [
        "from transformers import T5ForConditionalGeneration, T5Config\n",
        "import torch\n",
        "\n",
        "config = T5Config(\n",
        "    vocab_size = tokenizer.vocab_size,\n",
        "    pad_token_id = tokenizer.pad_token_id,\n",
        "    eos_token_id = tokenizer.eos_token_id,\n",
        "    decoder_start_token_id = tokenizer.pad_token_id,\n",
        "    d_model = 300\n",
        ")\n",
        "model = T5ForConditionalGeneration(config)\n",
        "\n",
        "# count the number of parameters of the given model\n",
        "def model_size(model):\n",
        "  return sum(t.numel() for t in model.parameters())\n",
        "\n",
        "print(f\"T5 size: {model_size(model)/1000**2:.1f}M parameters\")\n",
        "\n",
        "\n"
      ],
      "metadata": {
        "colab": {
          "base_uri": "https://localhost:8080/"
        },
        "id": "tdJjPPcygAw9",
        "outputId": "db9a4af7-76da-43fe-904d-793e2a04a10b"
      },
      "execution_count": 16,
      "outputs": [
        {
          "output_type": "stream",
          "name": "stdout",
          "text": [
            "T5 size: 35.4M parameters\n"
          ]
        }
      ]
    },
    {
      "cell_type": "code",
      "source": [
        "# Train the model\n",
        "\n",
        "from transformers import AdamW, get_scheduler\n",
        "from tqdm.auto import tqdm\n",
        "\n",
        "num_epochs = 5\n",
        "num_training_steps = num_epochs * len(dataloader)\n",
        "progress_bar = tqdm(range(num_training_steps))\n",
        "\n",
        "optimizer = AdamW(model.parameters())\n",
        "lr_scheduler = get_scheduler(\n",
        "    \"linear\",\n",
        "    optimizer = optimizer,\n",
        "    num_warmup_steps = 0,\n",
        "    num_training_steps = num_training_steps\n",
        ")\n",
        "\n",
        "device = torch.device(\"cuda\" if torch.cuda.is_available() else \"cpu\")\n",
        "model = model.to(device)\n",
        "\n",
        "model.train()\n",
        "for epoch in range(num_epochs):\n",
        "  for batch in dataloader:\n",
        "    batch = {k: v.to(device) for k, v in batch.items()}\n",
        "\n",
        "    outputs = model(**batch)\n",
        "    logits = outputs.logits\n",
        "\n",
        "    loss = outputs.loss\n",
        "    loss.backward()\n",
        "\n",
        "    optimizer.step()\n",
        "    lr_scheduler.step()\n",
        "\n",
        "    optimizer.zero_grad()\n",
        "    progress_bar.update()\n",
        "  \n",
        "  torch.save({\n",
        "      'epoch': epoch,\n",
        "      'model_state_dict': model.state_dict(),\n",
        "      'optimizer_state_dict': optimizer.state_dict(),\n",
        "      'loss': loss,     \n",
        "      }, f'data/t5_nep_to_eng.pth')\n",
        "  print(f\"epoch: {epoch + 1} -- loss: {loss}\")\n",
        "\n",
        "\n"
      ],
      "metadata": {
        "colab": {
          "base_uri": "https://localhost:8080/",
          "height": 49,
          "referenced_widgets": [
            "51a45284008d45429bbcd3447b0b6226",
            "801c7f2c9bdf4de7bb5b14038ed11da7",
            "6379beeed24f4dbe82beee7e39212c07",
            "e8178fe25d6d496b9cbbcaa6d714ccd4",
            "58d54966e10f49bc8002833ebcc2ecdb",
            "58d0ad6b226644fa9f18201ae2b69364",
            "f2ef9044f4c640738acc25d8769fc855",
            "2e47e94d986048cbbac9ade46be59834",
            "faa8b90f333f45f1b0fdc362f35d6c12",
            "539155601996416690e88a29f093f958",
            "73652098d93349f588d2ba5f6b776d2b"
          ]
        },
        "id": "tbFr8FN-muJK",
        "outputId": "823c0ecb-f819-429c-c78d-584373e468ef"
      },
      "execution_count": null,
      "outputs": [
        {
          "output_type": "display_data",
          "data": {
            "text/plain": [
              "  0%|          | 0/839100 [00:00<?, ?it/s]"
            ],
            "application/vnd.jupyter.widget-view+json": {
              "version_major": 2,
              "version_minor": 0,
              "model_id": "51a45284008d45429bbcd3447b0b6226"
            }
          },
          "metadata": {}
        }
      ]
    }
  ]
}