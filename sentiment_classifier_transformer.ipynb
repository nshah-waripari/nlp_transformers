{
  "nbformat": 4,
  "nbformat_minor": 0,
  "metadata": {
    "colab": {
      "name": "sentiment_classifier_transformer.ipynb",
      "provenance": [],
      "collapsed_sections": [],
      "authorship_tag": "ABX9TyOEyDRZiOkd9hAaiGEPQnXJ",
      "include_colab_link": true
    },
    "kernelspec": {
      "name": "python3",
      "display_name": "Python 3"
    },
    "language_info": {
      "name": "python"
    },
    "accelerator": "GPU",
    "gpuClass": "standard",
    "widgets": {
      "application/vnd.jupyter.widget-state+json": {
        "9b6609dc7e954e26a5142317604d55e4": {
          "model_module": "@jupyter-widgets/controls",
          "model_name": "HBoxModel",
          "model_module_version": "1.5.0",
          "state": {
            "_dom_classes": [],
            "_model_module": "@jupyter-widgets/controls",
            "_model_module_version": "1.5.0",
            "_model_name": "HBoxModel",
            "_view_count": null,
            "_view_module": "@jupyter-widgets/controls",
            "_view_module_version": "1.5.0",
            "_view_name": "HBoxView",
            "box_style": "",
            "children": [
              "IPY_MODEL_07f5f745aaa64dfeb1f09b2d8acd179f",
              "IPY_MODEL_eac6aba6b73b48448880f4ea3ac0bad7",
              "IPY_MODEL_826a0a51edf74b6aa04ddd91049ab0d3"
            ],
            "layout": "IPY_MODEL_22f01ae207a04b26a1fc6d980314aafd"
          }
        },
        "07f5f745aaa64dfeb1f09b2d8acd179f": {
          "model_module": "@jupyter-widgets/controls",
          "model_name": "HTMLModel",
          "model_module_version": "1.5.0",
          "state": {
            "_dom_classes": [],
            "_model_module": "@jupyter-widgets/controls",
            "_model_module_version": "1.5.0",
            "_model_name": "HTMLModel",
            "_view_count": null,
            "_view_module": "@jupyter-widgets/controls",
            "_view_module_version": "1.5.0",
            "_view_name": "HTMLView",
            "description": "",
            "description_tooltip": null,
            "layout": "IPY_MODEL_0da7a897455641f59d794fefd0ba850d",
            "placeholder": "​",
            "style": "IPY_MODEL_952646dc5fe44248b56d7b9761068379",
            "value": "Downloading: "
          }
        },
        "eac6aba6b73b48448880f4ea3ac0bad7": {
          "model_module": "@jupyter-widgets/controls",
          "model_name": "FloatProgressModel",
          "model_module_version": "1.5.0",
          "state": {
            "_dom_classes": [],
            "_model_module": "@jupyter-widgets/controls",
            "_model_module_version": "1.5.0",
            "_model_name": "FloatProgressModel",
            "_view_count": null,
            "_view_module": "@jupyter-widgets/controls",
            "_view_module_version": "1.5.0",
            "_view_name": "ProgressView",
            "bar_style": "success",
            "description": "",
            "description_tooltip": null,
            "layout": "IPY_MODEL_ca7ec31edc9d4129b58cc8bf24f67e4c",
            "max": 1655,
            "min": 0,
            "orientation": "horizontal",
            "style": "IPY_MODEL_1fd9c9d0373b48b3acae9d138b5cbdb2",
            "value": 1655
          }
        },
        "826a0a51edf74b6aa04ddd91049ab0d3": {
          "model_module": "@jupyter-widgets/controls",
          "model_name": "HTMLModel",
          "model_module_version": "1.5.0",
          "state": {
            "_dom_classes": [],
            "_model_module": "@jupyter-widgets/controls",
            "_model_module_version": "1.5.0",
            "_model_name": "HTMLModel",
            "_view_count": null,
            "_view_module": "@jupyter-widgets/controls",
            "_view_module_version": "1.5.0",
            "_view_name": "HTMLView",
            "description": "",
            "description_tooltip": null,
            "layout": "IPY_MODEL_ca7067e5dfbd43eb8ecf7c9b3442beb5",
            "placeholder": "​",
            "style": "IPY_MODEL_6f57afaf176e4fb1a26776f9ac77ffe1",
            "value": " 3.62k/? [00:00&lt;00:00, 97.9kB/s]"
          }
        },
        "22f01ae207a04b26a1fc6d980314aafd": {
          "model_module": "@jupyter-widgets/base",
          "model_name": "LayoutModel",
          "model_module_version": "1.2.0",
          "state": {
            "_model_module": "@jupyter-widgets/base",
            "_model_module_version": "1.2.0",
            "_model_name": "LayoutModel",
            "_view_count": null,
            "_view_module": "@jupyter-widgets/base",
            "_view_module_version": "1.2.0",
            "_view_name": "LayoutView",
            "align_content": null,
            "align_items": null,
            "align_self": null,
            "border": null,
            "bottom": null,
            "display": null,
            "flex": null,
            "flex_flow": null,
            "grid_area": null,
            "grid_auto_columns": null,
            "grid_auto_flow": null,
            "grid_auto_rows": null,
            "grid_column": null,
            "grid_gap": null,
            "grid_row": null,
            "grid_template_areas": null,
            "grid_template_columns": null,
            "grid_template_rows": null,
            "height": null,
            "justify_content": null,
            "justify_items": null,
            "left": null,
            "margin": null,
            "max_height": null,
            "max_width": null,
            "min_height": null,
            "min_width": null,
            "object_fit": null,
            "object_position": null,
            "order": null,
            "overflow": null,
            "overflow_x": null,
            "overflow_y": null,
            "padding": null,
            "right": null,
            "top": null,
            "visibility": null,
            "width": null
          }
        },
        "0da7a897455641f59d794fefd0ba850d": {
          "model_module": "@jupyter-widgets/base",
          "model_name": "LayoutModel",
          "model_module_version": "1.2.0",
          "state": {
            "_model_module": "@jupyter-widgets/base",
            "_model_module_version": "1.2.0",
            "_model_name": "LayoutModel",
            "_view_count": null,
            "_view_module": "@jupyter-widgets/base",
            "_view_module_version": "1.2.0",
            "_view_name": "LayoutView",
            "align_content": null,
            "align_items": null,
            "align_self": null,
            "border": null,
            "bottom": null,
            "display": null,
            "flex": null,
            "flex_flow": null,
            "grid_area": null,
            "grid_auto_columns": null,
            "grid_auto_flow": null,
            "grid_auto_rows": null,
            "grid_column": null,
            "grid_gap": null,
            "grid_row": null,
            "grid_template_areas": null,
            "grid_template_columns": null,
            "grid_template_rows": null,
            "height": null,
            "justify_content": null,
            "justify_items": null,
            "left": null,
            "margin": null,
            "max_height": null,
            "max_width": null,
            "min_height": null,
            "min_width": null,
            "object_fit": null,
            "object_position": null,
            "order": null,
            "overflow": null,
            "overflow_x": null,
            "overflow_y": null,
            "padding": null,
            "right": null,
            "top": null,
            "visibility": null,
            "width": null
          }
        },
        "952646dc5fe44248b56d7b9761068379": {
          "model_module": "@jupyter-widgets/controls",
          "model_name": "DescriptionStyleModel",
          "model_module_version": "1.5.0",
          "state": {
            "_model_module": "@jupyter-widgets/controls",
            "_model_module_version": "1.5.0",
            "_model_name": "DescriptionStyleModel",
            "_view_count": null,
            "_view_module": "@jupyter-widgets/base",
            "_view_module_version": "1.2.0",
            "_view_name": "StyleView",
            "description_width": ""
          }
        },
        "ca7ec31edc9d4129b58cc8bf24f67e4c": {
          "model_module": "@jupyter-widgets/base",
          "model_name": "LayoutModel",
          "model_module_version": "1.2.0",
          "state": {
            "_model_module": "@jupyter-widgets/base",
            "_model_module_version": "1.2.0",
            "_model_name": "LayoutModel",
            "_view_count": null,
            "_view_module": "@jupyter-widgets/base",
            "_view_module_version": "1.2.0",
            "_view_name": "LayoutView",
            "align_content": null,
            "align_items": null,
            "align_self": null,
            "border": null,
            "bottom": null,
            "display": null,
            "flex": null,
            "flex_flow": null,
            "grid_area": null,
            "grid_auto_columns": null,
            "grid_auto_flow": null,
            "grid_auto_rows": null,
            "grid_column": null,
            "grid_gap": null,
            "grid_row": null,
            "grid_template_areas": null,
            "grid_template_columns": null,
            "grid_template_rows": null,
            "height": null,
            "justify_content": null,
            "justify_items": null,
            "left": null,
            "margin": null,
            "max_height": null,
            "max_width": null,
            "min_height": null,
            "min_width": null,
            "object_fit": null,
            "object_position": null,
            "order": null,
            "overflow": null,
            "overflow_x": null,
            "overflow_y": null,
            "padding": null,
            "right": null,
            "top": null,
            "visibility": null,
            "width": null
          }
        },
        "1fd9c9d0373b48b3acae9d138b5cbdb2": {
          "model_module": "@jupyter-widgets/controls",
          "model_name": "ProgressStyleModel",
          "model_module_version": "1.5.0",
          "state": {
            "_model_module": "@jupyter-widgets/controls",
            "_model_module_version": "1.5.0",
            "_model_name": "ProgressStyleModel",
            "_view_count": null,
            "_view_module": "@jupyter-widgets/base",
            "_view_module_version": "1.2.0",
            "_view_name": "StyleView",
            "bar_color": null,
            "description_width": ""
          }
        },
        "ca7067e5dfbd43eb8ecf7c9b3442beb5": {
          "model_module": "@jupyter-widgets/base",
          "model_name": "LayoutModel",
          "model_module_version": "1.2.0",
          "state": {
            "_model_module": "@jupyter-widgets/base",
            "_model_module_version": "1.2.0",
            "_model_name": "LayoutModel",
            "_view_count": null,
            "_view_module": "@jupyter-widgets/base",
            "_view_module_version": "1.2.0",
            "_view_name": "LayoutView",
            "align_content": null,
            "align_items": null,
            "align_self": null,
            "border": null,
            "bottom": null,
            "display": null,
            "flex": null,
            "flex_flow": null,
            "grid_area": null,
            "grid_auto_columns": null,
            "grid_auto_flow": null,
            "grid_auto_rows": null,
            "grid_column": null,
            "grid_gap": null,
            "grid_row": null,
            "grid_template_areas": null,
            "grid_template_columns": null,
            "grid_template_rows": null,
            "height": null,
            "justify_content": null,
            "justify_items": null,
            "left": null,
            "margin": null,
            "max_height": null,
            "max_width": null,
            "min_height": null,
            "min_width": null,
            "object_fit": null,
            "object_position": null,
            "order": null,
            "overflow": null,
            "overflow_x": null,
            "overflow_y": null,
            "padding": null,
            "right": null,
            "top": null,
            "visibility": null,
            "width": null
          }
        },
        "6f57afaf176e4fb1a26776f9ac77ffe1": {
          "model_module": "@jupyter-widgets/controls",
          "model_name": "DescriptionStyleModel",
          "model_module_version": "1.5.0",
          "state": {
            "_model_module": "@jupyter-widgets/controls",
            "_model_module_version": "1.5.0",
            "_model_name": "DescriptionStyleModel",
            "_view_count": null,
            "_view_module": "@jupyter-widgets/base",
            "_view_module_version": "1.2.0",
            "_view_name": "StyleView",
            "description_width": ""
          }
        },
        "d47afaf6cb684e479b387107e3fe0ed4": {
          "model_module": "@jupyter-widgets/controls",
          "model_name": "HBoxModel",
          "model_module_version": "1.5.0",
          "state": {
            "_dom_classes": [],
            "_model_module": "@jupyter-widgets/controls",
            "_model_module_version": "1.5.0",
            "_model_name": "HBoxModel",
            "_view_count": null,
            "_view_module": "@jupyter-widgets/controls",
            "_view_module_version": "1.5.0",
            "_view_name": "HBoxView",
            "box_style": "",
            "children": [
              "IPY_MODEL_e2157e3eb88f45608d9b0625fabd187e",
              "IPY_MODEL_9061e9aba16d4d7281945239fd535630",
              "IPY_MODEL_875fed287f354a2881973c6b0bd2d741"
            ],
            "layout": "IPY_MODEL_f0d9c68520db424bb34eb5108690cc47"
          }
        },
        "e2157e3eb88f45608d9b0625fabd187e": {
          "model_module": "@jupyter-widgets/controls",
          "model_name": "HTMLModel",
          "model_module_version": "1.5.0",
          "state": {
            "_dom_classes": [],
            "_model_module": "@jupyter-widgets/controls",
            "_model_module_version": "1.5.0",
            "_model_name": "HTMLModel",
            "_view_count": null,
            "_view_module": "@jupyter-widgets/controls",
            "_view_module_version": "1.5.0",
            "_view_name": "HTMLView",
            "description": "",
            "description_tooltip": null,
            "layout": "IPY_MODEL_78c106af72d0448783d5c1f701a3466d",
            "placeholder": "​",
            "style": "IPY_MODEL_e205b52d9dc84fe3a09c2acc5f1276ea",
            "value": "Downloading: "
          }
        },
        "9061e9aba16d4d7281945239fd535630": {
          "model_module": "@jupyter-widgets/controls",
          "model_name": "FloatProgressModel",
          "model_module_version": "1.5.0",
          "state": {
            "_dom_classes": [],
            "_model_module": "@jupyter-widgets/controls",
            "_model_module_version": "1.5.0",
            "_model_name": "FloatProgressModel",
            "_view_count": null,
            "_view_module": "@jupyter-widgets/controls",
            "_view_module_version": "1.5.0",
            "_view_name": "ProgressView",
            "bar_style": "success",
            "description": "",
            "description_tooltip": null,
            "layout": "IPY_MODEL_700e3756ca88499498786f64951086f8",
            "max": 1611,
            "min": 0,
            "orientation": "horizontal",
            "style": "IPY_MODEL_dcbb38f8e3114dc6913337a62041bbe5",
            "value": 1611
          }
        },
        "875fed287f354a2881973c6b0bd2d741": {
          "model_module": "@jupyter-widgets/controls",
          "model_name": "HTMLModel",
          "model_module_version": "1.5.0",
          "state": {
            "_dom_classes": [],
            "_model_module": "@jupyter-widgets/controls",
            "_model_module_version": "1.5.0",
            "_model_name": "HTMLModel",
            "_view_count": null,
            "_view_module": "@jupyter-widgets/controls",
            "_view_module_version": "1.5.0",
            "_view_name": "HTMLView",
            "description": "",
            "description_tooltip": null,
            "layout": "IPY_MODEL_4dedd27605c94ecd8dfe1f91de0d8992",
            "placeholder": "​",
            "style": "IPY_MODEL_75684697b81a4b1eb9641246461d2115",
            "value": " 3.28k/? [00:00&lt;00:00, 79.8kB/s]"
          }
        },
        "f0d9c68520db424bb34eb5108690cc47": {
          "model_module": "@jupyter-widgets/base",
          "model_name": "LayoutModel",
          "model_module_version": "1.2.0",
          "state": {
            "_model_module": "@jupyter-widgets/base",
            "_model_module_version": "1.2.0",
            "_model_name": "LayoutModel",
            "_view_count": null,
            "_view_module": "@jupyter-widgets/base",
            "_view_module_version": "1.2.0",
            "_view_name": "LayoutView",
            "align_content": null,
            "align_items": null,
            "align_self": null,
            "border": null,
            "bottom": null,
            "display": null,
            "flex": null,
            "flex_flow": null,
            "grid_area": null,
            "grid_auto_columns": null,
            "grid_auto_flow": null,
            "grid_auto_rows": null,
            "grid_column": null,
            "grid_gap": null,
            "grid_row": null,
            "grid_template_areas": null,
            "grid_template_columns": null,
            "grid_template_rows": null,
            "height": null,
            "justify_content": null,
            "justify_items": null,
            "left": null,
            "margin": null,
            "max_height": null,
            "max_width": null,
            "min_height": null,
            "min_width": null,
            "object_fit": null,
            "object_position": null,
            "order": null,
            "overflow": null,
            "overflow_x": null,
            "overflow_y": null,
            "padding": null,
            "right": null,
            "top": null,
            "visibility": null,
            "width": null
          }
        },
        "78c106af72d0448783d5c1f701a3466d": {
          "model_module": "@jupyter-widgets/base",
          "model_name": "LayoutModel",
          "model_module_version": "1.2.0",
          "state": {
            "_model_module": "@jupyter-widgets/base",
            "_model_module_version": "1.2.0",
            "_model_name": "LayoutModel",
            "_view_count": null,
            "_view_module": "@jupyter-widgets/base",
            "_view_module_version": "1.2.0",
            "_view_name": "LayoutView",
            "align_content": null,
            "align_items": null,
            "align_self": null,
            "border": null,
            "bottom": null,
            "display": null,
            "flex": null,
            "flex_flow": null,
            "grid_area": null,
            "grid_auto_columns": null,
            "grid_auto_flow": null,
            "grid_auto_rows": null,
            "grid_column": null,
            "grid_gap": null,
            "grid_row": null,
            "grid_template_areas": null,
            "grid_template_columns": null,
            "grid_template_rows": null,
            "height": null,
            "justify_content": null,
            "justify_items": null,
            "left": null,
            "margin": null,
            "max_height": null,
            "max_width": null,
            "min_height": null,
            "min_width": null,
            "object_fit": null,
            "object_position": null,
            "order": null,
            "overflow": null,
            "overflow_x": null,
            "overflow_y": null,
            "padding": null,
            "right": null,
            "top": null,
            "visibility": null,
            "width": null
          }
        },
        "e205b52d9dc84fe3a09c2acc5f1276ea": {
          "model_module": "@jupyter-widgets/controls",
          "model_name": "DescriptionStyleModel",
          "model_module_version": "1.5.0",
          "state": {
            "_model_module": "@jupyter-widgets/controls",
            "_model_module_version": "1.5.0",
            "_model_name": "DescriptionStyleModel",
            "_view_count": null,
            "_view_module": "@jupyter-widgets/base",
            "_view_module_version": "1.2.0",
            "_view_name": "StyleView",
            "description_width": ""
          }
        },
        "700e3756ca88499498786f64951086f8": {
          "model_module": "@jupyter-widgets/base",
          "model_name": "LayoutModel",
          "model_module_version": "1.2.0",
          "state": {
            "_model_module": "@jupyter-widgets/base",
            "_model_module_version": "1.2.0",
            "_model_name": "LayoutModel",
            "_view_count": null,
            "_view_module": "@jupyter-widgets/base",
            "_view_module_version": "1.2.0",
            "_view_name": "LayoutView",
            "align_content": null,
            "align_items": null,
            "align_self": null,
            "border": null,
            "bottom": null,
            "display": null,
            "flex": null,
            "flex_flow": null,
            "grid_area": null,
            "grid_auto_columns": null,
            "grid_auto_flow": null,
            "grid_auto_rows": null,
            "grid_column": null,
            "grid_gap": null,
            "grid_row": null,
            "grid_template_areas": null,
            "grid_template_columns": null,
            "grid_template_rows": null,
            "height": null,
            "justify_content": null,
            "justify_items": null,
            "left": null,
            "margin": null,
            "max_height": null,
            "max_width": null,
            "min_height": null,
            "min_width": null,
            "object_fit": null,
            "object_position": null,
            "order": null,
            "overflow": null,
            "overflow_x": null,
            "overflow_y": null,
            "padding": null,
            "right": null,
            "top": null,
            "visibility": null,
            "width": null
          }
        },
        "dcbb38f8e3114dc6913337a62041bbe5": {
          "model_module": "@jupyter-widgets/controls",
          "model_name": "ProgressStyleModel",
          "model_module_version": "1.5.0",
          "state": {
            "_model_module": "@jupyter-widgets/controls",
            "_model_module_version": "1.5.0",
            "_model_name": "ProgressStyleModel",
            "_view_count": null,
            "_view_module": "@jupyter-widgets/base",
            "_view_module_version": "1.2.0",
            "_view_name": "StyleView",
            "bar_color": null,
            "description_width": ""
          }
        },
        "4dedd27605c94ecd8dfe1f91de0d8992": {
          "model_module": "@jupyter-widgets/base",
          "model_name": "LayoutModel",
          "model_module_version": "1.2.0",
          "state": {
            "_model_module": "@jupyter-widgets/base",
            "_model_module_version": "1.2.0",
            "_model_name": "LayoutModel",
            "_view_count": null,
            "_view_module": "@jupyter-widgets/base",
            "_view_module_version": "1.2.0",
            "_view_name": "LayoutView",
            "align_content": null,
            "align_items": null,
            "align_self": null,
            "border": null,
            "bottom": null,
            "display": null,
            "flex": null,
            "flex_flow": null,
            "grid_area": null,
            "grid_auto_columns": null,
            "grid_auto_flow": null,
            "grid_auto_rows": null,
            "grid_column": null,
            "grid_gap": null,
            "grid_row": null,
            "grid_template_areas": null,
            "grid_template_columns": null,
            "grid_template_rows": null,
            "height": null,
            "justify_content": null,
            "justify_items": null,
            "left": null,
            "margin": null,
            "max_height": null,
            "max_width": null,
            "min_height": null,
            "min_width": null,
            "object_fit": null,
            "object_position": null,
            "order": null,
            "overflow": null,
            "overflow_x": null,
            "overflow_y": null,
            "padding": null,
            "right": null,
            "top": null,
            "visibility": null,
            "width": null
          }
        },
        "75684697b81a4b1eb9641246461d2115": {
          "model_module": "@jupyter-widgets/controls",
          "model_name": "DescriptionStyleModel",
          "model_module_version": "1.5.0",
          "state": {
            "_model_module": "@jupyter-widgets/controls",
            "_model_module_version": "1.5.0",
            "_model_name": "DescriptionStyleModel",
            "_view_count": null,
            "_view_module": "@jupyter-widgets/base",
            "_view_module_version": "1.2.0",
            "_view_name": "StyleView",
            "description_width": ""
          }
        },
        "424a235d62dc4103b69fa754fa3c57e3": {
          "model_module": "@jupyter-widgets/controls",
          "model_name": "HBoxModel",
          "model_module_version": "1.5.0",
          "state": {
            "_dom_classes": [],
            "_model_module": "@jupyter-widgets/controls",
            "_model_module_version": "1.5.0",
            "_model_name": "HBoxModel",
            "_view_count": null,
            "_view_module": "@jupyter-widgets/controls",
            "_view_module_version": "1.5.0",
            "_view_name": "HBoxView",
            "box_style": "",
            "children": [
              "IPY_MODEL_d295b4d2f9c24788bc58855db003da8c",
              "IPY_MODEL_6b2d11e925cd4118bcd5029ecb0b79fb",
              "IPY_MODEL_2e70c25e3c4547d6ba09bb703f1694af"
            ],
            "layout": "IPY_MODEL_e3f08312897d4a54b40463dff4a6b09b"
          }
        },
        "d295b4d2f9c24788bc58855db003da8c": {
          "model_module": "@jupyter-widgets/controls",
          "model_name": "HTMLModel",
          "model_module_version": "1.5.0",
          "state": {
            "_dom_classes": [],
            "_model_module": "@jupyter-widgets/controls",
            "_model_module_version": "1.5.0",
            "_model_name": "HTMLModel",
            "_view_count": null,
            "_view_module": "@jupyter-widgets/controls",
            "_view_module_version": "1.5.0",
            "_view_name": "HTMLView",
            "description": "",
            "description_tooltip": null,
            "layout": "IPY_MODEL_a5fe1ac64b5a4f1faf7bbe222d5b9ae1",
            "placeholder": "​",
            "style": "IPY_MODEL_a438b601999043c3b611737686ad062f",
            "value": "Downloading: 100%"
          }
        },
        "6b2d11e925cd4118bcd5029ecb0b79fb": {
          "model_module": "@jupyter-widgets/controls",
          "model_name": "FloatProgressModel",
          "model_module_version": "1.5.0",
          "state": {
            "_dom_classes": [],
            "_model_module": "@jupyter-widgets/controls",
            "_model_module_version": "1.5.0",
            "_model_name": "FloatProgressModel",
            "_view_count": null,
            "_view_module": "@jupyter-widgets/controls",
            "_view_module_version": "1.5.0",
            "_view_name": "ProgressView",
            "bar_style": "success",
            "description": "",
            "description_tooltip": null,
            "layout": "IPY_MODEL_e650647e519b4dd9b3f7f6c0e2e1d423",
            "max": 1658616,
            "min": 0,
            "orientation": "horizontal",
            "style": "IPY_MODEL_b4033cf44dbb46ce9ef3a104926c6dc8",
            "value": 1658616
          }
        },
        "2e70c25e3c4547d6ba09bb703f1694af": {
          "model_module": "@jupyter-widgets/controls",
          "model_name": "HTMLModel",
          "model_module_version": "1.5.0",
          "state": {
            "_dom_classes": [],
            "_model_module": "@jupyter-widgets/controls",
            "_model_module_version": "1.5.0",
            "_model_name": "HTMLModel",
            "_view_count": null,
            "_view_module": "@jupyter-widgets/controls",
            "_view_module_version": "1.5.0",
            "_view_name": "HTMLView",
            "description": "",
            "description_tooltip": null,
            "layout": "IPY_MODEL_029fc2f7005945228e690bd0398e2949",
            "placeholder": "​",
            "style": "IPY_MODEL_22ead8a77c554ee0bea694729d2fc49f",
            "value": " 1.66M/1.66M [00:01&lt;00:00, 2.39MB/s]"
          }
        },
        "e3f08312897d4a54b40463dff4a6b09b": {
          "model_module": "@jupyter-widgets/base",
          "model_name": "LayoutModel",
          "model_module_version": "1.2.0",
          "state": {
            "_model_module": "@jupyter-widgets/base",
            "_model_module_version": "1.2.0",
            "_model_name": "LayoutModel",
            "_view_count": null,
            "_view_module": "@jupyter-widgets/base",
            "_view_module_version": "1.2.0",
            "_view_name": "LayoutView",
            "align_content": null,
            "align_items": null,
            "align_self": null,
            "border": null,
            "bottom": null,
            "display": null,
            "flex": null,
            "flex_flow": null,
            "grid_area": null,
            "grid_auto_columns": null,
            "grid_auto_flow": null,
            "grid_auto_rows": null,
            "grid_column": null,
            "grid_gap": null,
            "grid_row": null,
            "grid_template_areas": null,
            "grid_template_columns": null,
            "grid_template_rows": null,
            "height": null,
            "justify_content": null,
            "justify_items": null,
            "left": null,
            "margin": null,
            "max_height": null,
            "max_width": null,
            "min_height": null,
            "min_width": null,
            "object_fit": null,
            "object_position": null,
            "order": null,
            "overflow": null,
            "overflow_x": null,
            "overflow_y": null,
            "padding": null,
            "right": null,
            "top": null,
            "visibility": null,
            "width": null
          }
        },
        "a5fe1ac64b5a4f1faf7bbe222d5b9ae1": {
          "model_module": "@jupyter-widgets/base",
          "model_name": "LayoutModel",
          "model_module_version": "1.2.0",
          "state": {
            "_model_module": "@jupyter-widgets/base",
            "_model_module_version": "1.2.0",
            "_model_name": "LayoutModel",
            "_view_count": null,
            "_view_module": "@jupyter-widgets/base",
            "_view_module_version": "1.2.0",
            "_view_name": "LayoutView",
            "align_content": null,
            "align_items": null,
            "align_self": null,
            "border": null,
            "bottom": null,
            "display": null,
            "flex": null,
            "flex_flow": null,
            "grid_area": null,
            "grid_auto_columns": null,
            "grid_auto_flow": null,
            "grid_auto_rows": null,
            "grid_column": null,
            "grid_gap": null,
            "grid_row": null,
            "grid_template_areas": null,
            "grid_template_columns": null,
            "grid_template_rows": null,
            "height": null,
            "justify_content": null,
            "justify_items": null,
            "left": null,
            "margin": null,
            "max_height": null,
            "max_width": null,
            "min_height": null,
            "min_width": null,
            "object_fit": null,
            "object_position": null,
            "order": null,
            "overflow": null,
            "overflow_x": null,
            "overflow_y": null,
            "padding": null,
            "right": null,
            "top": null,
            "visibility": null,
            "width": null
          }
        },
        "a438b601999043c3b611737686ad062f": {
          "model_module": "@jupyter-widgets/controls",
          "model_name": "DescriptionStyleModel",
          "model_module_version": "1.5.0",
          "state": {
            "_model_module": "@jupyter-widgets/controls",
            "_model_module_version": "1.5.0",
            "_model_name": "DescriptionStyleModel",
            "_view_count": null,
            "_view_module": "@jupyter-widgets/base",
            "_view_module_version": "1.2.0",
            "_view_name": "StyleView",
            "description_width": ""
          }
        },
        "e650647e519b4dd9b3f7f6c0e2e1d423": {
          "model_module": "@jupyter-widgets/base",
          "model_name": "LayoutModel",
          "model_module_version": "1.2.0",
          "state": {
            "_model_module": "@jupyter-widgets/base",
            "_model_module_version": "1.2.0",
            "_model_name": "LayoutModel",
            "_view_count": null,
            "_view_module": "@jupyter-widgets/base",
            "_view_module_version": "1.2.0",
            "_view_name": "LayoutView",
            "align_content": null,
            "align_items": null,
            "align_self": null,
            "border": null,
            "bottom": null,
            "display": null,
            "flex": null,
            "flex_flow": null,
            "grid_area": null,
            "grid_auto_columns": null,
            "grid_auto_flow": null,
            "grid_auto_rows": null,
            "grid_column": null,
            "grid_gap": null,
            "grid_row": null,
            "grid_template_areas": null,
            "grid_template_columns": null,
            "grid_template_rows": null,
            "height": null,
            "justify_content": null,
            "justify_items": null,
            "left": null,
            "margin": null,
            "max_height": null,
            "max_width": null,
            "min_height": null,
            "min_width": null,
            "object_fit": null,
            "object_position": null,
            "order": null,
            "overflow": null,
            "overflow_x": null,
            "overflow_y": null,
            "padding": null,
            "right": null,
            "top": null,
            "visibility": null,
            "width": null
          }
        },
        "b4033cf44dbb46ce9ef3a104926c6dc8": {
          "model_module": "@jupyter-widgets/controls",
          "model_name": "ProgressStyleModel",
          "model_module_version": "1.5.0",
          "state": {
            "_model_module": "@jupyter-widgets/controls",
            "_model_module_version": "1.5.0",
            "_model_name": "ProgressStyleModel",
            "_view_count": null,
            "_view_module": "@jupyter-widgets/base",
            "_view_module_version": "1.2.0",
            "_view_name": "StyleView",
            "bar_color": null,
            "description_width": ""
          }
        },
        "029fc2f7005945228e690bd0398e2949": {
          "model_module": "@jupyter-widgets/base",
          "model_name": "LayoutModel",
          "model_module_version": "1.2.0",
          "state": {
            "_model_module": "@jupyter-widgets/base",
            "_model_module_version": "1.2.0",
            "_model_name": "LayoutModel",
            "_view_count": null,
            "_view_module": "@jupyter-widgets/base",
            "_view_module_version": "1.2.0",
            "_view_name": "LayoutView",
            "align_content": null,
            "align_items": null,
            "align_self": null,
            "border": null,
            "bottom": null,
            "display": null,
            "flex": null,
            "flex_flow": null,
            "grid_area": null,
            "grid_auto_columns": null,
            "grid_auto_flow": null,
            "grid_auto_rows": null,
            "grid_column": null,
            "grid_gap": null,
            "grid_row": null,
            "grid_template_areas": null,
            "grid_template_columns": null,
            "grid_template_rows": null,
            "height": null,
            "justify_content": null,
            "justify_items": null,
            "left": null,
            "margin": null,
            "max_height": null,
            "max_width": null,
            "min_height": null,
            "min_width": null,
            "object_fit": null,
            "object_position": null,
            "order": null,
            "overflow": null,
            "overflow_x": null,
            "overflow_y": null,
            "padding": null,
            "right": null,
            "top": null,
            "visibility": null,
            "width": null
          }
        },
        "22ead8a77c554ee0bea694729d2fc49f": {
          "model_module": "@jupyter-widgets/controls",
          "model_name": "DescriptionStyleModel",
          "model_module_version": "1.5.0",
          "state": {
            "_model_module": "@jupyter-widgets/controls",
            "_model_module_version": "1.5.0",
            "_model_name": "DescriptionStyleModel",
            "_view_count": null,
            "_view_module": "@jupyter-widgets/base",
            "_view_module_version": "1.2.0",
            "_view_name": "StyleView",
            "description_width": ""
          }
        },
        "5fe9043eb0434dada783e9a94728d505": {
          "model_module": "@jupyter-widgets/controls",
          "model_name": "HBoxModel",
          "model_module_version": "1.5.0",
          "state": {
            "_dom_classes": [],
            "_model_module": "@jupyter-widgets/controls",
            "_model_module_version": "1.5.0",
            "_model_name": "HBoxModel",
            "_view_count": null,
            "_view_module": "@jupyter-widgets/controls",
            "_view_module_version": "1.5.0",
            "_view_name": "HBoxView",
            "box_style": "",
            "children": [
              "IPY_MODEL_29f45815220c4c4299ea3078de401e26",
              "IPY_MODEL_6321c5f000b04b32be664b98ae6a6d75",
              "IPY_MODEL_3698be99990c4640b793e5af09f2f02a"
            ],
            "layout": "IPY_MODEL_280720ec70834bceb35e4e08bbfb0216"
          }
        },
        "29f45815220c4c4299ea3078de401e26": {
          "model_module": "@jupyter-widgets/controls",
          "model_name": "HTMLModel",
          "model_module_version": "1.5.0",
          "state": {
            "_dom_classes": [],
            "_model_module": "@jupyter-widgets/controls",
            "_model_module_version": "1.5.0",
            "_model_name": "HTMLModel",
            "_view_count": null,
            "_view_module": "@jupyter-widgets/controls",
            "_view_module_version": "1.5.0",
            "_view_name": "HTMLView",
            "description": "",
            "description_tooltip": null,
            "layout": "IPY_MODEL_8343625667cd471bba36099aff19f367",
            "placeholder": "​",
            "style": "IPY_MODEL_0719f3a4fc9547059ec25b19e2362473",
            "value": "Downloading: 100%"
          }
        },
        "6321c5f000b04b32be664b98ae6a6d75": {
          "model_module": "@jupyter-widgets/controls",
          "model_name": "FloatProgressModel",
          "model_module_version": "1.5.0",
          "state": {
            "_dom_classes": [],
            "_model_module": "@jupyter-widgets/controls",
            "_model_module_version": "1.5.0",
            "_model_name": "FloatProgressModel",
            "_view_count": null,
            "_view_module": "@jupyter-widgets/controls",
            "_view_module_version": "1.5.0",
            "_view_name": "ProgressView",
            "bar_style": "success",
            "description": "",
            "description_tooltip": null,
            "layout": "IPY_MODEL_539cb1d63216460a95b90fb5528177cd",
            "max": 204240,
            "min": 0,
            "orientation": "horizontal",
            "style": "IPY_MODEL_6578100fc3c3404b8c306abce143e754",
            "value": 204240
          }
        },
        "3698be99990c4640b793e5af09f2f02a": {
          "model_module": "@jupyter-widgets/controls",
          "model_name": "HTMLModel",
          "model_module_version": "1.5.0",
          "state": {
            "_dom_classes": [],
            "_model_module": "@jupyter-widgets/controls",
            "_model_module_version": "1.5.0",
            "_model_name": "HTMLModel",
            "_view_count": null,
            "_view_module": "@jupyter-widgets/controls",
            "_view_module_version": "1.5.0",
            "_view_name": "HTMLView",
            "description": "",
            "description_tooltip": null,
            "layout": "IPY_MODEL_e6098d0e92be46c0aa1e207d26e869b6",
            "placeholder": "​",
            "style": "IPY_MODEL_cc992b2bb8204727a8125462f41f2a66",
            "value": " 204k/204k [00:00&lt;00:00, 284kB/s]"
          }
        },
        "280720ec70834bceb35e4e08bbfb0216": {
          "model_module": "@jupyter-widgets/base",
          "model_name": "LayoutModel",
          "model_module_version": "1.2.0",
          "state": {
            "_model_module": "@jupyter-widgets/base",
            "_model_module_version": "1.2.0",
            "_model_name": "LayoutModel",
            "_view_count": null,
            "_view_module": "@jupyter-widgets/base",
            "_view_module_version": "1.2.0",
            "_view_name": "LayoutView",
            "align_content": null,
            "align_items": null,
            "align_self": null,
            "border": null,
            "bottom": null,
            "display": null,
            "flex": null,
            "flex_flow": null,
            "grid_area": null,
            "grid_auto_columns": null,
            "grid_auto_flow": null,
            "grid_auto_rows": null,
            "grid_column": null,
            "grid_gap": null,
            "grid_row": null,
            "grid_template_areas": null,
            "grid_template_columns": null,
            "grid_template_rows": null,
            "height": null,
            "justify_content": null,
            "justify_items": null,
            "left": null,
            "margin": null,
            "max_height": null,
            "max_width": null,
            "min_height": null,
            "min_width": null,
            "object_fit": null,
            "object_position": null,
            "order": null,
            "overflow": null,
            "overflow_x": null,
            "overflow_y": null,
            "padding": null,
            "right": null,
            "top": null,
            "visibility": null,
            "width": null
          }
        },
        "8343625667cd471bba36099aff19f367": {
          "model_module": "@jupyter-widgets/base",
          "model_name": "LayoutModel",
          "model_module_version": "1.2.0",
          "state": {
            "_model_module": "@jupyter-widgets/base",
            "_model_module_version": "1.2.0",
            "_model_name": "LayoutModel",
            "_view_count": null,
            "_view_module": "@jupyter-widgets/base",
            "_view_module_version": "1.2.0",
            "_view_name": "LayoutView",
            "align_content": null,
            "align_items": null,
            "align_self": null,
            "border": null,
            "bottom": null,
            "display": null,
            "flex": null,
            "flex_flow": null,
            "grid_area": null,
            "grid_auto_columns": null,
            "grid_auto_flow": null,
            "grid_auto_rows": null,
            "grid_column": null,
            "grid_gap": null,
            "grid_row": null,
            "grid_template_areas": null,
            "grid_template_columns": null,
            "grid_template_rows": null,
            "height": null,
            "justify_content": null,
            "justify_items": null,
            "left": null,
            "margin": null,
            "max_height": null,
            "max_width": null,
            "min_height": null,
            "min_width": null,
            "object_fit": null,
            "object_position": null,
            "order": null,
            "overflow": null,
            "overflow_x": null,
            "overflow_y": null,
            "padding": null,
            "right": null,
            "top": null,
            "visibility": null,
            "width": null
          }
        },
        "0719f3a4fc9547059ec25b19e2362473": {
          "model_module": "@jupyter-widgets/controls",
          "model_name": "DescriptionStyleModel",
          "model_module_version": "1.5.0",
          "state": {
            "_model_module": "@jupyter-widgets/controls",
            "_model_module_version": "1.5.0",
            "_model_name": "DescriptionStyleModel",
            "_view_count": null,
            "_view_module": "@jupyter-widgets/base",
            "_view_module_version": "1.2.0",
            "_view_name": "StyleView",
            "description_width": ""
          }
        },
        "539cb1d63216460a95b90fb5528177cd": {
          "model_module": "@jupyter-widgets/base",
          "model_name": "LayoutModel",
          "model_module_version": "1.2.0",
          "state": {
            "_model_module": "@jupyter-widgets/base",
            "_model_module_version": "1.2.0",
            "_model_name": "LayoutModel",
            "_view_count": null,
            "_view_module": "@jupyter-widgets/base",
            "_view_module_version": "1.2.0",
            "_view_name": "LayoutView",
            "align_content": null,
            "align_items": null,
            "align_self": null,
            "border": null,
            "bottom": null,
            "display": null,
            "flex": null,
            "flex_flow": null,
            "grid_area": null,
            "grid_auto_columns": null,
            "grid_auto_flow": null,
            "grid_auto_rows": null,
            "grid_column": null,
            "grid_gap": null,
            "grid_row": null,
            "grid_template_areas": null,
            "grid_template_columns": null,
            "grid_template_rows": null,
            "height": null,
            "justify_content": null,
            "justify_items": null,
            "left": null,
            "margin": null,
            "max_height": null,
            "max_width": null,
            "min_height": null,
            "min_width": null,
            "object_fit": null,
            "object_position": null,
            "order": null,
            "overflow": null,
            "overflow_x": null,
            "overflow_y": null,
            "padding": null,
            "right": null,
            "top": null,
            "visibility": null,
            "width": null
          }
        },
        "6578100fc3c3404b8c306abce143e754": {
          "model_module": "@jupyter-widgets/controls",
          "model_name": "ProgressStyleModel",
          "model_module_version": "1.5.0",
          "state": {
            "_model_module": "@jupyter-widgets/controls",
            "_model_module_version": "1.5.0",
            "_model_name": "ProgressStyleModel",
            "_view_count": null,
            "_view_module": "@jupyter-widgets/base",
            "_view_module_version": "1.2.0",
            "_view_name": "StyleView",
            "bar_color": null,
            "description_width": ""
          }
        },
        "e6098d0e92be46c0aa1e207d26e869b6": {
          "model_module": "@jupyter-widgets/base",
          "model_name": "LayoutModel",
          "model_module_version": "1.2.0",
          "state": {
            "_model_module": "@jupyter-widgets/base",
            "_model_module_version": "1.2.0",
            "_model_name": "LayoutModel",
            "_view_count": null,
            "_view_module": "@jupyter-widgets/base",
            "_view_module_version": "1.2.0",
            "_view_name": "LayoutView",
            "align_content": null,
            "align_items": null,
            "align_self": null,
            "border": null,
            "bottom": null,
            "display": null,
            "flex": null,
            "flex_flow": null,
            "grid_area": null,
            "grid_auto_columns": null,
            "grid_auto_flow": null,
            "grid_auto_rows": null,
            "grid_column": null,
            "grid_gap": null,
            "grid_row": null,
            "grid_template_areas": null,
            "grid_template_columns": null,
            "grid_template_rows": null,
            "height": null,
            "justify_content": null,
            "justify_items": null,
            "left": null,
            "margin": null,
            "max_height": null,
            "max_width": null,
            "min_height": null,
            "min_width": null,
            "object_fit": null,
            "object_position": null,
            "order": null,
            "overflow": null,
            "overflow_x": null,
            "overflow_y": null,
            "padding": null,
            "right": null,
            "top": null,
            "visibility": null,
            "width": null
          }
        },
        "cc992b2bb8204727a8125462f41f2a66": {
          "model_module": "@jupyter-widgets/controls",
          "model_name": "DescriptionStyleModel",
          "model_module_version": "1.5.0",
          "state": {
            "_model_module": "@jupyter-widgets/controls",
            "_model_module_version": "1.5.0",
            "_model_name": "DescriptionStyleModel",
            "_view_count": null,
            "_view_module": "@jupyter-widgets/base",
            "_view_module_version": "1.2.0",
            "_view_name": "StyleView",
            "description_width": ""
          }
        },
        "a6a463953fb34b31b23f587212e39439": {
          "model_module": "@jupyter-widgets/controls",
          "model_name": "HBoxModel",
          "model_module_version": "1.5.0",
          "state": {
            "_dom_classes": [],
            "_model_module": "@jupyter-widgets/controls",
            "_model_module_version": "1.5.0",
            "_model_name": "HBoxModel",
            "_view_count": null,
            "_view_module": "@jupyter-widgets/controls",
            "_view_module_version": "1.5.0",
            "_view_name": "HBoxView",
            "box_style": "",
            "children": [
              "IPY_MODEL_f2a8d5224842446797e55e4dd4eb82f3",
              "IPY_MODEL_9e10902780674d34a1d4fe9dc5f30a66",
              "IPY_MODEL_edb1648cebf64e0c83686e8eff103d9e"
            ],
            "layout": "IPY_MODEL_cdc30d9bba3e412096782862c3289ca0"
          }
        },
        "f2a8d5224842446797e55e4dd4eb82f3": {
          "model_module": "@jupyter-widgets/controls",
          "model_name": "HTMLModel",
          "model_module_version": "1.5.0",
          "state": {
            "_dom_classes": [],
            "_model_module": "@jupyter-widgets/controls",
            "_model_module_version": "1.5.0",
            "_model_name": "HTMLModel",
            "_view_count": null,
            "_view_module": "@jupyter-widgets/controls",
            "_view_module_version": "1.5.0",
            "_view_name": "HTMLView",
            "description": "",
            "description_tooltip": null,
            "layout": "IPY_MODEL_a76cfe1cb58d44d6a8a7f79996087bd3",
            "placeholder": "​",
            "style": "IPY_MODEL_62ca9e6fa0054d01ad4ad1352ee6a772",
            "value": "Downloading: 100%"
          }
        },
        "9e10902780674d34a1d4fe9dc5f30a66": {
          "model_module": "@jupyter-widgets/controls",
          "model_name": "FloatProgressModel",
          "model_module_version": "1.5.0",
          "state": {
            "_dom_classes": [],
            "_model_module": "@jupyter-widgets/controls",
            "_model_module_version": "1.5.0",
            "_model_name": "FloatProgressModel",
            "_view_count": null,
            "_view_module": "@jupyter-widgets/controls",
            "_view_module_version": "1.5.0",
            "_view_name": "ProgressView",
            "bar_style": "success",
            "description": "",
            "description_tooltip": null,
            "layout": "IPY_MODEL_b03f76a1bb6f4349b35268bc17da9bef",
            "max": 206760,
            "min": 0,
            "orientation": "horizontal",
            "style": "IPY_MODEL_fb0311e1b2154a5fbcf74820959c6b9f",
            "value": 206760
          }
        },
        "edb1648cebf64e0c83686e8eff103d9e": {
          "model_module": "@jupyter-widgets/controls",
          "model_name": "HTMLModel",
          "model_module_version": "1.5.0",
          "state": {
            "_dom_classes": [],
            "_model_module": "@jupyter-widgets/controls",
            "_model_module_version": "1.5.0",
            "_model_name": "HTMLModel",
            "_view_count": null,
            "_view_module": "@jupyter-widgets/controls",
            "_view_module_version": "1.5.0",
            "_view_name": "HTMLView",
            "description": "",
            "description_tooltip": null,
            "layout": "IPY_MODEL_d3703bb1c2cc4999b7361490f658e4bc",
            "placeholder": "​",
            "style": "IPY_MODEL_319f2ab605d44ae2b23060d2d89e5052",
            "value": " 207k/207k [00:00&lt;00:00, 675kB/s]"
          }
        },
        "cdc30d9bba3e412096782862c3289ca0": {
          "model_module": "@jupyter-widgets/base",
          "model_name": "LayoutModel",
          "model_module_version": "1.2.0",
          "state": {
            "_model_module": "@jupyter-widgets/base",
            "_model_module_version": "1.2.0",
            "_model_name": "LayoutModel",
            "_view_count": null,
            "_view_module": "@jupyter-widgets/base",
            "_view_module_version": "1.2.0",
            "_view_name": "LayoutView",
            "align_content": null,
            "align_items": null,
            "align_self": null,
            "border": null,
            "bottom": null,
            "display": null,
            "flex": null,
            "flex_flow": null,
            "grid_area": null,
            "grid_auto_columns": null,
            "grid_auto_flow": null,
            "grid_auto_rows": null,
            "grid_column": null,
            "grid_gap": null,
            "grid_row": null,
            "grid_template_areas": null,
            "grid_template_columns": null,
            "grid_template_rows": null,
            "height": null,
            "justify_content": null,
            "justify_items": null,
            "left": null,
            "margin": null,
            "max_height": null,
            "max_width": null,
            "min_height": null,
            "min_width": null,
            "object_fit": null,
            "object_position": null,
            "order": null,
            "overflow": null,
            "overflow_x": null,
            "overflow_y": null,
            "padding": null,
            "right": null,
            "top": null,
            "visibility": null,
            "width": null
          }
        },
        "a76cfe1cb58d44d6a8a7f79996087bd3": {
          "model_module": "@jupyter-widgets/base",
          "model_name": "LayoutModel",
          "model_module_version": "1.2.0",
          "state": {
            "_model_module": "@jupyter-widgets/base",
            "_model_module_version": "1.2.0",
            "_model_name": "LayoutModel",
            "_view_count": null,
            "_view_module": "@jupyter-widgets/base",
            "_view_module_version": "1.2.0",
            "_view_name": "LayoutView",
            "align_content": null,
            "align_items": null,
            "align_self": null,
            "border": null,
            "bottom": null,
            "display": null,
            "flex": null,
            "flex_flow": null,
            "grid_area": null,
            "grid_auto_columns": null,
            "grid_auto_flow": null,
            "grid_auto_rows": null,
            "grid_column": null,
            "grid_gap": null,
            "grid_row": null,
            "grid_template_areas": null,
            "grid_template_columns": null,
            "grid_template_rows": null,
            "height": null,
            "justify_content": null,
            "justify_items": null,
            "left": null,
            "margin": null,
            "max_height": null,
            "max_width": null,
            "min_height": null,
            "min_width": null,
            "object_fit": null,
            "object_position": null,
            "order": null,
            "overflow": null,
            "overflow_x": null,
            "overflow_y": null,
            "padding": null,
            "right": null,
            "top": null,
            "visibility": null,
            "width": null
          }
        },
        "62ca9e6fa0054d01ad4ad1352ee6a772": {
          "model_module": "@jupyter-widgets/controls",
          "model_name": "DescriptionStyleModel",
          "model_module_version": "1.5.0",
          "state": {
            "_model_module": "@jupyter-widgets/controls",
            "_model_module_version": "1.5.0",
            "_model_name": "DescriptionStyleModel",
            "_view_count": null,
            "_view_module": "@jupyter-widgets/base",
            "_view_module_version": "1.2.0",
            "_view_name": "StyleView",
            "description_width": ""
          }
        },
        "b03f76a1bb6f4349b35268bc17da9bef": {
          "model_module": "@jupyter-widgets/base",
          "model_name": "LayoutModel",
          "model_module_version": "1.2.0",
          "state": {
            "_model_module": "@jupyter-widgets/base",
            "_model_module_version": "1.2.0",
            "_model_name": "LayoutModel",
            "_view_count": null,
            "_view_module": "@jupyter-widgets/base",
            "_view_module_version": "1.2.0",
            "_view_name": "LayoutView",
            "align_content": null,
            "align_items": null,
            "align_self": null,
            "border": null,
            "bottom": null,
            "display": null,
            "flex": null,
            "flex_flow": null,
            "grid_area": null,
            "grid_auto_columns": null,
            "grid_auto_flow": null,
            "grid_auto_rows": null,
            "grid_column": null,
            "grid_gap": null,
            "grid_row": null,
            "grid_template_areas": null,
            "grid_template_columns": null,
            "grid_template_rows": null,
            "height": null,
            "justify_content": null,
            "justify_items": null,
            "left": null,
            "margin": null,
            "max_height": null,
            "max_width": null,
            "min_height": null,
            "min_width": null,
            "object_fit": null,
            "object_position": null,
            "order": null,
            "overflow": null,
            "overflow_x": null,
            "overflow_y": null,
            "padding": null,
            "right": null,
            "top": null,
            "visibility": null,
            "width": null
          }
        },
        "fb0311e1b2154a5fbcf74820959c6b9f": {
          "model_module": "@jupyter-widgets/controls",
          "model_name": "ProgressStyleModel",
          "model_module_version": "1.5.0",
          "state": {
            "_model_module": "@jupyter-widgets/controls",
            "_model_module_version": "1.5.0",
            "_model_name": "ProgressStyleModel",
            "_view_count": null,
            "_view_module": "@jupyter-widgets/base",
            "_view_module_version": "1.2.0",
            "_view_name": "StyleView",
            "bar_color": null,
            "description_width": ""
          }
        },
        "d3703bb1c2cc4999b7361490f658e4bc": {
          "model_module": "@jupyter-widgets/base",
          "model_name": "LayoutModel",
          "model_module_version": "1.2.0",
          "state": {
            "_model_module": "@jupyter-widgets/base",
            "_model_module_version": "1.2.0",
            "_model_name": "LayoutModel",
            "_view_count": null,
            "_view_module": "@jupyter-widgets/base",
            "_view_module_version": "1.2.0",
            "_view_name": "LayoutView",
            "align_content": null,
            "align_items": null,
            "align_self": null,
            "border": null,
            "bottom": null,
            "display": null,
            "flex": null,
            "flex_flow": null,
            "grid_area": null,
            "grid_auto_columns": null,
            "grid_auto_flow": null,
            "grid_auto_rows": null,
            "grid_column": null,
            "grid_gap": null,
            "grid_row": null,
            "grid_template_areas": null,
            "grid_template_columns": null,
            "grid_template_rows": null,
            "height": null,
            "justify_content": null,
            "justify_items": null,
            "left": null,
            "margin": null,
            "max_height": null,
            "max_width": null,
            "min_height": null,
            "min_width": null,
            "object_fit": null,
            "object_position": null,
            "order": null,
            "overflow": null,
            "overflow_x": null,
            "overflow_y": null,
            "padding": null,
            "right": null,
            "top": null,
            "visibility": null,
            "width": null
          }
        },
        "319f2ab605d44ae2b23060d2d89e5052": {
          "model_module": "@jupyter-widgets/controls",
          "model_name": "DescriptionStyleModel",
          "model_module_version": "1.5.0",
          "state": {
            "_model_module": "@jupyter-widgets/controls",
            "_model_module_version": "1.5.0",
            "_model_name": "DescriptionStyleModel",
            "_view_count": null,
            "_view_module": "@jupyter-widgets/base",
            "_view_module_version": "1.2.0",
            "_view_name": "StyleView",
            "description_width": ""
          }
        },
        "6f44addcc2e44e1eba8ef6e930ab901e": {
          "model_module": "@jupyter-widgets/controls",
          "model_name": "HBoxModel",
          "model_module_version": "1.5.0",
          "state": {
            "_dom_classes": [],
            "_model_module": "@jupyter-widgets/controls",
            "_model_module_version": "1.5.0",
            "_model_name": "HBoxModel",
            "_view_count": null,
            "_view_module": "@jupyter-widgets/controls",
            "_view_module_version": "1.5.0",
            "_view_name": "HBoxView",
            "box_style": "",
            "children": [
              "IPY_MODEL_f226e0d1c9bf4c32b3a43c39dbcb7df7",
              "IPY_MODEL_0a4c32ee1de5452eb23e967dec70601f",
              "IPY_MODEL_6428952b6f3f4d7fb6a42828f8b2c059"
            ],
            "layout": "IPY_MODEL_dc3dcffbb6e14ad6be7e6b78511b3aa4"
          }
        },
        "f226e0d1c9bf4c32b3a43c39dbcb7df7": {
          "model_module": "@jupyter-widgets/controls",
          "model_name": "HTMLModel",
          "model_module_version": "1.5.0",
          "state": {
            "_dom_classes": [],
            "_model_module": "@jupyter-widgets/controls",
            "_model_module_version": "1.5.0",
            "_model_name": "HTMLModel",
            "_view_count": null,
            "_view_module": "@jupyter-widgets/controls",
            "_view_module_version": "1.5.0",
            "_view_name": "HTMLView",
            "description": "",
            "description_tooltip": null,
            "layout": "IPY_MODEL_8487e595300e4618b709ec85b888b0e3",
            "placeholder": "​",
            "style": "IPY_MODEL_05db115cdc58444696d81c71a494a296",
            "value": ""
          }
        },
        "0a4c32ee1de5452eb23e967dec70601f": {
          "model_module": "@jupyter-widgets/controls",
          "model_name": "FloatProgressModel",
          "model_module_version": "1.5.0",
          "state": {
            "_dom_classes": [],
            "_model_module": "@jupyter-widgets/controls",
            "_model_module_version": "1.5.0",
            "_model_name": "FloatProgressModel",
            "_view_count": null,
            "_view_module": "@jupyter-widgets/controls",
            "_view_module_version": "1.5.0",
            "_view_name": "ProgressView",
            "bar_style": "info",
            "description": "",
            "description_tooltip": null,
            "layout": "IPY_MODEL_bcb5b5d0ee8a4d18a60449d25f427c91",
            "max": 1,
            "min": 0,
            "orientation": "horizontal",
            "style": "IPY_MODEL_1de2edb8cc3f4e8cb80178fa8738a3e4",
            "value": 1
          }
        },
        "6428952b6f3f4d7fb6a42828f8b2c059": {
          "model_module": "@jupyter-widgets/controls",
          "model_name": "HTMLModel",
          "model_module_version": "1.5.0",
          "state": {
            "_dom_classes": [],
            "_model_module": "@jupyter-widgets/controls",
            "_model_module_version": "1.5.0",
            "_model_name": "HTMLModel",
            "_view_count": null,
            "_view_module": "@jupyter-widgets/controls",
            "_view_module_version": "1.5.0",
            "_view_name": "HTMLView",
            "description": "",
            "description_tooltip": null,
            "layout": "IPY_MODEL_08493b20fdd745b98a0d3e42e6a4ef9b",
            "placeholder": "​",
            "style": "IPY_MODEL_69df1d715d0c484299d2b6d3be16d174",
            "value": " 15133/0 [00:00&lt;00:00, 40077.87 examples/s]"
          }
        },
        "dc3dcffbb6e14ad6be7e6b78511b3aa4": {
          "model_module": "@jupyter-widgets/base",
          "model_name": "LayoutModel",
          "model_module_version": "1.2.0",
          "state": {
            "_model_module": "@jupyter-widgets/base",
            "_model_module_version": "1.2.0",
            "_model_name": "LayoutModel",
            "_view_count": null,
            "_view_module": "@jupyter-widgets/base",
            "_view_module_version": "1.2.0",
            "_view_name": "LayoutView",
            "align_content": null,
            "align_items": null,
            "align_self": null,
            "border": null,
            "bottom": null,
            "display": null,
            "flex": null,
            "flex_flow": null,
            "grid_area": null,
            "grid_auto_columns": null,
            "grid_auto_flow": null,
            "grid_auto_rows": null,
            "grid_column": null,
            "grid_gap": null,
            "grid_row": null,
            "grid_template_areas": null,
            "grid_template_columns": null,
            "grid_template_rows": null,
            "height": null,
            "justify_content": null,
            "justify_items": null,
            "left": null,
            "margin": null,
            "max_height": null,
            "max_width": null,
            "min_height": null,
            "min_width": null,
            "object_fit": null,
            "object_position": null,
            "order": null,
            "overflow": null,
            "overflow_x": null,
            "overflow_y": null,
            "padding": null,
            "right": null,
            "top": null,
            "visibility": null,
            "width": null
          }
        },
        "8487e595300e4618b709ec85b888b0e3": {
          "model_module": "@jupyter-widgets/base",
          "model_name": "LayoutModel",
          "model_module_version": "1.2.0",
          "state": {
            "_model_module": "@jupyter-widgets/base",
            "_model_module_version": "1.2.0",
            "_model_name": "LayoutModel",
            "_view_count": null,
            "_view_module": "@jupyter-widgets/base",
            "_view_module_version": "1.2.0",
            "_view_name": "LayoutView",
            "align_content": null,
            "align_items": null,
            "align_self": null,
            "border": null,
            "bottom": null,
            "display": null,
            "flex": null,
            "flex_flow": null,
            "grid_area": null,
            "grid_auto_columns": null,
            "grid_auto_flow": null,
            "grid_auto_rows": null,
            "grid_column": null,
            "grid_gap": null,
            "grid_row": null,
            "grid_template_areas": null,
            "grid_template_columns": null,
            "grid_template_rows": null,
            "height": null,
            "justify_content": null,
            "justify_items": null,
            "left": null,
            "margin": null,
            "max_height": null,
            "max_width": null,
            "min_height": null,
            "min_width": null,
            "object_fit": null,
            "object_position": null,
            "order": null,
            "overflow": null,
            "overflow_x": null,
            "overflow_y": null,
            "padding": null,
            "right": null,
            "top": null,
            "visibility": null,
            "width": null
          }
        },
        "05db115cdc58444696d81c71a494a296": {
          "model_module": "@jupyter-widgets/controls",
          "model_name": "DescriptionStyleModel",
          "model_module_version": "1.5.0",
          "state": {
            "_model_module": "@jupyter-widgets/controls",
            "_model_module_version": "1.5.0",
            "_model_name": "DescriptionStyleModel",
            "_view_count": null,
            "_view_module": "@jupyter-widgets/base",
            "_view_module_version": "1.2.0",
            "_view_name": "StyleView",
            "description_width": ""
          }
        },
        "bcb5b5d0ee8a4d18a60449d25f427c91": {
          "model_module": "@jupyter-widgets/base",
          "model_name": "LayoutModel",
          "model_module_version": "1.2.0",
          "state": {
            "_model_module": "@jupyter-widgets/base",
            "_model_module_version": "1.2.0",
            "_model_name": "LayoutModel",
            "_view_count": null,
            "_view_module": "@jupyter-widgets/base",
            "_view_module_version": "1.2.0",
            "_view_name": "LayoutView",
            "align_content": null,
            "align_items": null,
            "align_self": null,
            "border": null,
            "bottom": null,
            "display": null,
            "flex": null,
            "flex_flow": null,
            "grid_area": null,
            "grid_auto_columns": null,
            "grid_auto_flow": null,
            "grid_auto_rows": null,
            "grid_column": null,
            "grid_gap": null,
            "grid_row": null,
            "grid_template_areas": null,
            "grid_template_columns": null,
            "grid_template_rows": null,
            "height": null,
            "justify_content": null,
            "justify_items": null,
            "left": null,
            "margin": null,
            "max_height": null,
            "max_width": null,
            "min_height": null,
            "min_width": null,
            "object_fit": null,
            "object_position": null,
            "order": null,
            "overflow": null,
            "overflow_x": null,
            "overflow_y": null,
            "padding": null,
            "right": null,
            "top": null,
            "visibility": null,
            "width": "20px"
          }
        },
        "1de2edb8cc3f4e8cb80178fa8738a3e4": {
          "model_module": "@jupyter-widgets/controls",
          "model_name": "ProgressStyleModel",
          "model_module_version": "1.5.0",
          "state": {
            "_model_module": "@jupyter-widgets/controls",
            "_model_module_version": "1.5.0",
            "_model_name": "ProgressStyleModel",
            "_view_count": null,
            "_view_module": "@jupyter-widgets/base",
            "_view_module_version": "1.2.0",
            "_view_name": "StyleView",
            "bar_color": null,
            "description_width": ""
          }
        },
        "08493b20fdd745b98a0d3e42e6a4ef9b": {
          "model_module": "@jupyter-widgets/base",
          "model_name": "LayoutModel",
          "model_module_version": "1.2.0",
          "state": {
            "_model_module": "@jupyter-widgets/base",
            "_model_module_version": "1.2.0",
            "_model_name": "LayoutModel",
            "_view_count": null,
            "_view_module": "@jupyter-widgets/base",
            "_view_module_version": "1.2.0",
            "_view_name": "LayoutView",
            "align_content": null,
            "align_items": null,
            "align_self": null,
            "border": null,
            "bottom": null,
            "display": null,
            "flex": null,
            "flex_flow": null,
            "grid_area": null,
            "grid_auto_columns": null,
            "grid_auto_flow": null,
            "grid_auto_rows": null,
            "grid_column": null,
            "grid_gap": null,
            "grid_row": null,
            "grid_template_areas": null,
            "grid_template_columns": null,
            "grid_template_rows": null,
            "height": null,
            "justify_content": null,
            "justify_items": null,
            "left": null,
            "margin": null,
            "max_height": null,
            "max_width": null,
            "min_height": null,
            "min_width": null,
            "object_fit": null,
            "object_position": null,
            "order": null,
            "overflow": null,
            "overflow_x": null,
            "overflow_y": null,
            "padding": null,
            "right": null,
            "top": null,
            "visibility": null,
            "width": null
          }
        },
        "69df1d715d0c484299d2b6d3be16d174": {
          "model_module": "@jupyter-widgets/controls",
          "model_name": "DescriptionStyleModel",
          "model_module_version": "1.5.0",
          "state": {
            "_model_module": "@jupyter-widgets/controls",
            "_model_module_version": "1.5.0",
            "_model_name": "DescriptionStyleModel",
            "_view_count": null,
            "_view_module": "@jupyter-widgets/base",
            "_view_module_version": "1.2.0",
            "_view_name": "StyleView",
            "description_width": ""
          }
        },
        "2405f89ccc0f4e82bfe4ec1e85ed4462": {
          "model_module": "@jupyter-widgets/controls",
          "model_name": "HBoxModel",
          "model_module_version": "1.5.0",
          "state": {
            "_dom_classes": [],
            "_model_module": "@jupyter-widgets/controls",
            "_model_module_version": "1.5.0",
            "_model_name": "HBoxModel",
            "_view_count": null,
            "_view_module": "@jupyter-widgets/controls",
            "_view_module_version": "1.5.0",
            "_view_name": "HBoxView",
            "box_style": "",
            "children": [
              "IPY_MODEL_4d930397c9724affa6ac2891bc2a28cf",
              "IPY_MODEL_968b2cdb7ecf4eaab9583debce38bfbb",
              "IPY_MODEL_9ab4290d323e488781c3c7132d5325ec"
            ],
            "layout": "IPY_MODEL_f553114599df459c9d71d4229a8b976b"
          }
        },
        "4d930397c9724affa6ac2891bc2a28cf": {
          "model_module": "@jupyter-widgets/controls",
          "model_name": "HTMLModel",
          "model_module_version": "1.5.0",
          "state": {
            "_dom_classes": [],
            "_model_module": "@jupyter-widgets/controls",
            "_model_module_version": "1.5.0",
            "_model_name": "HTMLModel",
            "_view_count": null,
            "_view_module": "@jupyter-widgets/controls",
            "_view_module_version": "1.5.0",
            "_view_name": "HTMLView",
            "description": "",
            "description_tooltip": null,
            "layout": "IPY_MODEL_354db6b4641445d8b4dd8cae9ffdcfb8",
            "placeholder": "​",
            "style": "IPY_MODEL_f9b98eff0b6742029c88a6ad144cf1d0",
            "value": ""
          }
        },
        "968b2cdb7ecf4eaab9583debce38bfbb": {
          "model_module": "@jupyter-widgets/controls",
          "model_name": "FloatProgressModel",
          "model_module_version": "1.5.0",
          "state": {
            "_dom_classes": [],
            "_model_module": "@jupyter-widgets/controls",
            "_model_module_version": "1.5.0",
            "_model_name": "FloatProgressModel",
            "_view_count": null,
            "_view_module": "@jupyter-widgets/controls",
            "_view_module_version": "1.5.0",
            "_view_name": "ProgressView",
            "bar_style": "info",
            "description": "",
            "description_tooltip": null,
            "layout": "IPY_MODEL_8c8eaaafd4b04f238685284da849fb48",
            "max": 1,
            "min": 0,
            "orientation": "horizontal",
            "style": "IPY_MODEL_59e0b67989024739a10ddbca4c86d8be",
            "value": 1
          }
        },
        "9ab4290d323e488781c3c7132d5325ec": {
          "model_module": "@jupyter-widgets/controls",
          "model_name": "HTMLModel",
          "model_module_version": "1.5.0",
          "state": {
            "_dom_classes": [],
            "_model_module": "@jupyter-widgets/controls",
            "_model_module_version": "1.5.0",
            "_model_name": "HTMLModel",
            "_view_count": null,
            "_view_module": "@jupyter-widgets/controls",
            "_view_module_version": "1.5.0",
            "_view_name": "HTMLView",
            "description": "",
            "description_tooltip": null,
            "layout": "IPY_MODEL_36204d45897a4b5a99d459e698f69399",
            "placeholder": "​",
            "style": "IPY_MODEL_a0227619ebb745e597519b9a2fb90212",
            "value": " 0/0 [00:00&lt;?, ? examples/s]"
          }
        },
        "f553114599df459c9d71d4229a8b976b": {
          "model_module": "@jupyter-widgets/base",
          "model_name": "LayoutModel",
          "model_module_version": "1.2.0",
          "state": {
            "_model_module": "@jupyter-widgets/base",
            "_model_module_version": "1.2.0",
            "_model_name": "LayoutModel",
            "_view_count": null,
            "_view_module": "@jupyter-widgets/base",
            "_view_module_version": "1.2.0",
            "_view_name": "LayoutView",
            "align_content": null,
            "align_items": null,
            "align_self": null,
            "border": null,
            "bottom": null,
            "display": null,
            "flex": null,
            "flex_flow": null,
            "grid_area": null,
            "grid_auto_columns": null,
            "grid_auto_flow": null,
            "grid_auto_rows": null,
            "grid_column": null,
            "grid_gap": null,
            "grid_row": null,
            "grid_template_areas": null,
            "grid_template_columns": null,
            "grid_template_rows": null,
            "height": null,
            "justify_content": null,
            "justify_items": null,
            "left": null,
            "margin": null,
            "max_height": null,
            "max_width": null,
            "min_height": null,
            "min_width": null,
            "object_fit": null,
            "object_position": null,
            "order": null,
            "overflow": null,
            "overflow_x": null,
            "overflow_y": null,
            "padding": null,
            "right": null,
            "top": null,
            "visibility": null,
            "width": null
          }
        },
        "354db6b4641445d8b4dd8cae9ffdcfb8": {
          "model_module": "@jupyter-widgets/base",
          "model_name": "LayoutModel",
          "model_module_version": "1.2.0",
          "state": {
            "_model_module": "@jupyter-widgets/base",
            "_model_module_version": "1.2.0",
            "_model_name": "LayoutModel",
            "_view_count": null,
            "_view_module": "@jupyter-widgets/base",
            "_view_module_version": "1.2.0",
            "_view_name": "LayoutView",
            "align_content": null,
            "align_items": null,
            "align_self": null,
            "border": null,
            "bottom": null,
            "display": null,
            "flex": null,
            "flex_flow": null,
            "grid_area": null,
            "grid_auto_columns": null,
            "grid_auto_flow": null,
            "grid_auto_rows": null,
            "grid_column": null,
            "grid_gap": null,
            "grid_row": null,
            "grid_template_areas": null,
            "grid_template_columns": null,
            "grid_template_rows": null,
            "height": null,
            "justify_content": null,
            "justify_items": null,
            "left": null,
            "margin": null,
            "max_height": null,
            "max_width": null,
            "min_height": null,
            "min_width": null,
            "object_fit": null,
            "object_position": null,
            "order": null,
            "overflow": null,
            "overflow_x": null,
            "overflow_y": null,
            "padding": null,
            "right": null,
            "top": null,
            "visibility": null,
            "width": null
          }
        },
        "f9b98eff0b6742029c88a6ad144cf1d0": {
          "model_module": "@jupyter-widgets/controls",
          "model_name": "DescriptionStyleModel",
          "model_module_version": "1.5.0",
          "state": {
            "_model_module": "@jupyter-widgets/controls",
            "_model_module_version": "1.5.0",
            "_model_name": "DescriptionStyleModel",
            "_view_count": null,
            "_view_module": "@jupyter-widgets/base",
            "_view_module_version": "1.2.0",
            "_view_name": "StyleView",
            "description_width": ""
          }
        },
        "8c8eaaafd4b04f238685284da849fb48": {
          "model_module": "@jupyter-widgets/base",
          "model_name": "LayoutModel",
          "model_module_version": "1.2.0",
          "state": {
            "_model_module": "@jupyter-widgets/base",
            "_model_module_version": "1.2.0",
            "_model_name": "LayoutModel",
            "_view_count": null,
            "_view_module": "@jupyter-widgets/base",
            "_view_module_version": "1.2.0",
            "_view_name": "LayoutView",
            "align_content": null,
            "align_items": null,
            "align_self": null,
            "border": null,
            "bottom": null,
            "display": null,
            "flex": null,
            "flex_flow": null,
            "grid_area": null,
            "grid_auto_columns": null,
            "grid_auto_flow": null,
            "grid_auto_rows": null,
            "grid_column": null,
            "grid_gap": null,
            "grid_row": null,
            "grid_template_areas": null,
            "grid_template_columns": null,
            "grid_template_rows": null,
            "height": null,
            "justify_content": null,
            "justify_items": null,
            "left": null,
            "margin": null,
            "max_height": null,
            "max_width": null,
            "min_height": null,
            "min_width": null,
            "object_fit": null,
            "object_position": null,
            "order": null,
            "overflow": null,
            "overflow_x": null,
            "overflow_y": null,
            "padding": null,
            "right": null,
            "top": null,
            "visibility": null,
            "width": "20px"
          }
        },
        "59e0b67989024739a10ddbca4c86d8be": {
          "model_module": "@jupyter-widgets/controls",
          "model_name": "ProgressStyleModel",
          "model_module_version": "1.5.0",
          "state": {
            "_model_module": "@jupyter-widgets/controls",
            "_model_module_version": "1.5.0",
            "_model_name": "ProgressStyleModel",
            "_view_count": null,
            "_view_module": "@jupyter-widgets/base",
            "_view_module_version": "1.2.0",
            "_view_name": "StyleView",
            "bar_color": null,
            "description_width": ""
          }
        },
        "36204d45897a4b5a99d459e698f69399": {
          "model_module": "@jupyter-widgets/base",
          "model_name": "LayoutModel",
          "model_module_version": "1.2.0",
          "state": {
            "_model_module": "@jupyter-widgets/base",
            "_model_module_version": "1.2.0",
            "_model_name": "LayoutModel",
            "_view_count": null,
            "_view_module": "@jupyter-widgets/base",
            "_view_module_version": "1.2.0",
            "_view_name": "LayoutView",
            "align_content": null,
            "align_items": null,
            "align_self": null,
            "border": null,
            "bottom": null,
            "display": null,
            "flex": null,
            "flex_flow": null,
            "grid_area": null,
            "grid_auto_columns": null,
            "grid_auto_flow": null,
            "grid_auto_rows": null,
            "grid_column": null,
            "grid_gap": null,
            "grid_row": null,
            "grid_template_areas": null,
            "grid_template_columns": null,
            "grid_template_rows": null,
            "height": null,
            "justify_content": null,
            "justify_items": null,
            "left": null,
            "margin": null,
            "max_height": null,
            "max_width": null,
            "min_height": null,
            "min_width": null,
            "object_fit": null,
            "object_position": null,
            "order": null,
            "overflow": null,
            "overflow_x": null,
            "overflow_y": null,
            "padding": null,
            "right": null,
            "top": null,
            "visibility": null,
            "width": null
          }
        },
        "a0227619ebb745e597519b9a2fb90212": {
          "model_module": "@jupyter-widgets/controls",
          "model_name": "DescriptionStyleModel",
          "model_module_version": "1.5.0",
          "state": {
            "_model_module": "@jupyter-widgets/controls",
            "_model_module_version": "1.5.0",
            "_model_name": "DescriptionStyleModel",
            "_view_count": null,
            "_view_module": "@jupyter-widgets/base",
            "_view_module_version": "1.2.0",
            "_view_name": "StyleView",
            "description_width": ""
          }
        },
        "395be1ecc6eb4fdb983cf4d318125007": {
          "model_module": "@jupyter-widgets/controls",
          "model_name": "HBoxModel",
          "model_module_version": "1.5.0",
          "state": {
            "_dom_classes": [],
            "_model_module": "@jupyter-widgets/controls",
            "_model_module_version": "1.5.0",
            "_model_name": "HBoxModel",
            "_view_count": null,
            "_view_module": "@jupyter-widgets/controls",
            "_view_module_version": "1.5.0",
            "_view_name": "HBoxView",
            "box_style": "",
            "children": [
              "IPY_MODEL_3744c5ce97a1414b87933dc488f62db8",
              "IPY_MODEL_4fd3e3d13dad4196a0a2e1c6452acc47",
              "IPY_MODEL_81205898a87143af95dbb0e235d89b0d"
            ],
            "layout": "IPY_MODEL_e77bcb2dcc5d427ba7ac1fa0db4a649a"
          }
        },
        "3744c5ce97a1414b87933dc488f62db8": {
          "model_module": "@jupyter-widgets/controls",
          "model_name": "HTMLModel",
          "model_module_version": "1.5.0",
          "state": {
            "_dom_classes": [],
            "_model_module": "@jupyter-widgets/controls",
            "_model_module_version": "1.5.0",
            "_model_name": "HTMLModel",
            "_view_count": null,
            "_view_module": "@jupyter-widgets/controls",
            "_view_module_version": "1.5.0",
            "_view_name": "HTMLView",
            "description": "",
            "description_tooltip": null,
            "layout": "IPY_MODEL_9288ea1ed6644671ac1d7fe9dfdfc7e5",
            "placeholder": "​",
            "style": "IPY_MODEL_58a09d60221842498f1d8dc1f1cb3c62",
            "value": ""
          }
        },
        "4fd3e3d13dad4196a0a2e1c6452acc47": {
          "model_module": "@jupyter-widgets/controls",
          "model_name": "FloatProgressModel",
          "model_module_version": "1.5.0",
          "state": {
            "_dom_classes": [],
            "_model_module": "@jupyter-widgets/controls",
            "_model_module_version": "1.5.0",
            "_model_name": "FloatProgressModel",
            "_view_count": null,
            "_view_module": "@jupyter-widgets/controls",
            "_view_module_version": "1.5.0",
            "_view_name": "ProgressView",
            "bar_style": "info",
            "description": "",
            "description_tooltip": null,
            "layout": "IPY_MODEL_26a05be7f21a42c5a61add9f4788d84f",
            "max": 1,
            "min": 0,
            "orientation": "horizontal",
            "style": "IPY_MODEL_c40c0a478eab48f09cbc1ce94b5b8c13",
            "value": 1
          }
        },
        "81205898a87143af95dbb0e235d89b0d": {
          "model_module": "@jupyter-widgets/controls",
          "model_name": "HTMLModel",
          "model_module_version": "1.5.0",
          "state": {
            "_dom_classes": [],
            "_model_module": "@jupyter-widgets/controls",
            "_model_module_version": "1.5.0",
            "_model_name": "HTMLModel",
            "_view_count": null,
            "_view_module": "@jupyter-widgets/controls",
            "_view_module_version": "1.5.0",
            "_view_name": "HTMLView",
            "description": "",
            "description_tooltip": null,
            "layout": "IPY_MODEL_d31657b10fbf454da9a63bd05ec36b4f",
            "placeholder": "​",
            "style": "IPY_MODEL_23c97af8eb7244c486a93b157e9456c9",
            "value": " 0/0 [00:00&lt;?, ? examples/s]"
          }
        },
        "e77bcb2dcc5d427ba7ac1fa0db4a649a": {
          "model_module": "@jupyter-widgets/base",
          "model_name": "LayoutModel",
          "model_module_version": "1.2.0",
          "state": {
            "_model_module": "@jupyter-widgets/base",
            "_model_module_version": "1.2.0",
            "_model_name": "LayoutModel",
            "_view_count": null,
            "_view_module": "@jupyter-widgets/base",
            "_view_module_version": "1.2.0",
            "_view_name": "LayoutView",
            "align_content": null,
            "align_items": null,
            "align_self": null,
            "border": null,
            "bottom": null,
            "display": null,
            "flex": null,
            "flex_flow": null,
            "grid_area": null,
            "grid_auto_columns": null,
            "grid_auto_flow": null,
            "grid_auto_rows": null,
            "grid_column": null,
            "grid_gap": null,
            "grid_row": null,
            "grid_template_areas": null,
            "grid_template_columns": null,
            "grid_template_rows": null,
            "height": null,
            "justify_content": null,
            "justify_items": null,
            "left": null,
            "margin": null,
            "max_height": null,
            "max_width": null,
            "min_height": null,
            "min_width": null,
            "object_fit": null,
            "object_position": null,
            "order": null,
            "overflow": null,
            "overflow_x": null,
            "overflow_y": null,
            "padding": null,
            "right": null,
            "top": null,
            "visibility": null,
            "width": null
          }
        },
        "9288ea1ed6644671ac1d7fe9dfdfc7e5": {
          "model_module": "@jupyter-widgets/base",
          "model_name": "LayoutModel",
          "model_module_version": "1.2.0",
          "state": {
            "_model_module": "@jupyter-widgets/base",
            "_model_module_version": "1.2.0",
            "_model_name": "LayoutModel",
            "_view_count": null,
            "_view_module": "@jupyter-widgets/base",
            "_view_module_version": "1.2.0",
            "_view_name": "LayoutView",
            "align_content": null,
            "align_items": null,
            "align_self": null,
            "border": null,
            "bottom": null,
            "display": null,
            "flex": null,
            "flex_flow": null,
            "grid_area": null,
            "grid_auto_columns": null,
            "grid_auto_flow": null,
            "grid_auto_rows": null,
            "grid_column": null,
            "grid_gap": null,
            "grid_row": null,
            "grid_template_areas": null,
            "grid_template_columns": null,
            "grid_template_rows": null,
            "height": null,
            "justify_content": null,
            "justify_items": null,
            "left": null,
            "margin": null,
            "max_height": null,
            "max_width": null,
            "min_height": null,
            "min_width": null,
            "object_fit": null,
            "object_position": null,
            "order": null,
            "overflow": null,
            "overflow_x": null,
            "overflow_y": null,
            "padding": null,
            "right": null,
            "top": null,
            "visibility": null,
            "width": null
          }
        },
        "58a09d60221842498f1d8dc1f1cb3c62": {
          "model_module": "@jupyter-widgets/controls",
          "model_name": "DescriptionStyleModel",
          "model_module_version": "1.5.0",
          "state": {
            "_model_module": "@jupyter-widgets/controls",
            "_model_module_version": "1.5.0",
            "_model_name": "DescriptionStyleModel",
            "_view_count": null,
            "_view_module": "@jupyter-widgets/base",
            "_view_module_version": "1.2.0",
            "_view_name": "StyleView",
            "description_width": ""
          }
        },
        "26a05be7f21a42c5a61add9f4788d84f": {
          "model_module": "@jupyter-widgets/base",
          "model_name": "LayoutModel",
          "model_module_version": "1.2.0",
          "state": {
            "_model_module": "@jupyter-widgets/base",
            "_model_module_version": "1.2.0",
            "_model_name": "LayoutModel",
            "_view_count": null,
            "_view_module": "@jupyter-widgets/base",
            "_view_module_version": "1.2.0",
            "_view_name": "LayoutView",
            "align_content": null,
            "align_items": null,
            "align_self": null,
            "border": null,
            "bottom": null,
            "display": null,
            "flex": null,
            "flex_flow": null,
            "grid_area": null,
            "grid_auto_columns": null,
            "grid_auto_flow": null,
            "grid_auto_rows": null,
            "grid_column": null,
            "grid_gap": null,
            "grid_row": null,
            "grid_template_areas": null,
            "grid_template_columns": null,
            "grid_template_rows": null,
            "height": null,
            "justify_content": null,
            "justify_items": null,
            "left": null,
            "margin": null,
            "max_height": null,
            "max_width": null,
            "min_height": null,
            "min_width": null,
            "object_fit": null,
            "object_position": null,
            "order": null,
            "overflow": null,
            "overflow_x": null,
            "overflow_y": null,
            "padding": null,
            "right": null,
            "top": null,
            "visibility": null,
            "width": "20px"
          }
        },
        "c40c0a478eab48f09cbc1ce94b5b8c13": {
          "model_module": "@jupyter-widgets/controls",
          "model_name": "ProgressStyleModel",
          "model_module_version": "1.5.0",
          "state": {
            "_model_module": "@jupyter-widgets/controls",
            "_model_module_version": "1.5.0",
            "_model_name": "ProgressStyleModel",
            "_view_count": null,
            "_view_module": "@jupyter-widgets/base",
            "_view_module_version": "1.2.0",
            "_view_name": "StyleView",
            "bar_color": null,
            "description_width": ""
          }
        },
        "d31657b10fbf454da9a63bd05ec36b4f": {
          "model_module": "@jupyter-widgets/base",
          "model_name": "LayoutModel",
          "model_module_version": "1.2.0",
          "state": {
            "_model_module": "@jupyter-widgets/base",
            "_model_module_version": "1.2.0",
            "_model_name": "LayoutModel",
            "_view_count": null,
            "_view_module": "@jupyter-widgets/base",
            "_view_module_version": "1.2.0",
            "_view_name": "LayoutView",
            "align_content": null,
            "align_items": null,
            "align_self": null,
            "border": null,
            "bottom": null,
            "display": null,
            "flex": null,
            "flex_flow": null,
            "grid_area": null,
            "grid_auto_columns": null,
            "grid_auto_flow": null,
            "grid_auto_rows": null,
            "grid_column": null,
            "grid_gap": null,
            "grid_row": null,
            "grid_template_areas": null,
            "grid_template_columns": null,
            "grid_template_rows": null,
            "height": null,
            "justify_content": null,
            "justify_items": null,
            "left": null,
            "margin": null,
            "max_height": null,
            "max_width": null,
            "min_height": null,
            "min_width": null,
            "object_fit": null,
            "object_position": null,
            "order": null,
            "overflow": null,
            "overflow_x": null,
            "overflow_y": null,
            "padding": null,
            "right": null,
            "top": null,
            "visibility": null,
            "width": null
          }
        },
        "23c97af8eb7244c486a93b157e9456c9": {
          "model_module": "@jupyter-widgets/controls",
          "model_name": "DescriptionStyleModel",
          "model_module_version": "1.5.0",
          "state": {
            "_model_module": "@jupyter-widgets/controls",
            "_model_module_version": "1.5.0",
            "_model_name": "DescriptionStyleModel",
            "_view_count": null,
            "_view_module": "@jupyter-widgets/base",
            "_view_module_version": "1.2.0",
            "_view_name": "StyleView",
            "description_width": ""
          }
        },
        "6df1bf3b8289421a8fe82181b72aa4f3": {
          "model_module": "@jupyter-widgets/controls",
          "model_name": "HBoxModel",
          "model_module_version": "1.5.0",
          "state": {
            "_dom_classes": [],
            "_model_module": "@jupyter-widgets/controls",
            "_model_module_version": "1.5.0",
            "_model_name": "HBoxModel",
            "_view_count": null,
            "_view_module": "@jupyter-widgets/controls",
            "_view_module_version": "1.5.0",
            "_view_name": "HBoxView",
            "box_style": "",
            "children": [
              "IPY_MODEL_4d698d7d88f84854bf7f835cdf0258b0",
              "IPY_MODEL_e7ef926dbef24fa781a99ede0b951119",
              "IPY_MODEL_1899c1b2783c409c93ffb92ef4c97b60"
            ],
            "layout": "IPY_MODEL_a17e643b41f4419190abeebc2191c98c"
          }
        },
        "4d698d7d88f84854bf7f835cdf0258b0": {
          "model_module": "@jupyter-widgets/controls",
          "model_name": "HTMLModel",
          "model_module_version": "1.5.0",
          "state": {
            "_dom_classes": [],
            "_model_module": "@jupyter-widgets/controls",
            "_model_module_version": "1.5.0",
            "_model_name": "HTMLModel",
            "_view_count": null,
            "_view_module": "@jupyter-widgets/controls",
            "_view_module_version": "1.5.0",
            "_view_name": "HTMLView",
            "description": "",
            "description_tooltip": null,
            "layout": "IPY_MODEL_2326b96826cf42818e11d144591dcaca",
            "placeholder": "​",
            "style": "IPY_MODEL_43b0d7ca928e4db1866b2e13797cd7d1",
            "value": "100%"
          }
        },
        "e7ef926dbef24fa781a99ede0b951119": {
          "model_module": "@jupyter-widgets/controls",
          "model_name": "FloatProgressModel",
          "model_module_version": "1.5.0",
          "state": {
            "_dom_classes": [],
            "_model_module": "@jupyter-widgets/controls",
            "_model_module_version": "1.5.0",
            "_model_name": "FloatProgressModel",
            "_view_count": null,
            "_view_module": "@jupyter-widgets/controls",
            "_view_module_version": "1.5.0",
            "_view_name": "ProgressView",
            "bar_style": "success",
            "description": "",
            "description_tooltip": null,
            "layout": "IPY_MODEL_8a92d0dc52704e9f85b503bc3c3c7ae2",
            "max": 3,
            "min": 0,
            "orientation": "horizontal",
            "style": "IPY_MODEL_4b5bc3e305b9433bb6cdd24c58c4dc08",
            "value": 3
          }
        },
        "1899c1b2783c409c93ffb92ef4c97b60": {
          "model_module": "@jupyter-widgets/controls",
          "model_name": "HTMLModel",
          "model_module_version": "1.5.0",
          "state": {
            "_dom_classes": [],
            "_model_module": "@jupyter-widgets/controls",
            "_model_module_version": "1.5.0",
            "_model_name": "HTMLModel",
            "_view_count": null,
            "_view_module": "@jupyter-widgets/controls",
            "_view_module_version": "1.5.0",
            "_view_name": "HTMLView",
            "description": "",
            "description_tooltip": null,
            "layout": "IPY_MODEL_e0d97d84a41645e6a2ca6b440b7126b7",
            "placeholder": "​",
            "style": "IPY_MODEL_09b253353b1d424c8b32724a35e5ff8d",
            "value": " 3/3 [00:00&lt;00:00, 77.69it/s]"
          }
        },
        "a17e643b41f4419190abeebc2191c98c": {
          "model_module": "@jupyter-widgets/base",
          "model_name": "LayoutModel",
          "model_module_version": "1.2.0",
          "state": {
            "_model_module": "@jupyter-widgets/base",
            "_model_module_version": "1.2.0",
            "_model_name": "LayoutModel",
            "_view_count": null,
            "_view_module": "@jupyter-widgets/base",
            "_view_module_version": "1.2.0",
            "_view_name": "LayoutView",
            "align_content": null,
            "align_items": null,
            "align_self": null,
            "border": null,
            "bottom": null,
            "display": null,
            "flex": null,
            "flex_flow": null,
            "grid_area": null,
            "grid_auto_columns": null,
            "grid_auto_flow": null,
            "grid_auto_rows": null,
            "grid_column": null,
            "grid_gap": null,
            "grid_row": null,
            "grid_template_areas": null,
            "grid_template_columns": null,
            "grid_template_rows": null,
            "height": null,
            "justify_content": null,
            "justify_items": null,
            "left": null,
            "margin": null,
            "max_height": null,
            "max_width": null,
            "min_height": null,
            "min_width": null,
            "object_fit": null,
            "object_position": null,
            "order": null,
            "overflow": null,
            "overflow_x": null,
            "overflow_y": null,
            "padding": null,
            "right": null,
            "top": null,
            "visibility": null,
            "width": null
          }
        },
        "2326b96826cf42818e11d144591dcaca": {
          "model_module": "@jupyter-widgets/base",
          "model_name": "LayoutModel",
          "model_module_version": "1.2.0",
          "state": {
            "_model_module": "@jupyter-widgets/base",
            "_model_module_version": "1.2.0",
            "_model_name": "LayoutModel",
            "_view_count": null,
            "_view_module": "@jupyter-widgets/base",
            "_view_module_version": "1.2.0",
            "_view_name": "LayoutView",
            "align_content": null,
            "align_items": null,
            "align_self": null,
            "border": null,
            "bottom": null,
            "display": null,
            "flex": null,
            "flex_flow": null,
            "grid_area": null,
            "grid_auto_columns": null,
            "grid_auto_flow": null,
            "grid_auto_rows": null,
            "grid_column": null,
            "grid_gap": null,
            "grid_row": null,
            "grid_template_areas": null,
            "grid_template_columns": null,
            "grid_template_rows": null,
            "height": null,
            "justify_content": null,
            "justify_items": null,
            "left": null,
            "margin": null,
            "max_height": null,
            "max_width": null,
            "min_height": null,
            "min_width": null,
            "object_fit": null,
            "object_position": null,
            "order": null,
            "overflow": null,
            "overflow_x": null,
            "overflow_y": null,
            "padding": null,
            "right": null,
            "top": null,
            "visibility": null,
            "width": null
          }
        },
        "43b0d7ca928e4db1866b2e13797cd7d1": {
          "model_module": "@jupyter-widgets/controls",
          "model_name": "DescriptionStyleModel",
          "model_module_version": "1.5.0",
          "state": {
            "_model_module": "@jupyter-widgets/controls",
            "_model_module_version": "1.5.0",
            "_model_name": "DescriptionStyleModel",
            "_view_count": null,
            "_view_module": "@jupyter-widgets/base",
            "_view_module_version": "1.2.0",
            "_view_name": "StyleView",
            "description_width": ""
          }
        },
        "8a92d0dc52704e9f85b503bc3c3c7ae2": {
          "model_module": "@jupyter-widgets/base",
          "model_name": "LayoutModel",
          "model_module_version": "1.2.0",
          "state": {
            "_model_module": "@jupyter-widgets/base",
            "_model_module_version": "1.2.0",
            "_model_name": "LayoutModel",
            "_view_count": null,
            "_view_module": "@jupyter-widgets/base",
            "_view_module_version": "1.2.0",
            "_view_name": "LayoutView",
            "align_content": null,
            "align_items": null,
            "align_self": null,
            "border": null,
            "bottom": null,
            "display": null,
            "flex": null,
            "flex_flow": null,
            "grid_area": null,
            "grid_auto_columns": null,
            "grid_auto_flow": null,
            "grid_auto_rows": null,
            "grid_column": null,
            "grid_gap": null,
            "grid_row": null,
            "grid_template_areas": null,
            "grid_template_columns": null,
            "grid_template_rows": null,
            "height": null,
            "justify_content": null,
            "justify_items": null,
            "left": null,
            "margin": null,
            "max_height": null,
            "max_width": null,
            "min_height": null,
            "min_width": null,
            "object_fit": null,
            "object_position": null,
            "order": null,
            "overflow": null,
            "overflow_x": null,
            "overflow_y": null,
            "padding": null,
            "right": null,
            "top": null,
            "visibility": null,
            "width": null
          }
        },
        "4b5bc3e305b9433bb6cdd24c58c4dc08": {
          "model_module": "@jupyter-widgets/controls",
          "model_name": "ProgressStyleModel",
          "model_module_version": "1.5.0",
          "state": {
            "_model_module": "@jupyter-widgets/controls",
            "_model_module_version": "1.5.0",
            "_model_name": "ProgressStyleModel",
            "_view_count": null,
            "_view_module": "@jupyter-widgets/base",
            "_view_module_version": "1.2.0",
            "_view_name": "StyleView",
            "bar_color": null,
            "description_width": ""
          }
        },
        "e0d97d84a41645e6a2ca6b440b7126b7": {
          "model_module": "@jupyter-widgets/base",
          "model_name": "LayoutModel",
          "model_module_version": "1.2.0",
          "state": {
            "_model_module": "@jupyter-widgets/base",
            "_model_module_version": "1.2.0",
            "_model_name": "LayoutModel",
            "_view_count": null,
            "_view_module": "@jupyter-widgets/base",
            "_view_module_version": "1.2.0",
            "_view_name": "LayoutView",
            "align_content": null,
            "align_items": null,
            "align_self": null,
            "border": null,
            "bottom": null,
            "display": null,
            "flex": null,
            "flex_flow": null,
            "grid_area": null,
            "grid_auto_columns": null,
            "grid_auto_flow": null,
            "grid_auto_rows": null,
            "grid_column": null,
            "grid_gap": null,
            "grid_row": null,
            "grid_template_areas": null,
            "grid_template_columns": null,
            "grid_template_rows": null,
            "height": null,
            "justify_content": null,
            "justify_items": null,
            "left": null,
            "margin": null,
            "max_height": null,
            "max_width": null,
            "min_height": null,
            "min_width": null,
            "object_fit": null,
            "object_position": null,
            "order": null,
            "overflow": null,
            "overflow_x": null,
            "overflow_y": null,
            "padding": null,
            "right": null,
            "top": null,
            "visibility": null,
            "width": null
          }
        },
        "09b253353b1d424c8b32724a35e5ff8d": {
          "model_module": "@jupyter-widgets/controls",
          "model_name": "DescriptionStyleModel",
          "model_module_version": "1.5.0",
          "state": {
            "_model_module": "@jupyter-widgets/controls",
            "_model_module_version": "1.5.0",
            "_model_name": "DescriptionStyleModel",
            "_view_count": null,
            "_view_module": "@jupyter-widgets/base",
            "_view_module_version": "1.2.0",
            "_view_name": "StyleView",
            "description_width": ""
          }
        },
        "02db7ab8bee64b49a08b0711bebb406b": {
          "model_module": "@jupyter-widgets/controls",
          "model_name": "HBoxModel",
          "model_module_version": "1.5.0",
          "state": {
            "_dom_classes": [],
            "_model_module": "@jupyter-widgets/controls",
            "_model_module_version": "1.5.0",
            "_model_name": "HBoxModel",
            "_view_count": null,
            "_view_module": "@jupyter-widgets/controls",
            "_view_module_version": "1.5.0",
            "_view_name": "HBoxView",
            "box_style": "",
            "children": [
              "IPY_MODEL_8f30ab28b56b445bba673bab7903ce7d",
              "IPY_MODEL_71825b9e25284d59aab6af24394d36f2",
              "IPY_MODEL_648d7a661f4a476493ffb3f619f7bb34"
            ],
            "layout": "IPY_MODEL_7ac4c687e1154cdb9d3400e3bfa6a044"
          }
        },
        "8f30ab28b56b445bba673bab7903ce7d": {
          "model_module": "@jupyter-widgets/controls",
          "model_name": "HTMLModel",
          "model_module_version": "1.5.0",
          "state": {
            "_dom_classes": [],
            "_model_module": "@jupyter-widgets/controls",
            "_model_module_version": "1.5.0",
            "_model_name": "HTMLModel",
            "_view_count": null,
            "_view_module": "@jupyter-widgets/controls",
            "_view_module_version": "1.5.0",
            "_view_name": "HTMLView",
            "description": "",
            "description_tooltip": null,
            "layout": "IPY_MODEL_cb46322aac0d458bab87eead0daa9088",
            "placeholder": "​",
            "style": "IPY_MODEL_1c4d86c5b2ab4e6bb2e0e858ae9fea1d",
            "value": "Downloading: 100%"
          }
        },
        "71825b9e25284d59aab6af24394d36f2": {
          "model_module": "@jupyter-widgets/controls",
          "model_name": "FloatProgressModel",
          "model_module_version": "1.5.0",
          "state": {
            "_dom_classes": [],
            "_model_module": "@jupyter-widgets/controls",
            "_model_module_version": "1.5.0",
            "_model_name": "FloatProgressModel",
            "_view_count": null,
            "_view_module": "@jupyter-widgets/controls",
            "_view_module_version": "1.5.0",
            "_view_name": "ProgressView",
            "bar_style": "success",
            "description": "",
            "description_tooltip": null,
            "layout": "IPY_MODEL_4dd00badb9da4ebbb9b377a1d4f8dd31",
            "max": 28,
            "min": 0,
            "orientation": "horizontal",
            "style": "IPY_MODEL_70381d5ed85b4bfb8d3eeab998ca1319",
            "value": 28
          }
        },
        "648d7a661f4a476493ffb3f619f7bb34": {
          "model_module": "@jupyter-widgets/controls",
          "model_name": "HTMLModel",
          "model_module_version": "1.5.0",
          "state": {
            "_dom_classes": [],
            "_model_module": "@jupyter-widgets/controls",
            "_model_module_version": "1.5.0",
            "_model_name": "HTMLModel",
            "_view_count": null,
            "_view_module": "@jupyter-widgets/controls",
            "_view_module_version": "1.5.0",
            "_view_name": "HTMLView",
            "description": "",
            "description_tooltip": null,
            "layout": "IPY_MODEL_1fa5dd83f44942d9a9e592bbaf91a190",
            "placeholder": "​",
            "style": "IPY_MODEL_df85a0757c844956b8951c86b281882d",
            "value": " 28.0/28.0 [00:00&lt;00:00, 828B/s]"
          }
        },
        "7ac4c687e1154cdb9d3400e3bfa6a044": {
          "model_module": "@jupyter-widgets/base",
          "model_name": "LayoutModel",
          "model_module_version": "1.2.0",
          "state": {
            "_model_module": "@jupyter-widgets/base",
            "_model_module_version": "1.2.0",
            "_model_name": "LayoutModel",
            "_view_count": null,
            "_view_module": "@jupyter-widgets/base",
            "_view_module_version": "1.2.0",
            "_view_name": "LayoutView",
            "align_content": null,
            "align_items": null,
            "align_self": null,
            "border": null,
            "bottom": null,
            "display": null,
            "flex": null,
            "flex_flow": null,
            "grid_area": null,
            "grid_auto_columns": null,
            "grid_auto_flow": null,
            "grid_auto_rows": null,
            "grid_column": null,
            "grid_gap": null,
            "grid_row": null,
            "grid_template_areas": null,
            "grid_template_columns": null,
            "grid_template_rows": null,
            "height": null,
            "justify_content": null,
            "justify_items": null,
            "left": null,
            "margin": null,
            "max_height": null,
            "max_width": null,
            "min_height": null,
            "min_width": null,
            "object_fit": null,
            "object_position": null,
            "order": null,
            "overflow": null,
            "overflow_x": null,
            "overflow_y": null,
            "padding": null,
            "right": null,
            "top": null,
            "visibility": null,
            "width": null
          }
        },
        "cb46322aac0d458bab87eead0daa9088": {
          "model_module": "@jupyter-widgets/base",
          "model_name": "LayoutModel",
          "model_module_version": "1.2.0",
          "state": {
            "_model_module": "@jupyter-widgets/base",
            "_model_module_version": "1.2.0",
            "_model_name": "LayoutModel",
            "_view_count": null,
            "_view_module": "@jupyter-widgets/base",
            "_view_module_version": "1.2.0",
            "_view_name": "LayoutView",
            "align_content": null,
            "align_items": null,
            "align_self": null,
            "border": null,
            "bottom": null,
            "display": null,
            "flex": null,
            "flex_flow": null,
            "grid_area": null,
            "grid_auto_columns": null,
            "grid_auto_flow": null,
            "grid_auto_rows": null,
            "grid_column": null,
            "grid_gap": null,
            "grid_row": null,
            "grid_template_areas": null,
            "grid_template_columns": null,
            "grid_template_rows": null,
            "height": null,
            "justify_content": null,
            "justify_items": null,
            "left": null,
            "margin": null,
            "max_height": null,
            "max_width": null,
            "min_height": null,
            "min_width": null,
            "object_fit": null,
            "object_position": null,
            "order": null,
            "overflow": null,
            "overflow_x": null,
            "overflow_y": null,
            "padding": null,
            "right": null,
            "top": null,
            "visibility": null,
            "width": null
          }
        },
        "1c4d86c5b2ab4e6bb2e0e858ae9fea1d": {
          "model_module": "@jupyter-widgets/controls",
          "model_name": "DescriptionStyleModel",
          "model_module_version": "1.5.0",
          "state": {
            "_model_module": "@jupyter-widgets/controls",
            "_model_module_version": "1.5.0",
            "_model_name": "DescriptionStyleModel",
            "_view_count": null,
            "_view_module": "@jupyter-widgets/base",
            "_view_module_version": "1.2.0",
            "_view_name": "StyleView",
            "description_width": ""
          }
        },
        "4dd00badb9da4ebbb9b377a1d4f8dd31": {
          "model_module": "@jupyter-widgets/base",
          "model_name": "LayoutModel",
          "model_module_version": "1.2.0",
          "state": {
            "_model_module": "@jupyter-widgets/base",
            "_model_module_version": "1.2.0",
            "_model_name": "LayoutModel",
            "_view_count": null,
            "_view_module": "@jupyter-widgets/base",
            "_view_module_version": "1.2.0",
            "_view_name": "LayoutView",
            "align_content": null,
            "align_items": null,
            "align_self": null,
            "border": null,
            "bottom": null,
            "display": null,
            "flex": null,
            "flex_flow": null,
            "grid_area": null,
            "grid_auto_columns": null,
            "grid_auto_flow": null,
            "grid_auto_rows": null,
            "grid_column": null,
            "grid_gap": null,
            "grid_row": null,
            "grid_template_areas": null,
            "grid_template_columns": null,
            "grid_template_rows": null,
            "height": null,
            "justify_content": null,
            "justify_items": null,
            "left": null,
            "margin": null,
            "max_height": null,
            "max_width": null,
            "min_height": null,
            "min_width": null,
            "object_fit": null,
            "object_position": null,
            "order": null,
            "overflow": null,
            "overflow_x": null,
            "overflow_y": null,
            "padding": null,
            "right": null,
            "top": null,
            "visibility": null,
            "width": null
          }
        },
        "70381d5ed85b4bfb8d3eeab998ca1319": {
          "model_module": "@jupyter-widgets/controls",
          "model_name": "ProgressStyleModel",
          "model_module_version": "1.5.0",
          "state": {
            "_model_module": "@jupyter-widgets/controls",
            "_model_module_version": "1.5.0",
            "_model_name": "ProgressStyleModel",
            "_view_count": null,
            "_view_module": "@jupyter-widgets/base",
            "_view_module_version": "1.2.0",
            "_view_name": "StyleView",
            "bar_color": null,
            "description_width": ""
          }
        },
        "1fa5dd83f44942d9a9e592bbaf91a190": {
          "model_module": "@jupyter-widgets/base",
          "model_name": "LayoutModel",
          "model_module_version": "1.2.0",
          "state": {
            "_model_module": "@jupyter-widgets/base",
            "_model_module_version": "1.2.0",
            "_model_name": "LayoutModel",
            "_view_count": null,
            "_view_module": "@jupyter-widgets/base",
            "_view_module_version": "1.2.0",
            "_view_name": "LayoutView",
            "align_content": null,
            "align_items": null,
            "align_self": null,
            "border": null,
            "bottom": null,
            "display": null,
            "flex": null,
            "flex_flow": null,
            "grid_area": null,
            "grid_auto_columns": null,
            "grid_auto_flow": null,
            "grid_auto_rows": null,
            "grid_column": null,
            "grid_gap": null,
            "grid_row": null,
            "grid_template_areas": null,
            "grid_template_columns": null,
            "grid_template_rows": null,
            "height": null,
            "justify_content": null,
            "justify_items": null,
            "left": null,
            "margin": null,
            "max_height": null,
            "max_width": null,
            "min_height": null,
            "min_width": null,
            "object_fit": null,
            "object_position": null,
            "order": null,
            "overflow": null,
            "overflow_x": null,
            "overflow_y": null,
            "padding": null,
            "right": null,
            "top": null,
            "visibility": null,
            "width": null
          }
        },
        "df85a0757c844956b8951c86b281882d": {
          "model_module": "@jupyter-widgets/controls",
          "model_name": "DescriptionStyleModel",
          "model_module_version": "1.5.0",
          "state": {
            "_model_module": "@jupyter-widgets/controls",
            "_model_module_version": "1.5.0",
            "_model_name": "DescriptionStyleModel",
            "_view_count": null,
            "_view_module": "@jupyter-widgets/base",
            "_view_module_version": "1.2.0",
            "_view_name": "StyleView",
            "description_width": ""
          }
        },
        "28dedcbc121e4a4aa59586c7a17ca1b4": {
          "model_module": "@jupyter-widgets/controls",
          "model_name": "HBoxModel",
          "model_module_version": "1.5.0",
          "state": {
            "_dom_classes": [],
            "_model_module": "@jupyter-widgets/controls",
            "_model_module_version": "1.5.0",
            "_model_name": "HBoxModel",
            "_view_count": null,
            "_view_module": "@jupyter-widgets/controls",
            "_view_module_version": "1.5.0",
            "_view_name": "HBoxView",
            "box_style": "",
            "children": [
              "IPY_MODEL_43dcdd743b6c4261bfa6b755ebbd4088",
              "IPY_MODEL_304f9bfaa90a48deb587edaefa304903",
              "IPY_MODEL_b28bee21a41b46ca85d4b37d7d15fdaf"
            ],
            "layout": "IPY_MODEL_c89d6fd0582c4b56a9527cd17a559dc9"
          }
        },
        "43dcdd743b6c4261bfa6b755ebbd4088": {
          "model_module": "@jupyter-widgets/controls",
          "model_name": "HTMLModel",
          "model_module_version": "1.5.0",
          "state": {
            "_dom_classes": [],
            "_model_module": "@jupyter-widgets/controls",
            "_model_module_version": "1.5.0",
            "_model_name": "HTMLModel",
            "_view_count": null,
            "_view_module": "@jupyter-widgets/controls",
            "_view_module_version": "1.5.0",
            "_view_name": "HTMLView",
            "description": "",
            "description_tooltip": null,
            "layout": "IPY_MODEL_d37d2380811b4c878cf16f7603a19d1f",
            "placeholder": "​",
            "style": "IPY_MODEL_4d3485c502884c5bb0f787daffdd8b96",
            "value": "Downloading: 100%"
          }
        },
        "304f9bfaa90a48deb587edaefa304903": {
          "model_module": "@jupyter-widgets/controls",
          "model_name": "FloatProgressModel",
          "model_module_version": "1.5.0",
          "state": {
            "_dom_classes": [],
            "_model_module": "@jupyter-widgets/controls",
            "_model_module_version": "1.5.0",
            "_model_name": "FloatProgressModel",
            "_view_count": null,
            "_view_module": "@jupyter-widgets/controls",
            "_view_module_version": "1.5.0",
            "_view_name": "ProgressView",
            "bar_style": "success",
            "description": "",
            "description_tooltip": null,
            "layout": "IPY_MODEL_3618934d9d924efea55ee781d550a3dd",
            "max": 483,
            "min": 0,
            "orientation": "horizontal",
            "style": "IPY_MODEL_27599d54872343a7bf4d9476ddc04ff0",
            "value": 483
          }
        },
        "b28bee21a41b46ca85d4b37d7d15fdaf": {
          "model_module": "@jupyter-widgets/controls",
          "model_name": "HTMLModel",
          "model_module_version": "1.5.0",
          "state": {
            "_dom_classes": [],
            "_model_module": "@jupyter-widgets/controls",
            "_model_module_version": "1.5.0",
            "_model_name": "HTMLModel",
            "_view_count": null,
            "_view_module": "@jupyter-widgets/controls",
            "_view_module_version": "1.5.0",
            "_view_name": "HTMLView",
            "description": "",
            "description_tooltip": null,
            "layout": "IPY_MODEL_57899cb96a784635a8fa2a25906171bb",
            "placeholder": "​",
            "style": "IPY_MODEL_31c46c4eebf14250bb7073e0c0182543",
            "value": " 483/483 [00:00&lt;00:00, 9.09kB/s]"
          }
        },
        "c89d6fd0582c4b56a9527cd17a559dc9": {
          "model_module": "@jupyter-widgets/base",
          "model_name": "LayoutModel",
          "model_module_version": "1.2.0",
          "state": {
            "_model_module": "@jupyter-widgets/base",
            "_model_module_version": "1.2.0",
            "_model_name": "LayoutModel",
            "_view_count": null,
            "_view_module": "@jupyter-widgets/base",
            "_view_module_version": "1.2.0",
            "_view_name": "LayoutView",
            "align_content": null,
            "align_items": null,
            "align_self": null,
            "border": null,
            "bottom": null,
            "display": null,
            "flex": null,
            "flex_flow": null,
            "grid_area": null,
            "grid_auto_columns": null,
            "grid_auto_flow": null,
            "grid_auto_rows": null,
            "grid_column": null,
            "grid_gap": null,
            "grid_row": null,
            "grid_template_areas": null,
            "grid_template_columns": null,
            "grid_template_rows": null,
            "height": null,
            "justify_content": null,
            "justify_items": null,
            "left": null,
            "margin": null,
            "max_height": null,
            "max_width": null,
            "min_height": null,
            "min_width": null,
            "object_fit": null,
            "object_position": null,
            "order": null,
            "overflow": null,
            "overflow_x": null,
            "overflow_y": null,
            "padding": null,
            "right": null,
            "top": null,
            "visibility": null,
            "width": null
          }
        },
        "d37d2380811b4c878cf16f7603a19d1f": {
          "model_module": "@jupyter-widgets/base",
          "model_name": "LayoutModel",
          "model_module_version": "1.2.0",
          "state": {
            "_model_module": "@jupyter-widgets/base",
            "_model_module_version": "1.2.0",
            "_model_name": "LayoutModel",
            "_view_count": null,
            "_view_module": "@jupyter-widgets/base",
            "_view_module_version": "1.2.0",
            "_view_name": "LayoutView",
            "align_content": null,
            "align_items": null,
            "align_self": null,
            "border": null,
            "bottom": null,
            "display": null,
            "flex": null,
            "flex_flow": null,
            "grid_area": null,
            "grid_auto_columns": null,
            "grid_auto_flow": null,
            "grid_auto_rows": null,
            "grid_column": null,
            "grid_gap": null,
            "grid_row": null,
            "grid_template_areas": null,
            "grid_template_columns": null,
            "grid_template_rows": null,
            "height": null,
            "justify_content": null,
            "justify_items": null,
            "left": null,
            "margin": null,
            "max_height": null,
            "max_width": null,
            "min_height": null,
            "min_width": null,
            "object_fit": null,
            "object_position": null,
            "order": null,
            "overflow": null,
            "overflow_x": null,
            "overflow_y": null,
            "padding": null,
            "right": null,
            "top": null,
            "visibility": null,
            "width": null
          }
        },
        "4d3485c502884c5bb0f787daffdd8b96": {
          "model_module": "@jupyter-widgets/controls",
          "model_name": "DescriptionStyleModel",
          "model_module_version": "1.5.0",
          "state": {
            "_model_module": "@jupyter-widgets/controls",
            "_model_module_version": "1.5.0",
            "_model_name": "DescriptionStyleModel",
            "_view_count": null,
            "_view_module": "@jupyter-widgets/base",
            "_view_module_version": "1.2.0",
            "_view_name": "StyleView",
            "description_width": ""
          }
        },
        "3618934d9d924efea55ee781d550a3dd": {
          "model_module": "@jupyter-widgets/base",
          "model_name": "LayoutModel",
          "model_module_version": "1.2.0",
          "state": {
            "_model_module": "@jupyter-widgets/base",
            "_model_module_version": "1.2.0",
            "_model_name": "LayoutModel",
            "_view_count": null,
            "_view_module": "@jupyter-widgets/base",
            "_view_module_version": "1.2.0",
            "_view_name": "LayoutView",
            "align_content": null,
            "align_items": null,
            "align_self": null,
            "border": null,
            "bottom": null,
            "display": null,
            "flex": null,
            "flex_flow": null,
            "grid_area": null,
            "grid_auto_columns": null,
            "grid_auto_flow": null,
            "grid_auto_rows": null,
            "grid_column": null,
            "grid_gap": null,
            "grid_row": null,
            "grid_template_areas": null,
            "grid_template_columns": null,
            "grid_template_rows": null,
            "height": null,
            "justify_content": null,
            "justify_items": null,
            "left": null,
            "margin": null,
            "max_height": null,
            "max_width": null,
            "min_height": null,
            "min_width": null,
            "object_fit": null,
            "object_position": null,
            "order": null,
            "overflow": null,
            "overflow_x": null,
            "overflow_y": null,
            "padding": null,
            "right": null,
            "top": null,
            "visibility": null,
            "width": null
          }
        },
        "27599d54872343a7bf4d9476ddc04ff0": {
          "model_module": "@jupyter-widgets/controls",
          "model_name": "ProgressStyleModel",
          "model_module_version": "1.5.0",
          "state": {
            "_model_module": "@jupyter-widgets/controls",
            "_model_module_version": "1.5.0",
            "_model_name": "ProgressStyleModel",
            "_view_count": null,
            "_view_module": "@jupyter-widgets/base",
            "_view_module_version": "1.2.0",
            "_view_name": "StyleView",
            "bar_color": null,
            "description_width": ""
          }
        },
        "57899cb96a784635a8fa2a25906171bb": {
          "model_module": "@jupyter-widgets/base",
          "model_name": "LayoutModel",
          "model_module_version": "1.2.0",
          "state": {
            "_model_module": "@jupyter-widgets/base",
            "_model_module_version": "1.2.0",
            "_model_name": "LayoutModel",
            "_view_count": null,
            "_view_module": "@jupyter-widgets/base",
            "_view_module_version": "1.2.0",
            "_view_name": "LayoutView",
            "align_content": null,
            "align_items": null,
            "align_self": null,
            "border": null,
            "bottom": null,
            "display": null,
            "flex": null,
            "flex_flow": null,
            "grid_area": null,
            "grid_auto_columns": null,
            "grid_auto_flow": null,
            "grid_auto_rows": null,
            "grid_column": null,
            "grid_gap": null,
            "grid_row": null,
            "grid_template_areas": null,
            "grid_template_columns": null,
            "grid_template_rows": null,
            "height": null,
            "justify_content": null,
            "justify_items": null,
            "left": null,
            "margin": null,
            "max_height": null,
            "max_width": null,
            "min_height": null,
            "min_width": null,
            "object_fit": null,
            "object_position": null,
            "order": null,
            "overflow": null,
            "overflow_x": null,
            "overflow_y": null,
            "padding": null,
            "right": null,
            "top": null,
            "visibility": null,
            "width": null
          }
        },
        "31c46c4eebf14250bb7073e0c0182543": {
          "model_module": "@jupyter-widgets/controls",
          "model_name": "DescriptionStyleModel",
          "model_module_version": "1.5.0",
          "state": {
            "_model_module": "@jupyter-widgets/controls",
            "_model_module_version": "1.5.0",
            "_model_name": "DescriptionStyleModel",
            "_view_count": null,
            "_view_module": "@jupyter-widgets/base",
            "_view_module_version": "1.2.0",
            "_view_name": "StyleView",
            "description_width": ""
          }
        },
        "d7a18b54e7b141cd989b5ec6fcf99d9f": {
          "model_module": "@jupyter-widgets/controls",
          "model_name": "HBoxModel",
          "model_module_version": "1.5.0",
          "state": {
            "_dom_classes": [],
            "_model_module": "@jupyter-widgets/controls",
            "_model_module_version": "1.5.0",
            "_model_name": "HBoxModel",
            "_view_count": null,
            "_view_module": "@jupyter-widgets/controls",
            "_view_module_version": "1.5.0",
            "_view_name": "HBoxView",
            "box_style": "",
            "children": [
              "IPY_MODEL_9d4d40af9a38486898bfd363334d0c41",
              "IPY_MODEL_ed92afa5db914fe1bc2e821b28b4ab90",
              "IPY_MODEL_6d608e8f09bd4290b13d7de4e2d90433"
            ],
            "layout": "IPY_MODEL_9aa1170770af4827b658405897bfec36"
          }
        },
        "9d4d40af9a38486898bfd363334d0c41": {
          "model_module": "@jupyter-widgets/controls",
          "model_name": "HTMLModel",
          "model_module_version": "1.5.0",
          "state": {
            "_dom_classes": [],
            "_model_module": "@jupyter-widgets/controls",
            "_model_module_version": "1.5.0",
            "_model_name": "HTMLModel",
            "_view_count": null,
            "_view_module": "@jupyter-widgets/controls",
            "_view_module_version": "1.5.0",
            "_view_name": "HTMLView",
            "description": "",
            "description_tooltip": null,
            "layout": "IPY_MODEL_d9f97feb76dd4dd9a5ec6e512bae86d5",
            "placeholder": "​",
            "style": "IPY_MODEL_2fd160ad7c284b0cba66d57ad05203db",
            "value": "Downloading: 100%"
          }
        },
        "ed92afa5db914fe1bc2e821b28b4ab90": {
          "model_module": "@jupyter-widgets/controls",
          "model_name": "FloatProgressModel",
          "model_module_version": "1.5.0",
          "state": {
            "_dom_classes": [],
            "_model_module": "@jupyter-widgets/controls",
            "_model_module_version": "1.5.0",
            "_model_name": "FloatProgressModel",
            "_view_count": null,
            "_view_module": "@jupyter-widgets/controls",
            "_view_module_version": "1.5.0",
            "_view_name": "ProgressView",
            "bar_style": "success",
            "description": "",
            "description_tooltip": null,
            "layout": "IPY_MODEL_2ed9b2f00180409dad283558a6aedcea",
            "max": 231508,
            "min": 0,
            "orientation": "horizontal",
            "style": "IPY_MODEL_2b089a43b9b848c2bd7f9a840a37c6b6",
            "value": 231508
          }
        },
        "6d608e8f09bd4290b13d7de4e2d90433": {
          "model_module": "@jupyter-widgets/controls",
          "model_name": "HTMLModel",
          "model_module_version": "1.5.0",
          "state": {
            "_dom_classes": [],
            "_model_module": "@jupyter-widgets/controls",
            "_model_module_version": "1.5.0",
            "_model_name": "HTMLModel",
            "_view_count": null,
            "_view_module": "@jupyter-widgets/controls",
            "_view_module_version": "1.5.0",
            "_view_name": "HTMLView",
            "description": "",
            "description_tooltip": null,
            "layout": "IPY_MODEL_077779bb21c945b5875b4e78e5451c8e",
            "placeholder": "​",
            "style": "IPY_MODEL_789eed4939b2467caed40f260bda4c9e",
            "value": " 226k/226k [00:01&lt;00:00, 280kB/s]"
          }
        },
        "9aa1170770af4827b658405897bfec36": {
          "model_module": "@jupyter-widgets/base",
          "model_name": "LayoutModel",
          "model_module_version": "1.2.0",
          "state": {
            "_model_module": "@jupyter-widgets/base",
            "_model_module_version": "1.2.0",
            "_model_name": "LayoutModel",
            "_view_count": null,
            "_view_module": "@jupyter-widgets/base",
            "_view_module_version": "1.2.0",
            "_view_name": "LayoutView",
            "align_content": null,
            "align_items": null,
            "align_self": null,
            "border": null,
            "bottom": null,
            "display": null,
            "flex": null,
            "flex_flow": null,
            "grid_area": null,
            "grid_auto_columns": null,
            "grid_auto_flow": null,
            "grid_auto_rows": null,
            "grid_column": null,
            "grid_gap": null,
            "grid_row": null,
            "grid_template_areas": null,
            "grid_template_columns": null,
            "grid_template_rows": null,
            "height": null,
            "justify_content": null,
            "justify_items": null,
            "left": null,
            "margin": null,
            "max_height": null,
            "max_width": null,
            "min_height": null,
            "min_width": null,
            "object_fit": null,
            "object_position": null,
            "order": null,
            "overflow": null,
            "overflow_x": null,
            "overflow_y": null,
            "padding": null,
            "right": null,
            "top": null,
            "visibility": null,
            "width": null
          }
        },
        "d9f97feb76dd4dd9a5ec6e512bae86d5": {
          "model_module": "@jupyter-widgets/base",
          "model_name": "LayoutModel",
          "model_module_version": "1.2.0",
          "state": {
            "_model_module": "@jupyter-widgets/base",
            "_model_module_version": "1.2.0",
            "_model_name": "LayoutModel",
            "_view_count": null,
            "_view_module": "@jupyter-widgets/base",
            "_view_module_version": "1.2.0",
            "_view_name": "LayoutView",
            "align_content": null,
            "align_items": null,
            "align_self": null,
            "border": null,
            "bottom": null,
            "display": null,
            "flex": null,
            "flex_flow": null,
            "grid_area": null,
            "grid_auto_columns": null,
            "grid_auto_flow": null,
            "grid_auto_rows": null,
            "grid_column": null,
            "grid_gap": null,
            "grid_row": null,
            "grid_template_areas": null,
            "grid_template_columns": null,
            "grid_template_rows": null,
            "height": null,
            "justify_content": null,
            "justify_items": null,
            "left": null,
            "margin": null,
            "max_height": null,
            "max_width": null,
            "min_height": null,
            "min_width": null,
            "object_fit": null,
            "object_position": null,
            "order": null,
            "overflow": null,
            "overflow_x": null,
            "overflow_y": null,
            "padding": null,
            "right": null,
            "top": null,
            "visibility": null,
            "width": null
          }
        },
        "2fd160ad7c284b0cba66d57ad05203db": {
          "model_module": "@jupyter-widgets/controls",
          "model_name": "DescriptionStyleModel",
          "model_module_version": "1.5.0",
          "state": {
            "_model_module": "@jupyter-widgets/controls",
            "_model_module_version": "1.5.0",
            "_model_name": "DescriptionStyleModel",
            "_view_count": null,
            "_view_module": "@jupyter-widgets/base",
            "_view_module_version": "1.2.0",
            "_view_name": "StyleView",
            "description_width": ""
          }
        },
        "2ed9b2f00180409dad283558a6aedcea": {
          "model_module": "@jupyter-widgets/base",
          "model_name": "LayoutModel",
          "model_module_version": "1.2.0",
          "state": {
            "_model_module": "@jupyter-widgets/base",
            "_model_module_version": "1.2.0",
            "_model_name": "LayoutModel",
            "_view_count": null,
            "_view_module": "@jupyter-widgets/base",
            "_view_module_version": "1.2.0",
            "_view_name": "LayoutView",
            "align_content": null,
            "align_items": null,
            "align_self": null,
            "border": null,
            "bottom": null,
            "display": null,
            "flex": null,
            "flex_flow": null,
            "grid_area": null,
            "grid_auto_columns": null,
            "grid_auto_flow": null,
            "grid_auto_rows": null,
            "grid_column": null,
            "grid_gap": null,
            "grid_row": null,
            "grid_template_areas": null,
            "grid_template_columns": null,
            "grid_template_rows": null,
            "height": null,
            "justify_content": null,
            "justify_items": null,
            "left": null,
            "margin": null,
            "max_height": null,
            "max_width": null,
            "min_height": null,
            "min_width": null,
            "object_fit": null,
            "object_position": null,
            "order": null,
            "overflow": null,
            "overflow_x": null,
            "overflow_y": null,
            "padding": null,
            "right": null,
            "top": null,
            "visibility": null,
            "width": null
          }
        },
        "2b089a43b9b848c2bd7f9a840a37c6b6": {
          "model_module": "@jupyter-widgets/controls",
          "model_name": "ProgressStyleModel",
          "model_module_version": "1.5.0",
          "state": {
            "_model_module": "@jupyter-widgets/controls",
            "_model_module_version": "1.5.0",
            "_model_name": "ProgressStyleModel",
            "_view_count": null,
            "_view_module": "@jupyter-widgets/base",
            "_view_module_version": "1.2.0",
            "_view_name": "StyleView",
            "bar_color": null,
            "description_width": ""
          }
        },
        "077779bb21c945b5875b4e78e5451c8e": {
          "model_module": "@jupyter-widgets/base",
          "model_name": "LayoutModel",
          "model_module_version": "1.2.0",
          "state": {
            "_model_module": "@jupyter-widgets/base",
            "_model_module_version": "1.2.0",
            "_model_name": "LayoutModel",
            "_view_count": null,
            "_view_module": "@jupyter-widgets/base",
            "_view_module_version": "1.2.0",
            "_view_name": "LayoutView",
            "align_content": null,
            "align_items": null,
            "align_self": null,
            "border": null,
            "bottom": null,
            "display": null,
            "flex": null,
            "flex_flow": null,
            "grid_area": null,
            "grid_auto_columns": null,
            "grid_auto_flow": null,
            "grid_auto_rows": null,
            "grid_column": null,
            "grid_gap": null,
            "grid_row": null,
            "grid_template_areas": null,
            "grid_template_columns": null,
            "grid_template_rows": null,
            "height": null,
            "justify_content": null,
            "justify_items": null,
            "left": null,
            "margin": null,
            "max_height": null,
            "max_width": null,
            "min_height": null,
            "min_width": null,
            "object_fit": null,
            "object_position": null,
            "order": null,
            "overflow": null,
            "overflow_x": null,
            "overflow_y": null,
            "padding": null,
            "right": null,
            "top": null,
            "visibility": null,
            "width": null
          }
        },
        "789eed4939b2467caed40f260bda4c9e": {
          "model_module": "@jupyter-widgets/controls",
          "model_name": "DescriptionStyleModel",
          "model_module_version": "1.5.0",
          "state": {
            "_model_module": "@jupyter-widgets/controls",
            "_model_module_version": "1.5.0",
            "_model_name": "DescriptionStyleModel",
            "_view_count": null,
            "_view_module": "@jupyter-widgets/base",
            "_view_module_version": "1.2.0",
            "_view_name": "StyleView",
            "description_width": ""
          }
        },
        "656715446f1743da9424f6a19eab2213": {
          "model_module": "@jupyter-widgets/controls",
          "model_name": "HBoxModel",
          "model_module_version": "1.5.0",
          "state": {
            "_dom_classes": [],
            "_model_module": "@jupyter-widgets/controls",
            "_model_module_version": "1.5.0",
            "_model_name": "HBoxModel",
            "_view_count": null,
            "_view_module": "@jupyter-widgets/controls",
            "_view_module_version": "1.5.0",
            "_view_name": "HBoxView",
            "box_style": "",
            "children": [
              "IPY_MODEL_b022efbedfd343bba7917f7836965bc7",
              "IPY_MODEL_52634f827727490e93e8d949a0e94127",
              "IPY_MODEL_526d402d2b73463db49a5f162fdd62be"
            ],
            "layout": "IPY_MODEL_5a907271a7ea475888160624bcb05904"
          }
        },
        "b022efbedfd343bba7917f7836965bc7": {
          "model_module": "@jupyter-widgets/controls",
          "model_name": "HTMLModel",
          "model_module_version": "1.5.0",
          "state": {
            "_dom_classes": [],
            "_model_module": "@jupyter-widgets/controls",
            "_model_module_version": "1.5.0",
            "_model_name": "HTMLModel",
            "_view_count": null,
            "_view_module": "@jupyter-widgets/controls",
            "_view_module_version": "1.5.0",
            "_view_name": "HTMLView",
            "description": "",
            "description_tooltip": null,
            "layout": "IPY_MODEL_1226dab2ee9e471084c55b4265f29076",
            "placeholder": "​",
            "style": "IPY_MODEL_8540cde80b0d4645b836aaf9c63f2884",
            "value": "Downloading: 100%"
          }
        },
        "52634f827727490e93e8d949a0e94127": {
          "model_module": "@jupyter-widgets/controls",
          "model_name": "FloatProgressModel",
          "model_module_version": "1.5.0",
          "state": {
            "_dom_classes": [],
            "_model_module": "@jupyter-widgets/controls",
            "_model_module_version": "1.5.0",
            "_model_name": "FloatProgressModel",
            "_view_count": null,
            "_view_module": "@jupyter-widgets/controls",
            "_view_module_version": "1.5.0",
            "_view_name": "ProgressView",
            "bar_style": "success",
            "description": "",
            "description_tooltip": null,
            "layout": "IPY_MODEL_0cda62e8c89247a58094df5b47b54728",
            "max": 466062,
            "min": 0,
            "orientation": "horizontal",
            "style": "IPY_MODEL_fd5dc1f5d6014bd8b63b7e461b3024af",
            "value": 466062
          }
        },
        "526d402d2b73463db49a5f162fdd62be": {
          "model_module": "@jupyter-widgets/controls",
          "model_name": "HTMLModel",
          "model_module_version": "1.5.0",
          "state": {
            "_dom_classes": [],
            "_model_module": "@jupyter-widgets/controls",
            "_model_module_version": "1.5.0",
            "_model_name": "HTMLModel",
            "_view_count": null,
            "_view_module": "@jupyter-widgets/controls",
            "_view_module_version": "1.5.0",
            "_view_name": "HTMLView",
            "description": "",
            "description_tooltip": null,
            "layout": "IPY_MODEL_56b2df3ec4a44e3f973aa44aae76a04f",
            "placeholder": "​",
            "style": "IPY_MODEL_ccef6fe605744364b42176e4f725dace",
            "value": " 455k/455k [00:01&lt;00:00, 532kB/s]"
          }
        },
        "5a907271a7ea475888160624bcb05904": {
          "model_module": "@jupyter-widgets/base",
          "model_name": "LayoutModel",
          "model_module_version": "1.2.0",
          "state": {
            "_model_module": "@jupyter-widgets/base",
            "_model_module_version": "1.2.0",
            "_model_name": "LayoutModel",
            "_view_count": null,
            "_view_module": "@jupyter-widgets/base",
            "_view_module_version": "1.2.0",
            "_view_name": "LayoutView",
            "align_content": null,
            "align_items": null,
            "align_self": null,
            "border": null,
            "bottom": null,
            "display": null,
            "flex": null,
            "flex_flow": null,
            "grid_area": null,
            "grid_auto_columns": null,
            "grid_auto_flow": null,
            "grid_auto_rows": null,
            "grid_column": null,
            "grid_gap": null,
            "grid_row": null,
            "grid_template_areas": null,
            "grid_template_columns": null,
            "grid_template_rows": null,
            "height": null,
            "justify_content": null,
            "justify_items": null,
            "left": null,
            "margin": null,
            "max_height": null,
            "max_width": null,
            "min_height": null,
            "min_width": null,
            "object_fit": null,
            "object_position": null,
            "order": null,
            "overflow": null,
            "overflow_x": null,
            "overflow_y": null,
            "padding": null,
            "right": null,
            "top": null,
            "visibility": null,
            "width": null
          }
        },
        "1226dab2ee9e471084c55b4265f29076": {
          "model_module": "@jupyter-widgets/base",
          "model_name": "LayoutModel",
          "model_module_version": "1.2.0",
          "state": {
            "_model_module": "@jupyter-widgets/base",
            "_model_module_version": "1.2.0",
            "_model_name": "LayoutModel",
            "_view_count": null,
            "_view_module": "@jupyter-widgets/base",
            "_view_module_version": "1.2.0",
            "_view_name": "LayoutView",
            "align_content": null,
            "align_items": null,
            "align_self": null,
            "border": null,
            "bottom": null,
            "display": null,
            "flex": null,
            "flex_flow": null,
            "grid_area": null,
            "grid_auto_columns": null,
            "grid_auto_flow": null,
            "grid_auto_rows": null,
            "grid_column": null,
            "grid_gap": null,
            "grid_row": null,
            "grid_template_areas": null,
            "grid_template_columns": null,
            "grid_template_rows": null,
            "height": null,
            "justify_content": null,
            "justify_items": null,
            "left": null,
            "margin": null,
            "max_height": null,
            "max_width": null,
            "min_height": null,
            "min_width": null,
            "object_fit": null,
            "object_position": null,
            "order": null,
            "overflow": null,
            "overflow_x": null,
            "overflow_y": null,
            "padding": null,
            "right": null,
            "top": null,
            "visibility": null,
            "width": null
          }
        },
        "8540cde80b0d4645b836aaf9c63f2884": {
          "model_module": "@jupyter-widgets/controls",
          "model_name": "DescriptionStyleModel",
          "model_module_version": "1.5.0",
          "state": {
            "_model_module": "@jupyter-widgets/controls",
            "_model_module_version": "1.5.0",
            "_model_name": "DescriptionStyleModel",
            "_view_count": null,
            "_view_module": "@jupyter-widgets/base",
            "_view_module_version": "1.2.0",
            "_view_name": "StyleView",
            "description_width": ""
          }
        },
        "0cda62e8c89247a58094df5b47b54728": {
          "model_module": "@jupyter-widgets/base",
          "model_name": "LayoutModel",
          "model_module_version": "1.2.0",
          "state": {
            "_model_module": "@jupyter-widgets/base",
            "_model_module_version": "1.2.0",
            "_model_name": "LayoutModel",
            "_view_count": null,
            "_view_module": "@jupyter-widgets/base",
            "_view_module_version": "1.2.0",
            "_view_name": "LayoutView",
            "align_content": null,
            "align_items": null,
            "align_self": null,
            "border": null,
            "bottom": null,
            "display": null,
            "flex": null,
            "flex_flow": null,
            "grid_area": null,
            "grid_auto_columns": null,
            "grid_auto_flow": null,
            "grid_auto_rows": null,
            "grid_column": null,
            "grid_gap": null,
            "grid_row": null,
            "grid_template_areas": null,
            "grid_template_columns": null,
            "grid_template_rows": null,
            "height": null,
            "justify_content": null,
            "justify_items": null,
            "left": null,
            "margin": null,
            "max_height": null,
            "max_width": null,
            "min_height": null,
            "min_width": null,
            "object_fit": null,
            "object_position": null,
            "order": null,
            "overflow": null,
            "overflow_x": null,
            "overflow_y": null,
            "padding": null,
            "right": null,
            "top": null,
            "visibility": null,
            "width": null
          }
        },
        "fd5dc1f5d6014bd8b63b7e461b3024af": {
          "model_module": "@jupyter-widgets/controls",
          "model_name": "ProgressStyleModel",
          "model_module_version": "1.5.0",
          "state": {
            "_model_module": "@jupyter-widgets/controls",
            "_model_module_version": "1.5.0",
            "_model_name": "ProgressStyleModel",
            "_view_count": null,
            "_view_module": "@jupyter-widgets/base",
            "_view_module_version": "1.2.0",
            "_view_name": "StyleView",
            "bar_color": null,
            "description_width": ""
          }
        },
        "56b2df3ec4a44e3f973aa44aae76a04f": {
          "model_module": "@jupyter-widgets/base",
          "model_name": "LayoutModel",
          "model_module_version": "1.2.0",
          "state": {
            "_model_module": "@jupyter-widgets/base",
            "_model_module_version": "1.2.0",
            "_model_name": "LayoutModel",
            "_view_count": null,
            "_view_module": "@jupyter-widgets/base",
            "_view_module_version": "1.2.0",
            "_view_name": "LayoutView",
            "align_content": null,
            "align_items": null,
            "align_self": null,
            "border": null,
            "bottom": null,
            "display": null,
            "flex": null,
            "flex_flow": null,
            "grid_area": null,
            "grid_auto_columns": null,
            "grid_auto_flow": null,
            "grid_auto_rows": null,
            "grid_column": null,
            "grid_gap": null,
            "grid_row": null,
            "grid_template_areas": null,
            "grid_template_columns": null,
            "grid_template_rows": null,
            "height": null,
            "justify_content": null,
            "justify_items": null,
            "left": null,
            "margin": null,
            "max_height": null,
            "max_width": null,
            "min_height": null,
            "min_width": null,
            "object_fit": null,
            "object_position": null,
            "order": null,
            "overflow": null,
            "overflow_x": null,
            "overflow_y": null,
            "padding": null,
            "right": null,
            "top": null,
            "visibility": null,
            "width": null
          }
        },
        "ccef6fe605744364b42176e4f725dace": {
          "model_module": "@jupyter-widgets/controls",
          "model_name": "DescriptionStyleModel",
          "model_module_version": "1.5.0",
          "state": {
            "_model_module": "@jupyter-widgets/controls",
            "_model_module_version": "1.5.0",
            "_model_name": "DescriptionStyleModel",
            "_view_count": null,
            "_view_module": "@jupyter-widgets/base",
            "_view_module_version": "1.2.0",
            "_view_name": "StyleView",
            "description_width": ""
          }
        },
        "59b0e03347914f4794f7da5327fe9799": {
          "model_module": "@jupyter-widgets/controls",
          "model_name": "HBoxModel",
          "model_module_version": "1.5.0",
          "state": {
            "_dom_classes": [],
            "_model_module": "@jupyter-widgets/controls",
            "_model_module_version": "1.5.0",
            "_model_name": "HBoxModel",
            "_view_count": null,
            "_view_module": "@jupyter-widgets/controls",
            "_view_module_version": "1.5.0",
            "_view_name": "HBoxView",
            "box_style": "",
            "children": [
              "IPY_MODEL_63a3a46620834f12972f74301e0a390f",
              "IPY_MODEL_468495dc9ace40d4a8e0e8e014b627a9",
              "IPY_MODEL_f7ecdb7a402245059d3528baf723dfb7"
            ],
            "layout": "IPY_MODEL_81604ab7b49d459ba580aab7ae3e0f84"
          }
        },
        "63a3a46620834f12972f74301e0a390f": {
          "model_module": "@jupyter-widgets/controls",
          "model_name": "HTMLModel",
          "model_module_version": "1.5.0",
          "state": {
            "_dom_classes": [],
            "_model_module": "@jupyter-widgets/controls",
            "_model_module_version": "1.5.0",
            "_model_name": "HTMLModel",
            "_view_count": null,
            "_view_module": "@jupyter-widgets/controls",
            "_view_module_version": "1.5.0",
            "_view_name": "HTMLView",
            "description": "",
            "description_tooltip": null,
            "layout": "IPY_MODEL_728c3e9ec4604a94bbb33ec95a02977a",
            "placeholder": "​",
            "style": "IPY_MODEL_b9130e77e715401ca086ca4749176570",
            "value": "100%"
          }
        },
        "468495dc9ace40d4a8e0e8e014b627a9": {
          "model_module": "@jupyter-widgets/controls",
          "model_name": "FloatProgressModel",
          "model_module_version": "1.5.0",
          "state": {
            "_dom_classes": [],
            "_model_module": "@jupyter-widgets/controls",
            "_model_module_version": "1.5.0",
            "_model_name": "FloatProgressModel",
            "_view_count": null,
            "_view_module": "@jupyter-widgets/controls",
            "_view_module_version": "1.5.0",
            "_view_name": "ProgressView",
            "bar_style": "success",
            "description": "",
            "description_tooltip": null,
            "layout": "IPY_MODEL_18ddf4cb4a5344559c40543ecddc005d",
            "max": 1,
            "min": 0,
            "orientation": "horizontal",
            "style": "IPY_MODEL_1f6ec15637f64c368415d2cd9c530aba",
            "value": 1
          }
        },
        "f7ecdb7a402245059d3528baf723dfb7": {
          "model_module": "@jupyter-widgets/controls",
          "model_name": "HTMLModel",
          "model_module_version": "1.5.0",
          "state": {
            "_dom_classes": [],
            "_model_module": "@jupyter-widgets/controls",
            "_model_module_version": "1.5.0",
            "_model_name": "HTMLModel",
            "_view_count": null,
            "_view_module": "@jupyter-widgets/controls",
            "_view_module_version": "1.5.0",
            "_view_name": "HTMLView",
            "description": "",
            "description_tooltip": null,
            "layout": "IPY_MODEL_90fbd19cb237467484e7a030a2c33784",
            "placeholder": "​",
            "style": "IPY_MODEL_93c1495faf664646b6f2ee0442d96c01",
            "value": " 1/1 [00:01&lt;00:00,  1.43s/ba]"
          }
        },
        "81604ab7b49d459ba580aab7ae3e0f84": {
          "model_module": "@jupyter-widgets/base",
          "model_name": "LayoutModel",
          "model_module_version": "1.2.0",
          "state": {
            "_model_module": "@jupyter-widgets/base",
            "_model_module_version": "1.2.0",
            "_model_name": "LayoutModel",
            "_view_count": null,
            "_view_module": "@jupyter-widgets/base",
            "_view_module_version": "1.2.0",
            "_view_name": "LayoutView",
            "align_content": null,
            "align_items": null,
            "align_self": null,
            "border": null,
            "bottom": null,
            "display": null,
            "flex": null,
            "flex_flow": null,
            "grid_area": null,
            "grid_auto_columns": null,
            "grid_auto_flow": null,
            "grid_auto_rows": null,
            "grid_column": null,
            "grid_gap": null,
            "grid_row": null,
            "grid_template_areas": null,
            "grid_template_columns": null,
            "grid_template_rows": null,
            "height": null,
            "justify_content": null,
            "justify_items": null,
            "left": null,
            "margin": null,
            "max_height": null,
            "max_width": null,
            "min_height": null,
            "min_width": null,
            "object_fit": null,
            "object_position": null,
            "order": null,
            "overflow": null,
            "overflow_x": null,
            "overflow_y": null,
            "padding": null,
            "right": null,
            "top": null,
            "visibility": null,
            "width": null
          }
        },
        "728c3e9ec4604a94bbb33ec95a02977a": {
          "model_module": "@jupyter-widgets/base",
          "model_name": "LayoutModel",
          "model_module_version": "1.2.0",
          "state": {
            "_model_module": "@jupyter-widgets/base",
            "_model_module_version": "1.2.0",
            "_model_name": "LayoutModel",
            "_view_count": null,
            "_view_module": "@jupyter-widgets/base",
            "_view_module_version": "1.2.0",
            "_view_name": "LayoutView",
            "align_content": null,
            "align_items": null,
            "align_self": null,
            "border": null,
            "bottom": null,
            "display": null,
            "flex": null,
            "flex_flow": null,
            "grid_area": null,
            "grid_auto_columns": null,
            "grid_auto_flow": null,
            "grid_auto_rows": null,
            "grid_column": null,
            "grid_gap": null,
            "grid_row": null,
            "grid_template_areas": null,
            "grid_template_columns": null,
            "grid_template_rows": null,
            "height": null,
            "justify_content": null,
            "justify_items": null,
            "left": null,
            "margin": null,
            "max_height": null,
            "max_width": null,
            "min_height": null,
            "min_width": null,
            "object_fit": null,
            "object_position": null,
            "order": null,
            "overflow": null,
            "overflow_x": null,
            "overflow_y": null,
            "padding": null,
            "right": null,
            "top": null,
            "visibility": null,
            "width": null
          }
        },
        "b9130e77e715401ca086ca4749176570": {
          "model_module": "@jupyter-widgets/controls",
          "model_name": "DescriptionStyleModel",
          "model_module_version": "1.5.0",
          "state": {
            "_model_module": "@jupyter-widgets/controls",
            "_model_module_version": "1.5.0",
            "_model_name": "DescriptionStyleModel",
            "_view_count": null,
            "_view_module": "@jupyter-widgets/base",
            "_view_module_version": "1.2.0",
            "_view_name": "StyleView",
            "description_width": ""
          }
        },
        "18ddf4cb4a5344559c40543ecddc005d": {
          "model_module": "@jupyter-widgets/base",
          "model_name": "LayoutModel",
          "model_module_version": "1.2.0",
          "state": {
            "_model_module": "@jupyter-widgets/base",
            "_model_module_version": "1.2.0",
            "_model_name": "LayoutModel",
            "_view_count": null,
            "_view_module": "@jupyter-widgets/base",
            "_view_module_version": "1.2.0",
            "_view_name": "LayoutView",
            "align_content": null,
            "align_items": null,
            "align_self": null,
            "border": null,
            "bottom": null,
            "display": null,
            "flex": null,
            "flex_flow": null,
            "grid_area": null,
            "grid_auto_columns": null,
            "grid_auto_flow": null,
            "grid_auto_rows": null,
            "grid_column": null,
            "grid_gap": null,
            "grid_row": null,
            "grid_template_areas": null,
            "grid_template_columns": null,
            "grid_template_rows": null,
            "height": null,
            "justify_content": null,
            "justify_items": null,
            "left": null,
            "margin": null,
            "max_height": null,
            "max_width": null,
            "min_height": null,
            "min_width": null,
            "object_fit": null,
            "object_position": null,
            "order": null,
            "overflow": null,
            "overflow_x": null,
            "overflow_y": null,
            "padding": null,
            "right": null,
            "top": null,
            "visibility": null,
            "width": null
          }
        },
        "1f6ec15637f64c368415d2cd9c530aba": {
          "model_module": "@jupyter-widgets/controls",
          "model_name": "ProgressStyleModel",
          "model_module_version": "1.5.0",
          "state": {
            "_model_module": "@jupyter-widgets/controls",
            "_model_module_version": "1.5.0",
            "_model_name": "ProgressStyleModel",
            "_view_count": null,
            "_view_module": "@jupyter-widgets/base",
            "_view_module_version": "1.2.0",
            "_view_name": "StyleView",
            "bar_color": null,
            "description_width": ""
          }
        },
        "90fbd19cb237467484e7a030a2c33784": {
          "model_module": "@jupyter-widgets/base",
          "model_name": "LayoutModel",
          "model_module_version": "1.2.0",
          "state": {
            "_model_module": "@jupyter-widgets/base",
            "_model_module_version": "1.2.0",
            "_model_name": "LayoutModel",
            "_view_count": null,
            "_view_module": "@jupyter-widgets/base",
            "_view_module_version": "1.2.0",
            "_view_name": "LayoutView",
            "align_content": null,
            "align_items": null,
            "align_self": null,
            "border": null,
            "bottom": null,
            "display": null,
            "flex": null,
            "flex_flow": null,
            "grid_area": null,
            "grid_auto_columns": null,
            "grid_auto_flow": null,
            "grid_auto_rows": null,
            "grid_column": null,
            "grid_gap": null,
            "grid_row": null,
            "grid_template_areas": null,
            "grid_template_columns": null,
            "grid_template_rows": null,
            "height": null,
            "justify_content": null,
            "justify_items": null,
            "left": null,
            "margin": null,
            "max_height": null,
            "max_width": null,
            "min_height": null,
            "min_width": null,
            "object_fit": null,
            "object_position": null,
            "order": null,
            "overflow": null,
            "overflow_x": null,
            "overflow_y": null,
            "padding": null,
            "right": null,
            "top": null,
            "visibility": null,
            "width": null
          }
        },
        "93c1495faf664646b6f2ee0442d96c01": {
          "model_module": "@jupyter-widgets/controls",
          "model_name": "DescriptionStyleModel",
          "model_module_version": "1.5.0",
          "state": {
            "_model_module": "@jupyter-widgets/controls",
            "_model_module_version": "1.5.0",
            "_model_name": "DescriptionStyleModel",
            "_view_count": null,
            "_view_module": "@jupyter-widgets/base",
            "_view_module_version": "1.2.0",
            "_view_name": "StyleView",
            "description_width": ""
          }
        },
        "1f05adefed01472ba88ca7bf4100276d": {
          "model_module": "@jupyter-widgets/controls",
          "model_name": "HBoxModel",
          "model_module_version": "1.5.0",
          "state": {
            "_dom_classes": [],
            "_model_module": "@jupyter-widgets/controls",
            "_model_module_version": "1.5.0",
            "_model_name": "HBoxModel",
            "_view_count": null,
            "_view_module": "@jupyter-widgets/controls",
            "_view_module_version": "1.5.0",
            "_view_name": "HBoxView",
            "box_style": "",
            "children": [
              "IPY_MODEL_888323544bb041d8bf98c7ffc00ef1c6",
              "IPY_MODEL_ff981cc5211e497e918b7b57afc78825",
              "IPY_MODEL_054f6710f09f4c749cd936162f25d234"
            ],
            "layout": "IPY_MODEL_2b45b47b1cc049b39191ac563fb247eb"
          }
        },
        "888323544bb041d8bf98c7ffc00ef1c6": {
          "model_module": "@jupyter-widgets/controls",
          "model_name": "HTMLModel",
          "model_module_version": "1.5.0",
          "state": {
            "_dom_classes": [],
            "_model_module": "@jupyter-widgets/controls",
            "_model_module_version": "1.5.0",
            "_model_name": "HTMLModel",
            "_view_count": null,
            "_view_module": "@jupyter-widgets/controls",
            "_view_module_version": "1.5.0",
            "_view_name": "HTMLView",
            "description": "",
            "description_tooltip": null,
            "layout": "IPY_MODEL_14c81f1fb36545319ebaf1bff0baa347",
            "placeholder": "​",
            "style": "IPY_MODEL_92d702ca01d8423c938a570534330a1d",
            "value": "100%"
          }
        },
        "ff981cc5211e497e918b7b57afc78825": {
          "model_module": "@jupyter-widgets/controls",
          "model_name": "FloatProgressModel",
          "model_module_version": "1.5.0",
          "state": {
            "_dom_classes": [],
            "_model_module": "@jupyter-widgets/controls",
            "_model_module_version": "1.5.0",
            "_model_name": "FloatProgressModel",
            "_view_count": null,
            "_view_module": "@jupyter-widgets/controls",
            "_view_module_version": "1.5.0",
            "_view_name": "ProgressView",
            "bar_style": "success",
            "description": "",
            "description_tooltip": null,
            "layout": "IPY_MODEL_97793e06ed2c4f5ea93841f1f6aab58a",
            "max": 1,
            "min": 0,
            "orientation": "horizontal",
            "style": "IPY_MODEL_e41db96b104b4231b5903be91475c98a",
            "value": 1
          }
        },
        "054f6710f09f4c749cd936162f25d234": {
          "model_module": "@jupyter-widgets/controls",
          "model_name": "HTMLModel",
          "model_module_version": "1.5.0",
          "state": {
            "_dom_classes": [],
            "_model_module": "@jupyter-widgets/controls",
            "_model_module_version": "1.5.0",
            "_model_name": "HTMLModel",
            "_view_count": null,
            "_view_module": "@jupyter-widgets/controls",
            "_view_module_version": "1.5.0",
            "_view_name": "HTMLView",
            "description": "",
            "description_tooltip": null,
            "layout": "IPY_MODEL_56635292331e4213b40dcebc5b458991",
            "placeholder": "​",
            "style": "IPY_MODEL_cca00629d23a4848b293291347fb62fb",
            "value": " 1/1 [00:00&lt;00:00,  5.34ba/s]"
          }
        },
        "2b45b47b1cc049b39191ac563fb247eb": {
          "model_module": "@jupyter-widgets/base",
          "model_name": "LayoutModel",
          "model_module_version": "1.2.0",
          "state": {
            "_model_module": "@jupyter-widgets/base",
            "_model_module_version": "1.2.0",
            "_model_name": "LayoutModel",
            "_view_count": null,
            "_view_module": "@jupyter-widgets/base",
            "_view_module_version": "1.2.0",
            "_view_name": "LayoutView",
            "align_content": null,
            "align_items": null,
            "align_self": null,
            "border": null,
            "bottom": null,
            "display": null,
            "flex": null,
            "flex_flow": null,
            "grid_area": null,
            "grid_auto_columns": null,
            "grid_auto_flow": null,
            "grid_auto_rows": null,
            "grid_column": null,
            "grid_gap": null,
            "grid_row": null,
            "grid_template_areas": null,
            "grid_template_columns": null,
            "grid_template_rows": null,
            "height": null,
            "justify_content": null,
            "justify_items": null,
            "left": null,
            "margin": null,
            "max_height": null,
            "max_width": null,
            "min_height": null,
            "min_width": null,
            "object_fit": null,
            "object_position": null,
            "order": null,
            "overflow": null,
            "overflow_x": null,
            "overflow_y": null,
            "padding": null,
            "right": null,
            "top": null,
            "visibility": null,
            "width": null
          }
        },
        "14c81f1fb36545319ebaf1bff0baa347": {
          "model_module": "@jupyter-widgets/base",
          "model_name": "LayoutModel",
          "model_module_version": "1.2.0",
          "state": {
            "_model_module": "@jupyter-widgets/base",
            "_model_module_version": "1.2.0",
            "_model_name": "LayoutModel",
            "_view_count": null,
            "_view_module": "@jupyter-widgets/base",
            "_view_module_version": "1.2.0",
            "_view_name": "LayoutView",
            "align_content": null,
            "align_items": null,
            "align_self": null,
            "border": null,
            "bottom": null,
            "display": null,
            "flex": null,
            "flex_flow": null,
            "grid_area": null,
            "grid_auto_columns": null,
            "grid_auto_flow": null,
            "grid_auto_rows": null,
            "grid_column": null,
            "grid_gap": null,
            "grid_row": null,
            "grid_template_areas": null,
            "grid_template_columns": null,
            "grid_template_rows": null,
            "height": null,
            "justify_content": null,
            "justify_items": null,
            "left": null,
            "margin": null,
            "max_height": null,
            "max_width": null,
            "min_height": null,
            "min_width": null,
            "object_fit": null,
            "object_position": null,
            "order": null,
            "overflow": null,
            "overflow_x": null,
            "overflow_y": null,
            "padding": null,
            "right": null,
            "top": null,
            "visibility": null,
            "width": null
          }
        },
        "92d702ca01d8423c938a570534330a1d": {
          "model_module": "@jupyter-widgets/controls",
          "model_name": "DescriptionStyleModel",
          "model_module_version": "1.5.0",
          "state": {
            "_model_module": "@jupyter-widgets/controls",
            "_model_module_version": "1.5.0",
            "_model_name": "DescriptionStyleModel",
            "_view_count": null,
            "_view_module": "@jupyter-widgets/base",
            "_view_module_version": "1.2.0",
            "_view_name": "StyleView",
            "description_width": ""
          }
        },
        "97793e06ed2c4f5ea93841f1f6aab58a": {
          "model_module": "@jupyter-widgets/base",
          "model_name": "LayoutModel",
          "model_module_version": "1.2.0",
          "state": {
            "_model_module": "@jupyter-widgets/base",
            "_model_module_version": "1.2.0",
            "_model_name": "LayoutModel",
            "_view_count": null,
            "_view_module": "@jupyter-widgets/base",
            "_view_module_version": "1.2.0",
            "_view_name": "LayoutView",
            "align_content": null,
            "align_items": null,
            "align_self": null,
            "border": null,
            "bottom": null,
            "display": null,
            "flex": null,
            "flex_flow": null,
            "grid_area": null,
            "grid_auto_columns": null,
            "grid_auto_flow": null,
            "grid_auto_rows": null,
            "grid_column": null,
            "grid_gap": null,
            "grid_row": null,
            "grid_template_areas": null,
            "grid_template_columns": null,
            "grid_template_rows": null,
            "height": null,
            "justify_content": null,
            "justify_items": null,
            "left": null,
            "margin": null,
            "max_height": null,
            "max_width": null,
            "min_height": null,
            "min_width": null,
            "object_fit": null,
            "object_position": null,
            "order": null,
            "overflow": null,
            "overflow_x": null,
            "overflow_y": null,
            "padding": null,
            "right": null,
            "top": null,
            "visibility": null,
            "width": null
          }
        },
        "e41db96b104b4231b5903be91475c98a": {
          "model_module": "@jupyter-widgets/controls",
          "model_name": "ProgressStyleModel",
          "model_module_version": "1.5.0",
          "state": {
            "_model_module": "@jupyter-widgets/controls",
            "_model_module_version": "1.5.0",
            "_model_name": "ProgressStyleModel",
            "_view_count": null,
            "_view_module": "@jupyter-widgets/base",
            "_view_module_version": "1.2.0",
            "_view_name": "StyleView",
            "bar_color": null,
            "description_width": ""
          }
        },
        "56635292331e4213b40dcebc5b458991": {
          "model_module": "@jupyter-widgets/base",
          "model_name": "LayoutModel",
          "model_module_version": "1.2.0",
          "state": {
            "_model_module": "@jupyter-widgets/base",
            "_model_module_version": "1.2.0",
            "_model_name": "LayoutModel",
            "_view_count": null,
            "_view_module": "@jupyter-widgets/base",
            "_view_module_version": "1.2.0",
            "_view_name": "LayoutView",
            "align_content": null,
            "align_items": null,
            "align_self": null,
            "border": null,
            "bottom": null,
            "display": null,
            "flex": null,
            "flex_flow": null,
            "grid_area": null,
            "grid_auto_columns": null,
            "grid_auto_flow": null,
            "grid_auto_rows": null,
            "grid_column": null,
            "grid_gap": null,
            "grid_row": null,
            "grid_template_areas": null,
            "grid_template_columns": null,
            "grid_template_rows": null,
            "height": null,
            "justify_content": null,
            "justify_items": null,
            "left": null,
            "margin": null,
            "max_height": null,
            "max_width": null,
            "min_height": null,
            "min_width": null,
            "object_fit": null,
            "object_position": null,
            "order": null,
            "overflow": null,
            "overflow_x": null,
            "overflow_y": null,
            "padding": null,
            "right": null,
            "top": null,
            "visibility": null,
            "width": null
          }
        },
        "cca00629d23a4848b293291347fb62fb": {
          "model_module": "@jupyter-widgets/controls",
          "model_name": "DescriptionStyleModel",
          "model_module_version": "1.5.0",
          "state": {
            "_model_module": "@jupyter-widgets/controls",
            "_model_module_version": "1.5.0",
            "_model_name": "DescriptionStyleModel",
            "_view_count": null,
            "_view_module": "@jupyter-widgets/base",
            "_view_module_version": "1.2.0",
            "_view_name": "StyleView",
            "description_width": ""
          }
        },
        "c0568bd8f127475ba70dfa8f76f58505": {
          "model_module": "@jupyter-widgets/controls",
          "model_name": "HBoxModel",
          "model_module_version": "1.5.0",
          "state": {
            "_dom_classes": [],
            "_model_module": "@jupyter-widgets/controls",
            "_model_module_version": "1.5.0",
            "_model_name": "HBoxModel",
            "_view_count": null,
            "_view_module": "@jupyter-widgets/controls",
            "_view_module_version": "1.5.0",
            "_view_name": "HBoxView",
            "box_style": "",
            "children": [
              "IPY_MODEL_d20e5b6287464ccf975670e20b642508",
              "IPY_MODEL_3a9d0fe7562343fead093337031b3955",
              "IPY_MODEL_88e64d0684b449a7897bfad760774de0"
            ],
            "layout": "IPY_MODEL_074762f53b89404c99375db4b8859831"
          }
        },
        "d20e5b6287464ccf975670e20b642508": {
          "model_module": "@jupyter-widgets/controls",
          "model_name": "HTMLModel",
          "model_module_version": "1.5.0",
          "state": {
            "_dom_classes": [],
            "_model_module": "@jupyter-widgets/controls",
            "_model_module_version": "1.5.0",
            "_model_name": "HTMLModel",
            "_view_count": null,
            "_view_module": "@jupyter-widgets/controls",
            "_view_module_version": "1.5.0",
            "_view_name": "HTMLView",
            "description": "",
            "description_tooltip": null,
            "layout": "IPY_MODEL_52de6e0a413d4c07af241c0f9e7ba8df",
            "placeholder": "​",
            "style": "IPY_MODEL_d5047b1c07724182aa0c5d60fcd797c8",
            "value": "100%"
          }
        },
        "3a9d0fe7562343fead093337031b3955": {
          "model_module": "@jupyter-widgets/controls",
          "model_name": "FloatProgressModel",
          "model_module_version": "1.5.0",
          "state": {
            "_dom_classes": [],
            "_model_module": "@jupyter-widgets/controls",
            "_model_module_version": "1.5.0",
            "_model_name": "FloatProgressModel",
            "_view_count": null,
            "_view_module": "@jupyter-widgets/controls",
            "_view_module_version": "1.5.0",
            "_view_name": "ProgressView",
            "bar_style": "success",
            "description": "",
            "description_tooltip": null,
            "layout": "IPY_MODEL_808ffdff8b1e4b1ea9e57c990b4b3085",
            "max": 1,
            "min": 0,
            "orientation": "horizontal",
            "style": "IPY_MODEL_a74edd0eb7024c61a7df30cc97b692f7",
            "value": 1
          }
        },
        "88e64d0684b449a7897bfad760774de0": {
          "model_module": "@jupyter-widgets/controls",
          "model_name": "HTMLModel",
          "model_module_version": "1.5.0",
          "state": {
            "_dom_classes": [],
            "_model_module": "@jupyter-widgets/controls",
            "_model_module_version": "1.5.0",
            "_model_name": "HTMLModel",
            "_view_count": null,
            "_view_module": "@jupyter-widgets/controls",
            "_view_module_version": "1.5.0",
            "_view_name": "HTMLView",
            "description": "",
            "description_tooltip": null,
            "layout": "IPY_MODEL_75c721da2696494695e6ca1cfeac31df",
            "placeholder": "​",
            "style": "IPY_MODEL_35121967132944bba0f3bc7281f9e1f2",
            "value": " 1/1 [00:00&lt;00:00,  5.36ba/s]"
          }
        },
        "074762f53b89404c99375db4b8859831": {
          "model_module": "@jupyter-widgets/base",
          "model_name": "LayoutModel",
          "model_module_version": "1.2.0",
          "state": {
            "_model_module": "@jupyter-widgets/base",
            "_model_module_version": "1.2.0",
            "_model_name": "LayoutModel",
            "_view_count": null,
            "_view_module": "@jupyter-widgets/base",
            "_view_module_version": "1.2.0",
            "_view_name": "LayoutView",
            "align_content": null,
            "align_items": null,
            "align_self": null,
            "border": null,
            "bottom": null,
            "display": null,
            "flex": null,
            "flex_flow": null,
            "grid_area": null,
            "grid_auto_columns": null,
            "grid_auto_flow": null,
            "grid_auto_rows": null,
            "grid_column": null,
            "grid_gap": null,
            "grid_row": null,
            "grid_template_areas": null,
            "grid_template_columns": null,
            "grid_template_rows": null,
            "height": null,
            "justify_content": null,
            "justify_items": null,
            "left": null,
            "margin": null,
            "max_height": null,
            "max_width": null,
            "min_height": null,
            "min_width": null,
            "object_fit": null,
            "object_position": null,
            "order": null,
            "overflow": null,
            "overflow_x": null,
            "overflow_y": null,
            "padding": null,
            "right": null,
            "top": null,
            "visibility": null,
            "width": null
          }
        },
        "52de6e0a413d4c07af241c0f9e7ba8df": {
          "model_module": "@jupyter-widgets/base",
          "model_name": "LayoutModel",
          "model_module_version": "1.2.0",
          "state": {
            "_model_module": "@jupyter-widgets/base",
            "_model_module_version": "1.2.0",
            "_model_name": "LayoutModel",
            "_view_count": null,
            "_view_module": "@jupyter-widgets/base",
            "_view_module_version": "1.2.0",
            "_view_name": "LayoutView",
            "align_content": null,
            "align_items": null,
            "align_self": null,
            "border": null,
            "bottom": null,
            "display": null,
            "flex": null,
            "flex_flow": null,
            "grid_area": null,
            "grid_auto_columns": null,
            "grid_auto_flow": null,
            "grid_auto_rows": null,
            "grid_column": null,
            "grid_gap": null,
            "grid_row": null,
            "grid_template_areas": null,
            "grid_template_columns": null,
            "grid_template_rows": null,
            "height": null,
            "justify_content": null,
            "justify_items": null,
            "left": null,
            "margin": null,
            "max_height": null,
            "max_width": null,
            "min_height": null,
            "min_width": null,
            "object_fit": null,
            "object_position": null,
            "order": null,
            "overflow": null,
            "overflow_x": null,
            "overflow_y": null,
            "padding": null,
            "right": null,
            "top": null,
            "visibility": null,
            "width": null
          }
        },
        "d5047b1c07724182aa0c5d60fcd797c8": {
          "model_module": "@jupyter-widgets/controls",
          "model_name": "DescriptionStyleModel",
          "model_module_version": "1.5.0",
          "state": {
            "_model_module": "@jupyter-widgets/controls",
            "_model_module_version": "1.5.0",
            "_model_name": "DescriptionStyleModel",
            "_view_count": null,
            "_view_module": "@jupyter-widgets/base",
            "_view_module_version": "1.2.0",
            "_view_name": "StyleView",
            "description_width": ""
          }
        },
        "808ffdff8b1e4b1ea9e57c990b4b3085": {
          "model_module": "@jupyter-widgets/base",
          "model_name": "LayoutModel",
          "model_module_version": "1.2.0",
          "state": {
            "_model_module": "@jupyter-widgets/base",
            "_model_module_version": "1.2.0",
            "_model_name": "LayoutModel",
            "_view_count": null,
            "_view_module": "@jupyter-widgets/base",
            "_view_module_version": "1.2.0",
            "_view_name": "LayoutView",
            "align_content": null,
            "align_items": null,
            "align_self": null,
            "border": null,
            "bottom": null,
            "display": null,
            "flex": null,
            "flex_flow": null,
            "grid_area": null,
            "grid_auto_columns": null,
            "grid_auto_flow": null,
            "grid_auto_rows": null,
            "grid_column": null,
            "grid_gap": null,
            "grid_row": null,
            "grid_template_areas": null,
            "grid_template_columns": null,
            "grid_template_rows": null,
            "height": null,
            "justify_content": null,
            "justify_items": null,
            "left": null,
            "margin": null,
            "max_height": null,
            "max_width": null,
            "min_height": null,
            "min_width": null,
            "object_fit": null,
            "object_position": null,
            "order": null,
            "overflow": null,
            "overflow_x": null,
            "overflow_y": null,
            "padding": null,
            "right": null,
            "top": null,
            "visibility": null,
            "width": null
          }
        },
        "a74edd0eb7024c61a7df30cc97b692f7": {
          "model_module": "@jupyter-widgets/controls",
          "model_name": "ProgressStyleModel",
          "model_module_version": "1.5.0",
          "state": {
            "_model_module": "@jupyter-widgets/controls",
            "_model_module_version": "1.5.0",
            "_model_name": "ProgressStyleModel",
            "_view_count": null,
            "_view_module": "@jupyter-widgets/base",
            "_view_module_version": "1.2.0",
            "_view_name": "StyleView",
            "bar_color": null,
            "description_width": ""
          }
        },
        "75c721da2696494695e6ca1cfeac31df": {
          "model_module": "@jupyter-widgets/base",
          "model_name": "LayoutModel",
          "model_module_version": "1.2.0",
          "state": {
            "_model_module": "@jupyter-widgets/base",
            "_model_module_version": "1.2.0",
            "_model_name": "LayoutModel",
            "_view_count": null,
            "_view_module": "@jupyter-widgets/base",
            "_view_module_version": "1.2.0",
            "_view_name": "LayoutView",
            "align_content": null,
            "align_items": null,
            "align_self": null,
            "border": null,
            "bottom": null,
            "display": null,
            "flex": null,
            "flex_flow": null,
            "grid_area": null,
            "grid_auto_columns": null,
            "grid_auto_flow": null,
            "grid_auto_rows": null,
            "grid_column": null,
            "grid_gap": null,
            "grid_row": null,
            "grid_template_areas": null,
            "grid_template_columns": null,
            "grid_template_rows": null,
            "height": null,
            "justify_content": null,
            "justify_items": null,
            "left": null,
            "margin": null,
            "max_height": null,
            "max_width": null,
            "min_height": null,
            "min_width": null,
            "object_fit": null,
            "object_position": null,
            "order": null,
            "overflow": null,
            "overflow_x": null,
            "overflow_y": null,
            "padding": null,
            "right": null,
            "top": null,
            "visibility": null,
            "width": null
          }
        },
        "35121967132944bba0f3bc7281f9e1f2": {
          "model_module": "@jupyter-widgets/controls",
          "model_name": "DescriptionStyleModel",
          "model_module_version": "1.5.0",
          "state": {
            "_model_module": "@jupyter-widgets/controls",
            "_model_module_version": "1.5.0",
            "_model_name": "DescriptionStyleModel",
            "_view_count": null,
            "_view_module": "@jupyter-widgets/base",
            "_view_module_version": "1.2.0",
            "_view_name": "StyleView",
            "description_width": ""
          }
        },
        "e4b63f98c68a4bf0abbe131947173a0f": {
          "model_module": "@jupyter-widgets/controls",
          "model_name": "HBoxModel",
          "model_module_version": "1.5.0",
          "state": {
            "_dom_classes": [],
            "_model_module": "@jupyter-widgets/controls",
            "_model_module_version": "1.5.0",
            "_model_name": "HBoxModel",
            "_view_count": null,
            "_view_module": "@jupyter-widgets/controls",
            "_view_module_version": "1.5.0",
            "_view_name": "HBoxView",
            "box_style": "",
            "children": [
              "IPY_MODEL_f71a8a954b53495f8ac38111571a3f0a",
              "IPY_MODEL_bef15c22b7ae4399a91605bceb35aa43",
              "IPY_MODEL_5d352a56e2a74dd49cdd425d501f92d8"
            ],
            "layout": "IPY_MODEL_8a0cdebc29ac4d5b95f61936d63118cd"
          }
        },
        "f71a8a954b53495f8ac38111571a3f0a": {
          "model_module": "@jupyter-widgets/controls",
          "model_name": "HTMLModel",
          "model_module_version": "1.5.0",
          "state": {
            "_dom_classes": [],
            "_model_module": "@jupyter-widgets/controls",
            "_model_module_version": "1.5.0",
            "_model_name": "HTMLModel",
            "_view_count": null,
            "_view_module": "@jupyter-widgets/controls",
            "_view_module_version": "1.5.0",
            "_view_name": "HTMLView",
            "description": "",
            "description_tooltip": null,
            "layout": "IPY_MODEL_047076a3aff44f7395b229d127d345d9",
            "placeholder": "​",
            "style": "IPY_MODEL_f9d85f0e30fe46e1a83c0a355318911c",
            "value": "Downloading: 100%"
          }
        },
        "bef15c22b7ae4399a91605bceb35aa43": {
          "model_module": "@jupyter-widgets/controls",
          "model_name": "FloatProgressModel",
          "model_module_version": "1.5.0",
          "state": {
            "_dom_classes": [],
            "_model_module": "@jupyter-widgets/controls",
            "_model_module_version": "1.5.0",
            "_model_name": "FloatProgressModel",
            "_view_count": null,
            "_view_module": "@jupyter-widgets/controls",
            "_view_module_version": "1.5.0",
            "_view_name": "ProgressView",
            "bar_style": "success",
            "description": "",
            "description_tooltip": null,
            "layout": "IPY_MODEL_1c20a3e4354b402a915e61d896e8fd2a",
            "max": 267967963,
            "min": 0,
            "orientation": "horizontal",
            "style": "IPY_MODEL_1146dcf1f1f64f469aa6f6610eb1565a",
            "value": 267967963
          }
        },
        "5d352a56e2a74dd49cdd425d501f92d8": {
          "model_module": "@jupyter-widgets/controls",
          "model_name": "HTMLModel",
          "model_module_version": "1.5.0",
          "state": {
            "_dom_classes": [],
            "_model_module": "@jupyter-widgets/controls",
            "_model_module_version": "1.5.0",
            "_model_name": "HTMLModel",
            "_view_count": null,
            "_view_module": "@jupyter-widgets/controls",
            "_view_module_version": "1.5.0",
            "_view_name": "HTMLView",
            "description": "",
            "description_tooltip": null,
            "layout": "IPY_MODEL_3d34786967444928936424864ba5faac",
            "placeholder": "​",
            "style": "IPY_MODEL_fa86f9958da64a388dd5d013d4cd8e1e",
            "value": " 256M/256M [00:04&lt;00:00, 54.2MB/s]"
          }
        },
        "8a0cdebc29ac4d5b95f61936d63118cd": {
          "model_module": "@jupyter-widgets/base",
          "model_name": "LayoutModel",
          "model_module_version": "1.2.0",
          "state": {
            "_model_module": "@jupyter-widgets/base",
            "_model_module_version": "1.2.0",
            "_model_name": "LayoutModel",
            "_view_count": null,
            "_view_module": "@jupyter-widgets/base",
            "_view_module_version": "1.2.0",
            "_view_name": "LayoutView",
            "align_content": null,
            "align_items": null,
            "align_self": null,
            "border": null,
            "bottom": null,
            "display": null,
            "flex": null,
            "flex_flow": null,
            "grid_area": null,
            "grid_auto_columns": null,
            "grid_auto_flow": null,
            "grid_auto_rows": null,
            "grid_column": null,
            "grid_gap": null,
            "grid_row": null,
            "grid_template_areas": null,
            "grid_template_columns": null,
            "grid_template_rows": null,
            "height": null,
            "justify_content": null,
            "justify_items": null,
            "left": null,
            "margin": null,
            "max_height": null,
            "max_width": null,
            "min_height": null,
            "min_width": null,
            "object_fit": null,
            "object_position": null,
            "order": null,
            "overflow": null,
            "overflow_x": null,
            "overflow_y": null,
            "padding": null,
            "right": null,
            "top": null,
            "visibility": null,
            "width": null
          }
        },
        "047076a3aff44f7395b229d127d345d9": {
          "model_module": "@jupyter-widgets/base",
          "model_name": "LayoutModel",
          "model_module_version": "1.2.0",
          "state": {
            "_model_module": "@jupyter-widgets/base",
            "_model_module_version": "1.2.0",
            "_model_name": "LayoutModel",
            "_view_count": null,
            "_view_module": "@jupyter-widgets/base",
            "_view_module_version": "1.2.0",
            "_view_name": "LayoutView",
            "align_content": null,
            "align_items": null,
            "align_self": null,
            "border": null,
            "bottom": null,
            "display": null,
            "flex": null,
            "flex_flow": null,
            "grid_area": null,
            "grid_auto_columns": null,
            "grid_auto_flow": null,
            "grid_auto_rows": null,
            "grid_column": null,
            "grid_gap": null,
            "grid_row": null,
            "grid_template_areas": null,
            "grid_template_columns": null,
            "grid_template_rows": null,
            "height": null,
            "justify_content": null,
            "justify_items": null,
            "left": null,
            "margin": null,
            "max_height": null,
            "max_width": null,
            "min_height": null,
            "min_width": null,
            "object_fit": null,
            "object_position": null,
            "order": null,
            "overflow": null,
            "overflow_x": null,
            "overflow_y": null,
            "padding": null,
            "right": null,
            "top": null,
            "visibility": null,
            "width": null
          }
        },
        "f9d85f0e30fe46e1a83c0a355318911c": {
          "model_module": "@jupyter-widgets/controls",
          "model_name": "DescriptionStyleModel",
          "model_module_version": "1.5.0",
          "state": {
            "_model_module": "@jupyter-widgets/controls",
            "_model_module_version": "1.5.0",
            "_model_name": "DescriptionStyleModel",
            "_view_count": null,
            "_view_module": "@jupyter-widgets/base",
            "_view_module_version": "1.2.0",
            "_view_name": "StyleView",
            "description_width": ""
          }
        },
        "1c20a3e4354b402a915e61d896e8fd2a": {
          "model_module": "@jupyter-widgets/base",
          "model_name": "LayoutModel",
          "model_module_version": "1.2.0",
          "state": {
            "_model_module": "@jupyter-widgets/base",
            "_model_module_version": "1.2.0",
            "_model_name": "LayoutModel",
            "_view_count": null,
            "_view_module": "@jupyter-widgets/base",
            "_view_module_version": "1.2.0",
            "_view_name": "LayoutView",
            "align_content": null,
            "align_items": null,
            "align_self": null,
            "border": null,
            "bottom": null,
            "display": null,
            "flex": null,
            "flex_flow": null,
            "grid_area": null,
            "grid_auto_columns": null,
            "grid_auto_flow": null,
            "grid_auto_rows": null,
            "grid_column": null,
            "grid_gap": null,
            "grid_row": null,
            "grid_template_areas": null,
            "grid_template_columns": null,
            "grid_template_rows": null,
            "height": null,
            "justify_content": null,
            "justify_items": null,
            "left": null,
            "margin": null,
            "max_height": null,
            "max_width": null,
            "min_height": null,
            "min_width": null,
            "object_fit": null,
            "object_position": null,
            "order": null,
            "overflow": null,
            "overflow_x": null,
            "overflow_y": null,
            "padding": null,
            "right": null,
            "top": null,
            "visibility": null,
            "width": null
          }
        },
        "1146dcf1f1f64f469aa6f6610eb1565a": {
          "model_module": "@jupyter-widgets/controls",
          "model_name": "ProgressStyleModel",
          "model_module_version": "1.5.0",
          "state": {
            "_model_module": "@jupyter-widgets/controls",
            "_model_module_version": "1.5.0",
            "_model_name": "ProgressStyleModel",
            "_view_count": null,
            "_view_module": "@jupyter-widgets/base",
            "_view_module_version": "1.2.0",
            "_view_name": "StyleView",
            "bar_color": null,
            "description_width": ""
          }
        },
        "3d34786967444928936424864ba5faac": {
          "model_module": "@jupyter-widgets/base",
          "model_name": "LayoutModel",
          "model_module_version": "1.2.0",
          "state": {
            "_model_module": "@jupyter-widgets/base",
            "_model_module_version": "1.2.0",
            "_model_name": "LayoutModel",
            "_view_count": null,
            "_view_module": "@jupyter-widgets/base",
            "_view_module_version": "1.2.0",
            "_view_name": "LayoutView",
            "align_content": null,
            "align_items": null,
            "align_self": null,
            "border": null,
            "bottom": null,
            "display": null,
            "flex": null,
            "flex_flow": null,
            "grid_area": null,
            "grid_auto_columns": null,
            "grid_auto_flow": null,
            "grid_auto_rows": null,
            "grid_column": null,
            "grid_gap": null,
            "grid_row": null,
            "grid_template_areas": null,
            "grid_template_columns": null,
            "grid_template_rows": null,
            "height": null,
            "justify_content": null,
            "justify_items": null,
            "left": null,
            "margin": null,
            "max_height": null,
            "max_width": null,
            "min_height": null,
            "min_width": null,
            "object_fit": null,
            "object_position": null,
            "order": null,
            "overflow": null,
            "overflow_x": null,
            "overflow_y": null,
            "padding": null,
            "right": null,
            "top": null,
            "visibility": null,
            "width": null
          }
        },
        "fa86f9958da64a388dd5d013d4cd8e1e": {
          "model_module": "@jupyter-widgets/controls",
          "model_name": "DescriptionStyleModel",
          "model_module_version": "1.5.0",
          "state": {
            "_model_module": "@jupyter-widgets/controls",
            "_model_module_version": "1.5.0",
            "_model_name": "DescriptionStyleModel",
            "_view_count": null,
            "_view_module": "@jupyter-widgets/base",
            "_view_module_version": "1.2.0",
            "_view_name": "StyleView",
            "description_width": ""
          }
        },
        "33d84d2c5891475a9e6b6ef54c3a651d": {
          "model_module": "@jupyter-widgets/controls",
          "model_name": "HBoxModel",
          "model_module_version": "1.5.0",
          "state": {
            "_dom_classes": [],
            "_model_module": "@jupyter-widgets/controls",
            "_model_module_version": "1.5.0",
            "_model_name": "HBoxModel",
            "_view_count": null,
            "_view_module": "@jupyter-widgets/controls",
            "_view_module_version": "1.5.0",
            "_view_name": "HBoxView",
            "box_style": "",
            "children": [
              "IPY_MODEL_31b03822f1e247f7bc453355acbb33f1",
              "IPY_MODEL_0dce68f8d066401b9b4c5e8bdadfa6f6",
              "IPY_MODEL_3a800557e91e468da46198a7ab52a512"
            ],
            "layout": "IPY_MODEL_79dbc39b2bf44e2db79cc090928b2b87"
          }
        },
        "31b03822f1e247f7bc453355acbb33f1": {
          "model_module": "@jupyter-widgets/controls",
          "model_name": "HTMLModel",
          "model_module_version": "1.5.0",
          "state": {
            "_dom_classes": [],
            "_model_module": "@jupyter-widgets/controls",
            "_model_module_version": "1.5.0",
            "_model_name": "HTMLModel",
            "_view_count": null,
            "_view_module": "@jupyter-widgets/controls",
            "_view_module_version": "1.5.0",
            "_view_name": "HTMLView",
            "description": "",
            "description_tooltip": null,
            "layout": "IPY_MODEL_1fd7dd9e245c40998aa515d4e92718bf",
            "placeholder": "​",
            "style": "IPY_MODEL_6e43354c55df4c5aac3a2d18611b3dec",
            "value": "100%"
          }
        },
        "0dce68f8d066401b9b4c5e8bdadfa6f6": {
          "model_module": "@jupyter-widgets/controls",
          "model_name": "FloatProgressModel",
          "model_module_version": "1.5.0",
          "state": {
            "_dom_classes": [],
            "_model_module": "@jupyter-widgets/controls",
            "_model_module_version": "1.5.0",
            "_model_name": "FloatProgressModel",
            "_view_count": null,
            "_view_module": "@jupyter-widgets/controls",
            "_view_module_version": "1.5.0",
            "_view_name": "ProgressView",
            "bar_style": "success",
            "description": "",
            "description_tooltip": null,
            "layout": "IPY_MODEL_5719075cbb4746feb1741b8368ab4139",
            "max": 16,
            "min": 0,
            "orientation": "horizontal",
            "style": "IPY_MODEL_9d6fbe129a4748078e4a24ed7baf532e",
            "value": 16
          }
        },
        "3a800557e91e468da46198a7ab52a512": {
          "model_module": "@jupyter-widgets/controls",
          "model_name": "HTMLModel",
          "model_module_version": "1.5.0",
          "state": {
            "_dom_classes": [],
            "_model_module": "@jupyter-widgets/controls",
            "_model_module_version": "1.5.0",
            "_model_name": "HTMLModel",
            "_view_count": null,
            "_view_module": "@jupyter-widgets/controls",
            "_view_module_version": "1.5.0",
            "_view_name": "HTMLView",
            "description": "",
            "description_tooltip": null,
            "layout": "IPY_MODEL_48c91656bb9e4051acb28a28793f2bab",
            "placeholder": "​",
            "style": "IPY_MODEL_d8602906648f4edc969b7d32c6d51a01",
            "value": " 16/16 [00:35&lt;00:00,  2.23s/ba]"
          }
        },
        "79dbc39b2bf44e2db79cc090928b2b87": {
          "model_module": "@jupyter-widgets/base",
          "model_name": "LayoutModel",
          "model_module_version": "1.2.0",
          "state": {
            "_model_module": "@jupyter-widgets/base",
            "_model_module_version": "1.2.0",
            "_model_name": "LayoutModel",
            "_view_count": null,
            "_view_module": "@jupyter-widgets/base",
            "_view_module_version": "1.2.0",
            "_view_name": "LayoutView",
            "align_content": null,
            "align_items": null,
            "align_self": null,
            "border": null,
            "bottom": null,
            "display": null,
            "flex": null,
            "flex_flow": null,
            "grid_area": null,
            "grid_auto_columns": null,
            "grid_auto_flow": null,
            "grid_auto_rows": null,
            "grid_column": null,
            "grid_gap": null,
            "grid_row": null,
            "grid_template_areas": null,
            "grid_template_columns": null,
            "grid_template_rows": null,
            "height": null,
            "justify_content": null,
            "justify_items": null,
            "left": null,
            "margin": null,
            "max_height": null,
            "max_width": null,
            "min_height": null,
            "min_width": null,
            "object_fit": null,
            "object_position": null,
            "order": null,
            "overflow": null,
            "overflow_x": null,
            "overflow_y": null,
            "padding": null,
            "right": null,
            "top": null,
            "visibility": null,
            "width": null
          }
        },
        "1fd7dd9e245c40998aa515d4e92718bf": {
          "model_module": "@jupyter-widgets/base",
          "model_name": "LayoutModel",
          "model_module_version": "1.2.0",
          "state": {
            "_model_module": "@jupyter-widgets/base",
            "_model_module_version": "1.2.0",
            "_model_name": "LayoutModel",
            "_view_count": null,
            "_view_module": "@jupyter-widgets/base",
            "_view_module_version": "1.2.0",
            "_view_name": "LayoutView",
            "align_content": null,
            "align_items": null,
            "align_self": null,
            "border": null,
            "bottom": null,
            "display": null,
            "flex": null,
            "flex_flow": null,
            "grid_area": null,
            "grid_auto_columns": null,
            "grid_auto_flow": null,
            "grid_auto_rows": null,
            "grid_column": null,
            "grid_gap": null,
            "grid_row": null,
            "grid_template_areas": null,
            "grid_template_columns": null,
            "grid_template_rows": null,
            "height": null,
            "justify_content": null,
            "justify_items": null,
            "left": null,
            "margin": null,
            "max_height": null,
            "max_width": null,
            "min_height": null,
            "min_width": null,
            "object_fit": null,
            "object_position": null,
            "order": null,
            "overflow": null,
            "overflow_x": null,
            "overflow_y": null,
            "padding": null,
            "right": null,
            "top": null,
            "visibility": null,
            "width": null
          }
        },
        "6e43354c55df4c5aac3a2d18611b3dec": {
          "model_module": "@jupyter-widgets/controls",
          "model_name": "DescriptionStyleModel",
          "model_module_version": "1.5.0",
          "state": {
            "_model_module": "@jupyter-widgets/controls",
            "_model_module_version": "1.5.0",
            "_model_name": "DescriptionStyleModel",
            "_view_count": null,
            "_view_module": "@jupyter-widgets/base",
            "_view_module_version": "1.2.0",
            "_view_name": "StyleView",
            "description_width": ""
          }
        },
        "5719075cbb4746feb1741b8368ab4139": {
          "model_module": "@jupyter-widgets/base",
          "model_name": "LayoutModel",
          "model_module_version": "1.2.0",
          "state": {
            "_model_module": "@jupyter-widgets/base",
            "_model_module_version": "1.2.0",
            "_model_name": "LayoutModel",
            "_view_count": null,
            "_view_module": "@jupyter-widgets/base",
            "_view_module_version": "1.2.0",
            "_view_name": "LayoutView",
            "align_content": null,
            "align_items": null,
            "align_self": null,
            "border": null,
            "bottom": null,
            "display": null,
            "flex": null,
            "flex_flow": null,
            "grid_area": null,
            "grid_auto_columns": null,
            "grid_auto_flow": null,
            "grid_auto_rows": null,
            "grid_column": null,
            "grid_gap": null,
            "grid_row": null,
            "grid_template_areas": null,
            "grid_template_columns": null,
            "grid_template_rows": null,
            "height": null,
            "justify_content": null,
            "justify_items": null,
            "left": null,
            "margin": null,
            "max_height": null,
            "max_width": null,
            "min_height": null,
            "min_width": null,
            "object_fit": null,
            "object_position": null,
            "order": null,
            "overflow": null,
            "overflow_x": null,
            "overflow_y": null,
            "padding": null,
            "right": null,
            "top": null,
            "visibility": null,
            "width": null
          }
        },
        "9d6fbe129a4748078e4a24ed7baf532e": {
          "model_module": "@jupyter-widgets/controls",
          "model_name": "ProgressStyleModel",
          "model_module_version": "1.5.0",
          "state": {
            "_model_module": "@jupyter-widgets/controls",
            "_model_module_version": "1.5.0",
            "_model_name": "ProgressStyleModel",
            "_view_count": null,
            "_view_module": "@jupyter-widgets/base",
            "_view_module_version": "1.2.0",
            "_view_name": "StyleView",
            "bar_color": null,
            "description_width": ""
          }
        },
        "48c91656bb9e4051acb28a28793f2bab": {
          "model_module": "@jupyter-widgets/base",
          "model_name": "LayoutModel",
          "model_module_version": "1.2.0",
          "state": {
            "_model_module": "@jupyter-widgets/base",
            "_model_module_version": "1.2.0",
            "_model_name": "LayoutModel",
            "_view_count": null,
            "_view_module": "@jupyter-widgets/base",
            "_view_module_version": "1.2.0",
            "_view_name": "LayoutView",
            "align_content": null,
            "align_items": null,
            "align_self": null,
            "border": null,
            "bottom": null,
            "display": null,
            "flex": null,
            "flex_flow": null,
            "grid_area": null,
            "grid_auto_columns": null,
            "grid_auto_flow": null,
            "grid_auto_rows": null,
            "grid_column": null,
            "grid_gap": null,
            "grid_row": null,
            "grid_template_areas": null,
            "grid_template_columns": null,
            "grid_template_rows": null,
            "height": null,
            "justify_content": null,
            "justify_items": null,
            "left": null,
            "margin": null,
            "max_height": null,
            "max_width": null,
            "min_height": null,
            "min_width": null,
            "object_fit": null,
            "object_position": null,
            "order": null,
            "overflow": null,
            "overflow_x": null,
            "overflow_y": null,
            "padding": null,
            "right": null,
            "top": null,
            "visibility": null,
            "width": null
          }
        },
        "d8602906648f4edc969b7d32c6d51a01": {
          "model_module": "@jupyter-widgets/controls",
          "model_name": "DescriptionStyleModel",
          "model_module_version": "1.5.0",
          "state": {
            "_model_module": "@jupyter-widgets/controls",
            "_model_module_version": "1.5.0",
            "_model_name": "DescriptionStyleModel",
            "_view_count": null,
            "_view_module": "@jupyter-widgets/base",
            "_view_module_version": "1.2.0",
            "_view_name": "StyleView",
            "description_width": ""
          }
        },
        "3b4df08779cb49ab9be9fc4d91b61acf": {
          "model_module": "@jupyter-widgets/controls",
          "model_name": "HBoxModel",
          "model_module_version": "1.5.0",
          "state": {
            "_dom_classes": [],
            "_model_module": "@jupyter-widgets/controls",
            "_model_module_version": "1.5.0",
            "_model_name": "HBoxModel",
            "_view_count": null,
            "_view_module": "@jupyter-widgets/controls",
            "_view_module_version": "1.5.0",
            "_view_name": "HBoxView",
            "box_style": "",
            "children": [
              "IPY_MODEL_a2a4cfa4715a476aa0860db171fca9d2",
              "IPY_MODEL_85af6ec424d849e6be049898c0b819f7",
              "IPY_MODEL_756550b252ba486eb7121cf57551d8a7"
            ],
            "layout": "IPY_MODEL_bc05e31213e3425b8fab276fd08f7f9a"
          }
        },
        "a2a4cfa4715a476aa0860db171fca9d2": {
          "model_module": "@jupyter-widgets/controls",
          "model_name": "HTMLModel",
          "model_module_version": "1.5.0",
          "state": {
            "_dom_classes": [],
            "_model_module": "@jupyter-widgets/controls",
            "_model_module_version": "1.5.0",
            "_model_name": "HTMLModel",
            "_view_count": null,
            "_view_module": "@jupyter-widgets/controls",
            "_view_module_version": "1.5.0",
            "_view_name": "HTMLView",
            "description": "",
            "description_tooltip": null,
            "layout": "IPY_MODEL_35c4095fc5374bce8e8542226bb44aab",
            "placeholder": "​",
            "style": "IPY_MODEL_6fc7c9abf7994fafa9fe6c56ed94d2bc",
            "value": "100%"
          }
        },
        "85af6ec424d849e6be049898c0b819f7": {
          "model_module": "@jupyter-widgets/controls",
          "model_name": "FloatProgressModel",
          "model_module_version": "1.5.0",
          "state": {
            "_dom_classes": [],
            "_model_module": "@jupyter-widgets/controls",
            "_model_module_version": "1.5.0",
            "_model_name": "FloatProgressModel",
            "_view_count": null,
            "_view_module": "@jupyter-widgets/controls",
            "_view_module_version": "1.5.0",
            "_view_name": "ProgressView",
            "bar_style": "success",
            "description": "",
            "description_tooltip": null,
            "layout": "IPY_MODEL_f0fcae76f52e429fb94a29d994a93d78",
            "max": 2,
            "min": 0,
            "orientation": "horizontal",
            "style": "IPY_MODEL_f159c82cfc274cf4be86b12f98835d65",
            "value": 2
          }
        },
        "756550b252ba486eb7121cf57551d8a7": {
          "model_module": "@jupyter-widgets/controls",
          "model_name": "HTMLModel",
          "model_module_version": "1.5.0",
          "state": {
            "_dom_classes": [],
            "_model_module": "@jupyter-widgets/controls",
            "_model_module_version": "1.5.0",
            "_model_name": "HTMLModel",
            "_view_count": null,
            "_view_module": "@jupyter-widgets/controls",
            "_view_module_version": "1.5.0",
            "_view_name": "HTMLView",
            "description": "",
            "description_tooltip": null,
            "layout": "IPY_MODEL_6860cf7ad21f4c17943266858729ca97",
            "placeholder": "​",
            "style": "IPY_MODEL_8501f205052c4ec189f8ed26c3f4b57a",
            "value": " 2/2 [00:03&lt;00:00,  1.72s/ba]"
          }
        },
        "bc05e31213e3425b8fab276fd08f7f9a": {
          "model_module": "@jupyter-widgets/base",
          "model_name": "LayoutModel",
          "model_module_version": "1.2.0",
          "state": {
            "_model_module": "@jupyter-widgets/base",
            "_model_module_version": "1.2.0",
            "_model_name": "LayoutModel",
            "_view_count": null,
            "_view_module": "@jupyter-widgets/base",
            "_view_module_version": "1.2.0",
            "_view_name": "LayoutView",
            "align_content": null,
            "align_items": null,
            "align_self": null,
            "border": null,
            "bottom": null,
            "display": null,
            "flex": null,
            "flex_flow": null,
            "grid_area": null,
            "grid_auto_columns": null,
            "grid_auto_flow": null,
            "grid_auto_rows": null,
            "grid_column": null,
            "grid_gap": null,
            "grid_row": null,
            "grid_template_areas": null,
            "grid_template_columns": null,
            "grid_template_rows": null,
            "height": null,
            "justify_content": null,
            "justify_items": null,
            "left": null,
            "margin": null,
            "max_height": null,
            "max_width": null,
            "min_height": null,
            "min_width": null,
            "object_fit": null,
            "object_position": null,
            "order": null,
            "overflow": null,
            "overflow_x": null,
            "overflow_y": null,
            "padding": null,
            "right": null,
            "top": null,
            "visibility": null,
            "width": null
          }
        },
        "35c4095fc5374bce8e8542226bb44aab": {
          "model_module": "@jupyter-widgets/base",
          "model_name": "LayoutModel",
          "model_module_version": "1.2.0",
          "state": {
            "_model_module": "@jupyter-widgets/base",
            "_model_module_version": "1.2.0",
            "_model_name": "LayoutModel",
            "_view_count": null,
            "_view_module": "@jupyter-widgets/base",
            "_view_module_version": "1.2.0",
            "_view_name": "LayoutView",
            "align_content": null,
            "align_items": null,
            "align_self": null,
            "border": null,
            "bottom": null,
            "display": null,
            "flex": null,
            "flex_flow": null,
            "grid_area": null,
            "grid_auto_columns": null,
            "grid_auto_flow": null,
            "grid_auto_rows": null,
            "grid_column": null,
            "grid_gap": null,
            "grid_row": null,
            "grid_template_areas": null,
            "grid_template_columns": null,
            "grid_template_rows": null,
            "height": null,
            "justify_content": null,
            "justify_items": null,
            "left": null,
            "margin": null,
            "max_height": null,
            "max_width": null,
            "min_height": null,
            "min_width": null,
            "object_fit": null,
            "object_position": null,
            "order": null,
            "overflow": null,
            "overflow_x": null,
            "overflow_y": null,
            "padding": null,
            "right": null,
            "top": null,
            "visibility": null,
            "width": null
          }
        },
        "6fc7c9abf7994fafa9fe6c56ed94d2bc": {
          "model_module": "@jupyter-widgets/controls",
          "model_name": "DescriptionStyleModel",
          "model_module_version": "1.5.0",
          "state": {
            "_model_module": "@jupyter-widgets/controls",
            "_model_module_version": "1.5.0",
            "_model_name": "DescriptionStyleModel",
            "_view_count": null,
            "_view_module": "@jupyter-widgets/base",
            "_view_module_version": "1.2.0",
            "_view_name": "StyleView",
            "description_width": ""
          }
        },
        "f0fcae76f52e429fb94a29d994a93d78": {
          "model_module": "@jupyter-widgets/base",
          "model_name": "LayoutModel",
          "model_module_version": "1.2.0",
          "state": {
            "_model_module": "@jupyter-widgets/base",
            "_model_module_version": "1.2.0",
            "_model_name": "LayoutModel",
            "_view_count": null,
            "_view_module": "@jupyter-widgets/base",
            "_view_module_version": "1.2.0",
            "_view_name": "LayoutView",
            "align_content": null,
            "align_items": null,
            "align_self": null,
            "border": null,
            "bottom": null,
            "display": null,
            "flex": null,
            "flex_flow": null,
            "grid_area": null,
            "grid_auto_columns": null,
            "grid_auto_flow": null,
            "grid_auto_rows": null,
            "grid_column": null,
            "grid_gap": null,
            "grid_row": null,
            "grid_template_areas": null,
            "grid_template_columns": null,
            "grid_template_rows": null,
            "height": null,
            "justify_content": null,
            "justify_items": null,
            "left": null,
            "margin": null,
            "max_height": null,
            "max_width": null,
            "min_height": null,
            "min_width": null,
            "object_fit": null,
            "object_position": null,
            "order": null,
            "overflow": null,
            "overflow_x": null,
            "overflow_y": null,
            "padding": null,
            "right": null,
            "top": null,
            "visibility": null,
            "width": null
          }
        },
        "f159c82cfc274cf4be86b12f98835d65": {
          "model_module": "@jupyter-widgets/controls",
          "model_name": "ProgressStyleModel",
          "model_module_version": "1.5.0",
          "state": {
            "_model_module": "@jupyter-widgets/controls",
            "_model_module_version": "1.5.0",
            "_model_name": "ProgressStyleModel",
            "_view_count": null,
            "_view_module": "@jupyter-widgets/base",
            "_view_module_version": "1.2.0",
            "_view_name": "StyleView",
            "bar_color": null,
            "description_width": ""
          }
        },
        "6860cf7ad21f4c17943266858729ca97": {
          "model_module": "@jupyter-widgets/base",
          "model_name": "LayoutModel",
          "model_module_version": "1.2.0",
          "state": {
            "_model_module": "@jupyter-widgets/base",
            "_model_module_version": "1.2.0",
            "_model_name": "LayoutModel",
            "_view_count": null,
            "_view_module": "@jupyter-widgets/base",
            "_view_module_version": "1.2.0",
            "_view_name": "LayoutView",
            "align_content": null,
            "align_items": null,
            "align_self": null,
            "border": null,
            "bottom": null,
            "display": null,
            "flex": null,
            "flex_flow": null,
            "grid_area": null,
            "grid_auto_columns": null,
            "grid_auto_flow": null,
            "grid_auto_rows": null,
            "grid_column": null,
            "grid_gap": null,
            "grid_row": null,
            "grid_template_areas": null,
            "grid_template_columns": null,
            "grid_template_rows": null,
            "height": null,
            "justify_content": null,
            "justify_items": null,
            "left": null,
            "margin": null,
            "max_height": null,
            "max_width": null,
            "min_height": null,
            "min_width": null,
            "object_fit": null,
            "object_position": null,
            "order": null,
            "overflow": null,
            "overflow_x": null,
            "overflow_y": null,
            "padding": null,
            "right": null,
            "top": null,
            "visibility": null,
            "width": null
          }
        },
        "8501f205052c4ec189f8ed26c3f4b57a": {
          "model_module": "@jupyter-widgets/controls",
          "model_name": "DescriptionStyleModel",
          "model_module_version": "1.5.0",
          "state": {
            "_model_module": "@jupyter-widgets/controls",
            "_model_module_version": "1.5.0",
            "_model_name": "DescriptionStyleModel",
            "_view_count": null,
            "_view_module": "@jupyter-widgets/base",
            "_view_module_version": "1.2.0",
            "_view_name": "StyleView",
            "description_width": ""
          }
        },
        "8b6ed48cabf14c1a88fc6d9c4c065c0c": {
          "model_module": "@jupyter-widgets/controls",
          "model_name": "HBoxModel",
          "model_module_version": "1.5.0",
          "state": {
            "_dom_classes": [],
            "_model_module": "@jupyter-widgets/controls",
            "_model_module_version": "1.5.0",
            "_model_name": "HBoxModel",
            "_view_count": null,
            "_view_module": "@jupyter-widgets/controls",
            "_view_module_version": "1.5.0",
            "_view_name": "HBoxView",
            "box_style": "",
            "children": [
              "IPY_MODEL_ecfd694155a943979f91d4ab50a86392",
              "IPY_MODEL_ccfc88873bdb4d7e83e2c2980fff5551",
              "IPY_MODEL_9fd59e78adcc4bc296f9c80e0e3a08db"
            ],
            "layout": "IPY_MODEL_5349774888f648e292fb78e76b676467"
          }
        },
        "ecfd694155a943979f91d4ab50a86392": {
          "model_module": "@jupyter-widgets/controls",
          "model_name": "HTMLModel",
          "model_module_version": "1.5.0",
          "state": {
            "_dom_classes": [],
            "_model_module": "@jupyter-widgets/controls",
            "_model_module_version": "1.5.0",
            "_model_name": "HTMLModel",
            "_view_count": null,
            "_view_module": "@jupyter-widgets/controls",
            "_view_module_version": "1.5.0",
            "_view_name": "HTMLView",
            "description": "",
            "description_tooltip": null,
            "layout": "IPY_MODEL_a369a6f9bfc648fc8f6e2c2c11973605",
            "placeholder": "​",
            "style": "IPY_MODEL_edcbd2a7f1554368b7ac5885689b4d6e",
            "value": "100%"
          }
        },
        "ccfc88873bdb4d7e83e2c2980fff5551": {
          "model_module": "@jupyter-widgets/controls",
          "model_name": "FloatProgressModel",
          "model_module_version": "1.5.0",
          "state": {
            "_dom_classes": [],
            "_model_module": "@jupyter-widgets/controls",
            "_model_module_version": "1.5.0",
            "_model_name": "FloatProgressModel",
            "_view_count": null,
            "_view_module": "@jupyter-widgets/controls",
            "_view_module_version": "1.5.0",
            "_view_name": "ProgressView",
            "bar_style": "success",
            "description": "",
            "description_tooltip": null,
            "layout": "IPY_MODEL_1d5931cfb9614d93baf04754ffd6785a",
            "max": 2,
            "min": 0,
            "orientation": "horizontal",
            "style": "IPY_MODEL_59e6af293dc840d28b8efadcdcf922e3",
            "value": 2
          }
        },
        "9fd59e78adcc4bc296f9c80e0e3a08db": {
          "model_module": "@jupyter-widgets/controls",
          "model_name": "HTMLModel",
          "model_module_version": "1.5.0",
          "state": {
            "_dom_classes": [],
            "_model_module": "@jupyter-widgets/controls",
            "_model_module_version": "1.5.0",
            "_model_name": "HTMLModel",
            "_view_count": null,
            "_view_module": "@jupyter-widgets/controls",
            "_view_module_version": "1.5.0",
            "_view_name": "HTMLView",
            "description": "",
            "description_tooltip": null,
            "layout": "IPY_MODEL_5f0ec2dee0774ae0af20d1263ea032fb",
            "placeholder": "​",
            "style": "IPY_MODEL_a19c1efe2ada49e4b5bfc885cc8a4252",
            "value": " 2/2 [00:03&lt;00:00,  1.77s/ba]"
          }
        },
        "5349774888f648e292fb78e76b676467": {
          "model_module": "@jupyter-widgets/base",
          "model_name": "LayoutModel",
          "model_module_version": "1.2.0",
          "state": {
            "_model_module": "@jupyter-widgets/base",
            "_model_module_version": "1.2.0",
            "_model_name": "LayoutModel",
            "_view_count": null,
            "_view_module": "@jupyter-widgets/base",
            "_view_module_version": "1.2.0",
            "_view_name": "LayoutView",
            "align_content": null,
            "align_items": null,
            "align_self": null,
            "border": null,
            "bottom": null,
            "display": null,
            "flex": null,
            "flex_flow": null,
            "grid_area": null,
            "grid_auto_columns": null,
            "grid_auto_flow": null,
            "grid_auto_rows": null,
            "grid_column": null,
            "grid_gap": null,
            "grid_row": null,
            "grid_template_areas": null,
            "grid_template_columns": null,
            "grid_template_rows": null,
            "height": null,
            "justify_content": null,
            "justify_items": null,
            "left": null,
            "margin": null,
            "max_height": null,
            "max_width": null,
            "min_height": null,
            "min_width": null,
            "object_fit": null,
            "object_position": null,
            "order": null,
            "overflow": null,
            "overflow_x": null,
            "overflow_y": null,
            "padding": null,
            "right": null,
            "top": null,
            "visibility": null,
            "width": null
          }
        },
        "a369a6f9bfc648fc8f6e2c2c11973605": {
          "model_module": "@jupyter-widgets/base",
          "model_name": "LayoutModel",
          "model_module_version": "1.2.0",
          "state": {
            "_model_module": "@jupyter-widgets/base",
            "_model_module_version": "1.2.0",
            "_model_name": "LayoutModel",
            "_view_count": null,
            "_view_module": "@jupyter-widgets/base",
            "_view_module_version": "1.2.0",
            "_view_name": "LayoutView",
            "align_content": null,
            "align_items": null,
            "align_self": null,
            "border": null,
            "bottom": null,
            "display": null,
            "flex": null,
            "flex_flow": null,
            "grid_area": null,
            "grid_auto_columns": null,
            "grid_auto_flow": null,
            "grid_auto_rows": null,
            "grid_column": null,
            "grid_gap": null,
            "grid_row": null,
            "grid_template_areas": null,
            "grid_template_columns": null,
            "grid_template_rows": null,
            "height": null,
            "justify_content": null,
            "justify_items": null,
            "left": null,
            "margin": null,
            "max_height": null,
            "max_width": null,
            "min_height": null,
            "min_width": null,
            "object_fit": null,
            "object_position": null,
            "order": null,
            "overflow": null,
            "overflow_x": null,
            "overflow_y": null,
            "padding": null,
            "right": null,
            "top": null,
            "visibility": null,
            "width": null
          }
        },
        "edcbd2a7f1554368b7ac5885689b4d6e": {
          "model_module": "@jupyter-widgets/controls",
          "model_name": "DescriptionStyleModel",
          "model_module_version": "1.5.0",
          "state": {
            "_model_module": "@jupyter-widgets/controls",
            "_model_module_version": "1.5.0",
            "_model_name": "DescriptionStyleModel",
            "_view_count": null,
            "_view_module": "@jupyter-widgets/base",
            "_view_module_version": "1.2.0",
            "_view_name": "StyleView",
            "description_width": ""
          }
        },
        "1d5931cfb9614d93baf04754ffd6785a": {
          "model_module": "@jupyter-widgets/base",
          "model_name": "LayoutModel",
          "model_module_version": "1.2.0",
          "state": {
            "_model_module": "@jupyter-widgets/base",
            "_model_module_version": "1.2.0",
            "_model_name": "LayoutModel",
            "_view_count": null,
            "_view_module": "@jupyter-widgets/base",
            "_view_module_version": "1.2.0",
            "_view_name": "LayoutView",
            "align_content": null,
            "align_items": null,
            "align_self": null,
            "border": null,
            "bottom": null,
            "display": null,
            "flex": null,
            "flex_flow": null,
            "grid_area": null,
            "grid_auto_columns": null,
            "grid_auto_flow": null,
            "grid_auto_rows": null,
            "grid_column": null,
            "grid_gap": null,
            "grid_row": null,
            "grid_template_areas": null,
            "grid_template_columns": null,
            "grid_template_rows": null,
            "height": null,
            "justify_content": null,
            "justify_items": null,
            "left": null,
            "margin": null,
            "max_height": null,
            "max_width": null,
            "min_height": null,
            "min_width": null,
            "object_fit": null,
            "object_position": null,
            "order": null,
            "overflow": null,
            "overflow_x": null,
            "overflow_y": null,
            "padding": null,
            "right": null,
            "top": null,
            "visibility": null,
            "width": null
          }
        },
        "59e6af293dc840d28b8efadcdcf922e3": {
          "model_module": "@jupyter-widgets/controls",
          "model_name": "ProgressStyleModel",
          "model_module_version": "1.5.0",
          "state": {
            "_model_module": "@jupyter-widgets/controls",
            "_model_module_version": "1.5.0",
            "_model_name": "ProgressStyleModel",
            "_view_count": null,
            "_view_module": "@jupyter-widgets/base",
            "_view_module_version": "1.2.0",
            "_view_name": "StyleView",
            "bar_color": null,
            "description_width": ""
          }
        },
        "5f0ec2dee0774ae0af20d1263ea032fb": {
          "model_module": "@jupyter-widgets/base",
          "model_name": "LayoutModel",
          "model_module_version": "1.2.0",
          "state": {
            "_model_module": "@jupyter-widgets/base",
            "_model_module_version": "1.2.0",
            "_model_name": "LayoutModel",
            "_view_count": null,
            "_view_module": "@jupyter-widgets/base",
            "_view_module_version": "1.2.0",
            "_view_name": "LayoutView",
            "align_content": null,
            "align_items": null,
            "align_self": null,
            "border": null,
            "bottom": null,
            "display": null,
            "flex": null,
            "flex_flow": null,
            "grid_area": null,
            "grid_auto_columns": null,
            "grid_auto_flow": null,
            "grid_auto_rows": null,
            "grid_column": null,
            "grid_gap": null,
            "grid_row": null,
            "grid_template_areas": null,
            "grid_template_columns": null,
            "grid_template_rows": null,
            "height": null,
            "justify_content": null,
            "justify_items": null,
            "left": null,
            "margin": null,
            "max_height": null,
            "max_width": null,
            "min_height": null,
            "min_width": null,
            "object_fit": null,
            "object_position": null,
            "order": null,
            "overflow": null,
            "overflow_x": null,
            "overflow_y": null,
            "padding": null,
            "right": null,
            "top": null,
            "visibility": null,
            "width": null
          }
        },
        "a19c1efe2ada49e4b5bfc885cc8a4252": {
          "model_module": "@jupyter-widgets/controls",
          "model_name": "DescriptionStyleModel",
          "model_module_version": "1.5.0",
          "state": {
            "_model_module": "@jupyter-widgets/controls",
            "_model_module_version": "1.5.0",
            "_model_name": "DescriptionStyleModel",
            "_view_count": null,
            "_view_module": "@jupyter-widgets/base",
            "_view_module_version": "1.2.0",
            "_view_name": "StyleView",
            "description_width": ""
          }
        },
        "9308c87e608549658b53adb2fce38536": {
          "model_module": "@jupyter-widgets/controls",
          "model_name": "VBoxModel",
          "model_module_version": "1.5.0",
          "state": {
            "_dom_classes": [],
            "_model_module": "@jupyter-widgets/controls",
            "_model_module_version": "1.5.0",
            "_model_name": "VBoxModel",
            "_view_count": null,
            "_view_module": "@jupyter-widgets/controls",
            "_view_module_version": "1.5.0",
            "_view_name": "VBoxView",
            "box_style": "",
            "children": [
              "IPY_MODEL_36b5ecb174144e8fbb869abb0841cc25",
              "IPY_MODEL_374a75c11edc4aa782080bcc54a3a39b",
              "IPY_MODEL_c91e7f69453d41a694d53b41f268f852",
              "IPY_MODEL_c2ee5f0d988e441d98fa824b807b4e90"
            ],
            "layout": "IPY_MODEL_107efb16d3894d269d37f22000e1ddb9"
          }
        },
        "36b5ecb174144e8fbb869abb0841cc25": {
          "model_module": "@jupyter-widgets/controls",
          "model_name": "HTMLModel",
          "model_module_version": "1.5.0",
          "state": {
            "_dom_classes": [],
            "_model_module": "@jupyter-widgets/controls",
            "_model_module_version": "1.5.0",
            "_model_name": "HTMLModel",
            "_view_count": null,
            "_view_module": "@jupyter-widgets/controls",
            "_view_module_version": "1.5.0",
            "_view_name": "HTMLView",
            "description": "",
            "description_tooltip": null,
            "layout": "IPY_MODEL_aa460b46c0a8495ea44631550ed78541",
            "placeholder": "​",
            "style": "IPY_MODEL_a7a00bdc101d4e4db4557a4e304fb6d8",
            "value": "<center> <img\nsrc=https://huggingface.co/front/assets/huggingface_logo-noborder.svg\nalt='Hugging Face'> <br> Copy a token from <a\nhref=\"https://huggingface.co/settings/tokens\" target=\"_blank\">your Hugging Face\ntokens page</a> and paste it below. <br> Immediately click login after copying\nyour token or it might be stored in plain text in this notebook file. </center>"
          }
        },
        "374a75c11edc4aa782080bcc54a3a39b": {
          "model_module": "@jupyter-widgets/controls",
          "model_name": "PasswordModel",
          "model_module_version": "1.5.0",
          "state": {
            "_dom_classes": [],
            "_model_module": "@jupyter-widgets/controls",
            "_model_module_version": "1.5.0",
            "_model_name": "PasswordModel",
            "_view_count": null,
            "_view_module": "@jupyter-widgets/controls",
            "_view_module_version": "1.5.0",
            "_view_name": "PasswordView",
            "continuous_update": true,
            "description": "Token:",
            "description_tooltip": null,
            "disabled": false,
            "layout": "IPY_MODEL_0346bc2faac5425483f20eb594e0d75a",
            "placeholder": "​",
            "style": "IPY_MODEL_2e050f953f6a4fddae1a7664c51ac224",
            "value": ""
          }
        },
        "c91e7f69453d41a694d53b41f268f852": {
          "model_module": "@jupyter-widgets/controls",
          "model_name": "ButtonModel",
          "model_module_version": "1.5.0",
          "state": {
            "_dom_classes": [],
            "_model_module": "@jupyter-widgets/controls",
            "_model_module_version": "1.5.0",
            "_model_name": "ButtonModel",
            "_view_count": null,
            "_view_module": "@jupyter-widgets/controls",
            "_view_module_version": "1.5.0",
            "_view_name": "ButtonView",
            "button_style": "",
            "description": "Login",
            "disabled": false,
            "icon": "",
            "layout": "IPY_MODEL_aeea6b9105af40a3abd2db86068bfd98",
            "style": "IPY_MODEL_9bd5208b7cf24900af9eca84db29e160",
            "tooltip": ""
          }
        },
        "c2ee5f0d988e441d98fa824b807b4e90": {
          "model_module": "@jupyter-widgets/controls",
          "model_name": "HTMLModel",
          "model_module_version": "1.5.0",
          "state": {
            "_dom_classes": [],
            "_model_module": "@jupyter-widgets/controls",
            "_model_module_version": "1.5.0",
            "_model_name": "HTMLModel",
            "_view_count": null,
            "_view_module": "@jupyter-widgets/controls",
            "_view_module_version": "1.5.0",
            "_view_name": "HTMLView",
            "description": "",
            "description_tooltip": null,
            "layout": "IPY_MODEL_9c44030f804642188b0dc9e50df49313",
            "placeholder": "​",
            "style": "IPY_MODEL_eb5cf19631574dff8541f9938161f9a9",
            "value": "\n<b>Pro Tip:</b> If you don't already have one, you can create a dedicated\n'notebooks' token with 'write' access, that you can then easily reuse for all\nnotebooks. </center>"
          }
        },
        "107efb16d3894d269d37f22000e1ddb9": {
          "model_module": "@jupyter-widgets/base",
          "model_name": "LayoutModel",
          "model_module_version": "1.2.0",
          "state": {
            "_model_module": "@jupyter-widgets/base",
            "_model_module_version": "1.2.0",
            "_model_name": "LayoutModel",
            "_view_count": null,
            "_view_module": "@jupyter-widgets/base",
            "_view_module_version": "1.2.0",
            "_view_name": "LayoutView",
            "align_content": null,
            "align_items": "center",
            "align_self": null,
            "border": null,
            "bottom": null,
            "display": "flex",
            "flex": null,
            "flex_flow": "column",
            "grid_area": null,
            "grid_auto_columns": null,
            "grid_auto_flow": null,
            "grid_auto_rows": null,
            "grid_column": null,
            "grid_gap": null,
            "grid_row": null,
            "grid_template_areas": null,
            "grid_template_columns": null,
            "grid_template_rows": null,
            "height": null,
            "justify_content": null,
            "justify_items": null,
            "left": null,
            "margin": null,
            "max_height": null,
            "max_width": null,
            "min_height": null,
            "min_width": null,
            "object_fit": null,
            "object_position": null,
            "order": null,
            "overflow": null,
            "overflow_x": null,
            "overflow_y": null,
            "padding": null,
            "right": null,
            "top": null,
            "visibility": null,
            "width": "50%"
          }
        },
        "aa460b46c0a8495ea44631550ed78541": {
          "model_module": "@jupyter-widgets/base",
          "model_name": "LayoutModel",
          "model_module_version": "1.2.0",
          "state": {
            "_model_module": "@jupyter-widgets/base",
            "_model_module_version": "1.2.0",
            "_model_name": "LayoutModel",
            "_view_count": null,
            "_view_module": "@jupyter-widgets/base",
            "_view_module_version": "1.2.0",
            "_view_name": "LayoutView",
            "align_content": null,
            "align_items": null,
            "align_self": null,
            "border": null,
            "bottom": null,
            "display": null,
            "flex": null,
            "flex_flow": null,
            "grid_area": null,
            "grid_auto_columns": null,
            "grid_auto_flow": null,
            "grid_auto_rows": null,
            "grid_column": null,
            "grid_gap": null,
            "grid_row": null,
            "grid_template_areas": null,
            "grid_template_columns": null,
            "grid_template_rows": null,
            "height": null,
            "justify_content": null,
            "justify_items": null,
            "left": null,
            "margin": null,
            "max_height": null,
            "max_width": null,
            "min_height": null,
            "min_width": null,
            "object_fit": null,
            "object_position": null,
            "order": null,
            "overflow": null,
            "overflow_x": null,
            "overflow_y": null,
            "padding": null,
            "right": null,
            "top": null,
            "visibility": null,
            "width": null
          }
        },
        "a7a00bdc101d4e4db4557a4e304fb6d8": {
          "model_module": "@jupyter-widgets/controls",
          "model_name": "DescriptionStyleModel",
          "model_module_version": "1.5.0",
          "state": {
            "_model_module": "@jupyter-widgets/controls",
            "_model_module_version": "1.5.0",
            "_model_name": "DescriptionStyleModel",
            "_view_count": null,
            "_view_module": "@jupyter-widgets/base",
            "_view_module_version": "1.2.0",
            "_view_name": "StyleView",
            "description_width": ""
          }
        },
        "0346bc2faac5425483f20eb594e0d75a": {
          "model_module": "@jupyter-widgets/base",
          "model_name": "LayoutModel",
          "model_module_version": "1.2.0",
          "state": {
            "_model_module": "@jupyter-widgets/base",
            "_model_module_version": "1.2.0",
            "_model_name": "LayoutModel",
            "_view_count": null,
            "_view_module": "@jupyter-widgets/base",
            "_view_module_version": "1.2.0",
            "_view_name": "LayoutView",
            "align_content": null,
            "align_items": null,
            "align_self": null,
            "border": null,
            "bottom": null,
            "display": null,
            "flex": null,
            "flex_flow": null,
            "grid_area": null,
            "grid_auto_columns": null,
            "grid_auto_flow": null,
            "grid_auto_rows": null,
            "grid_column": null,
            "grid_gap": null,
            "grid_row": null,
            "grid_template_areas": null,
            "grid_template_columns": null,
            "grid_template_rows": null,
            "height": null,
            "justify_content": null,
            "justify_items": null,
            "left": null,
            "margin": null,
            "max_height": null,
            "max_width": null,
            "min_height": null,
            "min_width": null,
            "object_fit": null,
            "object_position": null,
            "order": null,
            "overflow": null,
            "overflow_x": null,
            "overflow_y": null,
            "padding": null,
            "right": null,
            "top": null,
            "visibility": null,
            "width": null
          }
        },
        "2e050f953f6a4fddae1a7664c51ac224": {
          "model_module": "@jupyter-widgets/controls",
          "model_name": "DescriptionStyleModel",
          "model_module_version": "1.5.0",
          "state": {
            "_model_module": "@jupyter-widgets/controls",
            "_model_module_version": "1.5.0",
            "_model_name": "DescriptionStyleModel",
            "_view_count": null,
            "_view_module": "@jupyter-widgets/base",
            "_view_module_version": "1.2.0",
            "_view_name": "StyleView",
            "description_width": ""
          }
        },
        "aeea6b9105af40a3abd2db86068bfd98": {
          "model_module": "@jupyter-widgets/base",
          "model_name": "LayoutModel",
          "model_module_version": "1.2.0",
          "state": {
            "_model_module": "@jupyter-widgets/base",
            "_model_module_version": "1.2.0",
            "_model_name": "LayoutModel",
            "_view_count": null,
            "_view_module": "@jupyter-widgets/base",
            "_view_module_version": "1.2.0",
            "_view_name": "LayoutView",
            "align_content": null,
            "align_items": null,
            "align_self": null,
            "border": null,
            "bottom": null,
            "display": null,
            "flex": null,
            "flex_flow": null,
            "grid_area": null,
            "grid_auto_columns": null,
            "grid_auto_flow": null,
            "grid_auto_rows": null,
            "grid_column": null,
            "grid_gap": null,
            "grid_row": null,
            "grid_template_areas": null,
            "grid_template_columns": null,
            "grid_template_rows": null,
            "height": null,
            "justify_content": null,
            "justify_items": null,
            "left": null,
            "margin": null,
            "max_height": null,
            "max_width": null,
            "min_height": null,
            "min_width": null,
            "object_fit": null,
            "object_position": null,
            "order": null,
            "overflow": null,
            "overflow_x": null,
            "overflow_y": null,
            "padding": null,
            "right": null,
            "top": null,
            "visibility": null,
            "width": null
          }
        },
        "9bd5208b7cf24900af9eca84db29e160": {
          "model_module": "@jupyter-widgets/controls",
          "model_name": "ButtonStyleModel",
          "model_module_version": "1.5.0",
          "state": {
            "_model_module": "@jupyter-widgets/controls",
            "_model_module_version": "1.5.0",
            "_model_name": "ButtonStyleModel",
            "_view_count": null,
            "_view_module": "@jupyter-widgets/base",
            "_view_module_version": "1.2.0",
            "_view_name": "StyleView",
            "button_color": null,
            "font_weight": ""
          }
        },
        "9c44030f804642188b0dc9e50df49313": {
          "model_module": "@jupyter-widgets/base",
          "model_name": "LayoutModel",
          "model_module_version": "1.2.0",
          "state": {
            "_model_module": "@jupyter-widgets/base",
            "_model_module_version": "1.2.0",
            "_model_name": "LayoutModel",
            "_view_count": null,
            "_view_module": "@jupyter-widgets/base",
            "_view_module_version": "1.2.0",
            "_view_name": "LayoutView",
            "align_content": null,
            "align_items": null,
            "align_self": null,
            "border": null,
            "bottom": null,
            "display": null,
            "flex": null,
            "flex_flow": null,
            "grid_area": null,
            "grid_auto_columns": null,
            "grid_auto_flow": null,
            "grid_auto_rows": null,
            "grid_column": null,
            "grid_gap": null,
            "grid_row": null,
            "grid_template_areas": null,
            "grid_template_columns": null,
            "grid_template_rows": null,
            "height": null,
            "justify_content": null,
            "justify_items": null,
            "left": null,
            "margin": null,
            "max_height": null,
            "max_width": null,
            "min_height": null,
            "min_width": null,
            "object_fit": null,
            "object_position": null,
            "order": null,
            "overflow": null,
            "overflow_x": null,
            "overflow_y": null,
            "padding": null,
            "right": null,
            "top": null,
            "visibility": null,
            "width": null
          }
        },
        "eb5cf19631574dff8541f9938161f9a9": {
          "model_module": "@jupyter-widgets/controls",
          "model_name": "DescriptionStyleModel",
          "model_module_version": "1.5.0",
          "state": {
            "_model_module": "@jupyter-widgets/controls",
            "_model_module_version": "1.5.0",
            "_model_name": "DescriptionStyleModel",
            "_view_count": null,
            "_view_module": "@jupyter-widgets/base",
            "_view_module_version": "1.2.0",
            "_view_name": "StyleView",
            "description_width": ""
          }
        },
        "68b87027788943aaa3f8ec544c64b862": {
          "model_module": "@jupyter-widgets/controls",
          "model_name": "HBoxModel",
          "model_module_version": "1.5.0",
          "state": {
            "_dom_classes": [],
            "_model_module": "@jupyter-widgets/controls",
            "_model_module_version": "1.5.0",
            "_model_name": "HBoxModel",
            "_view_count": null,
            "_view_module": "@jupyter-widgets/controls",
            "_view_module_version": "1.5.0",
            "_view_name": "HBoxView",
            "box_style": "",
            "children": [
              "IPY_MODEL_3ba7e41438914c51b05452c3b7e0874c",
              "IPY_MODEL_0b2e2689c2a54b24883b62383a6d58e8",
              "IPY_MODEL_ccd3373382994c17bc9593ea73366e05"
            ],
            "layout": "IPY_MODEL_cef4630f277b4d65a8d954b0d5a82b85"
          }
        },
        "3ba7e41438914c51b05452c3b7e0874c": {
          "model_module": "@jupyter-widgets/controls",
          "model_name": "HTMLModel",
          "model_module_version": "1.5.0",
          "state": {
            "_dom_classes": [],
            "_model_module": "@jupyter-widgets/controls",
            "_model_module_version": "1.5.0",
            "_model_name": "HTMLModel",
            "_view_count": null,
            "_view_module": "@jupyter-widgets/controls",
            "_view_module_version": "1.5.0",
            "_view_name": "HTMLView",
            "description": "",
            "description_tooltip": null,
            "layout": "IPY_MODEL_2ce0cd307c6d411c9c4fa0ce0b6949d8",
            "placeholder": "​",
            "style": "IPY_MODEL_de5ba034998e4169bfd5d5b98c9a45e8",
            "value": "Upload file runs/Jul27_17-11-47_c36a69348d86/events.out.tfevents.1658941928.c36a69348d86.71.0: 100%"
          }
        },
        "0b2e2689c2a54b24883b62383a6d58e8": {
          "model_module": "@jupyter-widgets/controls",
          "model_name": "FloatProgressModel",
          "model_module_version": "1.5.0",
          "state": {
            "_dom_classes": [],
            "_model_module": "@jupyter-widgets/controls",
            "_model_module_version": "1.5.0",
            "_model_name": "FloatProgressModel",
            "_view_count": null,
            "_view_module": "@jupyter-widgets/controls",
            "_view_module_version": "1.5.0",
            "_view_name": "ProgressView",
            "bar_style": "success",
            "description": "",
            "description_tooltip": null,
            "layout": "IPY_MODEL_dd0170a19b074baeaf83b9df138dbd8f",
            "max": 4876,
            "min": 0,
            "orientation": "horizontal",
            "style": "IPY_MODEL_d91697bb69054f53bef39449c7984369",
            "value": 4876
          }
        },
        "ccd3373382994c17bc9593ea73366e05": {
          "model_module": "@jupyter-widgets/controls",
          "model_name": "HTMLModel",
          "model_module_version": "1.5.0",
          "state": {
            "_dom_classes": [],
            "_model_module": "@jupyter-widgets/controls",
            "_model_module_version": "1.5.0",
            "_model_name": "HTMLModel",
            "_view_count": null,
            "_view_module": "@jupyter-widgets/controls",
            "_view_module_version": "1.5.0",
            "_view_name": "HTMLView",
            "description": "",
            "description_tooltip": null,
            "layout": "IPY_MODEL_8275967d7d604ed7bb2dfd3ba8d16e82",
            "placeholder": "​",
            "style": "IPY_MODEL_3f11f94b9f85432081a2fe6997dfa542",
            "value": " 4.76k/4.76k [00:03&lt;00:00, 479B/s]"
          }
        },
        "cef4630f277b4d65a8d954b0d5a82b85": {
          "model_module": "@jupyter-widgets/base",
          "model_name": "LayoutModel",
          "model_module_version": "1.2.0",
          "state": {
            "_model_module": "@jupyter-widgets/base",
            "_model_module_version": "1.2.0",
            "_model_name": "LayoutModel",
            "_view_count": null,
            "_view_module": "@jupyter-widgets/base",
            "_view_module_version": "1.2.0",
            "_view_name": "LayoutView",
            "align_content": null,
            "align_items": null,
            "align_self": null,
            "border": null,
            "bottom": null,
            "display": null,
            "flex": null,
            "flex_flow": null,
            "grid_area": null,
            "grid_auto_columns": null,
            "grid_auto_flow": null,
            "grid_auto_rows": null,
            "grid_column": null,
            "grid_gap": null,
            "grid_row": null,
            "grid_template_areas": null,
            "grid_template_columns": null,
            "grid_template_rows": null,
            "height": null,
            "justify_content": null,
            "justify_items": null,
            "left": null,
            "margin": null,
            "max_height": null,
            "max_width": null,
            "min_height": null,
            "min_width": null,
            "object_fit": null,
            "object_position": null,
            "order": null,
            "overflow": null,
            "overflow_x": null,
            "overflow_y": null,
            "padding": null,
            "right": null,
            "top": null,
            "visibility": null,
            "width": null
          }
        },
        "2ce0cd307c6d411c9c4fa0ce0b6949d8": {
          "model_module": "@jupyter-widgets/base",
          "model_name": "LayoutModel",
          "model_module_version": "1.2.0",
          "state": {
            "_model_module": "@jupyter-widgets/base",
            "_model_module_version": "1.2.0",
            "_model_name": "LayoutModel",
            "_view_count": null,
            "_view_module": "@jupyter-widgets/base",
            "_view_module_version": "1.2.0",
            "_view_name": "LayoutView",
            "align_content": null,
            "align_items": null,
            "align_self": null,
            "border": null,
            "bottom": null,
            "display": null,
            "flex": null,
            "flex_flow": null,
            "grid_area": null,
            "grid_auto_columns": null,
            "grid_auto_flow": null,
            "grid_auto_rows": null,
            "grid_column": null,
            "grid_gap": null,
            "grid_row": null,
            "grid_template_areas": null,
            "grid_template_columns": null,
            "grid_template_rows": null,
            "height": null,
            "justify_content": null,
            "justify_items": null,
            "left": null,
            "margin": null,
            "max_height": null,
            "max_width": null,
            "min_height": null,
            "min_width": null,
            "object_fit": null,
            "object_position": null,
            "order": null,
            "overflow": null,
            "overflow_x": null,
            "overflow_y": null,
            "padding": null,
            "right": null,
            "top": null,
            "visibility": null,
            "width": null
          }
        },
        "de5ba034998e4169bfd5d5b98c9a45e8": {
          "model_module": "@jupyter-widgets/controls",
          "model_name": "DescriptionStyleModel",
          "model_module_version": "1.5.0",
          "state": {
            "_model_module": "@jupyter-widgets/controls",
            "_model_module_version": "1.5.0",
            "_model_name": "DescriptionStyleModel",
            "_view_count": null,
            "_view_module": "@jupyter-widgets/base",
            "_view_module_version": "1.2.0",
            "_view_name": "StyleView",
            "description_width": ""
          }
        },
        "dd0170a19b074baeaf83b9df138dbd8f": {
          "model_module": "@jupyter-widgets/base",
          "model_name": "LayoutModel",
          "model_module_version": "1.2.0",
          "state": {
            "_model_module": "@jupyter-widgets/base",
            "_model_module_version": "1.2.0",
            "_model_name": "LayoutModel",
            "_view_count": null,
            "_view_module": "@jupyter-widgets/base",
            "_view_module_version": "1.2.0",
            "_view_name": "LayoutView",
            "align_content": null,
            "align_items": null,
            "align_self": null,
            "border": null,
            "bottom": null,
            "display": null,
            "flex": null,
            "flex_flow": null,
            "grid_area": null,
            "grid_auto_columns": null,
            "grid_auto_flow": null,
            "grid_auto_rows": null,
            "grid_column": null,
            "grid_gap": null,
            "grid_row": null,
            "grid_template_areas": null,
            "grid_template_columns": null,
            "grid_template_rows": null,
            "height": null,
            "justify_content": null,
            "justify_items": null,
            "left": null,
            "margin": null,
            "max_height": null,
            "max_width": null,
            "min_height": null,
            "min_width": null,
            "object_fit": null,
            "object_position": null,
            "order": null,
            "overflow": null,
            "overflow_x": null,
            "overflow_y": null,
            "padding": null,
            "right": null,
            "top": null,
            "visibility": null,
            "width": null
          }
        },
        "d91697bb69054f53bef39449c7984369": {
          "model_module": "@jupyter-widgets/controls",
          "model_name": "ProgressStyleModel",
          "model_module_version": "1.5.0",
          "state": {
            "_model_module": "@jupyter-widgets/controls",
            "_model_module_version": "1.5.0",
            "_model_name": "ProgressStyleModel",
            "_view_count": null,
            "_view_module": "@jupyter-widgets/base",
            "_view_module_version": "1.2.0",
            "_view_name": "StyleView",
            "bar_color": null,
            "description_width": ""
          }
        },
        "8275967d7d604ed7bb2dfd3ba8d16e82": {
          "model_module": "@jupyter-widgets/base",
          "model_name": "LayoutModel",
          "model_module_version": "1.2.0",
          "state": {
            "_model_module": "@jupyter-widgets/base",
            "_model_module_version": "1.2.0",
            "_model_name": "LayoutModel",
            "_view_count": null,
            "_view_module": "@jupyter-widgets/base",
            "_view_module_version": "1.2.0",
            "_view_name": "LayoutView",
            "align_content": null,
            "align_items": null,
            "align_self": null,
            "border": null,
            "bottom": null,
            "display": null,
            "flex": null,
            "flex_flow": null,
            "grid_area": null,
            "grid_auto_columns": null,
            "grid_auto_flow": null,
            "grid_auto_rows": null,
            "grid_column": null,
            "grid_gap": null,
            "grid_row": null,
            "grid_template_areas": null,
            "grid_template_columns": null,
            "grid_template_rows": null,
            "height": null,
            "justify_content": null,
            "justify_items": null,
            "left": null,
            "margin": null,
            "max_height": null,
            "max_width": null,
            "min_height": null,
            "min_width": null,
            "object_fit": null,
            "object_position": null,
            "order": null,
            "overflow": null,
            "overflow_x": null,
            "overflow_y": null,
            "padding": null,
            "right": null,
            "top": null,
            "visibility": null,
            "width": null
          }
        },
        "3f11f94b9f85432081a2fe6997dfa542": {
          "model_module": "@jupyter-widgets/controls",
          "model_name": "DescriptionStyleModel",
          "model_module_version": "1.5.0",
          "state": {
            "_model_module": "@jupyter-widgets/controls",
            "_model_module_version": "1.5.0",
            "_model_name": "DescriptionStyleModel",
            "_view_count": null,
            "_view_module": "@jupyter-widgets/base",
            "_view_module_version": "1.2.0",
            "_view_name": "StyleView",
            "description_width": ""
          }
        }
      }
    }
  },
  "cells": [
    {
      "cell_type": "markdown",
      "metadata": {
        "id": "view-in-github",
        "colab_type": "text"
      },
      "source": [
        "<a href=\"https://colab.research.google.com/github/nshah-waripari/nlp_transformers/blob/main/sentiment_classifier_transformer.ipynb\" target=\"_parent\"><img src=\"https://colab.research.google.com/assets/colab-badge.svg\" alt=\"Open In Colab\"/></a>"
      ]
    },
    {
      "cell_type": "markdown",
      "source": [
        "# **Emotion Classifier With Transformer Model Based On Hugging Face Ecosystem**\n",
        "We will build the classifier using a variant of BERT [One of the pre-trained transformer models] called DistilBERT:[V. Sanh et al., \"DistilBERT, a Distilled Version of BERT: Smaller, Faster, Cheaper and Lighter\", (2019).] The main advantage of this model is that it achieves comparable performance to BERT, while being significantly smaller and more efficient. "
      ],
      "metadata": {
        "id": "7NJXn8aogjJY"
      }
    },
    {
      "cell_type": "code",
      "execution_count": 1,
      "metadata": {
        "colab": {
          "base_uri": "https://localhost:8080/"
        },
        "id": "4dI9mhujgOi2",
        "outputId": "ec7fde25-6b7f-4394-a650-1a63effb5deb"
      },
      "outputs": [
        {
          "output_type": "stream",
          "name": "stdout",
          "text": [
            "Cloning into 'notebooks'...\n",
            "remote: Enumerating objects: 422, done.\u001b[K\n",
            "remote: Counting objects: 100% (6/6), done.\u001b[K\n",
            "remote: Compressing objects: 100% (6/6), done.\u001b[K\n",
            "remote: Total 422 (delta 0), reused 5 (delta 0), pack-reused 416\u001b[K\n",
            "Receiving objects: 100% (422/422), 24.97 MiB | 17.73 MiB/s, done.\n",
            "Resolving deltas: 100% (190/190), done.\n",
            "/content/notebooks\n",
            "⏳ Installing base requirements ...\n",
            "✅ Base requirements installed!\n",
            "⏳ Installing Git LFS ...\n",
            "✅ Git LFS installed!\n"
          ]
        }
      ],
      "source": [
        "# Install the required libraries\n",
        "!git clone https://github.com/nlp-with-transformers/notebooks.git\n",
        "%cd notebooks\n",
        "from install import *\n",
        "install_requirements(is_chapter2=True)"
      ]
    },
    {
      "cell_type": "markdown",
      "source": [
        "# **Dataset**\n",
        "We will use the tweeter emotion dataset hosted at hugging face from [E. Saravia et al., \"CARER: Contextualized Affect Representations for Emotion Recognition,\" Proceedings of the 2018 Conference on Empirical Methods in Natural Language Processing (Oct–Nov 2018): 3687–3697, http://dx.doi.org/10.18653/v1/D18-1404.] Unlike Imdb Sentiment Analysis dataset which involve just \"positive\" and \"negative\" polarities, this dataset contains six basic emotions: anger, disgust, fear, joy, sadness, and surprise."
      ],
      "metadata": {
        "id": "UABGIHLigdnt"
      }
    },
    {
      "cell_type": "code",
      "source": [
        "#list_dataset() function list the available datasets in the hugging face hub\n",
        "from datasets import list_datasets\n",
        "all_datasets = list_datasets()\n",
        "print(f\"There are {len(all_datasets)} datasets currently available on the Hub\")\n",
        "print(f\"The first 10 are: {all_datasets[:10]}\")\n"
      ],
      "metadata": {
        "colab": {
          "base_uri": "https://localhost:8080/"
        },
        "id": "p3w5JuTgbVNK",
        "outputId": "0e9827c2-9b3f-4078-fdb0-5a2e59681344"
      },
      "execution_count": 2,
      "outputs": [
        {
          "output_type": "stream",
          "name": "stdout",
          "text": [
            "There are 7816 datasets currently available on the Hub\n",
            "The first 10 are: ['acronym_identification', 'ade_corpus_v2', 'adversarial_qa', 'aeslc', 'afrikaans_ner_corpus', 'ag_news', 'ai2_arc', 'air_dialogue', 'ajgt_twitter_ar', 'allegro_reviews']\n"
          ]
        }
      ]
    },
    {
      "cell_type": "code",
      "source": [
        "# Load emotion dataset from hugging face hub\n",
        "from datasets import load_dataset\n",
        "emotions = load_dataset('emotion')"
      ],
      "metadata": {
        "colab": {
          "base_uri": "https://localhost:8080/",
          "height": 284,
          "referenced_widgets": [
            "9b6609dc7e954e26a5142317604d55e4",
            "07f5f745aaa64dfeb1f09b2d8acd179f",
            "eac6aba6b73b48448880f4ea3ac0bad7",
            "826a0a51edf74b6aa04ddd91049ab0d3",
            "22f01ae207a04b26a1fc6d980314aafd",
            "0da7a897455641f59d794fefd0ba850d",
            "952646dc5fe44248b56d7b9761068379",
            "ca7ec31edc9d4129b58cc8bf24f67e4c",
            "1fd9c9d0373b48b3acae9d138b5cbdb2",
            "ca7067e5dfbd43eb8ecf7c9b3442beb5",
            "6f57afaf176e4fb1a26776f9ac77ffe1",
            "d47afaf6cb684e479b387107e3fe0ed4",
            "e2157e3eb88f45608d9b0625fabd187e",
            "9061e9aba16d4d7281945239fd535630",
            "875fed287f354a2881973c6b0bd2d741",
            "f0d9c68520db424bb34eb5108690cc47",
            "78c106af72d0448783d5c1f701a3466d",
            "e205b52d9dc84fe3a09c2acc5f1276ea",
            "700e3756ca88499498786f64951086f8",
            "dcbb38f8e3114dc6913337a62041bbe5",
            "4dedd27605c94ecd8dfe1f91de0d8992",
            "75684697b81a4b1eb9641246461d2115",
            "424a235d62dc4103b69fa754fa3c57e3",
            "d295b4d2f9c24788bc58855db003da8c",
            "6b2d11e925cd4118bcd5029ecb0b79fb",
            "2e70c25e3c4547d6ba09bb703f1694af",
            "e3f08312897d4a54b40463dff4a6b09b",
            "a5fe1ac64b5a4f1faf7bbe222d5b9ae1",
            "a438b601999043c3b611737686ad062f",
            "e650647e519b4dd9b3f7f6c0e2e1d423",
            "b4033cf44dbb46ce9ef3a104926c6dc8",
            "029fc2f7005945228e690bd0398e2949",
            "22ead8a77c554ee0bea694729d2fc49f",
            "5fe9043eb0434dada783e9a94728d505",
            "29f45815220c4c4299ea3078de401e26",
            "6321c5f000b04b32be664b98ae6a6d75",
            "3698be99990c4640b793e5af09f2f02a",
            "280720ec70834bceb35e4e08bbfb0216",
            "8343625667cd471bba36099aff19f367",
            "0719f3a4fc9547059ec25b19e2362473",
            "539cb1d63216460a95b90fb5528177cd",
            "6578100fc3c3404b8c306abce143e754",
            "e6098d0e92be46c0aa1e207d26e869b6",
            "cc992b2bb8204727a8125462f41f2a66",
            "a6a463953fb34b31b23f587212e39439",
            "f2a8d5224842446797e55e4dd4eb82f3",
            "9e10902780674d34a1d4fe9dc5f30a66",
            "edb1648cebf64e0c83686e8eff103d9e",
            "cdc30d9bba3e412096782862c3289ca0",
            "a76cfe1cb58d44d6a8a7f79996087bd3",
            "62ca9e6fa0054d01ad4ad1352ee6a772",
            "b03f76a1bb6f4349b35268bc17da9bef",
            "fb0311e1b2154a5fbcf74820959c6b9f",
            "d3703bb1c2cc4999b7361490f658e4bc",
            "319f2ab605d44ae2b23060d2d89e5052",
            "6f44addcc2e44e1eba8ef6e930ab901e",
            "f226e0d1c9bf4c32b3a43c39dbcb7df7",
            "0a4c32ee1de5452eb23e967dec70601f",
            "6428952b6f3f4d7fb6a42828f8b2c059",
            "dc3dcffbb6e14ad6be7e6b78511b3aa4",
            "8487e595300e4618b709ec85b888b0e3",
            "05db115cdc58444696d81c71a494a296",
            "bcb5b5d0ee8a4d18a60449d25f427c91",
            "1de2edb8cc3f4e8cb80178fa8738a3e4",
            "08493b20fdd745b98a0d3e42e6a4ef9b",
            "69df1d715d0c484299d2b6d3be16d174",
            "2405f89ccc0f4e82bfe4ec1e85ed4462",
            "4d930397c9724affa6ac2891bc2a28cf",
            "968b2cdb7ecf4eaab9583debce38bfbb",
            "9ab4290d323e488781c3c7132d5325ec",
            "f553114599df459c9d71d4229a8b976b",
            "354db6b4641445d8b4dd8cae9ffdcfb8",
            "f9b98eff0b6742029c88a6ad144cf1d0",
            "8c8eaaafd4b04f238685284da849fb48",
            "59e0b67989024739a10ddbca4c86d8be",
            "36204d45897a4b5a99d459e698f69399",
            "a0227619ebb745e597519b9a2fb90212",
            "395be1ecc6eb4fdb983cf4d318125007",
            "3744c5ce97a1414b87933dc488f62db8",
            "4fd3e3d13dad4196a0a2e1c6452acc47",
            "81205898a87143af95dbb0e235d89b0d",
            "e77bcb2dcc5d427ba7ac1fa0db4a649a",
            "9288ea1ed6644671ac1d7fe9dfdfc7e5",
            "58a09d60221842498f1d8dc1f1cb3c62",
            "26a05be7f21a42c5a61add9f4788d84f",
            "c40c0a478eab48f09cbc1ce94b5b8c13",
            "d31657b10fbf454da9a63bd05ec36b4f",
            "23c97af8eb7244c486a93b157e9456c9",
            "6df1bf3b8289421a8fe82181b72aa4f3",
            "4d698d7d88f84854bf7f835cdf0258b0",
            "e7ef926dbef24fa781a99ede0b951119",
            "1899c1b2783c409c93ffb92ef4c97b60",
            "a17e643b41f4419190abeebc2191c98c",
            "2326b96826cf42818e11d144591dcaca",
            "43b0d7ca928e4db1866b2e13797cd7d1",
            "8a92d0dc52704e9f85b503bc3c3c7ae2",
            "4b5bc3e305b9433bb6cdd24c58c4dc08",
            "e0d97d84a41645e6a2ca6b440b7126b7",
            "09b253353b1d424c8b32724a35e5ff8d"
          ]
        },
        "id": "6IkhZrX2b4Jc",
        "outputId": "db0aef4f-387e-470b-cdf3-cf4ea3bf08a1"
      },
      "execution_count": 3,
      "outputs": [
        {
          "output_type": "display_data",
          "data": {
            "text/plain": [
              "Downloading:   0%|          | 0.00/1.66k [00:00<?, ?B/s]"
            ],
            "application/vnd.jupyter.widget-view+json": {
              "version_major": 2,
              "version_minor": 0,
              "model_id": "9b6609dc7e954e26a5142317604d55e4"
            }
          },
          "metadata": {}
        },
        {
          "output_type": "display_data",
          "data": {
            "text/plain": [
              "Downloading:   0%|          | 0.00/1.61k [00:00<?, ?B/s]"
            ],
            "application/vnd.jupyter.widget-view+json": {
              "version_major": 2,
              "version_minor": 0,
              "model_id": "d47afaf6cb684e479b387107e3fe0ed4"
            }
          },
          "metadata": {}
        },
        {
          "output_type": "stream",
          "name": "stderr",
          "text": [
            "Using custom data configuration default\n"
          ]
        },
        {
          "output_type": "stream",
          "name": "stdout",
          "text": [
            "Downloading and preparing dataset emotion/default (download: 1.97 MiB, generated: 2.07 MiB, post-processed: Unknown size, total: 4.05 MiB) to /root/.cache/huggingface/datasets/emotion/default/0.0.0/348f63ca8e27b3713b6c04d723efe6d824a56fb3d1449794716c0f0296072705...\n"
          ]
        },
        {
          "output_type": "display_data",
          "data": {
            "text/plain": [
              "Downloading:   0%|          | 0.00/1.66M [00:00<?, ?B/s]"
            ],
            "application/vnd.jupyter.widget-view+json": {
              "version_major": 2,
              "version_minor": 0,
              "model_id": "424a235d62dc4103b69fa754fa3c57e3"
            }
          },
          "metadata": {}
        },
        {
          "output_type": "display_data",
          "data": {
            "text/plain": [
              "Downloading:   0%|          | 0.00/204k [00:00<?, ?B/s]"
            ],
            "application/vnd.jupyter.widget-view+json": {
              "version_major": 2,
              "version_minor": 0,
              "model_id": "5fe9043eb0434dada783e9a94728d505"
            }
          },
          "metadata": {}
        },
        {
          "output_type": "display_data",
          "data": {
            "text/plain": [
              "Downloading:   0%|          | 0.00/207k [00:00<?, ?B/s]"
            ],
            "application/vnd.jupyter.widget-view+json": {
              "version_major": 2,
              "version_minor": 0,
              "model_id": "a6a463953fb34b31b23f587212e39439"
            }
          },
          "metadata": {}
        },
        {
          "output_type": "display_data",
          "data": {
            "text/plain": [
              "0 examples [00:00, ? examples/s]"
            ],
            "application/vnd.jupyter.widget-view+json": {
              "version_major": 2,
              "version_minor": 0,
              "model_id": "6f44addcc2e44e1eba8ef6e930ab901e"
            }
          },
          "metadata": {}
        },
        {
          "output_type": "display_data",
          "data": {
            "text/plain": [
              "0 examples [00:00, ? examples/s]"
            ],
            "application/vnd.jupyter.widget-view+json": {
              "version_major": 2,
              "version_minor": 0,
              "model_id": "2405f89ccc0f4e82bfe4ec1e85ed4462"
            }
          },
          "metadata": {}
        },
        {
          "output_type": "display_data",
          "data": {
            "text/plain": [
              "0 examples [00:00, ? examples/s]"
            ],
            "application/vnd.jupyter.widget-view+json": {
              "version_major": 2,
              "version_minor": 0,
              "model_id": "395be1ecc6eb4fdb983cf4d318125007"
            }
          },
          "metadata": {}
        },
        {
          "output_type": "stream",
          "name": "stdout",
          "text": [
            "Dataset emotion downloaded and prepared to /root/.cache/huggingface/datasets/emotion/default/0.0.0/348f63ca8e27b3713b6c04d723efe6d824a56fb3d1449794716c0f0296072705. Subsequent calls will reuse this data.\n"
          ]
        },
        {
          "output_type": "display_data",
          "data": {
            "text/plain": [
              "  0%|          | 0/3 [00:00<?, ?it/s]"
            ],
            "application/vnd.jupyter.widget-view+json": {
              "version_major": 2,
              "version_minor": 0,
              "model_id": "6df1bf3b8289421a8fe82181b72aa4f3"
            }
          },
          "metadata": {}
        }
      ]
    },
    {
      "cell_type": "code",
      "source": [
        "emotions"
      ],
      "metadata": {
        "colab": {
          "base_uri": "https://localhost:8080/"
        },
        "id": "nrj9ovjRcS2i",
        "outputId": "58861e5e-e9e1-4b8d-8e25-bb40492c822a"
      },
      "execution_count": 4,
      "outputs": [
        {
          "output_type": "execute_result",
          "data": {
            "text/plain": [
              "DatasetDict({\n",
              "    train: Dataset({\n",
              "        features: ['text', 'label'],\n",
              "        num_rows: 16000\n",
              "    })\n",
              "    validation: Dataset({\n",
              "        features: ['text', 'label'],\n",
              "        num_rows: 2000\n",
              "    })\n",
              "    test: Dataset({\n",
              "        features: ['text', 'label'],\n",
              "        num_rows: 2000\n",
              "    })\n",
              "})"
            ]
          },
          "metadata": {},
          "execution_count": 4
        }
      ]
    },
    {
      "cell_type": "markdown",
      "source": [
        "Emotions dataset is basically python dictionary, with each key corresponding to a different split"
      ],
      "metadata": {
        "id": "-VJwoRbRcaye"
      }
    },
    {
      "cell_type": "code",
      "source": [
        "emotions['train']"
      ],
      "metadata": {
        "colab": {
          "base_uri": "https://localhost:8080/"
        },
        "id": "OaU6Ntu9cY6E",
        "outputId": "3d6d1029-751b-4458-a5b5-8bb5c95f1c09"
      },
      "execution_count": 5,
      "outputs": [
        {
          "output_type": "execute_result",
          "data": {
            "text/plain": [
              "Dataset({\n",
              "    features: ['text', 'label'],\n",
              "    num_rows: 16000\n",
              "})"
            ]
          },
          "metadata": {},
          "execution_count": 5
        }
      ]
    },
    {
      "cell_type": "code",
      "source": [
        "print(emotions['train'].features)"
      ],
      "metadata": {
        "colab": {
          "base_uri": "https://localhost:8080/"
        },
        "id": "mSi5i46neGq_",
        "outputId": "06303323-e6a1-414a-825f-2d22f6fcbf4e"
      },
      "execution_count": 6,
      "outputs": [
        {
          "output_type": "stream",
          "name": "stdout",
          "text": [
            "{'text': Value(dtype='string', id=None), 'label': ClassLabel(num_classes=6, names=['sadness', 'joy', 'love', 'anger', 'fear', 'surprise'], names_file=None, id=None)}\n"
          ]
        }
      ]
    },
    {
      "cell_type": "markdown",
      "source": [
        "Looking at the \"fetures\" attributes of the dataset object,the data type of the text column is string, while the label column is a special ClassLabel object that contains information about the class names and their mapping to integers."
      ],
      "metadata": {
        "id": "bkrP_3dkeTGt"
      }
    },
    {
      "cell_type": "markdown",
      "source": [
        "# **Convert Datasets to DataFrames**\n",
        "It is often easier to convert DataSet object to Pandas DataFrame object which provides high-level APIs for data visualization"
      ],
      "metadata": {
        "id": "oD6VKsNkdDnT"
      }
    },
    {
      "cell_type": "code",
      "source": [
        "import pandas as pd\n",
        "emotions.set_format(type=\"pandas\")\n",
        "df = emotions[\"train\"][:]\n",
        "df.head()"
      ],
      "metadata": {
        "colab": {
          "base_uri": "https://localhost:8080/",
          "height": 206
        },
        "id": "1IPthIxQc3OV",
        "outputId": "a2499fcd-7f2e-40ff-c6e8-1965f82ed2cc"
      },
      "execution_count": 7,
      "outputs": [
        {
          "output_type": "execute_result",
          "data": {
            "text/plain": [
              "                                                text  label\n",
              "0                            i didnt feel humiliated      0\n",
              "1  i can go from feeling so hopeless to so damned...      0\n",
              "2   im grabbing a minute to post i feel greedy wrong      3\n",
              "3  i am ever feeling nostalgic about the fireplac...      2\n",
              "4                               i am feeling grouchy      3"
            ],
            "text/html": [
              "\n",
              "  <div id=\"df-60473d7b-26f0-45ac-88b4-cafdac749bbd\">\n",
              "    <div class=\"colab-df-container\">\n",
              "      <div>\n",
              "<style scoped>\n",
              "    .dataframe tbody tr th:only-of-type {\n",
              "        vertical-align: middle;\n",
              "    }\n",
              "\n",
              "    .dataframe tbody tr th {\n",
              "        vertical-align: top;\n",
              "    }\n",
              "\n",
              "    .dataframe thead th {\n",
              "        text-align: right;\n",
              "    }\n",
              "</style>\n",
              "<table border=\"1\" class=\"dataframe\">\n",
              "  <thead>\n",
              "    <tr style=\"text-align: right;\">\n",
              "      <th></th>\n",
              "      <th>text</th>\n",
              "      <th>label</th>\n",
              "    </tr>\n",
              "  </thead>\n",
              "  <tbody>\n",
              "    <tr>\n",
              "      <th>0</th>\n",
              "      <td>i didnt feel humiliated</td>\n",
              "      <td>0</td>\n",
              "    </tr>\n",
              "    <tr>\n",
              "      <th>1</th>\n",
              "      <td>i can go from feeling so hopeless to so damned...</td>\n",
              "      <td>0</td>\n",
              "    </tr>\n",
              "    <tr>\n",
              "      <th>2</th>\n",
              "      <td>im grabbing a minute to post i feel greedy wrong</td>\n",
              "      <td>3</td>\n",
              "    </tr>\n",
              "    <tr>\n",
              "      <th>3</th>\n",
              "      <td>i am ever feeling nostalgic about the fireplac...</td>\n",
              "      <td>2</td>\n",
              "    </tr>\n",
              "    <tr>\n",
              "      <th>4</th>\n",
              "      <td>i am feeling grouchy</td>\n",
              "      <td>3</td>\n",
              "    </tr>\n",
              "  </tbody>\n",
              "</table>\n",
              "</div>\n",
              "      <button class=\"colab-df-convert\" onclick=\"convertToInteractive('df-60473d7b-26f0-45ac-88b4-cafdac749bbd')\"\n",
              "              title=\"Convert this dataframe to an interactive table.\"\n",
              "              style=\"display:none;\">\n",
              "        \n",
              "  <svg xmlns=\"http://www.w3.org/2000/svg\" height=\"24px\"viewBox=\"0 0 24 24\"\n",
              "       width=\"24px\">\n",
              "    <path d=\"M0 0h24v24H0V0z\" fill=\"none\"/>\n",
              "    <path d=\"M18.56 5.44l.94 2.06.94-2.06 2.06-.94-2.06-.94-.94-2.06-.94 2.06-2.06.94zm-11 1L8.5 8.5l.94-2.06 2.06-.94-2.06-.94L8.5 2.5l-.94 2.06-2.06.94zm10 10l.94 2.06.94-2.06 2.06-.94-2.06-.94-.94-2.06-.94 2.06-2.06.94z\"/><path d=\"M17.41 7.96l-1.37-1.37c-.4-.4-.92-.59-1.43-.59-.52 0-1.04.2-1.43.59L10.3 9.45l-7.72 7.72c-.78.78-.78 2.05 0 2.83L4 21.41c.39.39.9.59 1.41.59.51 0 1.02-.2 1.41-.59l7.78-7.78 2.81-2.81c.8-.78.8-2.07 0-2.86zM5.41 20L4 18.59l7.72-7.72 1.47 1.35L5.41 20z\"/>\n",
              "  </svg>\n",
              "      </button>\n",
              "      \n",
              "  <style>\n",
              "    .colab-df-container {\n",
              "      display:flex;\n",
              "      flex-wrap:wrap;\n",
              "      gap: 12px;\n",
              "    }\n",
              "\n",
              "    .colab-df-convert {\n",
              "      background-color: #E8F0FE;\n",
              "      border: none;\n",
              "      border-radius: 50%;\n",
              "      cursor: pointer;\n",
              "      display: none;\n",
              "      fill: #1967D2;\n",
              "      height: 32px;\n",
              "      padding: 0 0 0 0;\n",
              "      width: 32px;\n",
              "    }\n",
              "\n",
              "    .colab-df-convert:hover {\n",
              "      background-color: #E2EBFA;\n",
              "      box-shadow: 0px 1px 2px rgba(60, 64, 67, 0.3), 0px 1px 3px 1px rgba(60, 64, 67, 0.15);\n",
              "      fill: #174EA6;\n",
              "    }\n",
              "\n",
              "    [theme=dark] .colab-df-convert {\n",
              "      background-color: #3B4455;\n",
              "      fill: #D2E3FC;\n",
              "    }\n",
              "\n",
              "    [theme=dark] .colab-df-convert:hover {\n",
              "      background-color: #434B5C;\n",
              "      box-shadow: 0px 1px 3px 1px rgba(0, 0, 0, 0.15);\n",
              "      filter: drop-shadow(0px 1px 2px rgba(0, 0, 0, 0.3));\n",
              "      fill: #FFFFFF;\n",
              "    }\n",
              "  </style>\n",
              "\n",
              "      <script>\n",
              "        const buttonEl =\n",
              "          document.querySelector('#df-60473d7b-26f0-45ac-88b4-cafdac749bbd button.colab-df-convert');\n",
              "        buttonEl.style.display =\n",
              "          google.colab.kernel.accessAllowed ? 'block' : 'none';\n",
              "\n",
              "        async function convertToInteractive(key) {\n",
              "          const element = document.querySelector('#df-60473d7b-26f0-45ac-88b4-cafdac749bbd');\n",
              "          const dataTable =\n",
              "            await google.colab.kernel.invokeFunction('convertToInteractive',\n",
              "                                                     [key], {});\n",
              "          if (!dataTable) return;\n",
              "\n",
              "          const docLinkHtml = 'Like what you see? Visit the ' +\n",
              "            '<a target=\"_blank\" href=https://colab.research.google.com/notebooks/data_table.ipynb>data table notebook</a>'\n",
              "            + ' to learn more about interactive tables.';\n",
              "          element.innerHTML = '';\n",
              "          dataTable['output_type'] = 'display_data';\n",
              "          await google.colab.output.renderOutput(dataTable, element);\n",
              "          const docLink = document.createElement('div');\n",
              "          docLink.innerHTML = docLinkHtml;\n",
              "          element.appendChild(docLink);\n",
              "        }\n",
              "      </script>\n",
              "    </div>\n",
              "  </div>\n",
              "  "
            ]
          },
          "metadata": {},
          "execution_count": 7
        }
      ]
    },
    {
      "cell_type": "markdown",
      "source": [
        "The column headers have been preserved and the first few rows match our previous views of the data. However, the labels are represented as integers, so let's use the int2str() method of the label feature to create a new column in our DataFrame with the corresponding label names:"
      ],
      "metadata": {
        "id": "-YjnMCyTffxX"
      }
    },
    {
      "cell_type": "code",
      "source": [
        "def label_in2str(row):\n",
        "  return emotions[\"train\"].features[\"label\"].int2str(row)\n",
        "# apply the function to the entire dataframe\n",
        "df['label_name'] = df['label'].apply(label_in2str)\n",
        "df.head()\n"
      ],
      "metadata": {
        "colab": {
          "base_uri": "https://localhost:8080/",
          "height": 206
        },
        "id": "o51cuXAKdtSl",
        "outputId": "42096a38-01cd-41e0-fe5e-de617b71c4b8"
      },
      "execution_count": 8,
      "outputs": [
        {
          "output_type": "execute_result",
          "data": {
            "text/plain": [
              "                                                text  label label_name\n",
              "0                            i didnt feel humiliated      0    sadness\n",
              "1  i can go from feeling so hopeless to so damned...      0    sadness\n",
              "2   im grabbing a minute to post i feel greedy wrong      3      anger\n",
              "3  i am ever feeling nostalgic about the fireplac...      2       love\n",
              "4                               i am feeling grouchy      3      anger"
            ],
            "text/html": [
              "\n",
              "  <div id=\"df-1fcbaa72-938a-4a9b-80a7-d1cf303fb0e8\">\n",
              "    <div class=\"colab-df-container\">\n",
              "      <div>\n",
              "<style scoped>\n",
              "    .dataframe tbody tr th:only-of-type {\n",
              "        vertical-align: middle;\n",
              "    }\n",
              "\n",
              "    .dataframe tbody tr th {\n",
              "        vertical-align: top;\n",
              "    }\n",
              "\n",
              "    .dataframe thead th {\n",
              "        text-align: right;\n",
              "    }\n",
              "</style>\n",
              "<table border=\"1\" class=\"dataframe\">\n",
              "  <thead>\n",
              "    <tr style=\"text-align: right;\">\n",
              "      <th></th>\n",
              "      <th>text</th>\n",
              "      <th>label</th>\n",
              "      <th>label_name</th>\n",
              "    </tr>\n",
              "  </thead>\n",
              "  <tbody>\n",
              "    <tr>\n",
              "      <th>0</th>\n",
              "      <td>i didnt feel humiliated</td>\n",
              "      <td>0</td>\n",
              "      <td>sadness</td>\n",
              "    </tr>\n",
              "    <tr>\n",
              "      <th>1</th>\n",
              "      <td>i can go from feeling so hopeless to so damned...</td>\n",
              "      <td>0</td>\n",
              "      <td>sadness</td>\n",
              "    </tr>\n",
              "    <tr>\n",
              "      <th>2</th>\n",
              "      <td>im grabbing a minute to post i feel greedy wrong</td>\n",
              "      <td>3</td>\n",
              "      <td>anger</td>\n",
              "    </tr>\n",
              "    <tr>\n",
              "      <th>3</th>\n",
              "      <td>i am ever feeling nostalgic about the fireplac...</td>\n",
              "      <td>2</td>\n",
              "      <td>love</td>\n",
              "    </tr>\n",
              "    <tr>\n",
              "      <th>4</th>\n",
              "      <td>i am feeling grouchy</td>\n",
              "      <td>3</td>\n",
              "      <td>anger</td>\n",
              "    </tr>\n",
              "  </tbody>\n",
              "</table>\n",
              "</div>\n",
              "      <button class=\"colab-df-convert\" onclick=\"convertToInteractive('df-1fcbaa72-938a-4a9b-80a7-d1cf303fb0e8')\"\n",
              "              title=\"Convert this dataframe to an interactive table.\"\n",
              "              style=\"display:none;\">\n",
              "        \n",
              "  <svg xmlns=\"http://www.w3.org/2000/svg\" height=\"24px\"viewBox=\"0 0 24 24\"\n",
              "       width=\"24px\">\n",
              "    <path d=\"M0 0h24v24H0V0z\" fill=\"none\"/>\n",
              "    <path d=\"M18.56 5.44l.94 2.06.94-2.06 2.06-.94-2.06-.94-.94-2.06-.94 2.06-2.06.94zm-11 1L8.5 8.5l.94-2.06 2.06-.94-2.06-.94L8.5 2.5l-.94 2.06-2.06.94zm10 10l.94 2.06.94-2.06 2.06-.94-2.06-.94-.94-2.06-.94 2.06-2.06.94z\"/><path d=\"M17.41 7.96l-1.37-1.37c-.4-.4-.92-.59-1.43-.59-.52 0-1.04.2-1.43.59L10.3 9.45l-7.72 7.72c-.78.78-.78 2.05 0 2.83L4 21.41c.39.39.9.59 1.41.59.51 0 1.02-.2 1.41-.59l7.78-7.78 2.81-2.81c.8-.78.8-2.07 0-2.86zM5.41 20L4 18.59l7.72-7.72 1.47 1.35L5.41 20z\"/>\n",
              "  </svg>\n",
              "      </button>\n",
              "      \n",
              "  <style>\n",
              "    .colab-df-container {\n",
              "      display:flex;\n",
              "      flex-wrap:wrap;\n",
              "      gap: 12px;\n",
              "    }\n",
              "\n",
              "    .colab-df-convert {\n",
              "      background-color: #E8F0FE;\n",
              "      border: none;\n",
              "      border-radius: 50%;\n",
              "      cursor: pointer;\n",
              "      display: none;\n",
              "      fill: #1967D2;\n",
              "      height: 32px;\n",
              "      padding: 0 0 0 0;\n",
              "      width: 32px;\n",
              "    }\n",
              "\n",
              "    .colab-df-convert:hover {\n",
              "      background-color: #E2EBFA;\n",
              "      box-shadow: 0px 1px 2px rgba(60, 64, 67, 0.3), 0px 1px 3px 1px rgba(60, 64, 67, 0.15);\n",
              "      fill: #174EA6;\n",
              "    }\n",
              "\n",
              "    [theme=dark] .colab-df-convert {\n",
              "      background-color: #3B4455;\n",
              "      fill: #D2E3FC;\n",
              "    }\n",
              "\n",
              "    [theme=dark] .colab-df-convert:hover {\n",
              "      background-color: #434B5C;\n",
              "      box-shadow: 0px 1px 3px 1px rgba(0, 0, 0, 0.15);\n",
              "      filter: drop-shadow(0px 1px 2px rgba(0, 0, 0, 0.3));\n",
              "      fill: #FFFFFF;\n",
              "    }\n",
              "  </style>\n",
              "\n",
              "      <script>\n",
              "        const buttonEl =\n",
              "          document.querySelector('#df-1fcbaa72-938a-4a9b-80a7-d1cf303fb0e8 button.colab-df-convert');\n",
              "        buttonEl.style.display =\n",
              "          google.colab.kernel.accessAllowed ? 'block' : 'none';\n",
              "\n",
              "        async function convertToInteractive(key) {\n",
              "          const element = document.querySelector('#df-1fcbaa72-938a-4a9b-80a7-d1cf303fb0e8');\n",
              "          const dataTable =\n",
              "            await google.colab.kernel.invokeFunction('convertToInteractive',\n",
              "                                                     [key], {});\n",
              "          if (!dataTable) return;\n",
              "\n",
              "          const docLinkHtml = 'Like what you see? Visit the ' +\n",
              "            '<a target=\"_blank\" href=https://colab.research.google.com/notebooks/data_table.ipynb>data table notebook</a>'\n",
              "            + ' to learn more about interactive tables.';\n",
              "          element.innerHTML = '';\n",
              "          dataTable['output_type'] = 'display_data';\n",
              "          await google.colab.output.renderOutput(dataTable, element);\n",
              "          const docLink = document.createElement('div');\n",
              "          docLink.innerHTML = docLinkHtml;\n",
              "          element.appendChild(docLink);\n",
              "        }\n",
              "      </script>\n",
              "    </div>\n",
              "  </div>\n",
              "  "
            ]
          },
          "metadata": {},
          "execution_count": 8
        }
      ]
    },
    {
      "cell_type": "markdown",
      "source": [
        "# **Looking at the data**\n",
        "1. Class Distribution"
      ],
      "metadata": {
        "id": "b_H_ebpogH2P"
      }
    },
    {
      "cell_type": "code",
      "source": [
        "import matplotlib.pyplot as plt\n",
        "df[\"label_name\"].value_counts(ascending=True).plot.barh()\n",
        "plt.title(\"Frequency of Classes\")\n",
        "plt.show()"
      ],
      "metadata": {
        "colab": {
          "base_uri": "https://localhost:8080/",
          "height": 281
        },
        "id": "yp0-Yjrrf0VX",
        "outputId": "02528bc4-ed93-48a3-85fa-b7906bbe8857"
      },
      "execution_count": 9,
      "outputs": [
        {
          "output_type": "display_data",
          "data": {
            "text/plain": [
              "<Figure size 432x288 with 1 Axes>"
            ],
            "image/png": "[encoded data removed]"
          },
          "metadata": {
            "needs_background": "light"
          }
        }
      ]
    },
    {
      "cell_type": "markdown",
      "source": [
        "  2. How long are the tweets\n",
        "\n",
        "Transformer models have a maximum input sequence length that is referred to as the maximum context size. For applications using DistilBERT, the maximum context size is 512 tokens, which amounts to a few paragraphs of text. Treating a token as a single word, we can get a rough estimate of tweet lengths per emotion by looking at the distribution of words per tweet:\n"
      ],
      "metadata": {
        "id": "GqElMJEcgxhJ"
      }
    },
    {
      "cell_type": "code",
      "source": [
        "df[\"Words Per Tweet\"] = df[\"text\"].str.split().apply(len)\n",
        "df.boxplot(\"Words Per Tweet\", by=\"label_name\", grid=False, showfliers=False,\n",
        "           color=\"black\")\n",
        "plt.suptitle(\"\")\n",
        "plt.xlabel(\"\")\n",
        "plt.show()"
      ],
      "metadata": {
        "colab": {
          "base_uri": "https://localhost:8080/",
          "height": 337
        },
        "id": "O8ufU_U4gjo-",
        "outputId": "49e5657f-835a-49f4-bddd-1abac46f9ecb"
      },
      "execution_count": 10,
      "outputs": [
        {
          "output_type": "stream",
          "name": "stderr",
          "text": [
            "/usr/local/lib/python3.7/dist-packages/matplotlib/cbook/__init__.py:1376: VisibleDeprecationWarning: Creating an ndarray from ragged nested sequences (which is a list-or-tuple of lists-or-tuples-or ndarrays with different lengths or shapes) is deprecated. If you meant to do this, you must specify 'dtype=object' when creating the ndarray.\n",
            "  X = np.atleast_1d(X.T if isinstance(X, np.ndarray) else np.asarray(X))\n"
          ]
        },
        {
          "output_type": "display_data",
          "data": {
            "text/plain": [
              "<Figure size 432x288 with 1 Axes>"
            ],
            "image/png": "[encoded data removed]"
          },
          "metadata": {
            "needs_background": "light"
          }
        }
      ]
    },
    {
      "cell_type": "markdown",
      "source": [
        "From the plot we see that for each emotion, most tweets are around 15 words long and the longest tweets are well below DistilBERT's maximum context size. Texts that are longer than a model's context size need to be truncated, which can lead to a loss in performance if the truncated text contains crucial information; in this case, it looks like that won't be an issue."
      ],
      "metadata": {
        "id": "n8M2zbsCiNMB"
      }
    },
    {
      "cell_type": "markdown",
      "source": [
        "# **Tokenization**\n",
        "Transformer models like DistilBERT cannot receive raw strings as input; instead, they assume the text has been tokenized and encoded as numerical vectors. Tokenization is the step of breaking down a string into the atomic units used in the model. There are several tokenization strategies one can adopt, and the optimal splitting of words into subunits is usually learned from the corpus.\n",
        "### Subword Tokenization\n",
        "The basic idea behind subword tokenization is to combine the best aspects of character and word tokenization. On the one hand, we want to split rare words into smaller units to allow the model to deal with complex words and misspellings. On the other hand, we want to keep frequent words as unique entities so that we can keep the length of our inputs to a manageable size. The main distinguishing feature of subword tokenization (as well as word tokenization) is that it is learned from the pretraining corpus using a mix of statistical rules and algorithms.\n",
        "There are several subword tokenization algorithms that are commonly used in NLP, but we will use WordPiece"
      ],
      "metadata": {
        "id": "369WuUpIjC4P"
      }
    },
    {
      "cell_type": "code",
      "source": [
        "# Load the tokenizer associated with pretrained model using AutoTokenizer class\n",
        "from transformers import AutoTokenizer\n",
        "model_ckpt = 'distilbert-base-uncased' # model check point\n",
        "tokenizer = AutoTokenizer.from_pretrained(model_ckpt)\n",
        "\n",
        "# let's examine how the tokenizer works\n",
        "text = \"Tokenizing text is a core task of NLP.\"\n",
        "encoded_text = tokenizer(text)\n",
        "print(encoded_text)\n"
      ],
      "metadata": {
        "colab": {
          "base_uri": "https://localhost:8080/",
          "height": 183,
          "referenced_widgets": [
            "02db7ab8bee64b49a08b0711bebb406b",
            "8f30ab28b56b445bba673bab7903ce7d",
            "71825b9e25284d59aab6af24394d36f2",
            "648d7a661f4a476493ffb3f619f7bb34",
            "7ac4c687e1154cdb9d3400e3bfa6a044",
            "cb46322aac0d458bab87eead0daa9088",
            "1c4d86c5b2ab4e6bb2e0e858ae9fea1d",
            "4dd00badb9da4ebbb9b377a1d4f8dd31",
            "70381d5ed85b4bfb8d3eeab998ca1319",
            "1fa5dd83f44942d9a9e592bbaf91a190",
            "df85a0757c844956b8951c86b281882d",
            "28dedcbc121e4a4aa59586c7a17ca1b4",
            "43dcdd743b6c4261bfa6b755ebbd4088",
            "304f9bfaa90a48deb587edaefa304903",
            "b28bee21a41b46ca85d4b37d7d15fdaf",
            "c89d6fd0582c4b56a9527cd17a559dc9",
            "d37d2380811b4c878cf16f7603a19d1f",
            "4d3485c502884c5bb0f787daffdd8b96",
            "3618934d9d924efea55ee781d550a3dd",
            "27599d54872343a7bf4d9476ddc04ff0",
            "57899cb96a784635a8fa2a25906171bb",
            "31c46c4eebf14250bb7073e0c0182543",
            "d7a18b54e7b141cd989b5ec6fcf99d9f",
            "9d4d40af9a38486898bfd363334d0c41",
            "ed92afa5db914fe1bc2e821b28b4ab90",
            "6d608e8f09bd4290b13d7de4e2d90433",
            "9aa1170770af4827b658405897bfec36",
            "d9f97feb76dd4dd9a5ec6e512bae86d5",
            "2fd160ad7c284b0cba66d57ad05203db",
            "2ed9b2f00180409dad283558a6aedcea",
            "2b089a43b9b848c2bd7f9a840a37c6b6",
            "077779bb21c945b5875b4e78e5451c8e",
            "789eed4939b2467caed40f260bda4c9e",
            "656715446f1743da9424f6a19eab2213",
            "b022efbedfd343bba7917f7836965bc7",
            "52634f827727490e93e8d949a0e94127",
            "526d402d2b73463db49a5f162fdd62be",
            "5a907271a7ea475888160624bcb05904",
            "1226dab2ee9e471084c55b4265f29076",
            "8540cde80b0d4645b836aaf9c63f2884",
            "0cda62e8c89247a58094df5b47b54728",
            "fd5dc1f5d6014bd8b63b7e461b3024af",
            "56b2df3ec4a44e3f973aa44aae76a04f",
            "ccef6fe605744364b42176e4f725dace"
          ]
        },
        "id": "Bx1Q829ciAqZ",
        "outputId": "753cdcb0-bc19-4094-b619-e664e55cfc95"
      },
      "execution_count": 11,
      "outputs": [
        {
          "output_type": "display_data",
          "data": {
            "text/plain": [
              "Downloading:   0%|          | 0.00/28.0 [00:00<?, ?B/s]"
            ],
            "application/vnd.jupyter.widget-view+json": {
              "version_major": 2,
              "version_minor": 0,
              "model_id": "02db7ab8bee64b49a08b0711bebb406b"
            }
          },
          "metadata": {}
        },
        {
          "output_type": "display_data",
          "data": {
            "text/plain": [
              "Downloading:   0%|          | 0.00/483 [00:00<?, ?B/s]"
            ],
            "application/vnd.jupyter.widget-view+json": {
              "version_major": 2,
              "version_minor": 0,
              "model_id": "28dedcbc121e4a4aa59586c7a17ca1b4"
            }
          },
          "metadata": {}
        },
        {
          "output_type": "display_data",
          "data": {
            "text/plain": [
              "Downloading:   0%|          | 0.00/226k [00:00<?, ?B/s]"
            ],
            "application/vnd.jupyter.widget-view+json": {
              "version_major": 2,
              "version_minor": 0,
              "model_id": "d7a18b54e7b141cd989b5ec6fcf99d9f"
            }
          },
          "metadata": {}
        },
        {
          "output_type": "display_data",
          "data": {
            "text/plain": [
              "Downloading:   0%|          | 0.00/455k [00:00<?, ?B/s]"
            ],
            "application/vnd.jupyter.widget-view+json": {
              "version_major": 2,
              "version_minor": 0,
              "model_id": "656715446f1743da9424f6a19eab2213"
            }
          },
          "metadata": {}
        },
        {
          "output_type": "stream",
          "name": "stdout",
          "text": [
            "{'input_ids': [101, 19204, 6026, 3793, 2003, 1037, 4563, 4708, 1997, 17953, 2361, 1012, 102], 'attention_mask': [1, 1, 1, 1, 1, 1, 1, 1, 1, 1, 1, 1, 1]}\n"
          ]
        }
      ]
    },
    {
      "cell_type": "code",
      "source": [
        "# in case the model does not load properly, remove the old model from cache folder\n",
        "# !rm ~/.cache/huggingface/transformers/*\n"
      ],
      "metadata": {
        "id": "KHs14Vdk2_Fv"
      },
      "execution_count": 12,
      "outputs": []
    },
    {
      "cell_type": "markdown",
      "source": [
        "Words have been mapped to unique integers in the input_ids field."
      ],
      "metadata": {
        "id": "MLjgiv4TuD_X"
      }
    },
    {
      "cell_type": "code",
      "source": [
        "# convert the token id back to token\n",
        "tokens = tokenizer.convert_ids_to_tokens(encoded_text.input_ids)\n",
        "print(tokens)"
      ],
      "metadata": {
        "colab": {
          "base_uri": "https://localhost:8080/"
        },
        "id": "bJNZyBzgt0BZ",
        "outputId": "ba787599-ddaa-428d-b865-08782dfcf96f"
      },
      "execution_count": 13,
      "outputs": [
        {
          "output_type": "stream",
          "name": "stdout",
          "text": [
            "['[CLS]', 'token', '##izing', 'text', 'is', 'a', 'core', 'task', 'of', 'nl', '##p', '.', '[SEP]']\n"
          ]
        }
      ]
    },
    {
      "cell_type": "markdown",
      "source": [
        "Some special [CLS] and [SEP] tokens have been added to the start and end of the sequence. These tokens differ from model to model, but their main role is to indicate the start and end of a sequence. Second, the tokens have each been lowercased, which is a feature of this particular checkpoint. Finally, we can see that \"tokenizing\" and \"NLP\" have been split into two tokens, which makes sense since they are not common words. The ## prefix in ##izing and ##p means that the preceding string is not whitespace; any token with this prefix should be merged with the previous token when you convert the tokens back to a string. The AutoTokenizer class has a convert_tokens_to_string() method for doing just that, so let's apply it to our tokens:"
      ],
      "metadata": {
        "id": "Gs5i370avMKQ"
      }
    },
    {
      "cell_type": "code",
      "source": [
        "print(tokenizer.convert_tokens_to_string(tokens))"
      ],
      "metadata": {
        "colab": {
          "base_uri": "https://localhost:8080/"
        },
        "id": "gjc0QRaFuaD4",
        "outputId": "7635cb98-48a4-4d72-a378-4b234c917aeb"
      },
      "execution_count": 14,
      "outputs": [
        {
          "output_type": "stream",
          "name": "stdout",
          "text": [
            "[CLS] tokenizing text is a core task of nlp. [SEP]\n"
          ]
        }
      ]
    },
    {
      "cell_type": "code",
      "source": [
        "# AutoTokenizer class has some important attributes like\n",
        "# vocab size\n",
        "print(tokenizer.vocab_size)\n",
        "# max length based on model's context\n",
        "print(tokenizer.model_max_length)\n",
        "# tokenizer's field names\n",
        "print(tokenizer.model_input_names)\n"
      ],
      "metadata": {
        "colab": {
          "base_uri": "https://localhost:8080/"
        },
        "id": "rF0cEWx3vWwy",
        "outputId": "eb2e5a2a-14d5-4288-947d-3669756fe206"
      },
      "execution_count": 15,
      "outputs": [
        {
          "output_type": "stream",
          "name": "stdout",
          "text": [
            "30522\n",
            "512\n",
            "['input_ids', 'attention_mask']\n"
          ]
        }
      ]
    },
    {
      "cell_type": "markdown",
      "source": [
        "### Tokenizing the entire Dataset"
      ],
      "metadata": {
        "id": "JeDHhJbZv_oT"
      }
    },
    {
      "cell_type": "code",
      "source": [
        "# a function to tokenize the text in batch\n",
        "def tokenize(batch):\n",
        "    return tokenizer(batch[\"text\"], padding=True, truncation=True)\n",
        "\n",
        "# emotions[\"train\"][:2][\"text\"]"
      ],
      "metadata": {
        "id": "L2XW76RHv83o"
      },
      "execution_count": 16,
      "outputs": []
    },
    {
      "cell_type": "code",
      "source": [
        "# reset the output format of emotions dataset since \n",
        "# we don't require DataFrame format anymore and is not compatible with Tranformers either\n",
        "emotions.reset_format()\n",
        "print(tokenize(emotions[\"train\"][:2]))"
      ],
      "metadata": {
        "colab": {
          "base_uri": "https://localhost:8080/"
        },
        "id": "LbwX4ihxxJyZ",
        "outputId": "d641911c-b4de-4282-f8d7-1a85325de6ff"
      },
      "execution_count": 17,
      "outputs": [
        {
          "output_type": "stream",
          "name": "stdout",
          "text": [
            "{'input_ids': [[101, 1045, 2134, 2102, 2514, 26608, 102, 0, 0, 0, 0, 0, 0, 0, 0, 0, 0, 0, 0, 0, 0, 0, 0], [101, 1045, 2064, 2175, 2013, 3110, 2061, 20625, 2000, 2061, 9636, 17772, 2074, 2013, 2108, 2105, 2619, 2040, 14977, 1998, 2003, 8300, 102]], 'attention_mask': [[1, 1, 1, 1, 1, 1, 1, 0, 0, 0, 0, 0, 0, 0, 0, 0, 0, 0, 0, 0, 0, 0, 0], [1, 1, 1, 1, 1, 1, 1, 1, 1, 1, 1, 1, 1, 1, 1, 1, 1, 1, 1, 1, 1, 1, 1]]}\n"
          ]
        }
      ]
    },
    {
      "cell_type": "markdown",
      "source": [
        "Here we can see the result of padding: the first element of input_ids is shorter than the second, so zeros have been added to that element to make them the same length. These zeros have a corresponding [PAD] token in the vocabulary, and the set of special tokens also includes the [CLS] and [SEP] tokens that we encountered earlier:"
      ],
      "metadata": {
        "id": "vu22ta4IzQtV"
      }
    },
    {
      "cell_type": "code",
      "source": [
        "# get the ids of the special tokens\n",
        "tokens2ids = list(zip(tokenizer.all_special_tokens, tokenizer.all_special_ids))\n",
        "data = sorted(tokens2ids, key = lambda x: x[-1])\n",
        "df = pd.DataFrame(data, columns = [\"Special Token\", \"Special Token ID\"])\n",
        "df.T"
      ],
      "metadata": {
        "colab": {
          "base_uri": "https://localhost:8080/",
          "height": 112
        },
        "id": "QEy1m6gYxzcN",
        "outputId": "74c89900-e18d-4f73-9887-e12bde7b407b"
      },
      "execution_count": 18,
      "outputs": [
        {
          "output_type": "execute_result",
          "data": {
            "text/plain": [
              "                      0      1      2      3       4\n",
              "Special Token     [PAD]  [UNK]  [CLS]  [SEP]  [MASK]\n",
              "Special Token ID      0    100    101    102     103"
            ],
            "text/html": [
              "\n",
              "  <div id=\"df-5037aeee-6377-4245-9263-62fac6b71b73\">\n",
              "    <div class=\"colab-df-container\">\n",
              "      <div>\n",
              "<style scoped>\n",
              "    .dataframe tbody tr th:only-of-type {\n",
              "        vertical-align: middle;\n",
              "    }\n",
              "\n",
              "    .dataframe tbody tr th {\n",
              "        vertical-align: top;\n",
              "    }\n",
              "\n",
              "    .dataframe thead th {\n",
              "        text-align: right;\n",
              "    }\n",
              "</style>\n",
              "<table border=\"1\" class=\"dataframe\">\n",
              "  <thead>\n",
              "    <tr style=\"text-align: right;\">\n",
              "      <th></th>\n",
              "      <th>0</th>\n",
              "      <th>1</th>\n",
              "      <th>2</th>\n",
              "      <th>3</th>\n",
              "      <th>4</th>\n",
              "    </tr>\n",
              "  </thead>\n",
              "  <tbody>\n",
              "    <tr>\n",
              "      <th>Special Token</th>\n",
              "      <td>[PAD]</td>\n",
              "      <td>[UNK]</td>\n",
              "      <td>[CLS]</td>\n",
              "      <td>[SEP]</td>\n",
              "      <td>[MASK]</td>\n",
              "    </tr>\n",
              "    <tr>\n",
              "      <th>Special Token ID</th>\n",
              "      <td>0</td>\n",
              "      <td>100</td>\n",
              "      <td>101</td>\n",
              "      <td>102</td>\n",
              "      <td>103</td>\n",
              "    </tr>\n",
              "  </tbody>\n",
              "</table>\n",
              "</div>\n",
              "      <button class=\"colab-df-convert\" onclick=\"convertToInteractive('df-5037aeee-6377-4245-9263-62fac6b71b73')\"\n",
              "              title=\"Convert this dataframe to an interactive table.\"\n",
              "              style=\"display:none;\">\n",
              "        \n",
              "  <svg xmlns=\"http://www.w3.org/2000/svg\" height=\"24px\"viewBox=\"0 0 24 24\"\n",
              "       width=\"24px\">\n",
              "    <path d=\"M0 0h24v24H0V0z\" fill=\"none\"/>\n",
              "    <path d=\"M18.56 5.44l.94 2.06.94-2.06 2.06-.94-2.06-.94-.94-2.06-.94 2.06-2.06.94zm-11 1L8.5 8.5l.94-2.06 2.06-.94-2.06-.94L8.5 2.5l-.94 2.06-2.06.94zm10 10l.94 2.06.94-2.06 2.06-.94-2.06-.94-.94-2.06-.94 2.06-2.06.94z\"/><path d=\"M17.41 7.96l-1.37-1.37c-.4-.4-.92-.59-1.43-.59-.52 0-1.04.2-1.43.59L10.3 9.45l-7.72 7.72c-.78.78-.78 2.05 0 2.83L4 21.41c.39.39.9.59 1.41.59.51 0 1.02-.2 1.41-.59l7.78-7.78 2.81-2.81c.8-.78.8-2.07 0-2.86zM5.41 20L4 18.59l7.72-7.72 1.47 1.35L5.41 20z\"/>\n",
              "  </svg>\n",
              "      </button>\n",
              "      \n",
              "  <style>\n",
              "    .colab-df-container {\n",
              "      display:flex;\n",
              "      flex-wrap:wrap;\n",
              "      gap: 12px;\n",
              "    }\n",
              "\n",
              "    .colab-df-convert {\n",
              "      background-color: #E8F0FE;\n",
              "      border: none;\n",
              "      border-radius: 50%;\n",
              "      cursor: pointer;\n",
              "      display: none;\n",
              "      fill: #1967D2;\n",
              "      height: 32px;\n",
              "      padding: 0 0 0 0;\n",
              "      width: 32px;\n",
              "    }\n",
              "\n",
              "    .colab-df-convert:hover {\n",
              "      background-color: #E2EBFA;\n",
              "      box-shadow: 0px 1px 2px rgba(60, 64, 67, 0.3), 0px 1px 3px 1px rgba(60, 64, 67, 0.15);\n",
              "      fill: #174EA6;\n",
              "    }\n",
              "\n",
              "    [theme=dark] .colab-df-convert {\n",
              "      background-color: #3B4455;\n",
              "      fill: #D2E3FC;\n",
              "    }\n",
              "\n",
              "    [theme=dark] .colab-df-convert:hover {\n",
              "      background-color: #434B5C;\n",
              "      box-shadow: 0px 1px 3px 1px rgba(0, 0, 0, 0.15);\n",
              "      filter: drop-shadow(0px 1px 2px rgba(0, 0, 0, 0.3));\n",
              "      fill: #FFFFFF;\n",
              "    }\n",
              "  </style>\n",
              "\n",
              "      <script>\n",
              "        const buttonEl =\n",
              "          document.querySelector('#df-5037aeee-6377-4245-9263-62fac6b71b73 button.colab-df-convert');\n",
              "        buttonEl.style.display =\n",
              "          google.colab.kernel.accessAllowed ? 'block' : 'none';\n",
              "\n",
              "        async function convertToInteractive(key) {\n",
              "          const element = document.querySelector('#df-5037aeee-6377-4245-9263-62fac6b71b73');\n",
              "          const dataTable =\n",
              "            await google.colab.kernel.invokeFunction('convertToInteractive',\n",
              "                                                     [key], {});\n",
              "          if (!dataTable) return;\n",
              "\n",
              "          const docLinkHtml = 'Like what you see? Visit the ' +\n",
              "            '<a target=\"_blank\" href=https://colab.research.google.com/notebooks/data_table.ipynb>data table notebook</a>'\n",
              "            + ' to learn more about interactive tables.';\n",
              "          element.innerHTML = '';\n",
              "          dataTable['output_type'] = 'display_data';\n",
              "          await google.colab.output.renderOutput(dataTable, element);\n",
              "          const docLink = document.createElement('div');\n",
              "          docLink.innerHTML = docLinkHtml;\n",
              "          element.appendChild(docLink);\n",
              "        }\n",
              "      </script>\n",
              "    </div>\n",
              "  </div>\n",
              "  "
            ]
          },
          "metadata": {},
          "execution_count": 18
        }
      ]
    },
    {
      "cell_type": "markdown",
      "source": [
        "### Attention Mask\n",
        "In addition to returning the encoded tweets as input_ids, the tokenizer returns a list of attention_mask arrays. This is because we do not want the model to get confused by the additional padding tokens: the attention mask allows the model to ignore the padded parts of the input. The image below provides a visual explanation of how the input IDs and attention masks are padded.\n",
        "![chapter02_attention-mask.png](data:image/png;base64,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)\n"
      ],
      "metadata": {
        "id": "iGy3Z0je0A5K"
      }
    },
    {
      "cell_type": "code",
      "source": [
        "# Apply the tokenization to the entire dataset using map function\n",
        "emotions_encoded = emotions.map(tokenize, batched=True, batch_size=None) # batch_size = None will appy the tokenizaton to the entire dataset"
      ],
      "metadata": {
        "colab": {
          "base_uri": "https://localhost:8080/",
          "height": 151,
          "referenced_widgets": [
            "59b0e03347914f4794f7da5327fe9799",
            "63a3a46620834f12972f74301e0a390f",
            "468495dc9ace40d4a8e0e8e014b627a9",
            "f7ecdb7a402245059d3528baf723dfb7",
            "81604ab7b49d459ba580aab7ae3e0f84",
            "728c3e9ec4604a94bbb33ec95a02977a",
            "b9130e77e715401ca086ca4749176570",
            "18ddf4cb4a5344559c40543ecddc005d",
            "1f6ec15637f64c368415d2cd9c530aba",
            "90fbd19cb237467484e7a030a2c33784",
            "93c1495faf664646b6f2ee0442d96c01",
            "1f05adefed01472ba88ca7bf4100276d",
            "888323544bb041d8bf98c7ffc00ef1c6",
            "ff981cc5211e497e918b7b57afc78825",
            "054f6710f09f4c749cd936162f25d234",
            "2b45b47b1cc049b39191ac563fb247eb",
            "14c81f1fb36545319ebaf1bff0baa347",
            "92d702ca01d8423c938a570534330a1d",
            "97793e06ed2c4f5ea93841f1f6aab58a",
            "e41db96b104b4231b5903be91475c98a",
            "56635292331e4213b40dcebc5b458991",
            "cca00629d23a4848b293291347fb62fb",
            "c0568bd8f127475ba70dfa8f76f58505",
            "d20e5b6287464ccf975670e20b642508",
            "3a9d0fe7562343fead093337031b3955",
            "88e64d0684b449a7897bfad760774de0",
            "074762f53b89404c99375db4b8859831",
            "52de6e0a413d4c07af241c0f9e7ba8df",
            "d5047b1c07724182aa0c5d60fcd797c8",
            "808ffdff8b1e4b1ea9e57c990b4b3085",
            "a74edd0eb7024c61a7df30cc97b692f7",
            "75c721da2696494695e6ca1cfeac31df",
            "35121967132944bba0f3bc7281f9e1f2"
          ]
        },
        "id": "6BboY46Qz3cT",
        "outputId": "d5b75138-6d7c-4a9f-bfbf-fb90b3a2a548"
      },
      "execution_count": 19,
      "outputs": [
        {
          "output_type": "stream",
          "name": "stderr",
          "text": [
            "Parameter 'function'=<function tokenize at 0x7fa22bf98680> of the transform datasets.arrow_dataset.Dataset._map_single couldn't be hashed properly, a random hash was used instead. Make sure your transforms and parameters are serializable with pickle or dill for the dataset fingerprinting and caching to work. If you reuse this transform, the caching mechanism will consider it to be different from the previous calls and recompute everything. This warning is only showed once. Subsequent hashing failures won't be showed.\n"
          ]
        },
        {
          "output_type": "display_data",
          "data": {
            "text/plain": [
              "  0%|          | 0/1 [00:00<?, ?ba/s]"
            ],
            "application/vnd.jupyter.widget-view+json": {
              "version_major": 2,
              "version_minor": 0,
              "model_id": "59b0e03347914f4794f7da5327fe9799"
            }
          },
          "metadata": {}
        },
        {
          "output_type": "display_data",
          "data": {
            "text/plain": [
              "  0%|          | 0/1 [00:00<?, ?ba/s]"
            ],
            "application/vnd.jupyter.widget-view+json": {
              "version_major": 2,
              "version_minor": 0,
              "model_id": "1f05adefed01472ba88ca7bf4100276d"
            }
          },
          "metadata": {}
        },
        {
          "output_type": "display_data",
          "data": {
            "text/plain": [
              "  0%|          | 0/1 [00:00<?, ?ba/s]"
            ],
            "application/vnd.jupyter.widget-view+json": {
              "version_major": 2,
              "version_minor": 0,
              "model_id": "c0568bd8f127475ba70dfa8f76f58505"
            }
          },
          "metadata": {}
        }
      ]
    },
    {
      "cell_type": "code",
      "source": [
        "print(emotions_encoded[\"train\"].column_names)"
      ],
      "metadata": {
        "colab": {
          "base_uri": "https://localhost:8080/"
        },
        "id": "By6CqR9x0_P3",
        "outputId": "365702e7-44e7-427e-c45f-d42151337311"
      },
      "execution_count": 20,
      "outputs": [
        {
          "output_type": "stream",
          "name": "stdout",
          "text": [
            "['attention_mask', 'input_ids', 'label', 'text']\n"
          ]
        }
      ]
    },
    {
      "cell_type": "markdown",
      "source": [
        "# **Training a Text Classifier**\n",
        "### 1. Transformers as Feature Extractors\n",
        "We use the hidden states as features and just train a classifier on them, without modifying the pretrained model.\n",
        "![chapter02_encoder-feature-based.png](data:image/png;base64,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)"
      ],
      "metadata": {
        "id": "YXiXcaM71Unq"
      }
    },
    {
      "cell_type": "code",
      "source": [
        "# Using pretrained models\n",
        "from transformers import AutoModel\n",
        "import torch\n",
        "model_ckpt = \"distilbert-base-uncased\"\n",
        "device = torch.device(\"cuda\" if torch.cuda.is_available() else \"cpu\")\n",
        "model = AutoModel.from_pretrained(model_ckpt).to(device)\n"
      ],
      "metadata": {
        "id": "8_Xkv3n_1OAW",
        "colab": {
          "base_uri": "https://localhost:8080/",
          "height": 124,
          "referenced_widgets": [
            "e4b63f98c68a4bf0abbe131947173a0f",
            "f71a8a954b53495f8ac38111571a3f0a",
            "bef15c22b7ae4399a91605bceb35aa43",
            "5d352a56e2a74dd49cdd425d501f92d8",
            "8a0cdebc29ac4d5b95f61936d63118cd",
            "047076a3aff44f7395b229d127d345d9",
            "f9d85f0e30fe46e1a83c0a355318911c",
            "1c20a3e4354b402a915e61d896e8fd2a",
            "1146dcf1f1f64f469aa6f6610eb1565a",
            "3d34786967444928936424864ba5faac",
            "fa86f9958da64a388dd5d013d4cd8e1e"
          ]
        },
        "outputId": "61e3551b-1ee5-4100-8456-e1f33c0ce0b9"
      },
      "execution_count": 21,
      "outputs": [
        {
          "output_type": "display_data",
          "data": {
            "text/plain": [
              "Downloading:   0%|          | 0.00/256M [00:00<?, ?B/s]"
            ],
            "application/vnd.jupyter.widget-view+json": {
              "version_major": 2,
              "version_minor": 0,
              "model_id": "e4b63f98c68a4bf0abbe131947173a0f"
            }
          },
          "metadata": {}
        },
        {
          "output_type": "stream",
          "name": "stderr",
          "text": [
            "Some weights of the model checkpoint at distilbert-base-uncased were not used when initializing DistilBertModel: ['vocab_layer_norm.bias', 'vocab_transform.bias', 'vocab_projector.bias', 'vocab_transform.weight', 'vocab_layer_norm.weight', 'vocab_projector.weight']\n",
            "- This IS expected if you are initializing DistilBertModel from the checkpoint of a model trained on another task or with another architecture (e.g. initializing a BertForSequenceClassification model from a BertForPreTraining model).\n",
            "- This IS NOT expected if you are initializing DistilBertModel from the checkpoint of a model that you expect to be exactly identical (initializing a BertForSequenceClassification model from a BertForSequenceClassification model).\n"
          ]
        }
      ]
    },
    {
      "cell_type": "markdown",
      "source": [
        "### Extracting the last hidden states\n"
      ],
      "metadata": {
        "id": "hS0-hXEgDZfv"
      }
    },
    {
      "cell_type": "code",
      "source": [
        "# first step encode the text and convert the tokens to pytorch tensors\n",
        "text = \"this is a test\"\n",
        "inputs = tokenizer(text, return_tensors=\"pt\")\n",
        "print(f\"Input tensor shape: {inputs['input_ids'].size()}\")"
      ],
      "metadata": {
        "colab": {
          "base_uri": "https://localhost:8080/"
        },
        "id": "1kKXSp6oDija",
        "outputId": "5b67d6fd-8d5a-4ee5-ef02-bbfc7ad848b6"
      },
      "execution_count": 22,
      "outputs": [
        {
          "output_type": "stream",
          "name": "stdout",
          "text": [
            "Input tensor shape: torch.Size([1, 6])\n"
          ]
        }
      ]
    },
    {
      "cell_type": "code",
      "source": [
        "# put the output tensor to the same device and pass them through the model\n",
        "inputs = {k:v.to(device) for k,v in inputs.items()}\n",
        "with torch.no_grad():\n",
        "  outputs = model(**inputs)\n",
        "print(outputs)"
      ],
      "metadata": {
        "colab": {
          "base_uri": "https://localhost:8080/"
        },
        "id": "NbNzTl1OEk0K",
        "outputId": "04aa4ad0-5e62-41e0-efd7-dadb2f4e8147"
      },
      "execution_count": 23,
      "outputs": [
        {
          "output_type": "stream",
          "name": "stdout",
          "text": [
            "BaseModelOutput(last_hidden_state=tensor([[[-0.1565, -0.1862,  0.0528,  ..., -0.1188,  0.0662,  0.5470],\n",
            "         [-0.3575, -0.6484, -0.0618,  ..., -0.3040,  0.3508,  0.5221],\n",
            "         [-0.2772, -0.4459,  0.1818,  ..., -0.0948, -0.0076,  0.9958],\n",
            "         [-0.2841, -0.3917,  0.3753,  ..., -0.2151, -0.1173,  1.0526],\n",
            "         [ 0.2661, -0.5094, -0.3180,  ..., -0.4203,  0.0144, -0.2149],\n",
            "         [ 0.9441,  0.0112, -0.4714,  ...,  0.1439, -0.7288, -0.1619]]],\n",
            "       device='cuda:0'), hidden_states=None, attentions=None)\n"
          ]
        }
      ]
    },
    {
      "cell_type": "markdown",
      "source": [
        "The model output is an instance of BaseModelOutput and we can access the attributes by its names"
      ],
      "metadata": {
        "id": "wEBL3mzXFD5K"
      }
    },
    {
      "cell_type": "code",
      "source": [
        "outputs.last_hidden_state.size()"
      ],
      "metadata": {
        "colab": {
          "base_uri": "https://localhost:8080/"
        },
        "id": "mHbx4tvWFUro",
        "outputId": "6fb6ba13-2af9-4780-9fe6-169b18e1d88d"
      },
      "execution_count": 24,
      "outputs": [
        {
          "output_type": "execute_result",
          "data": {
            "text/plain": [
              "torch.Size([1, 6, 768])"
            ]
          },
          "metadata": {},
          "execution_count": 24
        }
      ]
    },
    {
      "cell_type": "markdown",
      "source": [
        "The outptus tensor has the shape [batch_size, n_tokens]. The output has a 768-dimensional vector is returned for each of the 6 input tokens. For classification tasks, it is common practice to just use the hidden state associated with the [CLS] token as the input feature. Since this token appears at the start of each sequence, we can extract it by simply indexing into outputs.last_hidden_state as follows:"
      ],
      "metadata": {
        "id": "qLZYRIYqEVkp"
      }
    },
    {
      "cell_type": "code",
      "source": [
        "outputs.last_hidden_state[:,0].size()"
      ],
      "metadata": {
        "colab": {
          "base_uri": "https://localhost:8080/"
        },
        "id": "Wt1NV9zEHaid",
        "outputId": "11b22a62-6c0e-4788-fc06-9638cb64ec34"
      },
      "execution_count": 25,
      "outputs": [
        {
          "output_type": "execute_result",
          "data": {
            "text/plain": [
              "torch.Size([1, 768])"
            ]
          },
          "metadata": {},
          "execution_count": 25
        }
      ]
    },
    {
      "cell_type": "markdown",
      "source": [
        "Now that we know how to get the last hidden state for a single string, let's do the same thing for the whole dataset by creating a new hidden_state column that stores all these vectors."
      ],
      "metadata": {
        "id": "cRHqth5IHtUV"
      }
    },
    {
      "cell_type": "code",
      "source": [
        "# a function to extract hidden state from a batch\n",
        "def extract_hidden_states(batch):\n",
        "  # place model inputs into GPU\n",
        "  inputs = {k:v.to(device) for k, v in batch.items()\n",
        "  if k in tokenizer.model_input_names}\n",
        "  # extract the hidden states\n",
        "  with torch.no_grad():\n",
        "    last_hidden_state = model(**inputs).last_hidden_state\n",
        "  # return vector for [CLS] token\n",
        "  # place the final hidden state back on the CPU as a NumPy array. \n",
        "  # The map() method requires the processing function to return Python or NumPy objects when we're using batched inputs.\n",
        "  return {\"hidden_state\": last_hidden_state[:,0].cpu().numpy()}"
      ],
      "metadata": {
        "id": "2KGbnhZ_HfoA"
      },
      "execution_count": 26,
      "outputs": []
    },
    {
      "cell_type": "markdown",
      "source": [
        "Since our model expects tensors as inputs, the next thing to do is convert the input_ids and attention_mask columns to the \"torch\" format, as follows:"
      ],
      "metadata": {
        "id": "W7AkLyksJLev"
      }
    },
    {
      "cell_type": "code",
      "source": [
        "emotions_encoded.set_format(\"torch\", columns=[\"input_ids\", \"attention_mask\", \"label\"])\n",
        "emotions_encoded"
      ],
      "metadata": {
        "colab": {
          "base_uri": "https://localhost:8080/"
        },
        "id": "aBhVV6W1JEJU",
        "outputId": "28497660-3010-4db8-97d4-01d9a2f8d57b"
      },
      "execution_count": 27,
      "outputs": [
        {
          "output_type": "execute_result",
          "data": {
            "text/plain": [
              "DatasetDict({\n",
              "    train: Dataset({\n",
              "        features: ['attention_mask', 'input_ids', 'label', 'text'],\n",
              "        num_rows: 16000\n",
              "    })\n",
              "    validation: Dataset({\n",
              "        features: ['attention_mask', 'input_ids', 'label', 'text'],\n",
              "        num_rows: 2000\n",
              "    })\n",
              "    test: Dataset({\n",
              "        features: ['attention_mask', 'input_ids', 'label', 'text'],\n",
              "        num_rows: 2000\n",
              "    })\n",
              "})"
            ]
          },
          "metadata": {},
          "execution_count": 27
        }
      ]
    },
    {
      "cell_type": "code",
      "source": [
        "# extract hidden states across the entire dataset\n",
        "emotions_hidden = emotions_encoded.map(extract_hidden_states, batched=True)"
      ],
      "metadata": {
        "colab": {
          "base_uri": "https://localhost:8080/",
          "height": 113,
          "referenced_widgets": [
            "33d84d2c5891475a9e6b6ef54c3a651d",
            "31b03822f1e247f7bc453355acbb33f1",
            "0dce68f8d066401b9b4c5e8bdadfa6f6",
            "3a800557e91e468da46198a7ab52a512",
            "79dbc39b2bf44e2db79cc090928b2b87",
            "1fd7dd9e245c40998aa515d4e92718bf",
            "6e43354c55df4c5aac3a2d18611b3dec",
            "5719075cbb4746feb1741b8368ab4139",
            "9d6fbe129a4748078e4a24ed7baf532e",
            "48c91656bb9e4051acb28a28793f2bab",
            "d8602906648f4edc969b7d32c6d51a01",
            "3b4df08779cb49ab9be9fc4d91b61acf",
            "a2a4cfa4715a476aa0860db171fca9d2",
            "85af6ec424d849e6be049898c0b819f7",
            "756550b252ba486eb7121cf57551d8a7",
            "bc05e31213e3425b8fab276fd08f7f9a",
            "35c4095fc5374bce8e8542226bb44aab",
            "6fc7c9abf7994fafa9fe6c56ed94d2bc",
            "f0fcae76f52e429fb94a29d994a93d78",
            "f159c82cfc274cf4be86b12f98835d65",
            "6860cf7ad21f4c17943266858729ca97",
            "8501f205052c4ec189f8ed26c3f4b57a",
            "8b6ed48cabf14c1a88fc6d9c4c065c0c",
            "ecfd694155a943979f91d4ab50a86392",
            "ccfc88873bdb4d7e83e2c2980fff5551",
            "9fd59e78adcc4bc296f9c80e0e3a08db",
            "5349774888f648e292fb78e76b676467",
            "a369a6f9bfc648fc8f6e2c2c11973605",
            "edcbd2a7f1554368b7ac5885689b4d6e",
            "1d5931cfb9614d93baf04754ffd6785a",
            "59e6af293dc840d28b8efadcdcf922e3",
            "5f0ec2dee0774ae0af20d1263ea032fb",
            "a19c1efe2ada49e4b5bfc885cc8a4252"
          ]
        },
        "id": "eVDoqyLgJfEP",
        "outputId": "31f63fa2-7f9c-461d-c306-4ccb79d5db33"
      },
      "execution_count": 28,
      "outputs": [
        {
          "output_type": "display_data",
          "data": {
            "text/plain": [
              "  0%|          | 0/16 [00:00<?, ?ba/s]"
            ],
            "application/vnd.jupyter.widget-view+json": {
              "version_major": 2,
              "version_minor": 0,
              "model_id": "33d84d2c5891475a9e6b6ef54c3a651d"
            }
          },
          "metadata": {}
        },
        {
          "output_type": "display_data",
          "data": {
            "text/plain": [
              "  0%|          | 0/2 [00:00<?, ?ba/s]"
            ],
            "application/vnd.jupyter.widget-view+json": {
              "version_major": 2,
              "version_minor": 0,
              "model_id": "3b4df08779cb49ab9be9fc4d91b61acf"
            }
          },
          "metadata": {}
        },
        {
          "output_type": "display_data",
          "data": {
            "text/plain": [
              "  0%|          | 0/2 [00:00<?, ?ba/s]"
            ],
            "application/vnd.jupyter.widget-view+json": {
              "version_major": 2,
              "version_minor": 0,
              "model_id": "8b6ed48cabf14c1a88fc6d9c4c065c0c"
            }
          },
          "metadata": {}
        }
      ]
    },
    {
      "cell_type": "code",
      "source": [
        "emotions_hidden[\"train\"].column_names"
      ],
      "metadata": {
        "colab": {
          "base_uri": "https://localhost:8080/"
        },
        "id": "tWUbsQiAJur8",
        "outputId": "93564e24-6fd3-4b44-b22e-3c8c3f70697d"
      },
      "execution_count": 29,
      "outputs": [
        {
          "output_type": "execute_result",
          "data": {
            "text/plain": [
              "['attention_mask', 'hidden_state', 'input_ids', 'label', 'text']"
            ]
          },
          "metadata": {},
          "execution_count": 29
        }
      ]
    },
    {
      "cell_type": "markdown",
      "source": [
        "### Creating a feature matrix\n",
        "We will use the hidden states as input features and the labels as targets."
      ],
      "metadata": {
        "id": "fXjErK6nLAFT"
      }
    },
    {
      "cell_type": "code",
      "source": [
        "import numpy as np\n",
        "X_train = np.array(emotions_hidden[\"train\"][\"hidden_state\"])\n",
        "X_valid = np.array(emotions_hidden[\"validation\"][\"hidden_state\"])\n",
        "y_train = np.array(emotions_hidden[\"train\"][\"label\"])\n",
        "y_valid = np.array(emotions_hidden[\"validation\"][\"label\"])\n",
        "X_train.shape, X_valid.shape"
      ],
      "metadata": {
        "colab": {
          "base_uri": "https://localhost:8080/"
        },
        "id": "h575autjK9bh",
        "outputId": "b75c76a2-e959-470b-d370-bed29f5518d9"
      },
      "execution_count": 30,
      "outputs": [
        {
          "output_type": "execute_result",
          "data": {
            "text/plain": [
              "((16000, 768), (2000, 768))"
            ]
          },
          "metadata": {},
          "execution_count": 30
        }
      ]
    },
    {
      "cell_type": "markdown",
      "source": [
        "### Visualizing the training set\n",
        "Using UMAP algorithm to project 768 dimensions hidden states to 2D vector"
      ],
      "metadata": {
        "id": "XjCkNDc6ssux"
      }
    },
    {
      "cell_type": "code",
      "source": [
        "from umap import UMAP\n",
        "from sklearn.preprocessing import MinMaxScaler\n",
        "\n",
        "# scale features to [0,1]\n",
        "X_scaled = MinMaxScaler().fit_transform(X_train)\n",
        "# initialized and fit UMAP\n",
        "mapper = UMAP(n_components=2, metric=\"cosine\").fit(X_scaled)\n",
        "# create a dataframe of 2D embeddings\n",
        "df_emb = pd.DataFrame(mapper.embedding_, columns=[\"X\", \"Y\"])\n",
        "df_emb[\"label\"] = y_train\n",
        "df_emb.head()"
      ],
      "metadata": {
        "id": "dnzkLa8xLk8T",
        "colab": {
          "base_uri": "https://localhost:8080/",
          "height": 263
        },
        "outputId": "835c319b-6fad-4dbb-c79b-3d22535d0aa6"
      },
      "execution_count": 31,
      "outputs": [
        {
          "output_type": "stream",
          "name": "stderr",
          "text": [
            "/usr/local/lib/python3.7/dist-packages/numba/np/ufunc/parallel.py:363: NumbaWarning: The TBB threading layer requires TBB version 2019.5 or later i.e., TBB_INTERFACE_VERSION >= 11005. Found TBB_INTERFACE_VERSION = 9107. The TBB threading layer is disabled.\n",
            "  warnings.warn(problem)\n"
          ]
        },
        {
          "output_type": "execute_result",
          "data": {
            "text/plain": [
              "          X         Y  label\n",
              "0  4.121471  6.918758      0\n",
              "1 -2.818999  5.940885      0\n",
              "2  5.086709  3.560236      3\n",
              "3 -2.355925  4.072922      2\n",
              "4 -3.219842  4.075014      3"
            ],
            "text/html": [
              "\n",
              "  <div id=\"df-ae15c9d8-ce4a-41cd-9f86-b7f2be677cab\">\n",
              "    <div class=\"colab-df-container\">\n",
              "      <div>\n",
              "<style scoped>\n",
              "    .dataframe tbody tr th:only-of-type {\n",
              "        vertical-align: middle;\n",
              "    }\n",
              "\n",
              "    .dataframe tbody tr th {\n",
              "        vertical-align: top;\n",
              "    }\n",
              "\n",
              "    .dataframe thead th {\n",
              "        text-align: right;\n",
              "    }\n",
              "</style>\n",
              "<table border=\"1\" class=\"dataframe\">\n",
              "  <thead>\n",
              "    <tr style=\"text-align: right;\">\n",
              "      <th></th>\n",
              "      <th>X</th>\n",
              "      <th>Y</th>\n",
              "      <th>label</th>\n",
              "    </tr>\n",
              "  </thead>\n",
              "  <tbody>\n",
              "    <tr>\n",
              "      <th>0</th>\n",
              "      <td>4.121471</td>\n",
              "      <td>6.918758</td>\n",
              "      <td>0</td>\n",
              "    </tr>\n",
              "    <tr>\n",
              "      <th>1</th>\n",
              "      <td>-2.818999</td>\n",
              "      <td>5.940885</td>\n",
              "      <td>0</td>\n",
              "    </tr>\n",
              "    <tr>\n",
              "      <th>2</th>\n",
              "      <td>5.086709</td>\n",
              "      <td>3.560236</td>\n",
              "      <td>3</td>\n",
              "    </tr>\n",
              "    <tr>\n",
              "      <th>3</th>\n",
              "      <td>-2.355925</td>\n",
              "      <td>4.072922</td>\n",
              "      <td>2</td>\n",
              "    </tr>\n",
              "    <tr>\n",
              "      <th>4</th>\n",
              "      <td>-3.219842</td>\n",
              "      <td>4.075014</td>\n",
              "      <td>3</td>\n",
              "    </tr>\n",
              "  </tbody>\n",
              "</table>\n",
              "</div>\n",
              "      <button class=\"colab-df-convert\" onclick=\"convertToInteractive('df-ae15c9d8-ce4a-41cd-9f86-b7f2be677cab')\"\n",
              "              title=\"Convert this dataframe to an interactive table.\"\n",
              "              style=\"display:none;\">\n",
              "        \n",
              "  <svg xmlns=\"http://www.w3.org/2000/svg\" height=\"24px\"viewBox=\"0 0 24 24\"\n",
              "       width=\"24px\">\n",
              "    <path d=\"M0 0h24v24H0V0z\" fill=\"none\"/>\n",
              "    <path d=\"M18.56 5.44l.94 2.06.94-2.06 2.06-.94-2.06-.94-.94-2.06-.94 2.06-2.06.94zm-11 1L8.5 8.5l.94-2.06 2.06-.94-2.06-.94L8.5 2.5l-.94 2.06-2.06.94zm10 10l.94 2.06.94-2.06 2.06-.94-2.06-.94-.94-2.06-.94 2.06-2.06.94z\"/><path d=\"M17.41 7.96l-1.37-1.37c-.4-.4-.92-.59-1.43-.59-.52 0-1.04.2-1.43.59L10.3 9.45l-7.72 7.72c-.78.78-.78 2.05 0 2.83L4 21.41c.39.39.9.59 1.41.59.51 0 1.02-.2 1.41-.59l7.78-7.78 2.81-2.81c.8-.78.8-2.07 0-2.86zM5.41 20L4 18.59l7.72-7.72 1.47 1.35L5.41 20z\"/>\n",
              "  </svg>\n",
              "      </button>\n",
              "      \n",
              "  <style>\n",
              "    .colab-df-container {\n",
              "      display:flex;\n",
              "      flex-wrap:wrap;\n",
              "      gap: 12px;\n",
              "    }\n",
              "\n",
              "    .colab-df-convert {\n",
              "      background-color: #E8F0FE;\n",
              "      border: none;\n",
              "      border-radius: 50%;\n",
              "      cursor: pointer;\n",
              "      display: none;\n",
              "      fill: #1967D2;\n",
              "      height: 32px;\n",
              "      padding: 0 0 0 0;\n",
              "      width: 32px;\n",
              "    }\n",
              "\n",
              "    .colab-df-convert:hover {\n",
              "      background-color: #E2EBFA;\n",
              "      box-shadow: 0px 1px 2px rgba(60, 64, 67, 0.3), 0px 1px 3px 1px rgba(60, 64, 67, 0.15);\n",
              "      fill: #174EA6;\n",
              "    }\n",
              "\n",
              "    [theme=dark] .colab-df-convert {\n",
              "      background-color: #3B4455;\n",
              "      fill: #D2E3FC;\n",
              "    }\n",
              "\n",
              "    [theme=dark] .colab-df-convert:hover {\n",
              "      background-color: #434B5C;\n",
              "      box-shadow: 0px 1px 3px 1px rgba(0, 0, 0, 0.15);\n",
              "      filter: drop-shadow(0px 1px 2px rgba(0, 0, 0, 0.3));\n",
              "      fill: #FFFFFF;\n",
              "    }\n",
              "  </style>\n",
              "\n",
              "      <script>\n",
              "        const buttonEl =\n",
              "          document.querySelector('#df-ae15c9d8-ce4a-41cd-9f86-b7f2be677cab button.colab-df-convert');\n",
              "        buttonEl.style.display =\n",
              "          google.colab.kernel.accessAllowed ? 'block' : 'none';\n",
              "\n",
              "        async function convertToInteractive(key) {\n",
              "          const element = document.querySelector('#df-ae15c9d8-ce4a-41cd-9f86-b7f2be677cab');\n",
              "          const dataTable =\n",
              "            await google.colab.kernel.invokeFunction('convertToInteractive',\n",
              "                                                     [key], {});\n",
              "          if (!dataTable) return;\n",
              "\n",
              "          const docLinkHtml = 'Like what you see? Visit the ' +\n",
              "            '<a target=\"_blank\" href=https://colab.research.google.com/notebooks/data_table.ipynb>data table notebook</a>'\n",
              "            + ' to learn more about interactive tables.';\n",
              "          element.innerHTML = '';\n",
              "          dataTable['output_type'] = 'display_data';\n",
              "          await google.colab.output.renderOutput(dataTable, element);\n",
              "          const docLink = document.createElement('div');\n",
              "          docLink.innerHTML = docLinkHtml;\n",
              "          element.appendChild(docLink);\n",
              "        }\n",
              "      </script>\n",
              "    </div>\n",
              "  </div>\n",
              "  "
            ]
          },
          "metadata": {},
          "execution_count": 31
        }
      ]
    },
    {
      "cell_type": "markdown",
      "source": [
        "The result is an array with the same number of training samples, but with only 2 features instead of the 768 we started with! Let's investigate the compressed data a little bit further and plot the density of points for each category separately:"
      ],
      "metadata": {
        "id": "yI-L5gERt2wV"
      }
    },
    {
      "cell_type": "code",
      "source": [
        "fig, axes = plt.subplots(2, 3, figsize=(7,5))\n",
        "axes = axes.flatten()\n",
        "cmaps = [\"Greys\", \"Blues\", \"Oranges\", \"Reds\", \"Purples\", \"Greens\"]\n",
        "labels = emotions[\"train\"].features[\"label\"].names\n",
        "\n",
        "for i, (label, cmap) in enumerate(zip(labels, cmaps)):\n",
        "  df_emb_sub = df_emb.query(f\"label == {i}\")\n",
        "  axes[i].hexbin(df_emb_sub[\"X\"], df_emb_sub[\"Y\"], cmap=cmap,\n",
        "                 gridsize=20, linewidths=(0,))\n",
        "  axes[i].set_title(label)\n",
        "  axes[i].set_xticks([]),axes[i].set_yticks([])\n",
        "plt.tight_layout()\n",
        "plt.show()"
      ],
      "metadata": {
        "colab": {
          "base_uri": "https://localhost:8080/",
          "height": 369
        },
        "id": "Yq6KJUbNt3Wr",
        "outputId": "0c34e0a9-43e7-4fc9-c89b-f4db3dc0dc63"
      },
      "execution_count": 32,
      "outputs": [
        {
          "output_type": "display_data",
          "data": {
            "text/plain": [
              "<Figure size 504x360 with 6 Axes>"
            ],
            "image/png": "[encoded data removed]"
          },
          "metadata": {}
        }
      ]
    },
    {
      "cell_type": "markdown",
      "source": [
        "From this plot we can see some clear patterns: the negative feelings such as sadness, anger, and fear all occupy similar regions with slightly varying distributions. On the other hand, joy and love are well separated from the negative emotions and also share a similar space. Finally, surprise is scattered all over the place."
      ],
      "metadata": {
        "id": "chfFSYPBwpAt"
      }
    },
    {
      "cell_type": "markdown",
      "source": [
        "### Training a simple classifier"
      ],
      "metadata": {
        "id": "dxzrcsKzxFrc"
      }
    },
    {
      "cell_type": "code",
      "source": [
        "from sklearn.linear_model import LogisticRegression\n",
        "\n",
        "lr_clf = LogisticRegression(max_iter=3000)\n",
        "lr_clf.fit(X_train, y_train)\n",
        "lr_clf.score(X_valid, y_valid)"
      ],
      "metadata": {
        "colab": {
          "base_uri": "https://localhost:8080/"
        },
        "id": "URvh1Bb6wVe7",
        "outputId": "9a35a415-cc5b-4e89-9ff4-61fca5b1a656"
      },
      "execution_count": 33,
      "outputs": [
        {
          "output_type": "execute_result",
          "data": {
            "text/plain": [
              "0.633"
            ]
          },
          "metadata": {},
          "execution_count": 33
        }
      ]
    },
    {
      "cell_type": "markdown",
      "source": [
        "Looking at the accuracy, it might appear that our model is just a bit better than random—but since we are dealing with an unbalanced multiclass dataset, it's actually significantly better. We can further investigate the performance of the model by looking at the confusion matrix of the classifier, which tells us the relationship between the true and predicted labels:"
      ],
      "metadata": {
        "id": "h6fWoRmXyVn6"
      }
    },
    {
      "cell_type": "code",
      "source": [
        "from sklearn.metrics import ConfusionMatrixDisplay, confusion_matrix\n",
        "\n",
        "def plot_confusion_matrix(y_preds, y_true, labels):\n",
        "  cm = confusion_matrix(y_true, y_preds, normalize=\"true\")\n",
        "  fig, ax = plt.subplots(figsize=(6, 6))\n",
        "  disp = ConfusionMatrixDisplay(confusion_matrix=cm, display_labels=labels)\n",
        "  disp.plot(cmap=\"Blues\", values_format=\".2f\", ax=ax, colorbar=False)\n",
        "  plt.title(\"Normalized confusion matrix\")\n",
        "  plt.show()\n",
        "\n",
        "y_preds = lr_clf.predict(X_valid)\n",
        "plot_confusion_matrix(y_preds, y_valid, labels)\n"
      ],
      "metadata": {
        "colab": {
          "base_uri": "https://localhost:8080/",
          "height": 404
        },
        "id": "N_dXL6aXxlSZ",
        "outputId": "cfea01bb-3438-409f-8a0d-ff898dffa469"
      },
      "execution_count": 34,
      "outputs": [
        {
          "output_type": "display_data",
          "data": {
            "text/plain": [
              "<Figure size 432x432 with 1 Axes>"
            ],
            "image/png": "[encoded data removed]"
          },
          "metadata": {
            "needs_background": "light"
          }
        }
      ]
    },
    {
      "cell_type": "markdown",
      "source": [
        "We can see that anger and fear are most often confused with sadness, which agrees with the observation we made when visualizing the embeddings. Also, love and surprise are frequently mistaken for joy."
      ],
      "metadata": {
        "id": "Q4jFWL_B0f3P"
      }
    },
    {
      "cell_type": "markdown",
      "source": [
        "### 2. Fine Tuning Transformers\n",
        "With the fine-tuning approach we do not use the hidden states as fixed features, but instead train them as shown in figure below\n",
        "![chapter02_encoder-fine-tuning.png](data:image/png;base64,iVBORw0KGgoAAAANSUhEUgAABEIAAALFCAIAAABIxdF0AAAACXBIWXMAAC4jAAAuIwF4pT92AAAgAElEQVR42uzdfUBT993//4/BACZECIUoCRUoKAVRvAG0OkXUeteu9a692trWdtr1Wrfptrprv21Xr15d1+/Wzq6z29p1s11vrnbdqqV2rVaroFitihZvoagUsBBqEsEYiEAEfn8cPE0BlZuE5JDn469jTE4On5OcnNf5fD7vM6itrU0AAAAAgHKoaAIAAAAAxBgAAAAAIMYAAAAAADEGAAAAADEGAAAAAIgxAAAAAECMAQAAAECMAQAAAABiDAAAAAAQYwAAAAAQYwAAAACAGAMAAAAAxBgAAAAAxBgAAAAAIMYAAAaikuLjd91x61133Prq3/9KawAAPGswTQAAAyY27N+/t+z0qVMnS6RHRo5KSU8fPzptbEpqWv9vT0NDg7QwzDBcfvCuO24VQuh0Q//2ylvsMgAAMQYAAldlZfn6v74gpxfZqZMlp06WbHjnraV33LP0znv6eauslrPSQrRhmLyd0kLSyGT2GgCAGAMAgWvXzrz/e329w3FB+uf4CZljx46Xlo8eLSr6rFAIcfbsV/2/YV98cVpa0Gq1l4ONRVpITBzZb5tRUnxcCKHRauPiEvi0AAAxBgDge5WV5S/++ffS8rTpM//jrnujog3y/86/5Tans2FX/g6fbFt9vUNakIe0ZWROevudD/q5fZ54/P+TGuf7P/wJHxgAIMYAAHzM6Wz4w++flpbnLbjtgQe/2/k5Go12/i23+WTzpI6gGGOsL5vo8vycG25I4gMDAAMJlcoAQKl25e+oMVcJIUaOSukyw/g2YkkLw4fH+HAzKsq/aI9z2jA+MABAjAEA+N67G9+WFu5Zttzftq2yon02f39Og+nsrKV9UpDBYOADAwADCYPKAECRdu3Mk6b1jxyV0qN6yk//5glpuNfb73xQUnw8b8e23QV5HSog26yWwgP7jh4t+uqrmhpzlU43NGlk8rDhMQkJSdkzZnZe55YP35ef7F5jQAihdesGkaotjxyV8uRTv+uwBpvVsjN/+5EjRadOlsQYY5OSRs2cNafz3/XnP/5+d0GeEOKV1/4phNiVv0MuYzBt+kz3l0jvJZNmyAi3STLSO5aVnTp9qtThuCC9adqYcV3+gQAAYgwAwAOOHzssLUyZMq1HLzx9qlTKEls+fP+1V9tvTOleAdn9cYnDcUGe6NLhLL+ysvwPv39aGtsmKfqsUHqyJD7hBvmZ0kJYWFjnSOZebK3GXFVjrtpdkNe5TvRXX9VIC8Unjr/04jr5JUKI3QV5uwvy/vTCK1HRBpvVcqU/X5ok0+Ed3d+0vPy0v43QAwAQYwBggDhcdFBayMya3P1XOZ0N0rm7dEsZIcT4CZlCCLn/5NW///Wjze9LiWXq1Omj08YKIU4cP7rhnbdEp4kulZXlv37il9IK5y24LS0tXavVVpR/IfeQCCHi4tvLHMuz7d37aoQQBwv3S8XWYoyxc+YsiE+4oaL8i3c3vu1wXNjwzlsd7t0p3xtn7TNPxhhjp06bId1bc9u2zVKU2pm/femd92i02sef+K3FYpHWPHJUijzuLjraYLNa5Ayz9I574hMStVqtxWIpLz+9Z/dO95t1AgCIMQAAj6msLJfOwmOMse4Vlq/9wstTVmKMsQsX3dmha2XDv96SMsy8Bbfd+R/LNBrt1//1zludE8j6v74gbcbjT/xWDhspqWnzb7ntx6v/U8oV8kq6nG3vdDa89OI6aXue+s2z0pNTUtM02jApgezfv1des9zHotMNvff+le4bn5k1+QePfEcIUVZ2SnrTlNQ0IY5L/ztlyjT3LLTlw/elzV7+wHflMm4pqSJ7xsw7/2OZHLcAAP6MKf4AoDwV5e1pJH3chB690HL5BpRz5izokGFKio9LWWX8hMwHHvyue4aRE4i7XTvzpL6R5Q98t/MkFinDSF09ki5n2+/K3yEliu8+/AP3d5S37ezlUWRCCOvlGDN33q0dNr7LLNflZgshjh4tkhY6l6LWaLQ9ioUAAGIMAKC7rJcjQU9HQDkb6qWFaMOwDv/1/qaN0sKKld/r8F9yApEnugghtn+8RQih0w3NzpnV4fklxe3dIMPcBqHJgcQ980jF1mKMsd2pUiDHEm2n6slyR417f1HD5T/WfbO7fBUAQHEYVAYAyiMNneryBL1DhS4hxPgJmT/7+ePSstwREf3NAsQ2q0Wu99W5O0JOIPJEF5vVInXFTJ02w70X5XJ+aOicsqT163RD3dOO1BUzder0jnHL2cXIri7TVHuu6yqQyK0kb7YcdaSNWfeH363+0U/pfgEAYgwAoF9Ff/MUXK4G1uGsXV6ur2/voIiL+8aZ/YkT7f0naWPGdV6DVNxMpxsqJ5avn5+W3vn5VsvZDnlDjiXuJdHce1fkDpwO/9Vlf06HWOL+fPeE03mzJdk5s6QSAqdOlvzgke/MW3DbrbcuJMwAADEGAOBdch2wDiffWo12+QPtxYLlcmHuU+qlLpSRo1I6rLC8/LS0MHp0x8FdcnEz9wQij2qL75QohBBffHG6Q8rq8m6Y8tM61Hd2596fc6VYItw6auR37HKzJRqN9r8ff0quE/3R5vc/2vx+5+LOAABiDACgP0RFG+Rp652n1Mt9NR3qJgu3jo7OnRJdJhB5vFaXnRhfdVpbl9Na6usd1/yL3PtzrhRLutz+LjdbFheX8NRvnt2Vv0PqlhFCbHjnrbKyU/LoOwAAMQYA4AOdp9TLpYSlW0B2Dh7uhcVkV0gg9Vd6vrhyn4/45qAvqbPIferOVcixZFinDCYud9S4b89V6gFINBrt/Ftuy86ZtSt/h9QdVPRZ4a6deR1qoAEA/BOVygBAeWKMsdLCVWptSSFBfqa4wp1bJNLwqi51We9Lvg1lF3mjqz6fr0sL9HYKytezZToVZ5M7asLCdFcPTlcKM/JIvOPHDvPpAgBiDADAK5KSRkkL8lT7DuR4454lurxzyzXJ48e6mUCsl29N497n89WVB631VOdYInfUuL9jj4KTPBKvO+PcAADEGABAb8j1xKSbt3RWcfnM3r1MWZd3bpFIdZDlOmbupPFaXSaQLp8vlylzvzVN57thisujzuRyBVd3lVjSZS9Tj4KTnPq6HLEGACDGAAA8IDNrkhQ8Tp0sefXvf+18lxU5S7if2XceZiaT5s2fOlnSoWTzwcL90nitDglE+mfn5zudDXv37paWtdr2emJd3g1TCDFlyjRpYcuH73cZLdyHzF0llsjD3tx7mbocJldZWb5rZ17nxz/44D1pISEhiU8XACgCU/wBQHk0Gu3D31u99pknhRAfbX5/z+6d48ZnyEOqjh4tkrtQ5DN7OeoM76rDYfJN06SQ8+snfrl4yV3xCTdYLJZ9n+6Wu0o6JJAun19efvqjzV8HErnPp8u7YQohMrMmS4XCXnv1r198cTptzDiDwdDQ0GC1nN27d/epkyVvv/NBh1jSZVEBedibey9TjDFWesmf//j7mbPmSNtgtZx97dW//t/r66dOmyFtTEND/Z49BdIzY4yxzO8HAGIMAMCLMjInrfmvx156cZ3DccHhuLC7IG93Qcd+Bp1uqHxmX9nVMDNZ9oyZx48d3l2QJ4UK+fGld9yz4Z23OieQKz1/3oLbyk6fOnWyxL3Pp/PdMCVR0YafrPnF79f+vy633z2xyP05XU7il+8n4/7gnDkLpA2T17z8ge9KfVMOxwX3uCXHnh/95Gd8rgCAGAMA8HqSSR39t135O6TuF2n0l043NGlkcmLiyPiExIzMSfKT5QkkV/L9H/7khhuSpJtmjhyVkpg0Urq3vRRjOk+s//4Pf5I2ZpzUYyM9f9KkKSmpaU//5gnxzT4f+TaXGm3H21ampKat+9M3/oSRo1KGD49JGzPOvWOk4cqloq90P5n5t9ym0YZt/3iLlKnSx03IzJocFW0YPTptZ/72I0eKpGJrUnONHTs+O2dW57tqAgD81qC2tjZaAQAAAICCMMUfAAAAADEGAAAAAIgxAAAAAECMAQAAAECMAQAAAABiDAAAAAAQYwAAAAAQYwAAAACAGAMAAAAAxBgAAAAAxBgAAAAAIMYAAAAAADEGAAAAADEGAAAAAIgxAAAAAECMAQAAAECMAQAAAABiDAAAAAAQYwAAAAAQYwAAAABgwMSY0tLSlStX0nwAAAAAlBFjSktLZ86cef78eZoPAAAAgAJiTGFh4cyZM81mM20HZVmzZk1hYSHtAKWg0xscZgEOs/BYjMnNzc3KyiLDQIk/rs8++yztAAX9uNLpDQVxOBwcZqEsubm5HGaVbnCP9vfixYtpMijux/WJJ57gxxXK+nH9wQ9+wAUjKOgwe/vtt+fn59MUUNBhlnPaAIox7G/w4wrw4wpwmAWHWfiJbg0qW7NmDfsb/LgC/LgCHGahaM8//zyH2QCKMYx2BT+uAD+uQAelpaU33ngjh1koyJo1a1avXk07DBiDyTAYkD+u1NOD4n5cOdiCwyzAYRbdd8XeGIfDsXLlSvY3+HEF+HEFOMxCuaikN1ANvtL+ZkAO+HEF+uHHlUp6UBYq6UFxh1nOaQMoxrC/wY8rwI8r0OVhlhlc4DALP40xZrP53nvvZX+DH1eAH1eAwyw4zEIZMYYBOeDHFeDHFejs+eefp8QTFIRz2sCKMT3d3/v27Vu6dCktqFDLli1btGgRP64AP67ANTE9Ghxm4b8xxuFw9HR/V1dXb9y4kRZUqOnTp/PjCvDjCnCYBYdZKNSgtrY2aYlhOQFl3bp1q1atCrQf15kzZ+r1eva+Qm3YsCHQflxNJtPkyZPZ9Qr11FNPJScnc5iFUqSnpz/22GNK/yt27Nhx//33c5gNFG1utm/fbjQau/nCJUuWtAG+s27dOr6/AXuwUqILFy50/wCLAeDAgQNK/9CuWLGC/Rg4BsB53eeff85+DCjfuP3lrFmz8vLy+KGFIjz44IM5OTm0A5RCp9P96U9/oh2gIM899xyHWShIcnIylzgDyteDymTdHPawZMmSATDGA4rW03JPBw4cyMzMpN3gQz0avsthFhxmAQ6zuBJVl1k2Ly8vPT2d1oGf0+l0mzZtYtgDFGTRokXvvvsu7QBlHWbpkwGHWSgjxkhJZvfu3Ry2oIif2PXr1z/66KM0BRT0E/v5558zfBfKSjJcMAJJBsqIMYILMFCUtWvXkmSgIFKnN0kGCkoyXDCC4pIMF4wCN8aQZKC4JPOrX/2KdgBJBvDeYZYkAw6zUEaMkZMMhy0owmOPPUYnMpT1E1tYWMilIigryXDBCCQZKCPGSEmGCzBQCobDQlmMRiOd3lAWLhhBcUmGC0aBG2MkJBmQZABvYPguOMwCXsUFo0CPMVKS4aZCUMpPLBP7oLgkQyUokGQArx5mSTKBG2OEEKtWreKwBUVgOCwU9xNLJSgoLslwwQiKSzJcMArcGCO4AAOSDOA1DN8Fh1nAq0mGC0YBHWPkJBMREUHzwf9/YpnYB8UlGSpBgSQDePUwS5IJ3BgjJZnnnnuO5oP/Y2IfFIdKUFBckuGCERSXZLhgFLgxRgih0+loPigCE/ugOAzfhbJwwQiKwwWjAWBQW1sbrYBA4HA4iN9QFrPZzFgdcJgFOMyCGAMAAABgIFDRBAAAAACIMQAAAABAjAEAAAAAYgwAAAAAYgwAAAAAEGMAAAAAgBgDAAAAgBgDAAAAAMQYAAAAACDGAAAAACDGAAAAAAAxBgAAAACIMQAAAACIMQAAAABAjAEAAAAAYgwAAAAAYgwAAAAAEGMAAAAAgBgDAAAAgBgDAAAAAH5n8DWfYbY31TpdVecbr/KcIeqg2IgQU3hoqJpcBAAAAMBHMabR1brzdO0n5XZrg6v7q8uI1c0cqU+M0tCyAAAAALxkUFtbW+dHj9fUv3KgpqG5pXcrzYjV3ZcRQ88MAAAAgH6KMe8esWw9WdvH9UZr1Y9MjTWGh9DEAAAAADyrY4fJrtN1fc8wQghrg+uFPVWNrlaaGAAAAIAXY0yZzflW0VlPrdra4HppbxVNDAAAAMCLMeaDEzbPrr3Y4iyzOWllAAAAAF6JMWZ7U7HF85HD49EIAAAAADGm3b4KuzfeoNjiZIYMAAAAAK/EmC+veoPLvqi2N9LQAAAAADwfY7wxokxyysr0GAAAAABeiDEAAAAAQIwBAAAAAGIMAAAAAGIMTQAAAACAGAMAAAAAxBgAAAAAIMYAAAAAIMYAAAAAADEGAAAAAIgxAAAAAIgxAAAAAECMAQAAAABiDAAAAABiDAAAAAAQYwAAAACAGAMAAACAGAMAAAAAxBgAAAAAIMYAAAAAIMYAAAAAADEGAAAAAIgxAAAAAIgxAAAAAECMAQAAAABiDAAAAABiDAAAAAAQYwAAAACAGAMAAACAGAMAAAAAxBgAAAAA8LTBHlxXtFYdrVV3fvw6jZqGBgAAAOBHMSZaq755VORYY5ieuAIAAADAz2OMNjjo7nGGzLhw2hEAAACAAmJMqkHz8JTYUPU3ZteY7U0XXS3XfG2kRk3XDQAAAIB+jTHTE8KXZcTI/yyzOfdV2A9V1zc0t3RzDdJQtElx4R2CEAAAAABc3aC2tjZp6eF3Pu/mazJidQ/dZJKWG12tm4ttW0/W9u7ttcFB38mKSYsJY08AAAAA6KYe94Rog4Puu9wP0+hqfW7XmV5nGCFEQ3PLHz+p+qjExp4AAAAA4K0Yc/c4gzQMTMowFXWNfd+I3OO2wko7OwMAAACA52NMtFYt1yV742CNRzKMZP2BGrO9if0BAAAAwMMx5vbRUdJCmc15sMrh2U155/BZ9gcAAACAa+pZpbIxRp20kHeqzuObUmxxltmciVEa9sqAVGZzXvM57H0A/qk7txPgCAYAfhpj4vWhcnFkj3fFSI5U1/MzMJA0ulqPmR3bT9V1f/xhqkEzJT58jFFHJW4APldYaT9sru/+T168PnS8KWxGUiRHMADwoxijuXxQ7s5l9d4ptTrZJQPG8Zr6Vw7UdP9WQpJii7PY4ozW2u4aP4xK3AB8pczm/PuBGmuDq0evqqhrrKhr3Hay7vbRUdlJepoRAPwixiQb2vtJqs57ay6+B2sGwLfePFhTUN776nPWBtcfP6maOypycbqBxgTQzwor7esP1PT65Q3NLW8Vna0637gkfRjdMgDgJb05vF5zfDDIMH3JMLKtJ2vfPWKhPQEoKMPICsrtbxysoT0BwI9iDHAVx2vqPZJh5CRzvKaeVgXQP8z2Jo9kGMnBKgf3dwYAYgwUoNHV+soBD199fLuIStwA+onHS//nHrfVOV00LAAQY+DXjpkdPZ3Tf03WBldhpZ22BeBtZTZnscXzlWbyvXCLAgAAMQaetLfCrqDVAoC7fd451HzCEQwAiDHwc964kOm91QKAuzPeqcPZ0NxitjfRvABAjIGf8urvNCcBALzNe0X/qfAJAMQY+C+v/k5zEgBAuWobmOUPAMQYAAAU5RzFygCAGAMAAACAGAMAAAAAxBgAAAAAIMYAAAAAADEGAAAAADEGAAAAAIgxAAAAAECMAQAAAECMAQAAAABiDAAAAAAQYwAAAAAQYwAAAACAGAMAAAAAxBgAAAAAxBgAAAAAIMYAAAAAADEGAAAAADEGAAAAAIgxAAAAAECMAQAAAECMAQAAAAA/M9hXbxytVUdr1ewAAAAAAP4eY1INminx4WOMulA1HUEAAAAA/DvGpBo0d4wbZgwPodEBAAAAKCDG3DN+WHaSvsODZTbnNV8YqVHrNYw9AwAAANCPMUYbHPSdrJi0mDD5kcJK+2Fz/cEqR/fXMNEUtiA1ijwDAAAAoD9izN3jDHKGMdubXiusqahr7NEaGppbCsrtBeX2uaMiF6RGMakGAAAAIMZ40aK0qMy4cGm5sNK+/kBNX9a29WRtqdX54+wRJBkAAACAGOMV0Vr1vJQoafl4TX0fM4ykoq7xuV1nSDIDmzY4KC6iYymIIeogWgaAIqQaNB0euY5B0QCgoBhz++j2DFPndL3iiQwjJ5k3DtY8dJOJnTfAosu34sPTTWGJURpaA4DijmATTWHpJl1SlIarbACg7BijDQ6Sh5NtLrY1NLd4cOUHqxwzbU7OdwfMz//to6M6F7IDAEVYlBY1IymS9AIAAyTGTDS1T+uvc7oKyu0eX/8HJ2yrs0ew/5Qu1aB5eEps559/s73pouuK0XeIOogbEAHwuXh96PLMmM6Ho6sfwYQQXIYDAP+NMaOi24/RR8313lh/scXZ6Grl6peiTU8IX5YRI/+zzunKP1VXanV2s5ZdtFY9waTLGamnEjcAn2QY94maja7W/ZX2vRX27h/BUgyayfHhRBoA8K8YE6ltP7M8XO3w0luctjndb0cD5WaYRlfr5mLb1pO1PVqDtcG19WTt1pO1VOIG4NsM81GJbdvJuh4Nn7Y2uKzl9oJye6pBc39mDJdjAKCnvHXmZwoPlRacrlYvvUXV+Ub2n3LPAJakD5OW65yu53ad6WmGcbf1ZO1zu86Y7U00LIB+oA0OkjNMo6t13a4zucd7PwW02OJ88uMKjmAA4C8xRr5G1dObXSIQLM+Mkc8Ant15pu8fkoq6xrU7z9Q5XbQtAG+7e5xBPoI9t+tMscXZxxU2NLes3cm1GADwjxgDXMn0hHB5RuxLe6usDZ7JHg3NLX/ZW03zAvCqaK3avQ6npy7VSUmm0WvjFwCAGAP0Vc7ISGmhsNLe96uY7irqGgsr7bQwAO+Rb4lWZnP2ZTRsl0lm45GztDAAEGPgj6K1arkrZtMJm8fX7411AoBsjFEnLeSdqvP4ygvK7XTIAAAxBv4oxdBeWtRsb/LUcDJ31gZXmc1JOwPwhlSDRp4Vc7DKK3U499OlDADEGPih6y5X4j5q9lYl7lNWYgwAr7g+or0I52mvXS45yREMAIgx8EMjL98X9VyDt6qKlVo4CQDgFZrg9h9N71X8tzVQcREAiDHwY/xUA0Bn3KUAAIgxAAAAAIgxAAAAAECMAQAAAABiDAAAAABiDAAAAAAQYwAAAACAGAMAAACAGAMAAAAAxBgAAAAAIMYAAAAAIMYAAAAAADEGAAAAAIgxAAAAAIgxAAAAAECMAQAAAABiDAAAAAAQYwAAAAAQYwAAAACAGAMAAAAAxBgAAAAAxBgAAAAAIMYAAAAAQBcGK2Iro7XqaK26w4PXadTsPwAAAIAY40e0wUETTWHpJl1aTBj7CQAAAIC/x5hFaVEzkiJD1Yx5AwAAAOD3MSZeH7o8M8YYHtLh8TKb8+ovHKIO6vwqAAAAAMQYr2eYH2ePkDthGl2tO0/XFlXXV9Q1dnMNGbG6ccawzLhwdi0AAABAjOnvDLPrdN2mE7aG5pYereRgleNglWPTCduDWTGJURp2MAAAADDw+MvkE21w0PLMGCnDNLpa//Zp9VtFZ3uaYWTWBtcz+WcKK+3sYAAAAIAY4y1zRunlmS1vHKw5WOXo+zrXH6ghyQAAAAADj18MKovWquelREnLH5XYPJJh5CRjighl6v8AE68PnRIfHhsRwrhBAIoTrVVPMOnSTWEcwQBA8THmWwntM/LrnK7c4zbPrvydw2dXZ49gTw8MqQbNraOj+O0HoNAAc/voKIrQAMDAiTFjjTppYXOxzeMrL7Y4y2xOTnwHgHvGD8tO0tMOAJRo7qjIxekG2gEABk6M0QZ/fb+XQ9X13niLfRV2YoyiaYOD1swY4T44sMzm3FdhL7E4rQ2ua748WqtOMWjSTbq0mDAaE0D/W5kV494JY7Y37auwf1bt6M4RTBsclGLQcC8BAPC7GBMXESIf1ntdmuzqzpxvYk8rmnuGMdub3jl8ttji7P7LrQ0ua7m9oNwerVVTiRuADzNMndP1emFNj45gDc0t8r0E7ho/jMsxACDxfaUyTXCQtHDR1eKlt+j+3TPhh+4ZP0zOMIWV9ie2lffoDKBDnnkm/8yu03W0KoD+MXdUpJxhymzOJz+u6MsR7I+fVL15sIZWBQDhD70x11/ujamizwSdpBo08nyYwkr7+gMe+P1+q+isEIJpNgC8LVqrXpDaXofTbG96Jv9M39dZUG4XQizLiKF5AQQ4lf9sivd6Y6Bct47++gzAIxlGTjJlNifNC8Crbh8dJd/Wee3OM55abUG5nV5lAFDRBPBb8fpQeR7La4UeHkfx9wMMzADgRdrgIHk42cYjZz07+XPTCVud00UjAyDGAP5oSnz7GcDxmnqPT3CyNrgKK+00MgAvmWhqn4tf53RJI8E8qKG5Jf8UHTIAiDGAXxoZ3d4V82mFV/LGdk4CAHhNuqn9lmj7vXPF5JMKLsQAIMYAfkkuUFZi8co8FkrYAfAe0+UjWKl3jmANzS1mO6VxABBjAD8Trw+VFhpdrV66oZAQgon+ALxEr1FLC8UWbx1napkeA4AYA/gbjbr9w1ltp88EALpQdZ7DIwBiDAAAAAAQYwAAAACAGAMAAAAAxBgAAAAAxBgAAAAAIMYAAAAAADEGAAAAADEGAAAAAIgxAAAAAECMAQAAAECMAQAAAABiDAAAAAAQYwAAAAAQYwAAAACAGAMAAAAAxBgAAAAAxBgAAAAAIMYAAAAAADEGAAAAADEGAAAAAIgxAAAAAECMAQAAABAYBg+8Pylaq47Wqtm1AAAAADHG36PLzaMiR0ZrjOEh7FQAAACAGOPvAeb20VGZceHsSwAAAIAYowDTE8KXpA8LVX9jhk+jq7Xa3niVVw1RB9FpAwAAABBjfGBlVox7J0yZzbmvwl5icVobXN15ebw+dLwpbFJcuF7DRBoAAACAGON994wfJmeYRlfrGwdrDlY5erSGirrGirrG3OO2RWlR81Ki+CgAAAAAxBgvyojVZSfppWWzvWntzjMNzS29XlvucVtRdf2Ps0d0GJwGAAAAwD8p78RdGxx0X0aMpzKMpKKu8bldZxpdrXwgAAAAAP+nvN6YOaP0UrdJo6v1hT1Vfc8wcpJ542DNQzeZpNdDiG4AACAASURBVH9+8sknN9xwg9Fo5COidBmxunHGMFNEKHUdAChOvD50Snx4bERIYpSG1gAAZceYGUmR0sLO07XdnM3fTQerHDNtTumnwmazTZs2LT09ffbs2VOnTp00aRKRRnGmJ4QvSI2ihAMAJcqI1S1NN3AEA4ABEmMyYnVyV8y2k3UeX/8HJ2yrs0cIIRYuXCiEOHLkyJEjR5599lkhRE5OTk5OzpQpU7KysnQ6HR8dfxavD12eGUP3CwAl0gYHfX+qie4XABhQMWZUdPth/ZjZ4anhZO6KLc46p0u6+rV06dINGzbI/5Wfn5+fny8t5+TkLFy48KabbsrMzOQz5IcZxr1gQ6Or9ZjZcdhcX2JxXvMzow0OiosIGWfSTYoLp+QDAJ8cwf5zism9E6aw0n7S6uzm7QRSDZpxJt1YYxjdOACIMf4lNqL9+vpJq9NLb3Ha6pRKOa9evfrcuXNydHHnHmmWLFkyffr0uXPnJicn83nytwyz63TdphO27ifehuaWYouz2OLcdMI2Z5SeStwA+lO0Vu1+BDteU/920dkeDZ+WjmBvFZ3t8vbQAECM8T2bR2fFuDvnbF/zt771rby8PIfDceDAgb1797pHF3cbN27cuHGjEMJoNM6fP3/atGmTJ08m0viENjhIPgPo3d2E3PMMlbgB9LNHpsbKB5w3D9YUlNt7vaqCcnuJxfnI1FiG1wIYqDg/uwadTjdr1qzHHnssLy+vurr63XffffTRR9PT0zs/02w2v/zyyw888MCNN95oMpnWrFmTm5trNptpw37znawYOcM8t+tMrzOMjErcAPrNorQoOXL0McNIrA2utTvPmO1NtC0AYkygMxqNixYtWrt27eHDh6urq1999dUVK1Z0WcHMbDY/++yzixcvNplM48aNW7NmzY4dOxwOB23oPakGTVpMmLS88cjZirpGj6y2oq7xpb1VNC8Ar9IGB8l1OHedrut7hpE0NLe8sKeKazEAiDH4RqRZvnz5+vXrq6urP//8cynSdPlMqdbZ7Nmzhw4dOnPmzCeffJJI4w1T4sOlhTKb01NnAJJii7Ow0k4LA/Ae+ZZodU7XphM2D67Z2uDaXGyjhQEMPINpgr5LTk5OTk6WUk1hYeGnn35aUFAgTZjpoHNtAMqdeYQ2OEgqzCCE+OCE53+wN52wyesHAI+bdPkIs7nY5vE6nFtP1i5IjWKaHwBiDK4mMzMzMzNz1apV3a8NIIRYsWIFtQH6IsXQXom7zukqtni+ip21wXW8pl4etAYAHhStVcv1kQ9V13vjLfZX2rOT9DQ1gIGEazPe4l4b4MKFC9u3b79SbQAhhHttgJUrV7722mvUBuiR6y9X4j7ttUrcVecbaWcA3hCnD5UWymxOb9wSTXjzLgUA4Cv0xvRfpJk1a5YQwmw279+/f8+ePdu3bz9y5EiHZ0rlzl5++WUhRHp6+uzZs6dOnTpp0qQuCwlANkQdJC3I9bI9rtTinJdCSwPwPPlCTNV5b1UVq6zjQgwAYgz6Rip3tmjRIiFEaWnpvn37du/evWXLls7dL0eOHJHKA0iRZsmSJVOmTMnKytLpdDRjB/J9Ub88T2lRAEp10dXipTVbvXazNQAgxgQiuTaAFGm2bt16pdoAUqSRlnNycnJycubNm0dtgM6czS00AgAAADEG/RppVq1aJYSQyp299957XdYGkGoG/M///I+g3BkAAACIMfATvSh3ZjQa58+fT7kzAAAAEGPgY3JtgMcee8zhcGzfvr07tQGkSHPLLbdQGwAAAADEGPg40si1AaRyZx9++GGXtQG6LHc2e/ZsagMAAACAGAOf6V25M6k2AOXOAAAAQIyBj7mXO5NqA1yp3Jn7BJucnJyFCxdSGwAAAADEGPiYXBtACLFjx46r1AZwf3zJkiXf/va3qQ0AAAAAYgx8zL02gFTubOPGjZ1rAwjKnQEAAIAYA3/jXu5Mqg3QnXJncm0Ayp0BAACAGANfcq8NYDabP/744+7UBpAizfz586kNAAAAAGIMfBxpli9fLtUGkMqd/fvf/+6yNkCX5c5mzZpFGwIAAIAYA5/pXbmzJUuWTJ8+nXJnAAAAIMbAx+RyZ3JtgCuVO5NrAwghVqxYkTxu0vmW2AhjAm0IAAAAYgx8w702gBRptmzZ0mVtACHEyy+/LMTLQgiN3jBi/PThKRNjx07R6A00IwAAAIgx8HGkEULI5c7+8Y9/dK4N4KyzfJ634fO8DUKI6+KSTWOnDE+eYBg5lkgDAAAAYgx8Ri53tnbtWqk2wJXKnZ2rLD1XWXr0338XQhhHTzKmTdobNNdw8zTKnQEAAIAYA59xrw3w8b7D//vXDTXFheX7t3V+pvnEfvOJ/ff/83khRE5OzpCECSEjJ0UnjqENAQAAQIyBz9yQNCpt/r1p8+8VQljLjp09eaTiwHbzif2dn5mfny8u1wxImDQnJjVz2Kh0Ig0AAACIMfCl6MQx0Ylj0ubf67rYYDl97OzJIvPx/V1GmvL926TeG7k2gGFkOuXOAAAAQIyBz6iHaE1jJpvGTJ6w5HvOOsuUUHPZ0YNdljtzrw2g0Rsmzbl9RO38SZMmieAImhEAAADEGPiGRm+Yk5OReP9dQohfbSzcs2//mc92nSkqcNZZOkea/H/+Lf+ffxNC3Dh6TPANGcOTJ5jG3KQeoqUZAQAAQIyBb4RHDYvPmh2fNVsIcd5cbjl15KuSQ1JXTAefnzgmThxzL3c2bNR4Q9IYIg0AAAAxBvCZCGNChDFhVPbC6f/5pFQb4OrlzqRlagMAAAAQYwC/INcGSDVo0i6d2rt37+ZtO/Z9sqvzM+XaAEKIyltvv3vposmTJwsxhDYEAAAgxgA+M2vWrFmzZt3zvUef2lwilTsr37f1XGVp52du/WDT1g82CSHCo4bFjJ1GuTMAAABiDNAtkRq1l9bcodyZ5dTRr0o/qz66t3OksdvO2i+XO7suLtk0dsrw5AmGkWM1egM7CAAAgBgDdKTXqLXBQQ3NLV59F43e0Lk2QG3xHstXNR2eea6y9FxlqVQb4Lq45ITJc6kNAOAqUg2aYouTdgAAYgwCTopBc7DK0W9vJ9cG+K+cEZfOfblv377nXvnnkYItnZ8pRRppWS53ZhozmV0GQHZ9RCgxBgCIMQhEM0fq+zPGuEtOTk5OTj4fn1NscVLuDEAv5IzUbz1ZSzsAADEGAScxSuMPozLkcmeuiw1SbQDz8a+jizv3cmc3LXzgzjvvnDF5oiEy3Bgewt4EAo1eo56eEF5QblfixmuDgyaawkZFa0wRoRzBABBjgB67Y9ywtTvPeHuGTDe51wZwXWyoPvZpl7UBxo0b9/jjjy9cuJDdBwS4JenDSixOa4NLWQFmzij9jKTIULVqIO2L1nOnRFO9EEKEhKmuG8mHEwAxBt5lDA+5e5xh/YEaf9sw9RCtXBtALnd2+pMPf/6TH/7oRz8KCwtj33nERVdr9flG760/Uqv2Xk089gX7IlStemRqrP9ci7mmjFjdfRkxAynAtDm+ulT4YkvZ+6LJbYBfSKQqNltlmqwyTSTSACDGwFsy48KHBAe9cqDGb88D5HJn6//4XGZcuPx4ndO1v9JeanFWnm+65sanGjTXR4ROjmcEmhBCHDPXHzE7Pu+vy9gTTbpxprCR0Vq9hoMY+8LDjOEha2aMeGFPlf/3yUxPCF+WESP/s9HVur/Sfrja0Z0jWLw+dERESLpJlxbjRxdxWioKXB+v/kaAkTTVtpbltpblEmkAEGPgXWkxYY/dHL+52ObPo8xXZsXIGabR1brxyNkebW2xxVlscW49WZtq0NwxbljAhpnTVuerhTX9fMJ3qNpxqNohhEgxaH6UPYJvHPvC40nmv29O2Fxs8+cZ/+4ZptHV2tOtrahrrKhrLCi3R2vVD2bFJEZpfP4XtZqLXB/cd+3ndYo0QTfcrDJOHKQbzkEAIMYAHqDXqJdlxCxIjTpqrj9c7bA2uPzq0ubcUZFyhjHbm/oyhqTY4nxiW7l7KAoQF12t//vRF+cbL7k/mGLQjIgIHeK1IS6lVmdlXaPT1Sr9s8TiXJ178uEpptRhAX07IPaFx4WqVYvTDQtSo/ZX2k9anbYGV0Vdo/9sXqpBI2cYs73ptcKaXm+etcH1TP6ZuaMiF6f78jbBbc31zR9+p8cvc4s0g4YmqmKnqUxZRBqAGAN4JsxkJ+mzk/R+tVXRWrX8g11mcz6Tf6bv65SmAwVOkrnoav3V1q/PmyNCBy8ZGz3GqBvi5TH684UQQpyoqd94zFptbxJCNF5qfb7gy7vGD5vhZx8z9sXACDN+eATTBgc9PCVWzjAemcmz9WTtRVeL+xC1ftby+QddjCXrURC6UNZSXNZS/CqRBiDGAAPW7aOjpIU6p+vPe6o9tdr1B2oitWp/GJvRD17aW1V78etr/+cbL1Wdbxpj1PXPu4+OCRsdE7a15FzuCWtbm2gT4h9FZ49UO747JXbIwCrWxL5AZ3NG6aU5/Y2u1tcKPTYLsaDcHhsR6qvM1lLyLw+urWOkSbxFZcpUGScMCqaaCzBw8BuDgBOtVct9Jq8XergOwd/9r0SbN7x7xFJicQohQgerhoUFSw9uPVn73M5K6ap8/5ibct1vFiSFDm4/jhVbnE9uKz9tDay7sLMvAtCMpEhpYefpWs8Oddt0wlbn9M3o3zbrIW+t+UJZS9Hzrg/ua/rr6KZ/LnbtebaloqCtuZ4PEkCMARRmgqn9KrXZ3uTxO3VaG1yFlfaB3YDV9iZ5JvHKScZfzb9h4eXercrzTb/aVr6l2NZvG6PXDP7trUlhwUHSP885Xb/beaY/N4B9wb7oZxmxOrkrZtvJOs+uvKG5ZbMvdlnruVP9FpaINMCAwaAyBJx0U/uggvxTXqlBtP1U3cCeIfPhifaznLmjIscYw4QQ81Ojxpp0L14uUPveCVtRtWN5ltHkVr3toqv1mNlRdb7pjBfuZHKdZnC9W6/aeydshV86Vkz+xgawL9gXA8M4Y/sRbH+l3RtF7Q9V1y/L6Pe/qskHQaLNeqjFeqilSAghVLGzVLE3qYwZKuN4PmMAMQbwU/LclRKLV0a8VNQ1NrpaQwforIBap0uqrqtRq+anRsmPm8JDfnlzwpbLJV8rzzetza9cmBadnaSvdbo2F9t292/p7eoLTU99XJGTGHHH+GED9ZPMvghMkdr2W46e9M6YvYbmljKbM0Dm+Mlaq3a0Vu2Qlok0ADEG8HfeKwBdbW8cqCcBx8ztF02nJUR0mMA9RK1anG4YawyTbl3idLW+VXT2o9Jztc5LPtnUlra27afr9n954ZezEwbkXTLZF4HJFB4qLVR6rQB01fmmQIsx14g0CTO4zyZAjAGgbKWXu7AmxXc9cC4pWvPLmxPeKKyROgrk82aNWjUxVpdu1CVFa7xawOq01flZleOTcntTS6sQwtHU8sS2L36aEzfwBjWxLwKT3NPrvQsxF10ttPM3Is2+X0v32VSZJqtME4k0ADEGgPLYGpqlhauciQ5Rq+7LjDlzvlE+zVo4OmrGyMj+Kb+bFK1JitbcOX7YawfMn1ZeaBPioqt1bX7lmgF39sy+APqP2302iTSAn6BSGYAeqDzfJISIi7jGOehLe9unmGvUqp/OGDE/Nar/byGyPMv4P3MSpE11ulrX5ldevHy/efYF+wLoY6S5VPCz5n/Mbvzb+OYtP2op/bDN8RUNAxBjAPg7zeWiul3aUmyTyido1Ko1OXFJ0T4bZG8MD/nxjDj57PmNwhr2BfsC8HikcX38SNNrk5pen+nKe5xIAxBjACjSRVfrtst3MvlOlu/L7A5Rq/5zaqxGrRJCHKp2BNQNGdkXQH9qu1DWUvwqkQYgxgBQpJ2nap2uViHERJNuzOUbXPhWpEa9MC1aWv4gkO7GyL4A/CXScJ9NwAuY4g/Ak/ZUtN+TZOk4g/9sVXaS/uOTtdYGV4nFWet0RWrU7Av2BdB/kaboeek+m4OiJ6pip6pMmSrjhEHBYTQOQIwB4BdqnS5pNnlcRIi/nZ5OMOmk20Getjqz4sLZF+wLwAeRxnqoxXqISAMQYwD4l+rzTdLCeJPO37ZtrDFMOnU+57W7bbAv2BdA7yJN+302jRkq43haBiDGAOhvVefbbyseGxHqb9tmurxJpVbnfPYF+wLwJ+332RREGoAYA8Cn+v/OJErcJPYFACINQIwBAAAYoJEmJFIVm60yTVaZJqquG0nLAMQYAAAAv9dU21qW21qWS6QBiDEAAAADJNIEJcwYpBtO24AYAwAAAMVEmksFYtDQRFXsNJUpS2WcSKQBMQYAAAAK0HahrKW4rKX4VSGINCDGAAAAYABEmhtmcZ9NEGMAAACgwEgTPVEVO1VlyiTSgBgDAAAAhUQa66EW66GWIkGkATEGAAAAyo40qsRFg9OXc5NNEGMAAACgGK1luc1luarYWYOn/TwA70XTeu6UaKrv1lNDwrhXDzEGAAAA/nQ2X7Wj+R871De/EJR8S4D8yS0VBZcK/rftQlkPXhMSOXjSzwaPvYsPjM+paAIAAABIXB8/0lL6YYBkGNcH9/UswwghmmovFfzs0tG3+agQYwAAAECS6W+X9v+hD699ms8JMQYAAAB+l2Raz50a2H9jm/VQ71/cVDvg24cYAwAAAAUmmQ8fphGummTqaQPfYoo/AAAAOmq7UNZS+mHgTPf3073g+Kql9N+t1hOi6UJ3nq+KvUmVMCNAyqkRY+AbUVo1jQAAgD+7tP9ZYowPtZR+6Pr4kR69pLVqh9j36wApN8egMvhGbEQojQBAoUZGa2gEBIK2C2UtFQW0g28a3/FVTzOMLBCmNhFjwEkAAPRYYpRGGxxEOyAQtFYX0gg+0VL67z7tuPKdxBjAK4zhIakGkgwApZpoCqMREAjarCdoBEXmz6pPiTGAt9w6OopGAKBQC1I5giEwzoatRTQCiDHANyRGaaYnhNMOAJRIr1EvSiPJIAA01dIGIMYAHS1JHxavZ64/AEWalxLFtRgA8H2MYbYi+l+oWvXj7BFMkgGgUMsyYkgyAOATX983Ji4ipNjipEXQ/0lmdfaIXafrNp2wNTS30CAAFJdk0k26t4vOWhtctAYAf9bm+Mr1yW9by3K7/5JBQxODUu8enPGQX8eYcSYdMQa+kp2knxQXfszsOGyur6xr5GwAgIKkxYT9OibseE39kWrHmfNNFXWNtAkAv8swzfVNb8/v6WSntgtll/b9uq3pgnrqo/4bY8Yaw94qOss+hq+EqlWZceGZcQzPAKDUMJMWQxVmAH7qUuFLvS7Y0FL0/OCxywbphvvVX/T13Bi9Rs0AXwAAAGDg6eMtgNocNf72F32jUtmS9GFM9AcAAADg574RY0LVqjUzRpBkAAAAACgmxgghjOEhJBkAAAAASooxUpJ57OZ4buUBAAAAwD8N7vJRvUa9OnuE2d6Uf6q2xOKk+i0AAAAAf48xEmN4yLKMGGm50dV60cWtCQEAAAD4d4xxF6pWhapVtBcAAAAAnyOZAAAAACDGAAAAAAAxBgAAAACIMQAAAACIMQAAAABAjAEAAAAAYgwAAAAAxRtMEwAAAAAe0VJR0GYr7f7zg5K/PUg3nHYjxgAAAAA+0NZc35x7f5v1UI9edWnfr4PGr1JPfZQG7CkGlQEAAAB95dq8qqcZRtJS9HxL6Yc0IDEGAAAA6Fet5061Vu3o9ctbSjbShsQYAAAAoH811fcpBfUhAhFjAAAAAIAYAwAAAADEGAAAAAAgxgADwfPPP5+bm0s7AHxNAOWaOXOmw+GgHUCMAQLL4sWLOUUD+JoAypWfn3/77beTZECMAQLxFO3555+nHYCrf01ee+012gEgyYAYA8CPrF69es2aNbQDcBUPPPAAXxPAn5PMjTfeWFpaSlOAGAMElmeffZZTNICvCaBcZrN55syZJBkQYwBO0QDwNQFIMiDGAFDCKRolXwC+JoDSkwxlOUCMAQIOEyUBviaA0pMMBQZBjAE4RQPA1wRQHpIMiDFAgJ6iTZs2jeHFAF8TQNFJhjsKgBgDhTGFh9IIfXTkyBEmSgJ8TQBF444CIMZAYULVKm1wEO3QR5R86Yuqqqp9+/ZVVVV158nFxcXdf3KP1gyFfk1SDRraFvAICgyCGAOFSeEkwHOnaDt27KApuq+4uPjuu+++/vrrb7rppuuvv/7uu+8uLi6+ypPnzp07evRo6cmPPPLIhQsXur9mwoz/fE0KCws9uM5xJh0NC3g2yTCZDcQYKMNN8eE0gqdO0WbPns1EyW66cOHCvHnz3n77bfmRt99+e968eV2Gk6qqqnnz5m3btk1+5MUXX7zjjju6XLP05A5rnjJlylViD/rza5KVleXBr8lYYxitCng2yVCWA0KIwTQB/F9aTFiqQVNscQbI37t06dKevuT06dPdf/LixYvffffdRYsW8dG6uqeffvrLL7/s8OCXX3759NNPP/XUUx0ef/HFFzs/edu2bf/617/uvPPO7jz5SmuG0r8meo16ekJ4QbmdvYbAkZub++abb3pv/VKBwU2bNul09HYSYwD/dse4YU9sKw+QP3bjxo3efovFixdv37591qxZfLSu4qOPPrrS453DxhtvvNHlk3fu3Nk5xvRozfDh1+TAgQOZmZl9X9WS9GGHqusbmlvYcQgQX375pbe/pPn5+Q8++OCGDRto7YDFoDIogzE8ZGVWDO3gKY8++igZ5po+++yz7j/euXdFUldX18c1w4dfE49kGCFEqFq1ZsYIqpUAnjwxMBq57kOM6bHrNGoaDv0vMy58ZVZMIJwHtPXcunXrenRytnbtWj5R1zRnzpzuP36lJ0+YMKGPa8bA+JoYw0NIMggcq1at6sWXtEcZJi8vLzk5maYmxvRMpJYYA58lmTUzRlC9tC/IMN23YsWK7j9+paka06ZN6+OaMWC+JsbwkP+3IHF6AjVLgD5JT08nw6CXMSYxSsP1JPiKMTxkdfaI/8oZMT0hPJpE3UOvvvoqGab77rzzzl/84hcdHvzFL37Rea6LEOKhhx7q3JfyzDPPTJ48ucs1f+973+vmmtHP3n33Xe99TULVqmUZMb+9JXHuqMh4Pff2BXosJydn9+7dZBiIXk/xn2gKo+gKfCgxSpMYRZ9Mj0/OqE7WU0899VR6evrLL7+8bdu2OXPmrFix4ipJ45133vnnP/+5YcOGbdu23XXXXQ888MDcuXOv9OQXXnhh/Pjx0pOvuWYMsK+JXqNenG6gtYFeZBiqk6GvMWZBahQxBuDkLBDceeed3QwYQ4cOfeihhx566KFurrlHTwZfE4AMQ4aBB2KMXqNelBaVe9xGCwJ+zmg0vv7669QlA67+NXnvvfc8VZcMgMc9+uijjz/+OBnG37Q117d8/kFr9T7R1L3bN4cMVZkmB91466BgD9wXuPf3jZmXElVqcQbOHQkBhZ6cMQ8S4GsCKD3DMLHTPzNMc+79bdZDPXpVa1luS8m/ghe93vck06f7xjw8JTYjllgMcHIG8DUBQIYJLJc++V1PM0x7/rEecu34775vQJ9iTKha9dBNpnvGD6NwGeBvqEcJ8DUBlG7dunVkGL/VUvxqr1/bWpbb9w0Y3PdVZCfpJ8WF76+0762wV9Q1slMBn2MeJMDXBFA6qm7A6zFGCBGqVmUn6bOT9EIIs73poquFlgU4OQP4mgAgw8BLVB5fozE8hBt6AJycAXxNAPTmTNJoJMPANzEGgK88+uijeXl5nJwBfE0A5WaYvLw8MgyIMUBgnZwxDxLgawIoPcNQdQPdNJgmAAaApUuXGo1G2gHgawIoV2FhIV9SdB+9McBAwHEf4GsC8CUFMQYAAAAAiDEAAAAAQIwBAAAAQIwBAAAAAGIMAAAAABBjAAAAABBjAAAAAIAYAwAAAADEGAAAAAAgxgAAAAAgxgAAAAAAMQYAAAAAiDEAAAAAiDEAAAAAQIwBAAAAAGIMAAAAAGIMAAAAABBjAAAAAIAYAwAAAIAYAwAAAADEGAAAAAAgxiBAJRs0NAIAhRqiDqIRAIAYA04CAEBJYiNCaAQAIMYgEI01htEIABQqMUqjDeZaDAAQYxB49Bp1vD6UdgCgUBNNXIsBAGIMAtK3R0fRCAAUakEqRzAAIMYgIKXFhGXE6mgHAEqk16gXpZFkAIAYg4B0X0YMQ8sAKNS8lCiuxQCA72MMZ5Pof6Fq1Y+zR/DZA6BQ92XETE8Ipx0AwJcxRqOmwwe+STI/nx3P2AwACj2CLcuIuWf8MAqXAcCVDPb2G4wz6YotThoaPjEvJWpSXPhRc/3eCntFXSMNAkBBspP0k+LCj5kdeyvs/JICQH/HmLHGsLeKztLQ8BW9Rp2dpM9O0gshGl2t1XbCDADFCFWrMuPCM+PaB5iV2QgzANDO6yO+9Bo1A3zhPycEiVEa2gGAQnEEQ/8bNDSRRkCAxhghxILUKEb3AgAAKDDGxNMICNwYo9eov5MVQ1sDAAAo7Ezxhjk0AgI3xggh0mLCVmbF0CcDAACgIEEJM2gE+KfB/fZOmXHhpojQdw6fpdwKAACA/1PFzhqkG047INBjjBDCGB6yOnvE8Zr6TyvsB6sctD4AAID/niZm/ZBGADHma2kxYWkxYQ8JYbY3XXS1RGrU7AYAAAC/EpT6gMo4nnYAMaYLxvAQdgAAAIC/GTQ0cfC3fko7gBgDAAAAhQiJVN/y0qDgMH/extzc3DfffLMva2gps/Xl5aotPx00JEL+Z9vF863mPq0waOdS93+21pW31fZ+hYOG5Kn+75srNB9su2jz1N/b9wbs8Pf21LJly4gxAAAA+DrDBC/+l+q6kX6+mV9++eXGjRt9uQWHd3h6hZ79cyqFqBzAf+/06dOJMQAAABBCiEHRE4MXvEB1MigCMQYAACDghUQOnvSzwWPvUsr2rlq1atWqVew3YgwAAAACMb2oYrODbrg5dOGclgAAIABJREFUKPkWGgPEGAAAAPh1dFGZJqtME/1/DgxAjAEAAAhcqthZqhvmEF1AjAEAAIDfR5fYm1TGDG5kCWIMAAAAiC4AMQYAAAB9MCh6oip2qsqUGRQ/ndYAMQYAAAD+Hl1UxgmDgsNoEBBjAAAAQHQBiDEAAADoXXQZmqiKnaYyZamMEwfphtMgADEGAACA6AIQYwAAANA7IZFBibcRXQBiDADPi4sIqTzfVGJx0hTsCwAeiS6q2GyVaTJ3pQSIMQC8SBMcJC1U25tM4SE0CPsCANEFIMYA8HfjTTrp8v/RagenzuwLAN2nSlxEdAGIMQB8Y4wxTBSdFULsqbDPT42iQdgXAK4WXWJnqWJvUhkzVMbxtAZAjAHgM5EadYpBU2JxWhtcW4ptnD2zLwAQXQBiDAAFuDU1qsRyRgjx3gnbWJOO4UzsCwDSXSmDEmYSXQBiDAA/lRStmZYQvrvcLoRYm1+5JieOs2f2BRCw0UVlylQZJwwKDqNBAGIMAH+3JH3YmbrGyvNNTlfrb3dU3JoaNffG69yfcNHV6m/b7IebxL4AiC4AiDEA+s8QterHM+Ke21lZeb6puaXt3WPWnWV1K7KMsRGh0hOqzjeOMfrXD3z1+UZpITlaw75gXwA9iC5DE1Wx01SmLFVCNtEFIMYAGAhnz49tKXM0tQghap2XfrfzTHho+51Miqod/jbj/Ki5Xlq4TqtmX7AvgO5GF+PEQbrhNAhAjAEwoM6e19428s+fVB2taT8rtTe2SAuV55tqna5IjR+dpH5W7ZAWkgZiDwD7IgBpg4Mamlu883EKIroQXQBiDBCIJwGm8NDAacbvfyv2xFcNfz9glroCZJuLbfdmxPjJRu46XWdtcAkhUgwavzqhZ19wIOq1uIiQYovTG2uOjQikQhEhkarYbO5KCRBjACWZaAorKLd7fLXRWnWoWhVQLTl6uPbJ+Ykbj5zd7daeu8vt6UadP8zKqHW63jtulZZvHeg3V2FfBI5xJp2XYkxiVH/3kg3S9W/MJroAA4KKJkDASjfpvLHabyWEB2BjDlGr7s2I+cHUWI1bhPvLp9VfnLvo2w276Gr9y54qp6tVCJFi0ATCKCb2RYAY651cOt0XR7D+GcGlSlw0ePrTwXdvD32oKHj+HwaPvYsMAxBjAEVKiwmL13t49Jc2OGhGUmTANukYY9hjcxJSDO2np5da257JryyqcvjwvFkq4SWE0KhVD0+JZV+wLwYMvUbtjcixwEe9ZKrERV5ZbeyswZP/O3jxe6E/qCS6AAMMg8oQ0JZnxjyxrdyDK7x7nCHQRpR1EKlR/yh7xMel5zYctQoh2trEXz6tTjFoHp4SO6R/W+ZApf0fRWela/8atWpNTtyQANs17IsBb0n6sEPV9R6c4zd3VKTeRxOWBqcvby7L9VR0UcXepDJmqIzj+ZAAxBhgYDKGh6zMill/oMYja5ueEJ4ZF06rCiFuTr4u8TrNcwVnmlvahBAlFuea90/NStKPjNYkRWu8egp72uo8ZXXuqbBL88jl8+aAvb09+2IAC1Wrvj/V9Ez+GY+sLV4fujjd4Ku/RWUcr4qd1Vq1o3cvl+5KGZQwk+gCBI5BbW1tfrIpZTbnNY/F/5UzQpp6uG7XGS9NbVyUFjUvhYmngaWw0t73JDM9IXyZ3xSD8hN1zkt/2VtVUdfow21IMWjuz4yhIhb7YgA7XlP/yoGaPvbJpBo0D0+J9W1ncltzfXPu/W3WQz2KLipTpso4gbtSAgHIj3pjArZQPXwuMy48Uqv+12FL707ytMFB38mKSYvhR7QjvWbwz2fHf1ph/6zqwtGahv4/aZ41MtLfbmDPvoDHpcWEPXZz/OuFNb27uqcNDpozSu8P1+8GBYcFL3rdteO/W688uozoAuDrA4L/9MYIIX6y6dTVryfRGwOvKqy0HzbXl1ic3byumWrQTIkPH2PUhTLQ/1ouulqPmR1V55vOnPduh0CUVn19ROgYYxhX/dkXgabM5txXYe/+bJl4feiU+PBJceH+dgRrNRe1lOe1WU+0WouEEKro8YOGXq8yZakSsokuAPw0xrx5sObq9/EgxsAjzGbzxx9/vHv37i1btvzmN7+5//77Ozyh0dVabb/aGV6kRq3nzAyAX7rmEWyIOsjIDCUACudfU/wXpEZ543aEgBRd9u/fv2fPnu3btx85ckR+fPny5f/+979/9rOfZWRkyA+GqlX9fwM4APAIjmAAiDH9Ta9Rzx0VufVkLTsG/3979x9kVXUnCPyaGWetblpjVlF6yQAKWI2tLZYtCgXYgAioSERNNFOjia7ZTEyZsdx1s5mJa2Vc48Rxok4mO07M6NSUuhEyjlFBhW5+KKjtimIrBQ20bClgY20qPLpralO77h8Hjjfvx333NS3drZ/PXy+vH+fe+733xvO995zvGRSFQuHVV1/dsGHD8uXL06lLkWXLlm3YsOHWW2+97LLLvvjFLx59tNcsAADSmFpc3jJ6677+oS2nw0i3evXqDRs2dHR0dHR0ZP9y6dKll1566XnnnXfaaaeJGwCANGbg/nT2H/712v8lk6EmnZ2dGzduXLdu3fLly7N/2dbWtmTJkvPPP7+1tVXcAACkMYPjmKM/991541du+fCfuz50hsiwdevWl19+OczU3717d3bq0tbWNn369HPPPbehoUHoAACkMZ+IBU0nTBt3XEf3r1989zeHuaoXnyZhpv4zzzxTNXVpaWmZN2/ejBkz5s2bJ3UBAJDGHCHH1x19ecvoy1tG/7r/t/+7/7dJkjQed4xz9hlUKBRWrVpVWmSsVGNj49VXXz1jxoxp06Y1NjYKHQCANGYo8xlrdHwGU5dQZKzqTP3GxsaFCxfOnDnTTH0AAGkMDIEwU//JJ5/MU2Rs1qxZZuoDAEhjYAhs3br1ueeey1lkrK2tbcGCBVIXAABpDAxB6pKzyFhLS8vSpUsVGQMAQBrDEAhFxvLM1I9FxszUBwBAGsORFmbqr1ixIk+RsTBT/8ILL5S6AAAgjWEIUpc8RcaSJLn++usVGQMAQBrD0AhFxvLM1FdkDAAAaQxDJs7Uf+ihh7J/GYqMmakPAIA0hiGwe/fuF154IWeRsXnz5i1cuFDqAgCANIYhSF0UGQMAQBrDcBdn6i9fvjxnkTEz9QEAkMYwBDo7O1euXJmnyFiYqX/RRRdJXQAAkMYwBKlLziJjbW1tS5YsUWQMAABpDEMgFhmrOlNfkTEAAKQxDJk4U/+xxx7LU2RsxowZ8+bNk7oAACCN4YgqFAqrVq3KU2QszNS/+OKLFRkDAEAawxCkLqHIWNWZ+oqMAQAgjWEohZn6Tz75ZM4iY2bqAwAgjWEIhJn6v/rVr/IUGQsz9efOnStuAABIYxiC1CVPkbGWlpalS5cqMgYAgDSGIRCLjFWdqR+LjJmpDwCANIYjLczUX7FiRc4iYzNnzrzwwgulLgAASGM40lavXp2nyFiSJEuXLr300ksVGQMAQBrDEAhFxtatW1d1pr4iYwAASGMYMnGm/kMPPZT9y1hkzEx9AACQxhxpu3fvfuGFF3IWGZs3b97ChQulLgAAII0ZgtQlZ5GxxsbGq6++WpExAACQxgyBUGQsz0z9WGTMTH0AAJDGDIHOzs6VK1fmLDI2a9asiy66SOoCAADSmCNt69atzz33XJ4iY21tbUuWLFFkDAAApDFDk7qEImNVZ+orMgYAANKYIRNn6j/22GN5ioyZqQ8AANKYIVAoFFatWpWzyNjChQsvvvhiqQsAAEhjyqj7g9/7hFr+t3VHhw8vvvji97///aoz9a+//npFxgAAQBpT3eQT6157r/BJtPzvPn9M+HDfffdVymFCkTEz9QEAQBpTgzMbRz266YNBb3b88cc0HvdvwueNGzem/xRn6s+dO9d1AwAA0piaHV939KwJx63r+c3gNjtv0vHhQ3t7+/vvv9/S0rJ06VJFxgAAQBozOBZNOeF/vn+g7//838FqcMroutZxx4XPn//8599//30z9QEAYBg66qOPPhq5e9+158ADL743KE3V/8Hv/fmF448/NL8fAAAYtj43ove+ecyoG84dMyg5zK0X/KEcBgAARoSR/TYm2PFh/z+8umdf328H9s+njK77xvSxxxz9OVcDAABIY46ozl2/WdX963d//a/5/8k5YxvmTDr+1BPqXAcAACCNGTL/+tv/9/5vcmUyshcAAJDGAAAAHAkmhAAAANIYAAAAaQwAAIA0BgAAkMYAAABIYwAAAKQxAACANAYAAEAaAwAAII0BAACkMQAAANIYAAAAaQwAACCNAQAAkMYAAABIYwAAAGkMAACANAYAAEAaAwAASGMAAACkMQAAANIYPj3uv//+o4466qijjurs7BQNAAAqdRelMQAAwAgjjQEAAKQxAAAA0hgAAABpDAAAII0BAACQxgAAAEhjAAAAaQwAAIA0BgAAQBoDAABIYwAAAKQxAAAAefy+EDAM3XbbbV/4whfEAQCAtO3bt0tjGL46OjoEAQCASgwqAwAARhhvYxiOXn311dbWVnEAACDt/vvvv/nmmxNvYwAAgBFHGgMAAEhjAAAApDEAAADSGAAAQBoDAAAgjQEAAJDGAAAA0hgAAABpDAAAgDQGAACQxgAAAEhjAAAA8jjqo48+EgWGic7Ozo0bNyZJcsUVVzQ2NgoIAABlu4vSGAAAYIQxqAwAAJDGAAAASGMAAACkMQAAwEj1+0IAcAR85cpLkiQZ0zj2r+/779lfDn9b3um64/b/nCTJgkWLr/vajYMVDaBWK5556pGHH0yS5Nb/9OfntE5z6yGNASCv/v6+m2/694XC/oxu/a5dPeHDySePyf5yROjr6wsfThp98gD++cg9cMiTJDQ0HPv3P3/0yGxx8+ZN4cOJo0e79fisMagM4LCs7VgdcpgkST7Yu6d8qnOo33/qqZOyvxwR9vV+cKjndNJAEr8Re+CQJ0mYOOm0I7bRAwcOhA/jxk1w6/FZ420MwGF5/vlnS7sURd7t2Rk+1NePyv5yRNi5c/uhPa8fwD8fuQc+3Gx5pytJkrr6+jxdWIH6pAO1r7f3yCcJ3du2JEkypnGsWw9pDAA1WLumfc/u95IkaWg4tlDYH7oUpT7o3Rs+jJ9wSvaXI8KBA4XwoWlK8wD++cg98GFl166eMENp5qw53/r2LQIy5IE6p3Xa4088fYQPLXzIOUjMrcenjEFlAAP38sb1SZJMmtyUPYwkDjY78cTR2V+OCJte70xyPwDOGQ1qFQcInXLKRNH4bAYqvv8588ypbj2kMQDkteWdrtChnz595kmHnobG56Np27u3hg8npHoPZb8cAZ3C/oOdwgHPEh6hBz7cxAFCdQYIfVYDFWepufWQxgBQg/bVzydJ0tBw7Oy2ubFmV3z0m+73hxoAU89uzf5yRNj17sE8bWATAEbugQ83cYDQ6NG6pJ/RQNU0SMytx6ePuTEAA/Hhvt7169qTJJkx84K6uo9nuvf29jZNKd/vPyldbbncl2Xdfdcd4Z3P40883d/f9+zT//LSS+v27H5vTOPY+fMXLbx4cfjZ2jXtXW+98cam1wqF/ZMmN1225Iqyi0j09/et7Vi9efOmTa93NjQcO3HSaWeeOXV229z0IaSteOapzZs37d27Z8/u96ae3Zoeu1I6S/jDfb1rOla9+eam7m1bxjSOnThx8py584vmzwzswNMtT5rcNH36zIx9/nBfb+erL8fdDod50sljJkyYOPuCOaWNb3mnq3318+vXtZfWya21qcM/QXliGKr6RmHiR1Iy9yNPU1XjEBrZsaN7e/fWQmF/aKf5jLPi4Ve9TaoGMOfpyHM4RaoGahAvg7i5SZObfnDnj+KXP3ng3vB/FD9/5H8kSRLvvrAblQ4h5xbTg8Sq3iPZt94AwgvSGIAR6emnnwwfLrlkSZIar9LfV1ysrPfQ+PX0Kitlvywr9HgmTW5au6b9n/7xZ7G4857d74Vl76Y0n/Hje+8OlQaC7m1b7vnLH9x9zwNFdZmKWigU9m96vXPT650bNqy/+Tv/sWicya5dPUXNhh/H/1n0ALh09/bsfm/9uvYrrrzmiquuGcCB7927Jxz4sl88uuyJR9NH171ty4YN69OdxXTeFcIShcNMkmRM49jYBQyjayZNbkr/vmiCU86mPrkTVDaGH+7rrRSx9NyPnKcjOw5FjaTb6enZXnXl05wBzHM6ch5OUb+8aqAG8TKIo0lHjRpVehknSfLO211/99P70sFcv659/br2v/nbnxfdevnjFu/HNR2ryt4j3/3ef42ZTMatN4DwgjQGYETq7+97af2aJEmmnt0auiAZ41ViYpPu95f9suyG0v2SMY1jL1pwSX39qJ07t4dHvL9c/njo8cycNSd0zp5//tnQY+58ZWO6l/xa5ys//cm94fMVV15zevOZfX19q1et3PR6Z/e2Lff9+EfprGDXrp6/uON7cU3P5uaW+vr6d3t2xgfJSZKMG1+m8fAKYvyEU97t2fnL5Y8XCvuXPfHo6c1nxse6OQ889KXigS9YtHjChImjR4+OzXZv27Limafiu47g4X94cOWzT4XdmDFj1unNZyZJ8nbX5tDDi5N54uia0HhyaJhN+l1T/qYG/QRlx7Cuvv72O37Y29sbfjxpctM1X702tBDnbedsKjsOH+7rjV3bK668ZvyEU+vr63t7e3t6tr+0fk3VLDRnAPOcjvxXV1rVQA3iZZCkRpMWzbaP1Qvv+csfjGkcO2PmBSF08TJY07EqnSrk32I6T1v2xKNl75G1HavjPVLp1htYeEEaAzAixSUvF1+2tOhPmzdvKupbx2W261KrrJT9slQcBzKmceyN37gp3Z/Yu3dP97YthcL+BYsWX3LJkvhAd3bb3K9f++UkSXbs6E73FP/up/clSdLQcOyf3X5n7D2f0zotDHrp3rbltc5X4jCnnz34t+EAb7/jh3GjTVOaF168+E9v/g+h+xWf8sbGxzSOvfOuvwrfN01prqsfFbpHr7yyITaS88DDQh+hZ3n9Dd+MR9c0pXn8hFPC6KCiUC/7xaOh/7dg0eKrvvzV9HCa0AWM/ct0VJd86arS8VEDa2pQTlDVGNbV1TdNaU6Sg/GZPn1mUS8zf1PZceh89eVwDVx73Y0xzk1TktkXzLnqy18tnQM2sABW3Y2arq7fSWOqBWoQL4OkQiGBmGk0NBz7R398Q3oTreeed9OffL3oMqhpi/sONV56j0xpPuO2W79ddI+UvfUGHF4YDkzxB6hZWPJyTOPY+B/49KuJInFUSfrRe9kvS8W+0fz5i4o6E3HsynVfuzE9KKXsjJGYd12+9CtFW7xk8ZcObWvHwR+vaQ+PkK+97sbSHkzIYdKzhGPjN37jpvTWY6ctjuDPf+C9qUqyRUNumqY0h1rP6RFuW97pCv28qWe3Xve1G9O7EWNY2vj8+YtKO681NTXoJyhPDMvuyQCayo5D7PUWpeXhEDJKXdUUwKq7UWtkKp2gWrdb61GULSQQM42LFlxStInSANa6xfhl6T0ybtyESZObiu6RsrfeYYYXpDEAI0lc8nLJl64q7ZvGkqZF/f7Qq8j+slRf5SFYoVNSWnQoPgBOP7j95fLHQ95V2iWNfZr4VHjVCyuSQxXYSnta4UN6lnBsPM9T25wHnj32rLTW81P/sjx8uP6Gb1bqX8amYuMnjj6ptPGamhr0E5TzyXfGdvM3lR2H0h3OqaYAVt2NWiOTP1CDeBmku/vp/YyZRtl6GEWXQa1b7Mu8R4qm6FS69Q4zvCCNARhJnvznX4Refuu5ZSpNpafwJhWW2c6/9nZMLUqXqwudklGjGoq+31fS6dzyTlfYqxkzZlU9ug/39YZXMUUV2A71nA4OJYpTIzIaj/NGBnDgO3duP5gfZo49i/scSz+VPuSO/cv4xiy+ZzixZEZTrU190ieoNIZF2y16DVhTUxlxSHev7/vxj/JnMrUGMHs3BhCZnIEa3MsgOfTeo6Hh2KrpR9nLYABbzLj2SpW99Q4/vDC0zI0BqMGWd7pC9/SiBZcU9fKnnt0aOiL9/X3xT3GZ7XQVqbJflhXHgRT1bOJbkdIW4gPg2HNKfXNq1QN8++2DLTc3t5T+NS63V9p4ff2ouFdFf4qvbgZw4Bljz2KX8eN9PuOs0p+F92MNDcfGk3LgwIFKjdfa1OCeoDwxrLQnA2gqIw5Jksxumxtnit/0J18vmuFT/frJF8Ds3RhAZPJscdAvg9jpL6pyVjb9KHsZDCBu2WtZhiszDL+sdOsdfnhBGgMwYsSBHwf6Dqx45qmyPe9d7/bEERqx358euFL2y7IqDcGKb0VKW4gPgEtfPkw5vblsYhY+hKfv++Lz43KzfeJLkvgAOH5TVCI2Lb66yX/g4Y1QpbFnIV2MXcaenoP7cHrJAcZqVOn+ZUbjtTY1KCeophhW2pMBNJUd5Lq6+j+7/c5YKnrls0+tfPapqhV4aw1g9m7UGpmcWxz0y6DSmrAZSVS8DMKtNIC4Za9lGc7ayR8/QShz6x1meEEaAzBixIEfoVeX55983FlJDVwp+2VGglE6BCt2SupLxlzFB8ClLx/KTi7v+92SU3GkSsYj3vRfDxwoVA1CfO2Q88DjEKaTK6zTd7CDdeivH1R4JVK2f5k9sK2mpgbvBNUQw4xOc01N5RngN27chDvv+qu1HavDa5kkSZY98eiOHd23fff2ihd8LQGsuhu1RibPFgf9MkgqzIHJTqKKNlHrFuO1VzpqMX10H98j5W69wwwvSGMARoy45GW2d3t2xrcxH5QbHPVBjdW6SgcmxceopRNzQ6KVfkabXhOjVNE4sZDzVPpx6QPsuLmMrm2tBx6nDZQde/ZuXIz80HPiSpPpy/YvY6Xgso3X1NRgnaCaYphkThzP31R2HKK6uvqFFy+e3TZ3bcfq8Mx+0+uda9e0l5b2GkAAq+5GrZHJH6hBvAyqZptlx2WFFzVxE7VusTdzfOa7PcX3SNlb7zDDC9IYgJGhv78vvIGp9F/90rW3Y0chjlDP+LJcR7NiJaXQ6SmaT5z8zlLiDTmPa8OG9ekOd1ytr1T+CfqV5Dzw2G8rO/asq+vN8GFK8xnhQxg/U1ZpNaey63tENTV1ZE5QhsN5Up4dh7LJTHJo9FHXW29USmNqCmCtuzGIgRrEyyBJVwtIvUv5eHpJybis+KImXga1bjG7zFrXW28U3SM5bz0YWVQqA8hlbcfq8OG882dmd5Xi+I2yg6OyR0ylfTwRpWQIVkg2Sger5J9DH3cmNDVz1pyqP6618dJt5TzwGMD6cmXKXlq/JnTIsl/pBKXVnMqu75FHaVNH4ASVVbbTXKsBxCFW684zGClPAA/ndBxmoAbxMkgqV3qolETFFzV5LoOyW8wos9bf37d+XXv6Hsl/64E0BuBTKC6wUOk59Mc9pEN9mn3lVggp+2VZlap1lQ58T/WSy0zkDWPAShe0SVLD5ObMnZ/+Pk6nydl4epW9illQ7gMvuwRHsOKZp8Jj7PnzF8Uvw0uPsvtcWs0po/FamxrcE5QnhlU7zfmbyo5DdiKaUb2qpgBW3Y1aI5M/UIN4GSTl1oTNTqJK3wXVusWMMmvxgUu8RyrdeocZXpDGAIwAa9e0l/aei8TCU7GHkb32dlXhiX7pOJD+ksVbovh+IP0eo6VlapIkhcL+otJqa9e0x2FysTMXumLd27bEvvjBjfb3xeFn6canT58ZE4yyHd/Y981/4KHfVnrgu3b1hGSyaGnO8NKjdJ9f63yltJpT9uiampoarBOUP4bpTnNZ+ZvKiMOuXT1r17RnJL0TJlR8h1BTAKuejlojUyQjUIN4GZRdEzY7iYrjxOK7oFrjVqnM2to17WHg35jGsfEeqXTrHWZ4YciZGwNQXVjyMkmS0oXto1h4Kk4vKTuoPXvt7XQfInwoHQeSMXVkb7lnzBe0zXtu5dOFwv5HHn7wg96906ZN7+vr6+p6M+QwDQ3HplcNP+/8maGH9xd3fO/ypV8ZP+GU3t7enp7t6cps6cZbzz0vlLF65OEHd+7c3nzGWaNHj+7r69vX+8GGDeu7t215/ImnazrwOG3gQGH/sl88On7CqaHH/3bX5mVPPBp+841v3pyuulZ2n1/euD4+Zo79y7i+R6XRNfmbGsQTlD+GwZjGsaGD/pMH7p0zd36oNXdO67T8TWXH4Z2utx55+MF/+sefzZh5QcjE+voOvPTSurDR7BeS+QOY53TUGpkilQI1iJdBUm5N2HQSVXbWfhwnFi+DmrYYU50DBwornnkq3FBFN/V3brkt3iOVbr3DDC9IYwCGu9c6Xwk9kgWLFpetWVxJ2RXEM5YVT8sYgpVRtjhkUEUzy084cfQtt/6Xe+/5b4XC/rD6R7qf951bbks/LZ59wZyut95Yv649dG7i9wsWLd6xvbt725aiB9jpxtevaw+D8qN0Hy7ngcdpA4XC/pi3RA0Nx/7RH98QuuxV9/mKK68JLcT+ZWy80sC2/E19QicoO4bB/PmLwr7FH1973Y01NZUdhzDSKVwtpYnBd265LeP05Q9gntNRa2RyBmoQL4Ok3JqwSbWCyHE9mYFusTdmSqVlRcI5Sg82q3TrHWZ4QRoDMNytXrUyfGibc2H2L6ee3Rqenu7a1TNu3IS9JSuEJKnn8dkZUUYlpQ+qTckonVneNKX5rrt/vKZj1Y4d3Zte7xzTOHbixMmnnDIxTtpO+9a3b2k+46zwJHjS5KZTJ06aNm1605Tmu++6Iyn3ALtpSvN9f/P3aztWb968aXv31kJh/6TJTSefPKb5jLPSj+1zHnisJLtg0eIkSd584/W4xGRLy9RFl1xW9p9/69u3nHLKxM2bN8V9DkvOhy5gaZmyDLU2NVgnKE8Mg4UXL66rH7XqhRUhq2w56+zWc8+rqansOMy+YM7ppzev6Vj15pubYt41cdJpZ545dXZPYDM+AAABbklEQVTb3KqZfM4A5jwdNUUmZ6AG8TJIUgMF61IDBfsqF3SutJ5M/i2e0zrt7nse6Hxl444d3SEm6XNUelNn3HqHE14Yckd99NFHogDAMBHrVt9+xw/zzz4H4LPGFH8AhpFY3yl77BkA0hgAGC5yjj0DQBoDAMNFRn0nAJDGADDsxEnwZes7AYA0BoBhJ1aSLa3vBADSGACGZxpzcAmO0oUjASBNwWUAAGCE8TYGAACQxgAAAEhjAAAApDEAAIA0BgAAQBoDAAAgjQEAAKQxAAAA0hgAAABpDAAAII0BAACQxgAAAEhjAAAAaQwAAIA0BgAAQBoDAABIYwAAAKQxAAAA0hgAAEAaAwAAII0BAACQxgAAANIYAAAAaQwAAIA0BgAAkMYAAABIYwAAAKQxAACANAYAAEAaAwAAII0BAACQxgAAANIYAAAAaQwAAIA0BgAAkMYAAABIYwAAAKQxAACANAYAAEAaAwAAUN3/BzKCLTKr48hGAAAAAElFTkSuQmCC)"
      ],
      "metadata": {
        "id": "wEDSaAnO0nPt"
      }
    },
    {
      "cell_type": "markdown",
      "source": [
        "### Loading a pretrained model\n",
        "We will load DistilBERT model for fine tuning and use **AutoModelForSequenceClassification** class for fine tune the model. **AutoModelForSequenceClassification** model has a classification head on top of the pretrained model outputs, which can be easily trained with the base model. We just need to specify how many labels the model has to predict (six in our case), since this dictates the number of outputs the classification head has:\n"
      ],
      "metadata": {
        "id": "W2lFJMsY8NJF"
      }
    },
    {
      "cell_type": "code",
      "source": [
        "from transformers import AutoModelForSequenceClassification\n",
        "num_labels = 6\n",
        "model1 = (AutoModelForSequenceClassification\n",
        "         .from_pretrained(model_ckpt, num_labels=num_labels).to(device))\n",
        "print(device)\n",
        "\n",
        "\n",
        "# num_labels = 6\n",
        "# model = AutoModelForSequenceClassification.from_pretrained(model_ckpt, num_labels=num_labels)\n"
      ],
      "metadata": {
        "id": "WM8SOKkxzfHp",
        "colab": {
          "base_uri": "https://localhost:8080/"
        },
        "outputId": "cbaf9d0e-a7f9-4f3b-a300-63e811c52214"
      },
      "execution_count": 35,
      "outputs": [
        {
          "output_type": "stream",
          "name": "stderr",
          "text": [
            "Some weights of the model checkpoint at distilbert-base-uncased were not used when initializing DistilBertForSequenceClassification: ['vocab_layer_norm.bias', 'vocab_transform.bias', 'vocab_projector.bias', 'vocab_transform.weight', 'vocab_layer_norm.weight', 'vocab_projector.weight']\n",
            "- This IS expected if you are initializing DistilBertForSequenceClassification from the checkpoint of a model trained on another task or with another architecture (e.g. initializing a BertForSequenceClassification model from a BertForPreTraining model).\n",
            "- This IS NOT expected if you are initializing DistilBertForSequenceClassification from the checkpoint of a model that you expect to be exactly identical (initializing a BertForSequenceClassification model from a BertForSequenceClassification model).\n",
            "Some weights of DistilBertForSequenceClassification were not initialized from the model checkpoint at distilbert-base-uncased and are newly initialized: ['classifier.weight', 'classifier.bias', 'pre_classifier.bias', 'pre_classifier.weight']\n",
            "You should probably TRAIN this model on a down-stream task to be able to use it for predictions and inference.\n"
          ]
        },
        {
          "output_type": "stream",
          "name": "stdout",
          "text": [
            "cuda\n"
          ]
        }
      ]
    },
    {
      "cell_type": "markdown",
      "source": [
        "### Defining the performance metrics\n",
        "Compute F1 Score and Accuracy"
      ],
      "metadata": {
        "id": "ZEpsyWyz-8VL"
      }
    },
    {
      "cell_type": "code",
      "source": [
        "from sklearn.metrics import accuracy_score, f1_score\n",
        "\n",
        "def compute_metrics(pred):\n",
        "  labels = pred.label_ids\n",
        "  preds = pred.predictions.argmax(-1)\n",
        "  f1 = f1_score(labels, preds, average='weighted')\n",
        "  acc = accuracy_score(labels, preds)\n",
        "  return {\"accuracy\": acc, \"f1\":f1}"
      ],
      "metadata": {
        "id": "Atq7ZwM6_LL0"
      },
      "execution_count": 36,
      "outputs": []
    },
    {
      "cell_type": "markdown",
      "source": [
        "### Training the model"
      ],
      "metadata": {
        "id": "hITIO7LaAaSh"
      }
    },
    {
      "cell_type": "code",
      "source": [
        "from huggingface_hub import notebook_login\n",
        "notebook_login()"
      ],
      "metadata": {
        "colab": {
          "base_uri": "https://localhost:8080/",
          "height": 301,
          "referenced_widgets": [
            "9308c87e608549658b53adb2fce38536",
            "36b5ecb174144e8fbb869abb0841cc25",
            "374a75c11edc4aa782080bcc54a3a39b",
            "c91e7f69453d41a694d53b41f268f852",
            "c2ee5f0d988e441d98fa824b807b4e90",
            "107efb16d3894d269d37f22000e1ddb9",
            "aa460b46c0a8495ea44631550ed78541",
            "a7a00bdc101d4e4db4557a4e304fb6d8",
            "0346bc2faac5425483f20eb594e0d75a",
            "2e050f953f6a4fddae1a7664c51ac224",
            "aeea6b9105af40a3abd2db86068bfd98",
            "9bd5208b7cf24900af9eca84db29e160",
            "9c44030f804642188b0dc9e50df49313",
            "eb5cf19631574dff8541f9938161f9a9"
          ]
        },
        "id": "PMTeNLX-AXnu",
        "outputId": "a48a154a-1b2c-40d3-cf1b-db9d38c37da9"
      },
      "execution_count": 37,
      "outputs": [
        {
          "output_type": "stream",
          "name": "stdout",
          "text": [
            "Login successful\n",
            "Your token has been saved to /root/.huggingface/token\n",
            "\u001b[1m\u001b[31mAuthenticated through git-credential store but this isn't the helper defined on your machine.\n",
            "You might have to re-authenticate when pushing to the Hugging Face Hub. Run the following command in your terminal in case you want to set this credential helper as the default\n",
            "\n",
            "git config --global credential.helper store\u001b[0m\n"
          ]
        }
      ]
    },
    {
      "cell_type": "code",
      "source": [
        "from transformers import Trainer, TrainingArguments\n",
        "\n",
        "batch_size = 64\n",
        "logging_steps = len(emotions_encoded[\"train\"]) // batch_size\n",
        "model_name = f\"{model_ckpt}-finetuned-emotion\"\n",
        "training_args = TrainingArguments(\n",
        "    output_dir = model_name,\n",
        "    num_train_epochs = 2, \n",
        "    learning_rate = 2e-5,\n",
        "    per_device_train_batch_size = batch_size,\n",
        "    per_device_eval_batch_size = batch_size,\n",
        "    weight_decay = 0.01,\n",
        "    evaluation_strategy = \"epoch\",\n",
        "    disable_tqdm = False,\n",
        "    logging_steps = logging_steps,\n",
        "    push_to_hub = True,\n",
        "    log_level = \"error\"\n",
        ")"
      ],
      "metadata": {
        "id": "_-9EU63kA4c5"
      },
      "execution_count": 38,
      "outputs": []
    },
    {
      "cell_type": "code",
      "source": [
        "from transformers import Trainer\n",
        "\n",
        "trainer = Trainer(model = model1, args = training_args,\n",
        "                  compute_metrics = compute_metrics,\n",
        "                  train_dataset=emotions_encoded[\"train\"],\n",
        "                  eval_dataset = emotions_encoded[\"validation\"],\n",
        "                  tokenizer = tokenizer\n",
        "                  )\n",
        "trainer.train();"
      ],
      "metadata": {
        "colab": {
          "base_uri": "https://localhost:8080/",
          "height": 156
        },
        "id": "AP-Z__5HGBBv",
        "outputId": "84d7ba7d-f142-4a54-ed1f-2da4d4f3ed0c"
      },
      "execution_count": 39,
      "outputs": [
        {
          "output_type": "stream",
          "name": "stderr",
          "text": [
            "Cloning https://huggingface.co/d2niraj555/distilbert-base-uncased-finetuned-emotion into local empty directory.\n"
          ]
        },
        {
          "output_type": "display_data",
          "data": {
            "text/plain": [
              "<IPython.core.display.HTML object>"
            ],
            "text/html": [
              "\n",
              "    <div>\n",
              "      \n",
              "      <progress value='500' max='500' style='width:300px; height:20px; vertical-align: middle;'></progress>\n",
              "      [500/500 03:54, Epoch 2/2]\n",
              "    </div>\n",
              "    <table border=\"1\" class=\"dataframe\">\n",
              "  <thead>\n",
              "    <tr style=\"text-align: left;\">\n",
              "      <th>Epoch</th>\n",
              "      <th>Training Loss</th>\n",
              "      <th>Validation Loss</th>\n",
              "      <th>Accuracy</th>\n",
              "      <th>F1</th>\n",
              "    </tr>\n",
              "  </thead>\n",
              "  <tbody>\n",
              "    <tr>\n",
              "      <td>1</td>\n",
              "      <td>0.808700</td>\n",
              "      <td>0.306668</td>\n",
              "      <td>0.905000</td>\n",
              "      <td>0.903022</td>\n",
              "    </tr>\n",
              "    <tr>\n",
              "      <td>2</td>\n",
              "      <td>0.243900</td>\n",
              "      <td>0.213314</td>\n",
              "      <td>0.924000</td>\n",
              "      <td>0.924133</td>\n",
              "    </tr>\n",
              "  </tbody>\n",
              "</table><p>"
            ]
          },
          "metadata": {}
        }
      ]
    },
    {
      "cell_type": "markdown",
      "source": [
        "Fine-tuned model has an -score on the validation set of around 92% - this is a significant improvement over the feature-based approach!\n",
        "\n"
      ],
      "metadata": {
        "id": "oc7QFN6lqKAv"
      }
    },
    {
      "cell_type": "code",
      "source": [
        "# access the prediction output attributes\n",
        "preds_output = trainer.predict(emotions_encoded[\"validation\"])\n",
        "preds_output.metrics"
      ],
      "metadata": {
        "id": "-8IWGwvtGuS1",
        "colab": {
          "base_uri": "https://localhost:8080/",
          "height": 148
        },
        "outputId": "93986375-353c-472f-f984-b2404f9ee941"
      },
      "execution_count": 40,
      "outputs": [
        {
          "output_type": "display_data",
          "data": {
            "text/plain": [
              "<IPython.core.display.HTML object>"
            ],
            "text/html": [
              "\n",
              "    <div>\n",
              "      \n",
              "      <progress value='32' max='32' style='width:300px; height:20px; vertical-align: middle;'></progress>\n",
              "      [32/32 00:05]\n",
              "    </div>\n",
              "    "
            ]
          },
          "metadata": {}
        },
        {
          "output_type": "execute_result",
          "data": {
            "text/plain": [
              "{'test_accuracy': 0.924,\n",
              " 'test_f1': 0.9241328800048197,\n",
              " 'test_loss': 0.21331405639648438,\n",
              " 'test_runtime': 5.7553,\n",
              " 'test_samples_per_second': 347.504,\n",
              " 'test_steps_per_second': 5.56}"
            ]
          },
          "metadata": {},
          "execution_count": 40
        }
      ]
    },
    {
      "cell_type": "code",
      "source": [
        "# plot the confusion matrix with the predictions\n",
        "y_preds = np.argmax(preds_output.predictions, axis=1)\n",
        "plot_confusion_matrix(y_preds, y_valid, labels)\n"
      ],
      "metadata": {
        "id": "sf9CxmIw-og8",
        "colab": {
          "base_uri": "https://localhost:8080/",
          "height": 404
        },
        "outputId": "2fecb54f-056f-4443-af37-09dd28142e0f"
      },
      "execution_count": 41,
      "outputs": [
        {
          "output_type": "display_data",
          "data": {
            "text/plain": [
              "<Figure size 432x432 with 1 Axes>"
            ],
            "image/png": "[encoded data removed]"
          },
          "metadata": {
            "needs_background": "light"
          }
        }
      ]
    },
    {
      "cell_type": "markdown",
      "source": [
        "This is much closer to the ideal diagonal confusion matrix. The love category is still often confused with joy, which seems natural. surprise is also frequently mistaken for joy, or confused with fear. "
      ],
      "metadata": {
        "id": "e5RLVhK8rLU4"
      }
    },
    {
      "cell_type": "markdown",
      "source": [
        "**Saving and sharing the model**"
      ],
      "metadata": {
        "id": "vDOvnrpyrxUF"
      }
    },
    {
      "cell_type": "code",
      "source": [
        "trainer.push_to_hub(commit_message=\"Training completed on fine tuned DistilBert Model for Emotion Classificaiton\")"
      ],
      "metadata": {
        "colab": {
          "base_uri": "https://localhost:8080/",
          "height": 364,
          "referenced_widgets": [
            "68b87027788943aaa3f8ec544c64b862",
            "3ba7e41438914c51b05452c3b7e0874c",
            "0b2e2689c2a54b24883b62383a6d58e8",
            "ccd3373382994c17bc9593ea73366e05",
            "cef4630f277b4d65a8d954b0d5a82b85",
            "2ce0cd307c6d411c9c4fa0ce0b6949d8",
            "de5ba034998e4169bfd5d5b98c9a45e8",
            "dd0170a19b074baeaf83b9df138dbd8f",
            "d91697bb69054f53bef39449c7984369",
            "8275967d7d604ed7bb2dfd3ba8d16e82",
            "3f11f94b9f85432081a2fe6997dfa542"
          ]
        },
        "id": "22Y4dlI3R0LQ",
        "outputId": "e36d3b1c-f86a-4203-fa55-652d50764700"
      },
      "execution_count": 42,
      "outputs": [
        {
          "output_type": "stream",
          "name": "stderr",
          "text": [
            "Several commits (2) will be pushed upstream.\n",
            "WARNING:huggingface_hub.repository:Several commits (2) will be pushed upstream.\n",
            "The progress bars may be unreliable.\n",
            "WARNING:huggingface_hub.repository:The progress bars may be unreliable.\n"
          ]
        },
        {
          "output_type": "display_data",
          "data": {
            "text/plain": [
              "Upload file runs/Jul27_17-11-47_c36a69348d86/events.out.tfevents.1658941928.c36a69348d86.71.0:  70%|#######   …"
            ],
            "application/vnd.jupyter.widget-view+json": {
              "version_major": 2,
              "version_minor": 0,
              "model_id": "68b87027788943aaa3f8ec544c64b862"
            }
          },
          "metadata": {}
        },
        {
          "output_type": "stream",
          "name": "stderr",
          "text": [
            "To https://huggingface.co/d2niraj555/distilbert-base-uncased-finetuned-emotion\n",
            "   4be429b..86ba3f2  main -> main\n",
            "\n",
            "WARNING:huggingface_hub.repository:To https://huggingface.co/d2niraj555/distilbert-base-uncased-finetuned-emotion\n",
            "   4be429b..86ba3f2  main -> main\n",
            "\n",
            "To https://huggingface.co/d2niraj555/distilbert-base-uncased-finetuned-emotion\n",
            "   86ba3f2..d9e838a  main -> main\n",
            "\n",
            "WARNING:huggingface_hub.repository:To https://huggingface.co/d2niraj555/distilbert-base-uncased-finetuned-emotion\n",
            "   86ba3f2..d9e838a  main -> main\n",
            "\n"
          ]
        },
        {
          "output_type": "execute_result",
          "data": {
            "text/plain": [
              "'https://huggingface.co/d2niraj555/distilbert-base-uncased-finetuned-emotion/commit/86ba3f2bf6b1e10f69020d2cd91efbe59e721fa8'"
            ],
            "application/vnd.google.colaboratory.intrinsic+json": {
              "type": "string"
            }
          },
          "metadata": {},
          "execution_count": 42
        }
      ]
    },
    {
      "cell_type": "markdown",
      "source": [
        "Use fine-tuned model to make prediction on new tweets"
      ],
      "metadata": {
        "id": "lLxHmnEutmAp"
      }
    },
    {
      "cell_type": "code",
      "source": [
        "from transformers import pipeline\n",
        "model_id = 'd2niraj555/distilbert-base-uncased-finetuned-emotion'\n",
        "classifier = pipeline(\"text-classification\", model=model_id)\n",
        "\n",
        "custom_tweet = \"I am shocked to know that he is no more\"\n",
        "preds = classifier(custom_tweet, return_all_scores=True)"
      ],
      "metadata": {
        "id": "dHEBniPJsDuO"
      },
      "execution_count": 44,
      "outputs": []
    },
    {
      "cell_type": "markdown",
      "source": [
        "Plot the probability for each class in a bar plot"
      ],
      "metadata": {
        "id": "KDtOpYc6uhr9"
      }
    },
    {
      "cell_type": "code",
      "source": [
        "preds_df = pd.DataFrame(preds[0])\n",
        "plt.bar(labels, 100 * preds_df[\"score\"], color=\"C0\")\n",
        "plt.title(f'\"{custom_tweet}\"')\n",
        "plt.ylabel(\"Class probability (%)\")\n",
        "plt.show()"
      ],
      "metadata": {
        "colab": {
          "base_uri": "https://localhost:8080/",
          "height": 281
        },
        "id": "f_myuLqyuKZY",
        "outputId": "be9851e0-bd20-46ad-eaa0-797791711221"
      },
      "execution_count": 47,
      "outputs": [
        {
          "output_type": "display_data",
          "data": {
            "text/plain": [
              "<Figure size 432x288 with 1 Axes>"
            ],
            "image/png": "[encoded data removed]"
          },
          "metadata": {
            "needs_background": "light"
          }
        }
      ]
    },
    {
      "cell_type": "code",
      "source": [
        ""
      ],
      "metadata": {
        "id": "RFS2SSA0vAkc"
      },
      "execution_count": null,
      "outputs": []
    }
  ]
}